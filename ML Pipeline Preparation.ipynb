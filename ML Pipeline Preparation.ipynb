{
 "cells": [
  {
   "cell_type": "markdown",
   "metadata": {},
   "source": [
    "# ML Pipeline Preparation\n",
    "Follow the instructions below to help you create your ML pipeline.\n",
    "### 1. Import libraries and load data from database.\n",
    "- Import Python libraries\n",
    "- Load dataset from database with [`read_sql_table`](https://pandas.pydata.org/pandas-docs/stable/generated/pandas.read_sql_table.html)\n",
    "- Define feature and target variables X and Y"
   ]
  },
  {
   "cell_type": "code",
   "execution_count": 4,
   "metadata": {
    "scrolled": false
   },
   "outputs": [
    {
     "name": "stderr",
     "output_type": "stream",
     "text": [
      "[nltk_data] Downloading package punkt to /Users/leec/nltk_data...\n",
      "[nltk_data]   Package punkt is already up-to-date!\n",
      "[nltk_data] Downloading package wordnet to /Users/leec/nltk_data...\n",
      "[nltk_data]   Package wordnet is already up-to-date!\n",
      "[nltk_data] Downloading package averaged_perceptron_tagger to\n",
      "[nltk_data]     /Users/leec/nltk_data...\n",
      "[nltk_data]   Package averaged_perceptron_tagger is already up-to-\n",
      "[nltk_data]       date!\n"
     ]
    }
   ],
   "source": [
    "# import libraries\n",
    "import nltk\n",
    "nltk.download(['punkt', 'wordnet', 'averaged_perceptron_tagger'])\n",
    "\n",
    "import re\n",
    "import numpy as np\n",
    "import pandas as pd\n",
    "from sqlalchemy import create_engine\n",
    "from nltk.tokenize import word_tokenize\n",
    "from nltk.stem import WordNetLemmatizer\n",
    "\n",
    "from sklearn.naive_bayes import MultinomialNB\n",
    "from sklearn.metrics import confusion_matrix\n",
    "from sklearn.multioutput import MultiOutputClassifier\n",
    "from sklearn.metrics import classification_report,accuracy_score,precision_score,recall_score,f1_score\n",
    "from sklearn.model_selection import GridSearchCV\n",
    "from sklearn.ensemble import RandomForestClassifier\n",
    "from sklearn.model_selection import train_test_split\n",
    "from sklearn.pipeline import Pipeline\n",
    "from sklearn.base import BaseEstimator, TransformerMixin\n",
    "from sklearn.feature_extraction.text import CountVectorizer, TfidfTransformer"
   ]
  },
  {
   "cell_type": "code",
   "execution_count": 5,
   "metadata": {},
   "outputs": [
    {
     "data": {
      "text/html": [
       "<div>\n",
       "<style scoped>\n",
       "    .dataframe tbody tr th:only-of-type {\n",
       "        vertical-align: middle;\n",
       "    }\n",
       "\n",
       "    .dataframe tbody tr th {\n",
       "        vertical-align: top;\n",
       "    }\n",
       "\n",
       "    .dataframe thead th {\n",
       "        text-align: right;\n",
       "    }\n",
       "</style>\n",
       "<table border=\"1\" class=\"dataframe\">\n",
       "  <thead>\n",
       "    <tr style=\"text-align: right;\">\n",
       "      <th></th>\n",
       "      <th>id</th>\n",
       "      <th>message</th>\n",
       "      <th>original</th>\n",
       "      <th>genre</th>\n",
       "      <th>related</th>\n",
       "      <th>request</th>\n",
       "      <th>offer</th>\n",
       "      <th>aid_related</th>\n",
       "      <th>medical_help</th>\n",
       "      <th>medical_products</th>\n",
       "      <th>...</th>\n",
       "      <th>aid_centers</th>\n",
       "      <th>other_infrastructure</th>\n",
       "      <th>weather_related</th>\n",
       "      <th>floods</th>\n",
       "      <th>storm</th>\n",
       "      <th>fire</th>\n",
       "      <th>earthquake</th>\n",
       "      <th>cold</th>\n",
       "      <th>other_weather</th>\n",
       "      <th>direct_report</th>\n",
       "    </tr>\n",
       "  </thead>\n",
       "  <tbody>\n",
       "    <tr>\n",
       "      <td>0</td>\n",
       "      <td>2</td>\n",
       "      <td>Weather update - a cold front from Cuba that c...</td>\n",
       "      <td>Un front froid se retrouve sur Cuba ce matin. ...</td>\n",
       "      <td>direct</td>\n",
       "      <td>1</td>\n",
       "      <td>0</td>\n",
       "      <td>0</td>\n",
       "      <td>0</td>\n",
       "      <td>0</td>\n",
       "      <td>0</td>\n",
       "      <td>...</td>\n",
       "      <td>0</td>\n",
       "      <td>0</td>\n",
       "      <td>0</td>\n",
       "      <td>0</td>\n",
       "      <td>0</td>\n",
       "      <td>0</td>\n",
       "      <td>0</td>\n",
       "      <td>0</td>\n",
       "      <td>0</td>\n",
       "      <td>0</td>\n",
       "    </tr>\n",
       "    <tr>\n",
       "      <td>1</td>\n",
       "      <td>7</td>\n",
       "      <td>Is the Hurricane over or is it not over</td>\n",
       "      <td>Cyclone nan fini osinon li pa fini</td>\n",
       "      <td>direct</td>\n",
       "      <td>1</td>\n",
       "      <td>0</td>\n",
       "      <td>0</td>\n",
       "      <td>1</td>\n",
       "      <td>0</td>\n",
       "      <td>0</td>\n",
       "      <td>...</td>\n",
       "      <td>0</td>\n",
       "      <td>0</td>\n",
       "      <td>1</td>\n",
       "      <td>0</td>\n",
       "      <td>1</td>\n",
       "      <td>0</td>\n",
       "      <td>0</td>\n",
       "      <td>0</td>\n",
       "      <td>0</td>\n",
       "      <td>0</td>\n",
       "    </tr>\n",
       "    <tr>\n",
       "      <td>2</td>\n",
       "      <td>8</td>\n",
       "      <td>Looking for someone but no name</td>\n",
       "      <td>Patnm, di Maryani relem pou li banm nouvel li ...</td>\n",
       "      <td>direct</td>\n",
       "      <td>1</td>\n",
       "      <td>0</td>\n",
       "      <td>0</td>\n",
       "      <td>0</td>\n",
       "      <td>0</td>\n",
       "      <td>0</td>\n",
       "      <td>...</td>\n",
       "      <td>0</td>\n",
       "      <td>0</td>\n",
       "      <td>0</td>\n",
       "      <td>0</td>\n",
       "      <td>0</td>\n",
       "      <td>0</td>\n",
       "      <td>0</td>\n",
       "      <td>0</td>\n",
       "      <td>0</td>\n",
       "      <td>0</td>\n",
       "    </tr>\n",
       "    <tr>\n",
       "      <td>3</td>\n",
       "      <td>9</td>\n",
       "      <td>UN reports Leogane 80-90 destroyed. Only Hospi...</td>\n",
       "      <td>UN reports Leogane 80-90 destroyed. Only Hospi...</td>\n",
       "      <td>direct</td>\n",
       "      <td>1</td>\n",
       "      <td>1</td>\n",
       "      <td>0</td>\n",
       "      <td>1</td>\n",
       "      <td>0</td>\n",
       "      <td>1</td>\n",
       "      <td>...</td>\n",
       "      <td>0</td>\n",
       "      <td>0</td>\n",
       "      <td>0</td>\n",
       "      <td>0</td>\n",
       "      <td>0</td>\n",
       "      <td>0</td>\n",
       "      <td>0</td>\n",
       "      <td>0</td>\n",
       "      <td>0</td>\n",
       "      <td>0</td>\n",
       "    </tr>\n",
       "    <tr>\n",
       "      <td>4</td>\n",
       "      <td>12</td>\n",
       "      <td>says: west side of Haiti, rest of the country ...</td>\n",
       "      <td>facade ouest d Haiti et le reste du pays aujou...</td>\n",
       "      <td>direct</td>\n",
       "      <td>1</td>\n",
       "      <td>0</td>\n",
       "      <td>0</td>\n",
       "      <td>0</td>\n",
       "      <td>0</td>\n",
       "      <td>0</td>\n",
       "      <td>...</td>\n",
       "      <td>0</td>\n",
       "      <td>0</td>\n",
       "      <td>0</td>\n",
       "      <td>0</td>\n",
       "      <td>0</td>\n",
       "      <td>0</td>\n",
       "      <td>0</td>\n",
       "      <td>0</td>\n",
       "      <td>0</td>\n",
       "      <td>0</td>\n",
       "    </tr>\n",
       "  </tbody>\n",
       "</table>\n",
       "<p>5 rows × 40 columns</p>\n",
       "</div>"
      ],
      "text/plain": [
       "   id                                            message  \\\n",
       "0   2  Weather update - a cold front from Cuba that c...   \n",
       "1   7            Is the Hurricane over or is it not over   \n",
       "2   8                    Looking for someone but no name   \n",
       "3   9  UN reports Leogane 80-90 destroyed. Only Hospi...   \n",
       "4  12  says: west side of Haiti, rest of the country ...   \n",
       "\n",
       "                                            original   genre  related  \\\n",
       "0  Un front froid se retrouve sur Cuba ce matin. ...  direct        1   \n",
       "1                 Cyclone nan fini osinon li pa fini  direct        1   \n",
       "2  Patnm, di Maryani relem pou li banm nouvel li ...  direct        1   \n",
       "3  UN reports Leogane 80-90 destroyed. Only Hospi...  direct        1   \n",
       "4  facade ouest d Haiti et le reste du pays aujou...  direct        1   \n",
       "\n",
       "   request  offer  aid_related  medical_help  medical_products  ...  \\\n",
       "0        0      0            0             0                 0  ...   \n",
       "1        0      0            1             0                 0  ...   \n",
       "2        0      0            0             0                 0  ...   \n",
       "3        1      0            1             0                 1  ...   \n",
       "4        0      0            0             0                 0  ...   \n",
       "\n",
       "   aid_centers  other_infrastructure  weather_related  floods  storm  fire  \\\n",
       "0            0                     0                0       0      0     0   \n",
       "1            0                     0                1       0      1     0   \n",
       "2            0                     0                0       0      0     0   \n",
       "3            0                     0                0       0      0     0   \n",
       "4            0                     0                0       0      0     0   \n",
       "\n",
       "   earthquake  cold  other_weather  direct_report  \n",
       "0           0     0              0              0  \n",
       "1           0     0              0              0  \n",
       "2           0     0              0              0  \n",
       "3           0     0              0              0  \n",
       "4           0     0              0              0  \n",
       "\n",
       "[5 rows x 40 columns]"
      ]
     },
     "execution_count": 5,
     "metadata": {},
     "output_type": "execute_result"
    }
   ],
   "source": [
    "engine = create_engine('sqlite:///figure8_cleandata.db')\n",
    "df = pd.read_sql_table(\"clean_table\",con=engine)\n",
    "df.head()"
   ]
  },
  {
   "cell_type": "code",
   "execution_count": 9,
   "metadata": {},
   "outputs": [],
   "source": [
    "# load data from database\n",
    "def load_data():\n",
    "    engine = create_engine('sqlite:///figure8_cleandata.db')\n",
    "    df = pd.read_sql_table(\"clean_table\",con=engine)\n",
    "    category_names = df.columns[4:]\n",
    "\n",
    "    X = df[['message']].values[:, 0]\n",
    "    Y = df[category_names].values\n",
    "    Y = Y.astype(\"int\")\n",
    "    return X, Y,category_names"
   ]
  },
  {
   "cell_type": "code",
   "execution_count": 11,
   "metadata": {},
   "outputs": [],
   "source": [
    "engine = create_engine('sqlite:///figure8_cleandata.db')\n",
    "df = pd.read_sql_table(\"clean_table\",con=engine)\n",
    "category_names = df.columns[4:]\n",
    "\n",
    "X = df['message'].values\n",
    "Y = df[category_names].values\n",
    "Y = Y.astype(\"int\")"
   ]
  },
  {
   "cell_type": "code",
   "execution_count": 15,
   "metadata": {},
   "outputs": [
    {
     "data": {
      "text/plain": [
       "array(['Weather update - a cold front from Cuba that could pass over Haiti',\n",
       "       'Is the Hurricane over or is it not over',\n",
       "       'Looking for someone but no name', ...,\n",
       "       \"Proshika, operating in Cox's Bazar municipality and 5 other unions, Ramu and Chokoria, assessment, 5 kg rice, 1,5 kg lentils to 700 families.\",\n",
       "       'Some 2,000 women protesting against the conduct of the elections were teargassed as they tried to converge on the local electoral commission offices in the southern oil city of Port Harcourt.',\n",
       "       'A radical shift in thinking came about as a result of this meeting, recognizing that HIV/AIDS is at the core of the humanitarian crisis and identifying the crisis itself as a function of the HIV/AIDS pandemic.'],\n",
       "      dtype=object)"
      ]
     },
     "execution_count": 15,
     "metadata": {},
     "output_type": "execute_result"
    }
   ],
   "source": [
    "df['message'].values"
   ]
  },
  {
   "cell_type": "markdown",
   "metadata": {},
   "source": [
    "### 2. Write a tokenization function to process your text data"
   ]
  },
  {
   "cell_type": "code",
   "execution_count": 4,
   "metadata": {},
   "outputs": [],
   "source": [
    "def tokenize(text):\n",
    "\n",
    "    tokens = word_tokenize(text)\n",
    "    lemmatizer = WordNetLemmatizer()\n",
    "\n",
    "    clean_tokens = []\n",
    "    for tok in tokens:\n",
    "        clean_tok = lemmatizer.lemmatize(tok).lower().strip()\n",
    "        clean_tokens.append(clean_tok)\n",
    "\n",
    "    return clean_tokens"
   ]
  },
  {
   "cell_type": "markdown",
   "metadata": {},
   "source": [
    "### 3. Build a machine learning pipeline\n",
    "This machine pipeline should take in the `message` column as input and output classification results on the other 36 categories in the dataset. You may find the [MultiOutputClassifier](http://scikit-learn.org/stable/modules/generated/sklearn.multioutput.MultiOutputClassifier.html) helpful for predicting multiple target variables."
   ]
  },
  {
   "cell_type": "code",
   "execution_count": null,
   "metadata": {},
   "outputs": [],
   "source": [
    "def build_model():\n",
    "    pipeline = Pipeline([\n",
    "        ('vect', CountVectorizer(tokenizer=tokenize)),\n",
    "        ('tfidf', TfidfTransformer()),\n",
    "        ('clf', MultiOutputClassifier(RandomForestClassifier(), n_jobs=-1))#The number of jobs to use for the computation. -1 means using all processors.\n",
    "    ])\n",
    "\n",
    "    parameters = {\n",
    "        'features__text_pipeline__vect__ngram_range': ((1, 1), (1, 2)),\n",
    "        'features__text_pipeline__vect__max_df': (0.5, 0.75, 1.0),\n",
    "        'features__text_pipeline__vect__max_features': (None, 5000, 10000),\n",
    "        'features__text_pipeline__tfidf__use_idf': (True, False),\n",
    "        'clf__n_estimators': [50, 100, 200],\n",
    "        'clf__min_samples_split': [2, 3, 4],\n",
    "        'features__transformer_weights': (\n",
    "            {'text_pipeline': 1, 'starting_verb': 0.5},\n",
    "            {'text_pipeline': 0.5, 'starting_verb': 1},\n",
    "            {'text_pipeline': 0.8, 'starting_verb': 1},\n",
    "        )\n",
    "    }\n",
    "\n",
    "    cv = GridSearchCV(pipeline, param_grid=parameters)\n",
    "\n",
    "    return cv"
   ]
  },
  {
   "cell_type": "markdown",
   "metadata": {},
   "source": [
    "### 4. Train pipeline\n",
    "- Split data into train and test sets\n",
    "- Train pipeline"
   ]
  },
  {
   "cell_type": "code",
   "execution_count": 5,
   "metadata": {},
   "outputs": [],
   "source": [
    "# load data\n",
    "X, y = load_data()\n",
    "\n",
    "# perform train test split\n",
    "X_train, X_test, y_train, y_test = train_test_split(X, y)"
   ]
  },
  {
   "cell_type": "code",
   "execution_count": 6,
   "metadata": {},
   "outputs": [],
   "source": [
    "pipeline = Pipeline([\n",
    "('vect', CountVectorizer(tokenizer=tokenize)),\n",
    "('tfidf', TfidfTransformer()),\n",
    "('clf', MultiOutputClassifier(RandomForestClassifier()))#The number of jobs to use for the computation.\n",
    "])"
   ]
  },
  {
   "cell_type": "code",
   "execution_count": 7,
   "metadata": {},
   "outputs": [],
   "source": [
    "# train classifier\n",
    "pipeline.fit(X_train, y_train)\n",
    "\n",
    "# predict on test data\n",
    "y_pred = pipeline.predict(X_test)"
   ]
  },
  {
   "cell_type": "markdown",
   "metadata": {},
   "source": [
    "### 5. Test your model\n",
    "Report the f1 score, precision and recall for each output category of the dataset. You can do this by iterating through the columns and calling sklearn's `classification_report` on each."
   ]
  },
  {
   "cell_type": "code",
   "execution_count": 8,
   "metadata": {},
   "outputs": [],
   "source": [
    "cat_cols = df.iloc[:,4:].columns\n",
    "def multioutput_classification_report(y_test, y_pred):\n",
    "    \"\"\" Function for multioutput classification report \n",
    "    INPUT: y_test, y_pred\n",
    "    OUTPUT: Precision Score, Recall Score, F1 Score and Accuracy\n",
    "    \"\"\"\n",
    "    for i in range(0, len(cat_cols)):\n",
    "        print(cat_cols[i])\n",
    "        print(\"\\t\\t\\t Precision: {:.4f}\\t Recall: {:.4f}\\t F1_score: {:.4f}\\t Accuracy: {:.4f}\\t\".format(\n",
    "            precision_score(y_test[:, i], y_pred[:, i], average='weighted'),\n",
    "            recall_score(y_test[:, i], y_pred[:, i], average='weighted'),\n",
    "            f1_score(y_test[:, i], y_pred[:, i], average='weighted'),\n",
    "            accuracy_score(y_test[:, i], y_pred[:, i])\n",
    "        ))\n"
   ]
  },
  {
   "cell_type": "code",
   "execution_count": 9,
   "metadata": {},
   "outputs": [
    {
     "name": "stdout",
     "output_type": "stream",
     "text": [
      "related\n",
      "\t\t\t Precision: 0.7935\t Recall: 0.8055\t F1_score: 0.7702\t Accuracy: 0.8055\t\n",
      "request\n",
      "\t\t\t Precision: 0.8908\t Recall: 0.8906\t F1_score: 0.8735\t Accuracy: 0.8906\t\n",
      "offer\n",
      "\t\t\t Precision: 0.9930\t Recall: 0.9965\t F1_score: 0.9947\t Accuracy: 0.9965\t\n",
      "aid_related\n",
      "\t\t\t Precision: 0.7809\t Recall: 0.7768\t F1_score: 0.7699\t Accuracy: 0.7768\t\n",
      "medical_help\n",
      "\t\t\t Precision: 0.8963\t Recall: 0.9200\t F1_score: 0.8876\t Accuracy: 0.9200\t\n",
      "medical_products\n",
      "\t\t\t Precision: 0.9424\t Recall: 0.9518\t F1_score: 0.9315\t Accuracy: 0.9518\t\n",
      "search_and_rescue\n",
      "\t\t\t Precision: 0.9626\t Recall: 0.9712\t F1_score: 0.9579\t Accuracy: 0.9712\t\n",
      "security\n",
      "\t\t\t Precision: 0.9660\t Recall: 0.9828\t F1_score: 0.9743\t Accuracy: 0.9828\t\n",
      "military\n",
      "\t\t\t Precision: 0.9664\t Recall: 0.9678\t F1_score: 0.9538\t Accuracy: 0.9678\t\n",
      "child_alone\n",
      "\t\t\t Precision: 1.0000\t Recall: 1.0000\t F1_score: 1.0000\t Accuracy: 1.0000\t\n",
      "water\n",
      "\t\t\t Precision: 0.9517\t Recall: 0.9531\t F1_score: 0.9391\t Accuracy: 0.9531\t\n",
      "food\n",
      "\t\t\t Precision: 0.9196\t Recall: 0.9231\t F1_score: 0.9089\t Accuracy: 0.9231\t\n",
      "shelter\n",
      "\t\t\t Precision: 0.9264\t Recall: 0.9306\t F1_score: 0.9143\t Accuracy: 0.9306\t\n",
      "clothing\n",
      "\t\t\t Precision: 0.9807\t Recall: 0.9861\t F1_score: 0.9801\t Accuracy: 0.9861\t\n",
      "money\n",
      "\t\t\t Precision: 0.9676\t Recall: 0.9763\t F1_score: 0.9653\t Accuracy: 0.9763\t\n",
      "missing_people\n",
      "\t\t\t Precision: 0.9744\t Recall: 0.9871\t F1_score: 0.9807\t Accuracy: 0.9871\t\n",
      "refugees\n",
      "\t\t\t Precision: 0.9599\t Recall: 0.9700\t F1_score: 0.9564\t Accuracy: 0.9700\t\n",
      "death\n",
      "\t\t\t Precision: 0.9580\t Recall: 0.9590\t F1_score: 0.9428\t Accuracy: 0.9590\t\n",
      "other_aid\n",
      "\t\t\t Precision: 0.8526\t Recall: 0.8736\t F1_score: 0.8172\t Accuracy: 0.8736\t\n",
      "infrastructure_related\n",
      "\t\t\t Precision: 0.8697\t Recall: 0.9325\t F1_score: 0.9000\t Accuracy: 0.9325\t\n",
      "transport\n",
      "\t\t\t Precision: 0.9492\t Recall: 0.9576\t F1_score: 0.9405\t Accuracy: 0.9576\t\n",
      "buildings\n",
      "\t\t\t Precision: 0.9484\t Recall: 0.9533\t F1_score: 0.9340\t Accuracy: 0.9533\t\n",
      "electricity\n",
      "\t\t\t Precision: 0.9833\t Recall: 0.9830\t F1_score: 0.9754\t Accuracy: 0.9830\t\n",
      "tools\n",
      "\t\t\t Precision: 0.9890\t Recall: 0.9945\t F1_score: 0.9917\t Accuracy: 0.9945\t\n",
      "hospitals\n",
      "\t\t\t Precision: 0.9808\t Recall: 0.9904\t F1_score: 0.9855\t Accuracy: 0.9904\t\n",
      "shops\n",
      "\t\t\t Precision: 0.9924\t Recall: 0.9962\t F1_score: 0.9943\t Accuracy: 0.9962\t\n",
      "aid_centers\n",
      "\t\t\t Precision: 0.9762\t Recall: 0.9881\t F1_score: 0.9821\t Accuracy: 0.9881\t\n",
      "other_infrastructure\n",
      "\t\t\t Precision: 0.9082\t Recall: 0.9528\t F1_score: 0.9300\t Accuracy: 0.9528\t\n",
      "weather_related\n",
      "\t\t\t Precision: 0.8584\t Recall: 0.8582\t F1_score: 0.8493\t Accuracy: 0.8582\t\n",
      "floods\n",
      "\t\t\t Precision: 0.9415\t Recall: 0.9426\t F1_score: 0.9312\t Accuracy: 0.9426\t\n",
      "storm\n",
      "\t\t\t Precision: 0.9300\t Recall: 0.9371\t F1_score: 0.9276\t Accuracy: 0.9371\t\n",
      "fire\n",
      "\t\t\t Precision: 0.9753\t Recall: 0.9874\t F1_score: 0.9814\t Accuracy: 0.9874\t\n",
      "earthquake\n",
      "\t\t\t Precision: 0.9618\t Recall: 0.9634\t F1_score: 0.9617\t Accuracy: 0.9634\t\n",
      "cold\n",
      "\t\t\t Precision: 0.9805\t Recall: 0.9801\t F1_score: 0.9711\t Accuracy: 0.9801\t\n",
      "other_weather\n",
      "\t\t\t Precision: 0.9242\t Recall: 0.9456\t F1_score: 0.9211\t Accuracy: 0.9456\t\n",
      "direct_report\n",
      "\t\t\t Precision: 0.8616\t Recall: 0.8631\t F1_score: 0.8393\t Accuracy: 0.8631\t\n"
     ]
    },
    {
     "name": "stderr",
     "output_type": "stream",
     "text": [
      "/Users/leec/opt/anaconda3/lib/python3.7/site-packages/sklearn/metrics/_classification.py:1221: UndefinedMetricWarning: Precision is ill-defined and being set to 0.0 in labels with no predicted samples. Use `zero_division` parameter to control this behavior.\n",
      "  _warn_prf(average, modifier, msg_start, len(result))\n"
     ]
    }
   ],
   "source": [
    "multioutput_classification_report(y_test, y_pred)"
   ]
  },
  {
   "cell_type": "markdown",
   "metadata": {},
   "source": [
    "### 6. Improve your model\n",
    "Use grid search to find better parameters. "
   ]
  },
  {
   "cell_type": "code",
   "execution_count": 11,
   "metadata": {},
   "outputs": [],
   "source": [
    "pipeline.get_params().keys()\n",
    "parameters = {\n",
    "    'clf__estimator__n_estimators': [20, 50],\n",
    "    'clf__estimator__min_samples_split': [2, 4],\n",
    "    }\n",
    "\n",
    "cv = GridSearchCV(pipeline, param_grid=parameters)\n",
    "\n",
    "cv.fit(X_train, y_train)"
   ]
  },
  {
   "cell_type": "code",
   "execution_count": 12,
   "metadata": {},
   "outputs": [
    {
     "data": {
      "text/plain": [
       "GridSearchCV(estimator=Pipeline(steps=[('vect',\n",
       "                                        CountVectorizer(tokenizer=<function tokenize at 0x7fc7547619e0>)),\n",
       "                                       ('tfidf', TfidfTransformer()),\n",
       "                                       ('clf',\n",
       "                                        MultiOutputClassifier(estimator=RandomForestClassifier()))]),\n",
       "             param_grid={'clf__estimator__n_estimators': [20, 50]})"
      ]
     },
     "execution_count": 12,
     "metadata": {},
     "output_type": "execute_result"
    }
   ],
   "source": [
    "cv.fit(X_train, y_train)"
   ]
  },
  {
   "cell_type": "code",
   "execution_count": 25,
   "metadata": {},
   "outputs": [
    {
     "data": {
      "text/plain": [
       "['direct', 'news', 'social']"
      ]
     },
     "execution_count": 25,
     "metadata": {},
     "output_type": "execute_result"
    }
   ],
   "source": [
    "genre_counts = df.groupby('genre').count()['message']\n",
    "genre_names = list(genre_counts.index)\n",
    "genre_names"
   ]
  },
  {
   "cell_type": "code",
   "execution_count": 72,
   "metadata": {},
   "outputs": [],
   "source": [
    "cat_counts=df.groupby('genre').mean()[\"medical_help\"]\n",
    "cat_names = list(cat_counts.index)\n",
    "cat_counts2=df.groupby('genre').mean()[\"medical_products\"]\n",
    "cat_names2 = list(cat_counts2.index)"
   ]
  },
  {
   "cell_type": "code",
   "execution_count": 73,
   "metadata": {},
   "outputs": [
    {
     "data": {
      "application/vnd.plotly.v1+json": {
       "config": {
        "plotlyServerURL": "https://plot.ly"
       },
       "data": [
        {
         "name": "medical_help",
         "type": "bar",
         "x": [
          "direct",
          "news",
          "social"
         ],
         "y": [
          0.05498506348020911,
          0.10829298286065636,
          0.03221757322175732
         ]
        },
        {
         "name": "medical_products",
         "type": "bar",
         "x": [
          "direct",
          "news",
          "social"
         ],
         "y": [
          0.04387602688573562,
          0.060717854123434015,
          0.020502092050209204
         ]
        }
       ],
       "layout": {
        "template": {
         "data": {
          "bar": [
           {
            "error_x": {
             "color": "#2a3f5f"
            },
            "error_y": {
             "color": "#2a3f5f"
            },
            "marker": {
             "line": {
              "color": "#E5ECF6",
              "width": 0.5
             }
            },
            "type": "bar"
           }
          ],
          "barpolar": [
           {
            "marker": {
             "line": {
              "color": "#E5ECF6",
              "width": 0.5
             }
            },
            "type": "barpolar"
           }
          ],
          "carpet": [
           {
            "aaxis": {
             "endlinecolor": "#2a3f5f",
             "gridcolor": "white",
             "linecolor": "white",
             "minorgridcolor": "white",
             "startlinecolor": "#2a3f5f"
            },
            "baxis": {
             "endlinecolor": "#2a3f5f",
             "gridcolor": "white",
             "linecolor": "white",
             "minorgridcolor": "white",
             "startlinecolor": "#2a3f5f"
            },
            "type": "carpet"
           }
          ],
          "choropleth": [
           {
            "colorbar": {
             "outlinewidth": 0,
             "ticks": ""
            },
            "type": "choropleth"
           }
          ],
          "contour": [
           {
            "colorbar": {
             "outlinewidth": 0,
             "ticks": ""
            },
            "colorscale": [
             [
              0,
              "#0d0887"
             ],
             [
              0.1111111111111111,
              "#46039f"
             ],
             [
              0.2222222222222222,
              "#7201a8"
             ],
             [
              0.3333333333333333,
              "#9c179e"
             ],
             [
              0.4444444444444444,
              "#bd3786"
             ],
             [
              0.5555555555555556,
              "#d8576b"
             ],
             [
              0.6666666666666666,
              "#ed7953"
             ],
             [
              0.7777777777777778,
              "#fb9f3a"
             ],
             [
              0.8888888888888888,
              "#fdca26"
             ],
             [
              1,
              "#f0f921"
             ]
            ],
            "type": "contour"
           }
          ],
          "contourcarpet": [
           {
            "colorbar": {
             "outlinewidth": 0,
             "ticks": ""
            },
            "type": "contourcarpet"
           }
          ],
          "heatmap": [
           {
            "colorbar": {
             "outlinewidth": 0,
             "ticks": ""
            },
            "colorscale": [
             [
              0,
              "#0d0887"
             ],
             [
              0.1111111111111111,
              "#46039f"
             ],
             [
              0.2222222222222222,
              "#7201a8"
             ],
             [
              0.3333333333333333,
              "#9c179e"
             ],
             [
              0.4444444444444444,
              "#bd3786"
             ],
             [
              0.5555555555555556,
              "#d8576b"
             ],
             [
              0.6666666666666666,
              "#ed7953"
             ],
             [
              0.7777777777777778,
              "#fb9f3a"
             ],
             [
              0.8888888888888888,
              "#fdca26"
             ],
             [
              1,
              "#f0f921"
             ]
            ],
            "type": "heatmap"
           }
          ],
          "heatmapgl": [
           {
            "colorbar": {
             "outlinewidth": 0,
             "ticks": ""
            },
            "colorscale": [
             [
              0,
              "#0d0887"
             ],
             [
              0.1111111111111111,
              "#46039f"
             ],
             [
              0.2222222222222222,
              "#7201a8"
             ],
             [
              0.3333333333333333,
              "#9c179e"
             ],
             [
              0.4444444444444444,
              "#bd3786"
             ],
             [
              0.5555555555555556,
              "#d8576b"
             ],
             [
              0.6666666666666666,
              "#ed7953"
             ],
             [
              0.7777777777777778,
              "#fb9f3a"
             ],
             [
              0.8888888888888888,
              "#fdca26"
             ],
             [
              1,
              "#f0f921"
             ]
            ],
            "type": "heatmapgl"
           }
          ],
          "histogram": [
           {
            "marker": {
             "colorbar": {
              "outlinewidth": 0,
              "ticks": ""
             }
            },
            "type": "histogram"
           }
          ],
          "histogram2d": [
           {
            "colorbar": {
             "outlinewidth": 0,
             "ticks": ""
            },
            "colorscale": [
             [
              0,
              "#0d0887"
             ],
             [
              0.1111111111111111,
              "#46039f"
             ],
             [
              0.2222222222222222,
              "#7201a8"
             ],
             [
              0.3333333333333333,
              "#9c179e"
             ],
             [
              0.4444444444444444,
              "#bd3786"
             ],
             [
              0.5555555555555556,
              "#d8576b"
             ],
             [
              0.6666666666666666,
              "#ed7953"
             ],
             [
              0.7777777777777778,
              "#fb9f3a"
             ],
             [
              0.8888888888888888,
              "#fdca26"
             ],
             [
              1,
              "#f0f921"
             ]
            ],
            "type": "histogram2d"
           }
          ],
          "histogram2dcontour": [
           {
            "colorbar": {
             "outlinewidth": 0,
             "ticks": ""
            },
            "colorscale": [
             [
              0,
              "#0d0887"
             ],
             [
              0.1111111111111111,
              "#46039f"
             ],
             [
              0.2222222222222222,
              "#7201a8"
             ],
             [
              0.3333333333333333,
              "#9c179e"
             ],
             [
              0.4444444444444444,
              "#bd3786"
             ],
             [
              0.5555555555555556,
              "#d8576b"
             ],
             [
              0.6666666666666666,
              "#ed7953"
             ],
             [
              0.7777777777777778,
              "#fb9f3a"
             ],
             [
              0.8888888888888888,
              "#fdca26"
             ],
             [
              1,
              "#f0f921"
             ]
            ],
            "type": "histogram2dcontour"
           }
          ],
          "mesh3d": [
           {
            "colorbar": {
             "outlinewidth": 0,
             "ticks": ""
            },
            "type": "mesh3d"
           }
          ],
          "parcoords": [
           {
            "line": {
             "colorbar": {
              "outlinewidth": 0,
              "ticks": ""
             }
            },
            "type": "parcoords"
           }
          ],
          "pie": [
           {
            "automargin": true,
            "type": "pie"
           }
          ],
          "scatter": [
           {
            "marker": {
             "colorbar": {
              "outlinewidth": 0,
              "ticks": ""
             }
            },
            "type": "scatter"
           }
          ],
          "scatter3d": [
           {
            "line": {
             "colorbar": {
              "outlinewidth": 0,
              "ticks": ""
             }
            },
            "marker": {
             "colorbar": {
              "outlinewidth": 0,
              "ticks": ""
             }
            },
            "type": "scatter3d"
           }
          ],
          "scattercarpet": [
           {
            "marker": {
             "colorbar": {
              "outlinewidth": 0,
              "ticks": ""
             }
            },
            "type": "scattercarpet"
           }
          ],
          "scattergeo": [
           {
            "marker": {
             "colorbar": {
              "outlinewidth": 0,
              "ticks": ""
             }
            },
            "type": "scattergeo"
           }
          ],
          "scattergl": [
           {
            "marker": {
             "colorbar": {
              "outlinewidth": 0,
              "ticks": ""
             }
            },
            "type": "scattergl"
           }
          ],
          "scattermapbox": [
           {
            "marker": {
             "colorbar": {
              "outlinewidth": 0,
              "ticks": ""
             }
            },
            "type": "scattermapbox"
           }
          ],
          "scatterpolar": [
           {
            "marker": {
             "colorbar": {
              "outlinewidth": 0,
              "ticks": ""
             }
            },
            "type": "scatterpolar"
           }
          ],
          "scatterpolargl": [
           {
            "marker": {
             "colorbar": {
              "outlinewidth": 0,
              "ticks": ""
             }
            },
            "type": "scatterpolargl"
           }
          ],
          "scatterternary": [
           {
            "marker": {
             "colorbar": {
              "outlinewidth": 0,
              "ticks": ""
             }
            },
            "type": "scatterternary"
           }
          ],
          "surface": [
           {
            "colorbar": {
             "outlinewidth": 0,
             "ticks": ""
            },
            "colorscale": [
             [
              0,
              "#0d0887"
             ],
             [
              0.1111111111111111,
              "#46039f"
             ],
             [
              0.2222222222222222,
              "#7201a8"
             ],
             [
              0.3333333333333333,
              "#9c179e"
             ],
             [
              0.4444444444444444,
              "#bd3786"
             ],
             [
              0.5555555555555556,
              "#d8576b"
             ],
             [
              0.6666666666666666,
              "#ed7953"
             ],
             [
              0.7777777777777778,
              "#fb9f3a"
             ],
             [
              0.8888888888888888,
              "#fdca26"
             ],
             [
              1,
              "#f0f921"
             ]
            ],
            "type": "surface"
           }
          ],
          "table": [
           {
            "cells": {
             "fill": {
              "color": "#EBF0F8"
             },
             "line": {
              "color": "white"
             }
            },
            "header": {
             "fill": {
              "color": "#C8D4E3"
             },
             "line": {
              "color": "white"
             }
            },
            "type": "table"
           }
          ]
         },
         "layout": {
          "annotationdefaults": {
           "arrowcolor": "#2a3f5f",
           "arrowhead": 0,
           "arrowwidth": 1
          },
          "coloraxis": {
           "colorbar": {
            "outlinewidth": 0,
            "ticks": ""
           }
          },
          "colorscale": {
           "diverging": [
            [
             0,
             "#8e0152"
            ],
            [
             0.1,
             "#c51b7d"
            ],
            [
             0.2,
             "#de77ae"
            ],
            [
             0.3,
             "#f1b6da"
            ],
            [
             0.4,
             "#fde0ef"
            ],
            [
             0.5,
             "#f7f7f7"
            ],
            [
             0.6,
             "#e6f5d0"
            ],
            [
             0.7,
             "#b8e186"
            ],
            [
             0.8,
             "#7fbc41"
            ],
            [
             0.9,
             "#4d9221"
            ],
            [
             1,
             "#276419"
            ]
           ],
           "sequential": [
            [
             0,
             "#0d0887"
            ],
            [
             0.1111111111111111,
             "#46039f"
            ],
            [
             0.2222222222222222,
             "#7201a8"
            ],
            [
             0.3333333333333333,
             "#9c179e"
            ],
            [
             0.4444444444444444,
             "#bd3786"
            ],
            [
             0.5555555555555556,
             "#d8576b"
            ],
            [
             0.6666666666666666,
             "#ed7953"
            ],
            [
             0.7777777777777778,
             "#fb9f3a"
            ],
            [
             0.8888888888888888,
             "#fdca26"
            ],
            [
             1,
             "#f0f921"
            ]
           ],
           "sequentialminus": [
            [
             0,
             "#0d0887"
            ],
            [
             0.1111111111111111,
             "#46039f"
            ],
            [
             0.2222222222222222,
             "#7201a8"
            ],
            [
             0.3333333333333333,
             "#9c179e"
            ],
            [
             0.4444444444444444,
             "#bd3786"
            ],
            [
             0.5555555555555556,
             "#d8576b"
            ],
            [
             0.6666666666666666,
             "#ed7953"
            ],
            [
             0.7777777777777778,
             "#fb9f3a"
            ],
            [
             0.8888888888888888,
             "#fdca26"
            ],
            [
             1,
             "#f0f921"
            ]
           ]
          },
          "colorway": [
           "#636efa",
           "#EF553B",
           "#00cc96",
           "#ab63fa",
           "#FFA15A",
           "#19d3f3",
           "#FF6692",
           "#B6E880",
           "#FF97FF",
           "#FECB52"
          ],
          "font": {
           "color": "#2a3f5f"
          },
          "geo": {
           "bgcolor": "white",
           "lakecolor": "white",
           "landcolor": "#E5ECF6",
           "showlakes": true,
           "showland": true,
           "subunitcolor": "white"
          },
          "hoverlabel": {
           "align": "left"
          },
          "hovermode": "closest",
          "mapbox": {
           "style": "light"
          },
          "paper_bgcolor": "white",
          "plot_bgcolor": "#E5ECF6",
          "polar": {
           "angularaxis": {
            "gridcolor": "white",
            "linecolor": "white",
            "ticks": ""
           },
           "bgcolor": "#E5ECF6",
           "radialaxis": {
            "gridcolor": "white",
            "linecolor": "white",
            "ticks": ""
           }
          },
          "scene": {
           "xaxis": {
            "backgroundcolor": "#E5ECF6",
            "gridcolor": "white",
            "gridwidth": 2,
            "linecolor": "white",
            "showbackground": true,
            "ticks": "",
            "zerolinecolor": "white"
           },
           "yaxis": {
            "backgroundcolor": "#E5ECF6",
            "gridcolor": "white",
            "gridwidth": 2,
            "linecolor": "white",
            "showbackground": true,
            "ticks": "",
            "zerolinecolor": "white"
           },
           "zaxis": {
            "backgroundcolor": "#E5ECF6",
            "gridcolor": "white",
            "gridwidth": 2,
            "linecolor": "white",
            "showbackground": true,
            "ticks": "",
            "zerolinecolor": "white"
           }
          },
          "shapedefaults": {
           "line": {
            "color": "#2a3f5f"
           }
          },
          "ternary": {
           "aaxis": {
            "gridcolor": "white",
            "linecolor": "white",
            "ticks": ""
           },
           "baxis": {
            "gridcolor": "white",
            "linecolor": "white",
            "ticks": ""
           },
           "bgcolor": "#E5ECF6",
           "caxis": {
            "gridcolor": "white",
            "linecolor": "white",
            "ticks": ""
           }
          },
          "title": {
           "x": 0.05
          },
          "xaxis": {
           "automargin": true,
           "gridcolor": "white",
           "linecolor": "white",
           "ticks": "",
           "title": {
            "standoff": 15
           },
           "zerolinecolor": "white",
           "zerolinewidth": 2
          },
          "yaxis": {
           "automargin": true,
           "gridcolor": "white",
           "linecolor": "white",
           "ticks": "",
           "title": {
            "standoff": 15
           },
           "zerolinecolor": "white",
           "zerolinewidth": 2
          }
         }
        }
       }
      },
      "text/html": [
       "<div>\n",
       "        \n",
       "        \n",
       "            <div id=\"706c2bac-192f-4cc0-b104-a8dc803991fa\" class=\"plotly-graph-div\" style=\"height:525px; width:100%;\"></div>\n",
       "            <script type=\"text/javascript\">\n",
       "                require([\"plotly\"], function(Plotly) {\n",
       "                    window.PLOTLYENV=window.PLOTLYENV || {};\n",
       "                    \n",
       "                if (document.getElementById(\"706c2bac-192f-4cc0-b104-a8dc803991fa\")) {\n",
       "                    Plotly.newPlot(\n",
       "                        '706c2bac-192f-4cc0-b104-a8dc803991fa',\n",
       "                        [{\"name\": \"medical_help\", \"type\": \"bar\", \"x\": [\"direct\", \"news\", \"social\"], \"y\": [0.05498506348020911, 0.10829298286065636, 0.03221757322175732]}, {\"name\": \"medical_products\", \"type\": \"bar\", \"x\": [\"direct\", \"news\", \"social\"], \"y\": [0.04387602688573562, 0.060717854123434015, 0.020502092050209204]}],\n",
       "                        {\"template\": {\"data\": {\"bar\": [{\"error_x\": {\"color\": \"#2a3f5f\"}, \"error_y\": {\"color\": \"#2a3f5f\"}, \"marker\": {\"line\": {\"color\": \"#E5ECF6\", \"width\": 0.5}}, \"type\": \"bar\"}], \"barpolar\": [{\"marker\": {\"line\": {\"color\": \"#E5ECF6\", \"width\": 0.5}}, \"type\": \"barpolar\"}], \"carpet\": [{\"aaxis\": {\"endlinecolor\": \"#2a3f5f\", \"gridcolor\": \"white\", \"linecolor\": \"white\", \"minorgridcolor\": \"white\", \"startlinecolor\": \"#2a3f5f\"}, \"baxis\": {\"endlinecolor\": \"#2a3f5f\", \"gridcolor\": \"white\", \"linecolor\": \"white\", \"minorgridcolor\": \"white\", \"startlinecolor\": \"#2a3f5f\"}, \"type\": \"carpet\"}], \"choropleth\": [{\"colorbar\": {\"outlinewidth\": 0, \"ticks\": \"\"}, \"type\": \"choropleth\"}], \"contour\": [{\"colorbar\": {\"outlinewidth\": 0, \"ticks\": \"\"}, \"colorscale\": [[0.0, \"#0d0887\"], [0.1111111111111111, \"#46039f\"], [0.2222222222222222, \"#7201a8\"], [0.3333333333333333, \"#9c179e\"], [0.4444444444444444, \"#bd3786\"], [0.5555555555555556, \"#d8576b\"], [0.6666666666666666, \"#ed7953\"], [0.7777777777777778, \"#fb9f3a\"], [0.8888888888888888, \"#fdca26\"], [1.0, \"#f0f921\"]], \"type\": \"contour\"}], \"contourcarpet\": [{\"colorbar\": {\"outlinewidth\": 0, \"ticks\": \"\"}, \"type\": \"contourcarpet\"}], \"heatmap\": [{\"colorbar\": {\"outlinewidth\": 0, \"ticks\": \"\"}, \"colorscale\": [[0.0, \"#0d0887\"], [0.1111111111111111, \"#46039f\"], [0.2222222222222222, \"#7201a8\"], [0.3333333333333333, \"#9c179e\"], [0.4444444444444444, \"#bd3786\"], [0.5555555555555556, \"#d8576b\"], [0.6666666666666666, \"#ed7953\"], [0.7777777777777778, \"#fb9f3a\"], [0.8888888888888888, \"#fdca26\"], [1.0, \"#f0f921\"]], \"type\": \"heatmap\"}], \"heatmapgl\": [{\"colorbar\": {\"outlinewidth\": 0, \"ticks\": \"\"}, \"colorscale\": [[0.0, \"#0d0887\"], [0.1111111111111111, \"#46039f\"], [0.2222222222222222, \"#7201a8\"], [0.3333333333333333, \"#9c179e\"], [0.4444444444444444, \"#bd3786\"], [0.5555555555555556, \"#d8576b\"], [0.6666666666666666, \"#ed7953\"], [0.7777777777777778, \"#fb9f3a\"], [0.8888888888888888, \"#fdca26\"], [1.0, \"#f0f921\"]], \"type\": \"heatmapgl\"}], \"histogram\": [{\"marker\": {\"colorbar\": {\"outlinewidth\": 0, \"ticks\": \"\"}}, \"type\": \"histogram\"}], \"histogram2d\": [{\"colorbar\": {\"outlinewidth\": 0, \"ticks\": \"\"}, \"colorscale\": [[0.0, \"#0d0887\"], [0.1111111111111111, \"#46039f\"], [0.2222222222222222, \"#7201a8\"], [0.3333333333333333, \"#9c179e\"], [0.4444444444444444, \"#bd3786\"], [0.5555555555555556, \"#d8576b\"], [0.6666666666666666, \"#ed7953\"], [0.7777777777777778, \"#fb9f3a\"], [0.8888888888888888, \"#fdca26\"], [1.0, \"#f0f921\"]], \"type\": \"histogram2d\"}], \"histogram2dcontour\": [{\"colorbar\": {\"outlinewidth\": 0, \"ticks\": \"\"}, \"colorscale\": [[0.0, \"#0d0887\"], [0.1111111111111111, \"#46039f\"], [0.2222222222222222, \"#7201a8\"], [0.3333333333333333, \"#9c179e\"], [0.4444444444444444, \"#bd3786\"], [0.5555555555555556, \"#d8576b\"], [0.6666666666666666, \"#ed7953\"], [0.7777777777777778, \"#fb9f3a\"], [0.8888888888888888, \"#fdca26\"], [1.0, \"#f0f921\"]], \"type\": \"histogram2dcontour\"}], \"mesh3d\": [{\"colorbar\": {\"outlinewidth\": 0, \"ticks\": \"\"}, \"type\": \"mesh3d\"}], \"parcoords\": [{\"line\": {\"colorbar\": {\"outlinewidth\": 0, \"ticks\": \"\"}}, \"type\": \"parcoords\"}], \"pie\": [{\"automargin\": true, \"type\": \"pie\"}], \"scatter\": [{\"marker\": {\"colorbar\": {\"outlinewidth\": 0, \"ticks\": \"\"}}, \"type\": \"scatter\"}], \"scatter3d\": [{\"line\": {\"colorbar\": {\"outlinewidth\": 0, \"ticks\": \"\"}}, \"marker\": {\"colorbar\": {\"outlinewidth\": 0, \"ticks\": \"\"}}, \"type\": \"scatter3d\"}], \"scattercarpet\": [{\"marker\": {\"colorbar\": {\"outlinewidth\": 0, \"ticks\": \"\"}}, \"type\": \"scattercarpet\"}], \"scattergeo\": [{\"marker\": {\"colorbar\": {\"outlinewidth\": 0, \"ticks\": \"\"}}, \"type\": \"scattergeo\"}], \"scattergl\": [{\"marker\": {\"colorbar\": {\"outlinewidth\": 0, \"ticks\": \"\"}}, \"type\": \"scattergl\"}], \"scattermapbox\": [{\"marker\": {\"colorbar\": {\"outlinewidth\": 0, \"ticks\": \"\"}}, \"type\": \"scattermapbox\"}], \"scatterpolar\": [{\"marker\": {\"colorbar\": {\"outlinewidth\": 0, \"ticks\": \"\"}}, \"type\": \"scatterpolar\"}], \"scatterpolargl\": [{\"marker\": {\"colorbar\": {\"outlinewidth\": 0, \"ticks\": \"\"}}, \"type\": \"scatterpolargl\"}], \"scatterternary\": [{\"marker\": {\"colorbar\": {\"outlinewidth\": 0, \"ticks\": \"\"}}, \"type\": \"scatterternary\"}], \"surface\": [{\"colorbar\": {\"outlinewidth\": 0, \"ticks\": \"\"}, \"colorscale\": [[0.0, \"#0d0887\"], [0.1111111111111111, \"#46039f\"], [0.2222222222222222, \"#7201a8\"], [0.3333333333333333, \"#9c179e\"], [0.4444444444444444, \"#bd3786\"], [0.5555555555555556, \"#d8576b\"], [0.6666666666666666, \"#ed7953\"], [0.7777777777777778, \"#fb9f3a\"], [0.8888888888888888, \"#fdca26\"], [1.0, \"#f0f921\"]], \"type\": \"surface\"}], \"table\": [{\"cells\": {\"fill\": {\"color\": \"#EBF0F8\"}, \"line\": {\"color\": \"white\"}}, \"header\": {\"fill\": {\"color\": \"#C8D4E3\"}, \"line\": {\"color\": \"white\"}}, \"type\": \"table\"}]}, \"layout\": {\"annotationdefaults\": {\"arrowcolor\": \"#2a3f5f\", \"arrowhead\": 0, \"arrowwidth\": 1}, \"coloraxis\": {\"colorbar\": {\"outlinewidth\": 0, \"ticks\": \"\"}}, \"colorscale\": {\"diverging\": [[0, \"#8e0152\"], [0.1, \"#c51b7d\"], [0.2, \"#de77ae\"], [0.3, \"#f1b6da\"], [0.4, \"#fde0ef\"], [0.5, \"#f7f7f7\"], [0.6, \"#e6f5d0\"], [0.7, \"#b8e186\"], [0.8, \"#7fbc41\"], [0.9, \"#4d9221\"], [1, \"#276419\"]], \"sequential\": [[0.0, \"#0d0887\"], [0.1111111111111111, \"#46039f\"], [0.2222222222222222, \"#7201a8\"], [0.3333333333333333, \"#9c179e\"], [0.4444444444444444, \"#bd3786\"], [0.5555555555555556, \"#d8576b\"], [0.6666666666666666, \"#ed7953\"], [0.7777777777777778, \"#fb9f3a\"], [0.8888888888888888, \"#fdca26\"], [1.0, \"#f0f921\"]], \"sequentialminus\": [[0.0, \"#0d0887\"], [0.1111111111111111, \"#46039f\"], [0.2222222222222222, \"#7201a8\"], [0.3333333333333333, \"#9c179e\"], [0.4444444444444444, \"#bd3786\"], [0.5555555555555556, \"#d8576b\"], [0.6666666666666666, \"#ed7953\"], [0.7777777777777778, \"#fb9f3a\"], [0.8888888888888888, \"#fdca26\"], [1.0, \"#f0f921\"]]}, \"colorway\": [\"#636efa\", \"#EF553B\", \"#00cc96\", \"#ab63fa\", \"#FFA15A\", \"#19d3f3\", \"#FF6692\", \"#B6E880\", \"#FF97FF\", \"#FECB52\"], \"font\": {\"color\": \"#2a3f5f\"}, \"geo\": {\"bgcolor\": \"white\", \"lakecolor\": \"white\", \"landcolor\": \"#E5ECF6\", \"showlakes\": true, \"showland\": true, \"subunitcolor\": \"white\"}, \"hoverlabel\": {\"align\": \"left\"}, \"hovermode\": \"closest\", \"mapbox\": {\"style\": \"light\"}, \"paper_bgcolor\": \"white\", \"plot_bgcolor\": \"#E5ECF6\", \"polar\": {\"angularaxis\": {\"gridcolor\": \"white\", \"linecolor\": \"white\", \"ticks\": \"\"}, \"bgcolor\": \"#E5ECF6\", \"radialaxis\": {\"gridcolor\": \"white\", \"linecolor\": \"white\", \"ticks\": \"\"}}, \"scene\": {\"xaxis\": {\"backgroundcolor\": \"#E5ECF6\", \"gridcolor\": \"white\", \"gridwidth\": 2, \"linecolor\": \"white\", \"showbackground\": true, \"ticks\": \"\", \"zerolinecolor\": \"white\"}, \"yaxis\": {\"backgroundcolor\": \"#E5ECF6\", \"gridcolor\": \"white\", \"gridwidth\": 2, \"linecolor\": \"white\", \"showbackground\": true, \"ticks\": \"\", \"zerolinecolor\": \"white\"}, \"zaxis\": {\"backgroundcolor\": \"#E5ECF6\", \"gridcolor\": \"white\", \"gridwidth\": 2, \"linecolor\": \"white\", \"showbackground\": true, \"ticks\": \"\", \"zerolinecolor\": \"white\"}}, \"shapedefaults\": {\"line\": {\"color\": \"#2a3f5f\"}}, \"ternary\": {\"aaxis\": {\"gridcolor\": \"white\", \"linecolor\": \"white\", \"ticks\": \"\"}, \"baxis\": {\"gridcolor\": \"white\", \"linecolor\": \"white\", \"ticks\": \"\"}, \"bgcolor\": \"#E5ECF6\", \"caxis\": {\"gridcolor\": \"white\", \"linecolor\": \"white\", \"ticks\": \"\"}}, \"title\": {\"x\": 0.05}, \"xaxis\": {\"automargin\": true, \"gridcolor\": \"white\", \"linecolor\": \"white\", \"ticks\": \"\", \"title\": {\"standoff\": 15}, \"zerolinecolor\": \"white\", \"zerolinewidth\": 2}, \"yaxis\": {\"automargin\": true, \"gridcolor\": \"white\", \"linecolor\": \"white\", \"ticks\": \"\", \"title\": {\"standoff\": 15}, \"zerolinecolor\": \"white\", \"zerolinewidth\": 2}}}},\n",
       "                        {\"responsive\": true}\n",
       "                    ).then(function(){\n",
       "                            \n",
       "var gd = document.getElementById('706c2bac-192f-4cc0-b104-a8dc803991fa');\n",
       "var x = new MutationObserver(function (mutations, observer) {{\n",
       "        var display = window.getComputedStyle(gd).display;\n",
       "        if (!display || display === 'none') {{\n",
       "            console.log([gd, 'removed!']);\n",
       "            Plotly.purge(gd);\n",
       "            observer.disconnect();\n",
       "        }}\n",
       "}});\n",
       "\n",
       "// Listen for the removal of the full notebook cells\n",
       "var notebookContainer = gd.closest('#notebook-container');\n",
       "if (notebookContainer) {{\n",
       "    x.observe(notebookContainer, {childList: true});\n",
       "}}\n",
       "\n",
       "// Listen for the clearing of the current output cell\n",
       "var outputEl = gd.closest('.output');\n",
       "if (outputEl) {{\n",
       "    x.observe(outputEl, {childList: true});\n",
       "}}\n",
       "\n",
       "                        })\n",
       "                };\n",
       "                });\n",
       "            </script>\n",
       "        </div>"
      ]
     },
     "metadata": {},
     "output_type": "display_data"
    }
   ],
   "source": [
    "import plotly.graph_objects as go\n",
    "\n",
    "fig = go.Figure([go.Bar(name = 'medical_help',x=cat_names, y=cat_counts),\n",
    "               go.Bar(name='medical_products', x=cat_names2, y=cat_counts2)])\n",
    "fig.show()"
   ]
  },
  {
   "cell_type": "code",
   "execution_count": 56,
   "metadata": {
    "scrolled": true
   },
   "outputs": [
    {
     "data": {
      "text/html": [
       "<div>\n",
       "<style scoped>\n",
       "    .dataframe tbody tr th:only-of-type {\n",
       "        vertical-align: middle;\n",
       "    }\n",
       "\n",
       "    .dataframe tbody tr th {\n",
       "        vertical-align: top;\n",
       "    }\n",
       "\n",
       "    .dataframe thead th {\n",
       "        text-align: right;\n",
       "    }\n",
       "</style>\n",
       "<table border=\"1\" class=\"dataframe\">\n",
       "  <thead>\n",
       "    <tr style=\"text-align: right;\">\n",
       "      <th></th>\n",
       "      <th>id</th>\n",
       "      <th>related</th>\n",
       "      <th>request</th>\n",
       "      <th>offer</th>\n",
       "      <th>aid_related</th>\n",
       "      <th>medical_help</th>\n",
       "      <th>medical_products</th>\n",
       "      <th>search_and_rescue</th>\n",
       "      <th>security</th>\n",
       "      <th>military</th>\n",
       "      <th>...</th>\n",
       "      <th>aid_centers</th>\n",
       "      <th>other_infrastructure</th>\n",
       "      <th>weather_related</th>\n",
       "      <th>floods</th>\n",
       "      <th>storm</th>\n",
       "      <th>fire</th>\n",
       "      <th>earthquake</th>\n",
       "      <th>cold</th>\n",
       "      <th>other_weather</th>\n",
       "      <th>direct_report</th>\n",
       "    </tr>\n",
       "    <tr>\n",
       "      <th>genre</th>\n",
       "      <th></th>\n",
       "      <th></th>\n",
       "      <th></th>\n",
       "      <th></th>\n",
       "      <th></th>\n",
       "      <th></th>\n",
       "      <th></th>\n",
       "      <th></th>\n",
       "      <th></th>\n",
       "      <th></th>\n",
       "      <th></th>\n",
       "      <th></th>\n",
       "      <th></th>\n",
       "      <th></th>\n",
       "      <th></th>\n",
       "      <th></th>\n",
       "      <th></th>\n",
       "      <th></th>\n",
       "      <th></th>\n",
       "      <th></th>\n",
       "      <th></th>\n",
       "    </tr>\n",
       "  </thead>\n",
       "  <tbody>\n",
       "    <tr>\n",
       "      <td>direct</td>\n",
       "      <td>6223.009242</td>\n",
       "      <td>0.690441</td>\n",
       "      <td>0.343073</td>\n",
       "      <td>0.004201</td>\n",
       "      <td>0.402539</td>\n",
       "      <td>0.054985</td>\n",
       "      <td>0.043876</td>\n",
       "      <td>0.020071</td>\n",
       "      <td>0.012229</td>\n",
       "      <td>0.004201</td>\n",
       "      <td>...</td>\n",
       "      <td>0.007282</td>\n",
       "      <td>0.017084</td>\n",
       "      <td>0.141150</td>\n",
       "      <td>0.028099</td>\n",
       "      <td>0.029126</td>\n",
       "      <td>0.003827</td>\n",
       "      <td>0.074122</td>\n",
       "      <td>0.005881</td>\n",
       "      <td>0.019231</td>\n",
       "      <td>0.335418</td>\n",
       "    </tr>\n",
       "    <tr>\n",
       "      <td>news</td>\n",
       "      <td>22969.259242</td>\n",
       "      <td>0.819845</td>\n",
       "      <td>0.046038</td>\n",
       "      <td>0.004996</td>\n",
       "      <td>0.448390</td>\n",
       "      <td>0.108293</td>\n",
       "      <td>0.060718</td>\n",
       "      <td>0.033894</td>\n",
       "      <td>0.022443</td>\n",
       "      <td>0.061410</td>\n",
       "      <td>...</td>\n",
       "      <td>0.016755</td>\n",
       "      <td>0.066482</td>\n",
       "      <td>0.327415</td>\n",
       "      <td>0.133272</td>\n",
       "      <td>0.110522</td>\n",
       "      <td>0.017293</td>\n",
       "      <td>0.069787</td>\n",
       "      <td>0.031666</td>\n",
       "      <td>0.080701</td>\n",
       "      <td>0.065176</td>\n",
       "    </tr>\n",
       "    <tr>\n",
       "      <td>social</td>\n",
       "      <td>13483.058996</td>\n",
       "      <td>0.887866</td>\n",
       "      <td>0.072385</td>\n",
       "      <td>0.002929</td>\n",
       "      <td>0.275732</td>\n",
       "      <td>0.032218</td>\n",
       "      <td>0.020502</td>\n",
       "      <td>0.028033</td>\n",
       "      <td>0.020084</td>\n",
       "      <td>0.005439</td>\n",
       "      <td>...</td>\n",
       "      <td>0.005439</td>\n",
       "      <td>0.041423</td>\n",
       "      <td>0.624686</td>\n",
       "      <td>0.043515</td>\n",
       "      <td>0.285356</td>\n",
       "      <td>0.006695</td>\n",
       "      <td>0.312552</td>\n",
       "      <td>0.021757</td>\n",
       "      <td>0.048954</td>\n",
       "      <td>0.254393</td>\n",
       "    </tr>\n",
       "  </tbody>\n",
       "</table>\n",
       "<p>3 rows × 37 columns</p>\n",
       "</div>"
      ],
      "text/plain": [
       "                  id   related   request     offer  aid_related  medical_help  \\\n",
       "genre                                                                           \n",
       "direct   6223.009242  0.690441  0.343073  0.004201     0.402539      0.054985   \n",
       "news    22969.259242  0.819845  0.046038  0.004996     0.448390      0.108293   \n",
       "social  13483.058996  0.887866  0.072385  0.002929     0.275732      0.032218   \n",
       "\n",
       "        medical_products  search_and_rescue  security  military  ...  \\\n",
       "genre                                                            ...   \n",
       "direct          0.043876           0.020071  0.012229  0.004201  ...   \n",
       "news            0.060718           0.033894  0.022443  0.061410  ...   \n",
       "social          0.020502           0.028033  0.020084  0.005439  ...   \n",
       "\n",
       "        aid_centers  other_infrastructure  weather_related    floods  \\\n",
       "genre                                                                  \n",
       "direct     0.007282              0.017084         0.141150  0.028099   \n",
       "news       0.016755              0.066482         0.327415  0.133272   \n",
       "social     0.005439              0.041423         0.624686  0.043515   \n",
       "\n",
       "           storm      fire  earthquake      cold  other_weather  direct_report  \n",
       "genre                                                                           \n",
       "direct  0.029126  0.003827    0.074122  0.005881       0.019231       0.335418  \n",
       "news    0.110522  0.017293    0.069787  0.031666       0.080701       0.065176  \n",
       "social  0.285356  0.006695    0.312552  0.021757       0.048954       0.254393  \n",
       "\n",
       "[3 rows x 37 columns]"
      ]
     },
     "execution_count": 56,
     "metadata": {},
     "output_type": "execute_result"
    }
   ],
   "source": [
    "df.groupby('genre').mean()"
   ]
  },
  {
   "cell_type": "code",
   "execution_count": 70,
   "metadata": {},
   "outputs": [
    {
     "data": {
      "text/html": [
       "<div>\n",
       "<style scoped>\n",
       "    .dataframe tbody tr th:only-of-type {\n",
       "        vertical-align: middle;\n",
       "    }\n",
       "\n",
       "    .dataframe tbody tr th {\n",
       "        vertical-align: top;\n",
       "    }\n",
       "\n",
       "    .dataframe thead th {\n",
       "        text-align: right;\n",
       "    }\n",
       "</style>\n",
       "<table border=\"1\" class=\"dataframe\">\n",
       "  <thead>\n",
       "    <tr style=\"text-align: right;\">\n",
       "      <th></th>\n",
       "      <th>aid_related</th>\n",
       "      <th>medical_help</th>\n",
       "      <th>medical_products</th>\n",
       "      <th>search_and_rescue</th>\n",
       "      <th>security</th>\n",
       "      <th>military</th>\n",
       "      <th>child_alone</th>\n",
       "      <th>water</th>\n",
       "      <th>food</th>\n",
       "      <th>shelter</th>\n",
       "      <th>...</th>\n",
       "      <th>aid_centers</th>\n",
       "      <th>other_infrastructure</th>\n",
       "      <th>weather_related</th>\n",
       "      <th>floods</th>\n",
       "      <th>storm</th>\n",
       "      <th>fire</th>\n",
       "      <th>earthquake</th>\n",
       "      <th>cold</th>\n",
       "      <th>other_weather</th>\n",
       "      <th>direct_report</th>\n",
       "    </tr>\n",
       "    <tr>\n",
       "      <th>genre</th>\n",
       "      <th></th>\n",
       "      <th></th>\n",
       "      <th></th>\n",
       "      <th></th>\n",
       "      <th></th>\n",
       "      <th></th>\n",
       "      <th></th>\n",
       "      <th></th>\n",
       "      <th></th>\n",
       "      <th></th>\n",
       "      <th></th>\n",
       "      <th></th>\n",
       "      <th></th>\n",
       "      <th></th>\n",
       "      <th></th>\n",
       "      <th></th>\n",
       "      <th></th>\n",
       "      <th></th>\n",
       "      <th></th>\n",
       "      <th></th>\n",
       "      <th></th>\n",
       "    </tr>\n",
       "  </thead>\n",
       "  <tbody>\n",
       "    <tr>\n",
       "      <td>news</td>\n",
       "      <td>0.44839</td>\n",
       "      <td>0.108293</td>\n",
       "      <td>0.060718</td>\n",
       "      <td>0.033894</td>\n",
       "      <td>0.022443</td>\n",
       "      <td>0.06141</td>\n",
       "      <td>0.0</td>\n",
       "      <td>0.060564</td>\n",
       "      <td>0.077089</td>\n",
       "      <td>0.085082</td>\n",
       "      <td>...</td>\n",
       "      <td>0.016755</td>\n",
       "      <td>0.066482</td>\n",
       "      <td>0.327415</td>\n",
       "      <td>0.133272</td>\n",
       "      <td>0.110522</td>\n",
       "      <td>0.017293</td>\n",
       "      <td>0.069787</td>\n",
       "      <td>0.031666</td>\n",
       "      <td>0.080701</td>\n",
       "      <td>0.065176</td>\n",
       "    </tr>\n",
       "  </tbody>\n",
       "</table>\n",
       "<p>1 rows × 33 columns</p>\n",
       "</div>"
      ],
      "text/plain": [
       "       aid_related  medical_help  medical_products  search_and_rescue  \\\n",
       "genre                                                                   \n",
       "news       0.44839      0.108293          0.060718           0.033894   \n",
       "\n",
       "       security  military  child_alone     water      food   shelter  ...  \\\n",
       "genre                                                                 ...   \n",
       "news   0.022443   0.06141          0.0  0.060564  0.077089  0.085082  ...   \n",
       "\n",
       "       aid_centers  other_infrastructure  weather_related    floods     storm  \\\n",
       "genre                                                                           \n",
       "news      0.016755              0.066482         0.327415  0.133272  0.110522   \n",
       "\n",
       "           fire  earthquake      cold  other_weather  direct_report  \n",
       "genre                                                                \n",
       "news   0.017293    0.069787  0.031666       0.080701       0.065176  \n",
       "\n",
       "[1 rows x 33 columns]"
      ]
     },
     "execution_count": 70,
     "metadata": {},
     "output_type": "execute_result"
    }
   ],
   "source": [
    "genre_mean_news[genre_news_name]"
   ]
  },
  {
   "cell_type": "code",
   "execution_count": 71,
   "metadata": {},
   "outputs": [
    {
     "data": {
      "application/vnd.plotly.v1+json": {
       "config": {
        "plotlyServerURL": "https://plot.ly"
       },
       "data": [
        {
         "name": "news ",
         "type": "bar",
         "x": [
          "aid_related",
          "medical_help",
          "medical_products",
          "search_and_rescue",
          "security",
          "military",
          "child_alone",
          "water",
          "food",
          "shelter",
          "clothing",
          "money",
          "missing_people",
          "refugees",
          "death",
          "other_aid",
          "infrastructure_related",
          "transport",
          "buildings",
          "electricity",
          "tools",
          "hospitals",
          "shops",
          "aid_centers",
          "other_infrastructure",
          "weather_related",
          "floods",
          "storm",
          "fire",
          "earthquake",
          "cold",
          "other_weather",
          "direct_report"
         ],
         "y": [
          [
           0.4483898239950811,
           0.10829298286065636,
           0.060717854123434015,
           0.03389439704865114,
           0.02244254861271232,
           0.061409576512182,
           0,
           0.06056413803704558,
           0.07708861732380294,
           0.08508185381600185,
           0.010375835831219737,
           0.029282914456997926,
           0.012604719083852125,
           0.05103374068096226,
           0.06548305280147568,
           0.11959111521020675,
           0.09445853508569672,
           0.06655906540619476,
           0.06340788563523173,
           0.02513258012451003,
           0.008761816924141111,
           0.015525324725232496,
           0.0052263469372069785,
           0.01675505341634002,
           0.06648220736300053,
           0.32741526400737836,
           0.13327184689877797,
           0.11052186611328875,
           0.01729305971869956,
           0.069787103220352,
           0.03166551379601875,
           0.08070094535393128,
           0.06517562062869879
          ]
         ]
        }
       ],
       "layout": {
        "template": {
         "data": {
          "bar": [
           {
            "error_x": {
             "color": "#2a3f5f"
            },
            "error_y": {
             "color": "#2a3f5f"
            },
            "marker": {
             "line": {
              "color": "#E5ECF6",
              "width": 0.5
             }
            },
            "type": "bar"
           }
          ],
          "barpolar": [
           {
            "marker": {
             "line": {
              "color": "#E5ECF6",
              "width": 0.5
             }
            },
            "type": "barpolar"
           }
          ],
          "carpet": [
           {
            "aaxis": {
             "endlinecolor": "#2a3f5f",
             "gridcolor": "white",
             "linecolor": "white",
             "minorgridcolor": "white",
             "startlinecolor": "#2a3f5f"
            },
            "baxis": {
             "endlinecolor": "#2a3f5f",
             "gridcolor": "white",
             "linecolor": "white",
             "minorgridcolor": "white",
             "startlinecolor": "#2a3f5f"
            },
            "type": "carpet"
           }
          ],
          "choropleth": [
           {
            "colorbar": {
             "outlinewidth": 0,
             "ticks": ""
            },
            "type": "choropleth"
           }
          ],
          "contour": [
           {
            "colorbar": {
             "outlinewidth": 0,
             "ticks": ""
            },
            "colorscale": [
             [
              0,
              "#0d0887"
             ],
             [
              0.1111111111111111,
              "#46039f"
             ],
             [
              0.2222222222222222,
              "#7201a8"
             ],
             [
              0.3333333333333333,
              "#9c179e"
             ],
             [
              0.4444444444444444,
              "#bd3786"
             ],
             [
              0.5555555555555556,
              "#d8576b"
             ],
             [
              0.6666666666666666,
              "#ed7953"
             ],
             [
              0.7777777777777778,
              "#fb9f3a"
             ],
             [
              0.8888888888888888,
              "#fdca26"
             ],
             [
              1,
              "#f0f921"
             ]
            ],
            "type": "contour"
           }
          ],
          "contourcarpet": [
           {
            "colorbar": {
             "outlinewidth": 0,
             "ticks": ""
            },
            "type": "contourcarpet"
           }
          ],
          "heatmap": [
           {
            "colorbar": {
             "outlinewidth": 0,
             "ticks": ""
            },
            "colorscale": [
             [
              0,
              "#0d0887"
             ],
             [
              0.1111111111111111,
              "#46039f"
             ],
             [
              0.2222222222222222,
              "#7201a8"
             ],
             [
              0.3333333333333333,
              "#9c179e"
             ],
             [
              0.4444444444444444,
              "#bd3786"
             ],
             [
              0.5555555555555556,
              "#d8576b"
             ],
             [
              0.6666666666666666,
              "#ed7953"
             ],
             [
              0.7777777777777778,
              "#fb9f3a"
             ],
             [
              0.8888888888888888,
              "#fdca26"
             ],
             [
              1,
              "#f0f921"
             ]
            ],
            "type": "heatmap"
           }
          ],
          "heatmapgl": [
           {
            "colorbar": {
             "outlinewidth": 0,
             "ticks": ""
            },
            "colorscale": [
             [
              0,
              "#0d0887"
             ],
             [
              0.1111111111111111,
              "#46039f"
             ],
             [
              0.2222222222222222,
              "#7201a8"
             ],
             [
              0.3333333333333333,
              "#9c179e"
             ],
             [
              0.4444444444444444,
              "#bd3786"
             ],
             [
              0.5555555555555556,
              "#d8576b"
             ],
             [
              0.6666666666666666,
              "#ed7953"
             ],
             [
              0.7777777777777778,
              "#fb9f3a"
             ],
             [
              0.8888888888888888,
              "#fdca26"
             ],
             [
              1,
              "#f0f921"
             ]
            ],
            "type": "heatmapgl"
           }
          ],
          "histogram": [
           {
            "marker": {
             "colorbar": {
              "outlinewidth": 0,
              "ticks": ""
             }
            },
            "type": "histogram"
           }
          ],
          "histogram2d": [
           {
            "colorbar": {
             "outlinewidth": 0,
             "ticks": ""
            },
            "colorscale": [
             [
              0,
              "#0d0887"
             ],
             [
              0.1111111111111111,
              "#46039f"
             ],
             [
              0.2222222222222222,
              "#7201a8"
             ],
             [
              0.3333333333333333,
              "#9c179e"
             ],
             [
              0.4444444444444444,
              "#bd3786"
             ],
             [
              0.5555555555555556,
              "#d8576b"
             ],
             [
              0.6666666666666666,
              "#ed7953"
             ],
             [
              0.7777777777777778,
              "#fb9f3a"
             ],
             [
              0.8888888888888888,
              "#fdca26"
             ],
             [
              1,
              "#f0f921"
             ]
            ],
            "type": "histogram2d"
           }
          ],
          "histogram2dcontour": [
           {
            "colorbar": {
             "outlinewidth": 0,
             "ticks": ""
            },
            "colorscale": [
             [
              0,
              "#0d0887"
             ],
             [
              0.1111111111111111,
              "#46039f"
             ],
             [
              0.2222222222222222,
              "#7201a8"
             ],
             [
              0.3333333333333333,
              "#9c179e"
             ],
             [
              0.4444444444444444,
              "#bd3786"
             ],
             [
              0.5555555555555556,
              "#d8576b"
             ],
             [
              0.6666666666666666,
              "#ed7953"
             ],
             [
              0.7777777777777778,
              "#fb9f3a"
             ],
             [
              0.8888888888888888,
              "#fdca26"
             ],
             [
              1,
              "#f0f921"
             ]
            ],
            "type": "histogram2dcontour"
           }
          ],
          "mesh3d": [
           {
            "colorbar": {
             "outlinewidth": 0,
             "ticks": ""
            },
            "type": "mesh3d"
           }
          ],
          "parcoords": [
           {
            "line": {
             "colorbar": {
              "outlinewidth": 0,
              "ticks": ""
             }
            },
            "type": "parcoords"
           }
          ],
          "pie": [
           {
            "automargin": true,
            "type": "pie"
           }
          ],
          "scatter": [
           {
            "marker": {
             "colorbar": {
              "outlinewidth": 0,
              "ticks": ""
             }
            },
            "type": "scatter"
           }
          ],
          "scatter3d": [
           {
            "line": {
             "colorbar": {
              "outlinewidth": 0,
              "ticks": ""
             }
            },
            "marker": {
             "colorbar": {
              "outlinewidth": 0,
              "ticks": ""
             }
            },
            "type": "scatter3d"
           }
          ],
          "scattercarpet": [
           {
            "marker": {
             "colorbar": {
              "outlinewidth": 0,
              "ticks": ""
             }
            },
            "type": "scattercarpet"
           }
          ],
          "scattergeo": [
           {
            "marker": {
             "colorbar": {
              "outlinewidth": 0,
              "ticks": ""
             }
            },
            "type": "scattergeo"
           }
          ],
          "scattergl": [
           {
            "marker": {
             "colorbar": {
              "outlinewidth": 0,
              "ticks": ""
             }
            },
            "type": "scattergl"
           }
          ],
          "scattermapbox": [
           {
            "marker": {
             "colorbar": {
              "outlinewidth": 0,
              "ticks": ""
             }
            },
            "type": "scattermapbox"
           }
          ],
          "scatterpolar": [
           {
            "marker": {
             "colorbar": {
              "outlinewidth": 0,
              "ticks": ""
             }
            },
            "type": "scatterpolar"
           }
          ],
          "scatterpolargl": [
           {
            "marker": {
             "colorbar": {
              "outlinewidth": 0,
              "ticks": ""
             }
            },
            "type": "scatterpolargl"
           }
          ],
          "scatterternary": [
           {
            "marker": {
             "colorbar": {
              "outlinewidth": 0,
              "ticks": ""
             }
            },
            "type": "scatterternary"
           }
          ],
          "surface": [
           {
            "colorbar": {
             "outlinewidth": 0,
             "ticks": ""
            },
            "colorscale": [
             [
              0,
              "#0d0887"
             ],
             [
              0.1111111111111111,
              "#46039f"
             ],
             [
              0.2222222222222222,
              "#7201a8"
             ],
             [
              0.3333333333333333,
              "#9c179e"
             ],
             [
              0.4444444444444444,
              "#bd3786"
             ],
             [
              0.5555555555555556,
              "#d8576b"
             ],
             [
              0.6666666666666666,
              "#ed7953"
             ],
             [
              0.7777777777777778,
              "#fb9f3a"
             ],
             [
              0.8888888888888888,
              "#fdca26"
             ],
             [
              1,
              "#f0f921"
             ]
            ],
            "type": "surface"
           }
          ],
          "table": [
           {
            "cells": {
             "fill": {
              "color": "#EBF0F8"
             },
             "line": {
              "color": "white"
             }
            },
            "header": {
             "fill": {
              "color": "#C8D4E3"
             },
             "line": {
              "color": "white"
             }
            },
            "type": "table"
           }
          ]
         },
         "layout": {
          "annotationdefaults": {
           "arrowcolor": "#2a3f5f",
           "arrowhead": 0,
           "arrowwidth": 1
          },
          "coloraxis": {
           "colorbar": {
            "outlinewidth": 0,
            "ticks": ""
           }
          },
          "colorscale": {
           "diverging": [
            [
             0,
             "#8e0152"
            ],
            [
             0.1,
             "#c51b7d"
            ],
            [
             0.2,
             "#de77ae"
            ],
            [
             0.3,
             "#f1b6da"
            ],
            [
             0.4,
             "#fde0ef"
            ],
            [
             0.5,
             "#f7f7f7"
            ],
            [
             0.6,
             "#e6f5d0"
            ],
            [
             0.7,
             "#b8e186"
            ],
            [
             0.8,
             "#7fbc41"
            ],
            [
             0.9,
             "#4d9221"
            ],
            [
             1,
             "#276419"
            ]
           ],
           "sequential": [
            [
             0,
             "#0d0887"
            ],
            [
             0.1111111111111111,
             "#46039f"
            ],
            [
             0.2222222222222222,
             "#7201a8"
            ],
            [
             0.3333333333333333,
             "#9c179e"
            ],
            [
             0.4444444444444444,
             "#bd3786"
            ],
            [
             0.5555555555555556,
             "#d8576b"
            ],
            [
             0.6666666666666666,
             "#ed7953"
            ],
            [
             0.7777777777777778,
             "#fb9f3a"
            ],
            [
             0.8888888888888888,
             "#fdca26"
            ],
            [
             1,
             "#f0f921"
            ]
           ],
           "sequentialminus": [
            [
             0,
             "#0d0887"
            ],
            [
             0.1111111111111111,
             "#46039f"
            ],
            [
             0.2222222222222222,
             "#7201a8"
            ],
            [
             0.3333333333333333,
             "#9c179e"
            ],
            [
             0.4444444444444444,
             "#bd3786"
            ],
            [
             0.5555555555555556,
             "#d8576b"
            ],
            [
             0.6666666666666666,
             "#ed7953"
            ],
            [
             0.7777777777777778,
             "#fb9f3a"
            ],
            [
             0.8888888888888888,
             "#fdca26"
            ],
            [
             1,
             "#f0f921"
            ]
           ]
          },
          "colorway": [
           "#636efa",
           "#EF553B",
           "#00cc96",
           "#ab63fa",
           "#FFA15A",
           "#19d3f3",
           "#FF6692",
           "#B6E880",
           "#FF97FF",
           "#FECB52"
          ],
          "font": {
           "color": "#2a3f5f"
          },
          "geo": {
           "bgcolor": "white",
           "lakecolor": "white",
           "landcolor": "#E5ECF6",
           "showlakes": true,
           "showland": true,
           "subunitcolor": "white"
          },
          "hoverlabel": {
           "align": "left"
          },
          "hovermode": "closest",
          "mapbox": {
           "style": "light"
          },
          "paper_bgcolor": "white",
          "plot_bgcolor": "#E5ECF6",
          "polar": {
           "angularaxis": {
            "gridcolor": "white",
            "linecolor": "white",
            "ticks": ""
           },
           "bgcolor": "#E5ECF6",
           "radialaxis": {
            "gridcolor": "white",
            "linecolor": "white",
            "ticks": ""
           }
          },
          "scene": {
           "xaxis": {
            "backgroundcolor": "#E5ECF6",
            "gridcolor": "white",
            "gridwidth": 2,
            "linecolor": "white",
            "showbackground": true,
            "ticks": "",
            "zerolinecolor": "white"
           },
           "yaxis": {
            "backgroundcolor": "#E5ECF6",
            "gridcolor": "white",
            "gridwidth": 2,
            "linecolor": "white",
            "showbackground": true,
            "ticks": "",
            "zerolinecolor": "white"
           },
           "zaxis": {
            "backgroundcolor": "#E5ECF6",
            "gridcolor": "white",
            "gridwidth": 2,
            "linecolor": "white",
            "showbackground": true,
            "ticks": "",
            "zerolinecolor": "white"
           }
          },
          "shapedefaults": {
           "line": {
            "color": "#2a3f5f"
           }
          },
          "ternary": {
           "aaxis": {
            "gridcolor": "white",
            "linecolor": "white",
            "ticks": ""
           },
           "baxis": {
            "gridcolor": "white",
            "linecolor": "white",
            "ticks": ""
           },
           "bgcolor": "#E5ECF6",
           "caxis": {
            "gridcolor": "white",
            "linecolor": "white",
            "ticks": ""
           }
          },
          "title": {
           "x": 0.05
          },
          "xaxis": {
           "automargin": true,
           "gridcolor": "white",
           "linecolor": "white",
           "ticks": "",
           "title": {
            "standoff": 15
           },
           "zerolinecolor": "white",
           "zerolinewidth": 2
          },
          "yaxis": {
           "automargin": true,
           "gridcolor": "white",
           "linecolor": "white",
           "ticks": "",
           "title": {
            "standoff": 15
           },
           "zerolinecolor": "white",
           "zerolinewidth": 2
          }
         }
        }
       }
      },
      "text/html": [
       "<div>\n",
       "        \n",
       "        \n",
       "            <div id=\"a86ed0b2-b721-4dc5-878c-38847f7e98fa\" class=\"plotly-graph-div\" style=\"height:525px; width:100%;\"></div>\n",
       "            <script type=\"text/javascript\">\n",
       "                require([\"plotly\"], function(Plotly) {\n",
       "                    window.PLOTLYENV=window.PLOTLYENV || {};\n",
       "                    \n",
       "                if (document.getElementById(\"a86ed0b2-b721-4dc5-878c-38847f7e98fa\")) {\n",
       "                    Plotly.newPlot(\n",
       "                        'a86ed0b2-b721-4dc5-878c-38847f7e98fa',\n",
       "                        [{\"name\": \"news \", \"type\": \"bar\", \"x\": [\"aid_related\", \"medical_help\", \"medical_products\", \"search_and_rescue\", \"security\", \"military\", \"child_alone\", \"water\", \"food\", \"shelter\", \"clothing\", \"money\", \"missing_people\", \"refugees\", \"death\", \"other_aid\", \"infrastructure_related\", \"transport\", \"buildings\", \"electricity\", \"tools\", \"hospitals\", \"shops\", \"aid_centers\", \"other_infrastructure\", \"weather_related\", \"floods\", \"storm\", \"fire\", \"earthquake\", \"cold\", \"other_weather\", \"direct_report\"], \"y\": [[0.4483898239950811, 0.10829298286065636, 0.060717854123434015, 0.03389439704865114, 0.02244254861271232, 0.061409576512182, 0.0, 0.06056413803704558, 0.07708861732380294, 0.08508185381600185, 0.010375835831219737, 0.029282914456997926, 0.012604719083852125, 0.05103374068096226, 0.06548305280147568, 0.11959111521020675, 0.09445853508569672, 0.06655906540619476, 0.06340788563523173, 0.02513258012451003, 0.008761816924141111, 0.015525324725232496, 0.0052263469372069785, 0.01675505341634002, 0.06648220736300053, 0.32741526400737836, 0.13327184689877797, 0.11052186611328875, 0.01729305971869956, 0.069787103220352, 0.03166551379601875, 0.08070094535393128, 0.06517562062869879]]}],\n",
       "                        {\"template\": {\"data\": {\"bar\": [{\"error_x\": {\"color\": \"#2a3f5f\"}, \"error_y\": {\"color\": \"#2a3f5f\"}, \"marker\": {\"line\": {\"color\": \"#E5ECF6\", \"width\": 0.5}}, \"type\": \"bar\"}], \"barpolar\": [{\"marker\": {\"line\": {\"color\": \"#E5ECF6\", \"width\": 0.5}}, \"type\": \"barpolar\"}], \"carpet\": [{\"aaxis\": {\"endlinecolor\": \"#2a3f5f\", \"gridcolor\": \"white\", \"linecolor\": \"white\", \"minorgridcolor\": \"white\", \"startlinecolor\": \"#2a3f5f\"}, \"baxis\": {\"endlinecolor\": \"#2a3f5f\", \"gridcolor\": \"white\", \"linecolor\": \"white\", \"minorgridcolor\": \"white\", \"startlinecolor\": \"#2a3f5f\"}, \"type\": \"carpet\"}], \"choropleth\": [{\"colorbar\": {\"outlinewidth\": 0, \"ticks\": \"\"}, \"type\": \"choropleth\"}], \"contour\": [{\"colorbar\": {\"outlinewidth\": 0, \"ticks\": \"\"}, \"colorscale\": [[0.0, \"#0d0887\"], [0.1111111111111111, \"#46039f\"], [0.2222222222222222, \"#7201a8\"], [0.3333333333333333, \"#9c179e\"], [0.4444444444444444, \"#bd3786\"], [0.5555555555555556, \"#d8576b\"], [0.6666666666666666, \"#ed7953\"], [0.7777777777777778, \"#fb9f3a\"], [0.8888888888888888, \"#fdca26\"], [1.0, \"#f0f921\"]], \"type\": \"contour\"}], \"contourcarpet\": [{\"colorbar\": {\"outlinewidth\": 0, \"ticks\": \"\"}, \"type\": \"contourcarpet\"}], \"heatmap\": [{\"colorbar\": {\"outlinewidth\": 0, \"ticks\": \"\"}, \"colorscale\": [[0.0, \"#0d0887\"], [0.1111111111111111, \"#46039f\"], [0.2222222222222222, \"#7201a8\"], [0.3333333333333333, \"#9c179e\"], [0.4444444444444444, \"#bd3786\"], [0.5555555555555556, \"#d8576b\"], [0.6666666666666666, \"#ed7953\"], [0.7777777777777778, \"#fb9f3a\"], [0.8888888888888888, \"#fdca26\"], [1.0, \"#f0f921\"]], \"type\": \"heatmap\"}], \"heatmapgl\": [{\"colorbar\": {\"outlinewidth\": 0, \"ticks\": \"\"}, \"colorscale\": [[0.0, \"#0d0887\"], [0.1111111111111111, \"#46039f\"], [0.2222222222222222, \"#7201a8\"], [0.3333333333333333, \"#9c179e\"], [0.4444444444444444, \"#bd3786\"], [0.5555555555555556, \"#d8576b\"], [0.6666666666666666, \"#ed7953\"], [0.7777777777777778, \"#fb9f3a\"], [0.8888888888888888, \"#fdca26\"], [1.0, \"#f0f921\"]], \"type\": \"heatmapgl\"}], \"histogram\": [{\"marker\": {\"colorbar\": {\"outlinewidth\": 0, \"ticks\": \"\"}}, \"type\": \"histogram\"}], \"histogram2d\": [{\"colorbar\": {\"outlinewidth\": 0, \"ticks\": \"\"}, \"colorscale\": [[0.0, \"#0d0887\"], [0.1111111111111111, \"#46039f\"], [0.2222222222222222, \"#7201a8\"], [0.3333333333333333, \"#9c179e\"], [0.4444444444444444, \"#bd3786\"], [0.5555555555555556, \"#d8576b\"], [0.6666666666666666, \"#ed7953\"], [0.7777777777777778, \"#fb9f3a\"], [0.8888888888888888, \"#fdca26\"], [1.0, \"#f0f921\"]], \"type\": \"histogram2d\"}], \"histogram2dcontour\": [{\"colorbar\": {\"outlinewidth\": 0, \"ticks\": \"\"}, \"colorscale\": [[0.0, \"#0d0887\"], [0.1111111111111111, \"#46039f\"], [0.2222222222222222, \"#7201a8\"], [0.3333333333333333, \"#9c179e\"], [0.4444444444444444, \"#bd3786\"], [0.5555555555555556, \"#d8576b\"], [0.6666666666666666, \"#ed7953\"], [0.7777777777777778, \"#fb9f3a\"], [0.8888888888888888, \"#fdca26\"], [1.0, \"#f0f921\"]], \"type\": \"histogram2dcontour\"}], \"mesh3d\": [{\"colorbar\": {\"outlinewidth\": 0, \"ticks\": \"\"}, \"type\": \"mesh3d\"}], \"parcoords\": [{\"line\": {\"colorbar\": {\"outlinewidth\": 0, \"ticks\": \"\"}}, \"type\": \"parcoords\"}], \"pie\": [{\"automargin\": true, \"type\": \"pie\"}], \"scatter\": [{\"marker\": {\"colorbar\": {\"outlinewidth\": 0, \"ticks\": \"\"}}, \"type\": \"scatter\"}], \"scatter3d\": [{\"line\": {\"colorbar\": {\"outlinewidth\": 0, \"ticks\": \"\"}}, \"marker\": {\"colorbar\": {\"outlinewidth\": 0, \"ticks\": \"\"}}, \"type\": \"scatter3d\"}], \"scattercarpet\": [{\"marker\": {\"colorbar\": {\"outlinewidth\": 0, \"ticks\": \"\"}}, \"type\": \"scattercarpet\"}], \"scattergeo\": [{\"marker\": {\"colorbar\": {\"outlinewidth\": 0, \"ticks\": \"\"}}, \"type\": \"scattergeo\"}], \"scattergl\": [{\"marker\": {\"colorbar\": {\"outlinewidth\": 0, \"ticks\": \"\"}}, \"type\": \"scattergl\"}], \"scattermapbox\": [{\"marker\": {\"colorbar\": {\"outlinewidth\": 0, \"ticks\": \"\"}}, \"type\": \"scattermapbox\"}], \"scatterpolar\": [{\"marker\": {\"colorbar\": {\"outlinewidth\": 0, \"ticks\": \"\"}}, \"type\": \"scatterpolar\"}], \"scatterpolargl\": [{\"marker\": {\"colorbar\": {\"outlinewidth\": 0, \"ticks\": \"\"}}, \"type\": \"scatterpolargl\"}], \"scatterternary\": [{\"marker\": {\"colorbar\": {\"outlinewidth\": 0, \"ticks\": \"\"}}, \"type\": \"scatterternary\"}], \"surface\": [{\"colorbar\": {\"outlinewidth\": 0, \"ticks\": \"\"}, \"colorscale\": [[0.0, \"#0d0887\"], [0.1111111111111111, \"#46039f\"], [0.2222222222222222, \"#7201a8\"], [0.3333333333333333, \"#9c179e\"], [0.4444444444444444, \"#bd3786\"], [0.5555555555555556, \"#d8576b\"], [0.6666666666666666, \"#ed7953\"], [0.7777777777777778, \"#fb9f3a\"], [0.8888888888888888, \"#fdca26\"], [1.0, \"#f0f921\"]], \"type\": \"surface\"}], \"table\": [{\"cells\": {\"fill\": {\"color\": \"#EBF0F8\"}, \"line\": {\"color\": \"white\"}}, \"header\": {\"fill\": {\"color\": \"#C8D4E3\"}, \"line\": {\"color\": \"white\"}}, \"type\": \"table\"}]}, \"layout\": {\"annotationdefaults\": {\"arrowcolor\": \"#2a3f5f\", \"arrowhead\": 0, \"arrowwidth\": 1}, \"coloraxis\": {\"colorbar\": {\"outlinewidth\": 0, \"ticks\": \"\"}}, \"colorscale\": {\"diverging\": [[0, \"#8e0152\"], [0.1, \"#c51b7d\"], [0.2, \"#de77ae\"], [0.3, \"#f1b6da\"], [0.4, \"#fde0ef\"], [0.5, \"#f7f7f7\"], [0.6, \"#e6f5d0\"], [0.7, \"#b8e186\"], [0.8, \"#7fbc41\"], [0.9, \"#4d9221\"], [1, \"#276419\"]], \"sequential\": [[0.0, \"#0d0887\"], [0.1111111111111111, \"#46039f\"], [0.2222222222222222, \"#7201a8\"], [0.3333333333333333, \"#9c179e\"], [0.4444444444444444, \"#bd3786\"], [0.5555555555555556, \"#d8576b\"], [0.6666666666666666, \"#ed7953\"], [0.7777777777777778, \"#fb9f3a\"], [0.8888888888888888, \"#fdca26\"], [1.0, \"#f0f921\"]], \"sequentialminus\": [[0.0, \"#0d0887\"], [0.1111111111111111, \"#46039f\"], [0.2222222222222222, \"#7201a8\"], [0.3333333333333333, \"#9c179e\"], [0.4444444444444444, \"#bd3786\"], [0.5555555555555556, \"#d8576b\"], [0.6666666666666666, \"#ed7953\"], [0.7777777777777778, \"#fb9f3a\"], [0.8888888888888888, \"#fdca26\"], [1.0, \"#f0f921\"]]}, \"colorway\": [\"#636efa\", \"#EF553B\", \"#00cc96\", \"#ab63fa\", \"#FFA15A\", \"#19d3f3\", \"#FF6692\", \"#B6E880\", \"#FF97FF\", \"#FECB52\"], \"font\": {\"color\": \"#2a3f5f\"}, \"geo\": {\"bgcolor\": \"white\", \"lakecolor\": \"white\", \"landcolor\": \"#E5ECF6\", \"showlakes\": true, \"showland\": true, \"subunitcolor\": \"white\"}, \"hoverlabel\": {\"align\": \"left\"}, \"hovermode\": \"closest\", \"mapbox\": {\"style\": \"light\"}, \"paper_bgcolor\": \"white\", \"plot_bgcolor\": \"#E5ECF6\", \"polar\": {\"angularaxis\": {\"gridcolor\": \"white\", \"linecolor\": \"white\", \"ticks\": \"\"}, \"bgcolor\": \"#E5ECF6\", \"radialaxis\": {\"gridcolor\": \"white\", \"linecolor\": \"white\", \"ticks\": \"\"}}, \"scene\": {\"xaxis\": {\"backgroundcolor\": \"#E5ECF6\", \"gridcolor\": \"white\", \"gridwidth\": 2, \"linecolor\": \"white\", \"showbackground\": true, \"ticks\": \"\", \"zerolinecolor\": \"white\"}, \"yaxis\": {\"backgroundcolor\": \"#E5ECF6\", \"gridcolor\": \"white\", \"gridwidth\": 2, \"linecolor\": \"white\", \"showbackground\": true, \"ticks\": \"\", \"zerolinecolor\": \"white\"}, \"zaxis\": {\"backgroundcolor\": \"#E5ECF6\", \"gridcolor\": \"white\", \"gridwidth\": 2, \"linecolor\": \"white\", \"showbackground\": true, \"ticks\": \"\", \"zerolinecolor\": \"white\"}}, \"shapedefaults\": {\"line\": {\"color\": \"#2a3f5f\"}}, \"ternary\": {\"aaxis\": {\"gridcolor\": \"white\", \"linecolor\": \"white\", \"ticks\": \"\"}, \"baxis\": {\"gridcolor\": \"white\", \"linecolor\": \"white\", \"ticks\": \"\"}, \"bgcolor\": \"#E5ECF6\", \"caxis\": {\"gridcolor\": \"white\", \"linecolor\": \"white\", \"ticks\": \"\"}}, \"title\": {\"x\": 0.05}, \"xaxis\": {\"automargin\": true, \"gridcolor\": \"white\", \"linecolor\": \"white\", \"ticks\": \"\", \"title\": {\"standoff\": 15}, \"zerolinecolor\": \"white\", \"zerolinewidth\": 2}, \"yaxis\": {\"automargin\": true, \"gridcolor\": \"white\", \"linecolor\": \"white\", \"ticks\": \"\", \"title\": {\"standoff\": 15}, \"zerolinecolor\": \"white\", \"zerolinewidth\": 2}}}},\n",
       "                        {\"responsive\": true}\n",
       "                    ).then(function(){\n",
       "                            \n",
       "var gd = document.getElementById('a86ed0b2-b721-4dc5-878c-38847f7e98fa');\n",
       "var x = new MutationObserver(function (mutations, observer) {{\n",
       "        var display = window.getComputedStyle(gd).display;\n",
       "        if (!display || display === 'none') {{\n",
       "            console.log([gd, 'removed!']);\n",
       "            Plotly.purge(gd);\n",
       "            observer.disconnect();\n",
       "        }}\n",
       "}});\n",
       "\n",
       "// Listen for the removal of the full notebook cells\n",
       "var notebookContainer = gd.closest('#notebook-container');\n",
       "if (notebookContainer) {{\n",
       "    x.observe(notebookContainer, {childList: true});\n",
       "}}\n",
       "\n",
       "// Listen for the clearing of the current output cell\n",
       "var outputEl = gd.closest('.output');\n",
       "if (outputEl) {{\n",
       "    x.observe(outputEl, {childList: true});\n",
       "}}\n",
       "\n",
       "                        })\n",
       "                };\n",
       "                });\n",
       "            </script>\n",
       "        </div>"
      ]
     },
     "metadata": {},
     "output_type": "display_data"
    }
   ],
   "source": [
    "genre_mean = df.groupby('genre').mean().iloc[:,4:]\n",
    "genre_mean_news = genre_mean.query(\"genre == 'news'\")\n",
    "genre_news_name = list(genre_mean_news.columns)\n",
    "fig = go.Figure([go.Bar(name = 'news ',x=genre_news_name, y=genre_mean_news[genre_news_name])])\n",
    "fig.show()"
   ]
  },
  {
   "cell_type": "code",
   "execution_count": 77,
   "metadata": {},
   "outputs": [
    {
     "data": {
      "application/vnd.plotly.v1+json": {
       "config": {
        "plotlyServerURL": "https://plot.ly"
       },
       "data": [
        {
         "name": "Top 20 ",
         "type": "bar",
         "x": [
          "aid_related",
          "weather_related",
          "direct_report",
          "request",
          "other_aid",
          "food",
          "earthquake",
          "storm",
          "shelter",
          "floods",
          "medical_help",
          "infrastructure_related",
          "water",
          "other_weather",
          "buildings",
          "medical_products",
          "transport",
          "death",
          "other_infrastructure"
         ],
         "y": [
          0.4137785777199096,
          0.2782139164400873,
          0.1933519702830008,
          0.17029831884501972,
          0.13142879025772602,
          0.11120897637192204,
          0.09378470493623865,
          0.09313368820127906,
          0.08804043962777161,
          0.0819132232987401,
          0.07946233676712748,
          0.06513996859801631,
          0.06372304982192778,
          0.0525791751235017,
          0.05074101022479225,
          0.0501282885918891,
          0.045724351855397694,
          0.04549458124305901,
          0.043924482058744684
         ]
        }
       ],
       "layout": {
        "template": {
         "data": {
          "bar": [
           {
            "error_x": {
             "color": "#2a3f5f"
            },
            "error_y": {
             "color": "#2a3f5f"
            },
            "marker": {
             "line": {
              "color": "#E5ECF6",
              "width": 0.5
             }
            },
            "type": "bar"
           }
          ],
          "barpolar": [
           {
            "marker": {
             "line": {
              "color": "#E5ECF6",
              "width": 0.5
             }
            },
            "type": "barpolar"
           }
          ],
          "carpet": [
           {
            "aaxis": {
             "endlinecolor": "#2a3f5f",
             "gridcolor": "white",
             "linecolor": "white",
             "minorgridcolor": "white",
             "startlinecolor": "#2a3f5f"
            },
            "baxis": {
             "endlinecolor": "#2a3f5f",
             "gridcolor": "white",
             "linecolor": "white",
             "minorgridcolor": "white",
             "startlinecolor": "#2a3f5f"
            },
            "type": "carpet"
           }
          ],
          "choropleth": [
           {
            "colorbar": {
             "outlinewidth": 0,
             "ticks": ""
            },
            "type": "choropleth"
           }
          ],
          "contour": [
           {
            "colorbar": {
             "outlinewidth": 0,
             "ticks": ""
            },
            "colorscale": [
             [
              0,
              "#0d0887"
             ],
             [
              0.1111111111111111,
              "#46039f"
             ],
             [
              0.2222222222222222,
              "#7201a8"
             ],
             [
              0.3333333333333333,
              "#9c179e"
             ],
             [
              0.4444444444444444,
              "#bd3786"
             ],
             [
              0.5555555555555556,
              "#d8576b"
             ],
             [
              0.6666666666666666,
              "#ed7953"
             ],
             [
              0.7777777777777778,
              "#fb9f3a"
             ],
             [
              0.8888888888888888,
              "#fdca26"
             ],
             [
              1,
              "#f0f921"
             ]
            ],
            "type": "contour"
           }
          ],
          "contourcarpet": [
           {
            "colorbar": {
             "outlinewidth": 0,
             "ticks": ""
            },
            "type": "contourcarpet"
           }
          ],
          "heatmap": [
           {
            "colorbar": {
             "outlinewidth": 0,
             "ticks": ""
            },
            "colorscale": [
             [
              0,
              "#0d0887"
             ],
             [
              0.1111111111111111,
              "#46039f"
             ],
             [
              0.2222222222222222,
              "#7201a8"
             ],
             [
              0.3333333333333333,
              "#9c179e"
             ],
             [
              0.4444444444444444,
              "#bd3786"
             ],
             [
              0.5555555555555556,
              "#d8576b"
             ],
             [
              0.6666666666666666,
              "#ed7953"
             ],
             [
              0.7777777777777778,
              "#fb9f3a"
             ],
             [
              0.8888888888888888,
              "#fdca26"
             ],
             [
              1,
              "#f0f921"
             ]
            ],
            "type": "heatmap"
           }
          ],
          "heatmapgl": [
           {
            "colorbar": {
             "outlinewidth": 0,
             "ticks": ""
            },
            "colorscale": [
             [
              0,
              "#0d0887"
             ],
             [
              0.1111111111111111,
              "#46039f"
             ],
             [
              0.2222222222222222,
              "#7201a8"
             ],
             [
              0.3333333333333333,
              "#9c179e"
             ],
             [
              0.4444444444444444,
              "#bd3786"
             ],
             [
              0.5555555555555556,
              "#d8576b"
             ],
             [
              0.6666666666666666,
              "#ed7953"
             ],
             [
              0.7777777777777778,
              "#fb9f3a"
             ],
             [
              0.8888888888888888,
              "#fdca26"
             ],
             [
              1,
              "#f0f921"
             ]
            ],
            "type": "heatmapgl"
           }
          ],
          "histogram": [
           {
            "marker": {
             "colorbar": {
              "outlinewidth": 0,
              "ticks": ""
             }
            },
            "type": "histogram"
           }
          ],
          "histogram2d": [
           {
            "colorbar": {
             "outlinewidth": 0,
             "ticks": ""
            },
            "colorscale": [
             [
              0,
              "#0d0887"
             ],
             [
              0.1111111111111111,
              "#46039f"
             ],
             [
              0.2222222222222222,
              "#7201a8"
             ],
             [
              0.3333333333333333,
              "#9c179e"
             ],
             [
              0.4444444444444444,
              "#bd3786"
             ],
             [
              0.5555555555555556,
              "#d8576b"
             ],
             [
              0.6666666666666666,
              "#ed7953"
             ],
             [
              0.7777777777777778,
              "#fb9f3a"
             ],
             [
              0.8888888888888888,
              "#fdca26"
             ],
             [
              1,
              "#f0f921"
             ]
            ],
            "type": "histogram2d"
           }
          ],
          "histogram2dcontour": [
           {
            "colorbar": {
             "outlinewidth": 0,
             "ticks": ""
            },
            "colorscale": [
             [
              0,
              "#0d0887"
             ],
             [
              0.1111111111111111,
              "#46039f"
             ],
             [
              0.2222222222222222,
              "#7201a8"
             ],
             [
              0.3333333333333333,
              "#9c179e"
             ],
             [
              0.4444444444444444,
              "#bd3786"
             ],
             [
              0.5555555555555556,
              "#d8576b"
             ],
             [
              0.6666666666666666,
              "#ed7953"
             ],
             [
              0.7777777777777778,
              "#fb9f3a"
             ],
             [
              0.8888888888888888,
              "#fdca26"
             ],
             [
              1,
              "#f0f921"
             ]
            ],
            "type": "histogram2dcontour"
           }
          ],
          "mesh3d": [
           {
            "colorbar": {
             "outlinewidth": 0,
             "ticks": ""
            },
            "type": "mesh3d"
           }
          ],
          "parcoords": [
           {
            "line": {
             "colorbar": {
              "outlinewidth": 0,
              "ticks": ""
             }
            },
            "type": "parcoords"
           }
          ],
          "pie": [
           {
            "automargin": true,
            "type": "pie"
           }
          ],
          "scatter": [
           {
            "marker": {
             "colorbar": {
              "outlinewidth": 0,
              "ticks": ""
             }
            },
            "type": "scatter"
           }
          ],
          "scatter3d": [
           {
            "line": {
             "colorbar": {
              "outlinewidth": 0,
              "ticks": ""
             }
            },
            "marker": {
             "colorbar": {
              "outlinewidth": 0,
              "ticks": ""
             }
            },
            "type": "scatter3d"
           }
          ],
          "scattercarpet": [
           {
            "marker": {
             "colorbar": {
              "outlinewidth": 0,
              "ticks": ""
             }
            },
            "type": "scattercarpet"
           }
          ],
          "scattergeo": [
           {
            "marker": {
             "colorbar": {
              "outlinewidth": 0,
              "ticks": ""
             }
            },
            "type": "scattergeo"
           }
          ],
          "scattergl": [
           {
            "marker": {
             "colorbar": {
              "outlinewidth": 0,
              "ticks": ""
             }
            },
            "type": "scattergl"
           }
          ],
          "scattermapbox": [
           {
            "marker": {
             "colorbar": {
              "outlinewidth": 0,
              "ticks": ""
             }
            },
            "type": "scattermapbox"
           }
          ],
          "scatterpolar": [
           {
            "marker": {
             "colorbar": {
              "outlinewidth": 0,
              "ticks": ""
             }
            },
            "type": "scatterpolar"
           }
          ],
          "scatterpolargl": [
           {
            "marker": {
             "colorbar": {
              "outlinewidth": 0,
              "ticks": ""
             }
            },
            "type": "scatterpolargl"
           }
          ],
          "scatterternary": [
           {
            "marker": {
             "colorbar": {
              "outlinewidth": 0,
              "ticks": ""
             }
            },
            "type": "scatterternary"
           }
          ],
          "surface": [
           {
            "colorbar": {
             "outlinewidth": 0,
             "ticks": ""
            },
            "colorscale": [
             [
              0,
              "#0d0887"
             ],
             [
              0.1111111111111111,
              "#46039f"
             ],
             [
              0.2222222222222222,
              "#7201a8"
             ],
             [
              0.3333333333333333,
              "#9c179e"
             ],
             [
              0.4444444444444444,
              "#bd3786"
             ],
             [
              0.5555555555555556,
              "#d8576b"
             ],
             [
              0.6666666666666666,
              "#ed7953"
             ],
             [
              0.7777777777777778,
              "#fb9f3a"
             ],
             [
              0.8888888888888888,
              "#fdca26"
             ],
             [
              1,
              "#f0f921"
             ]
            ],
            "type": "surface"
           }
          ],
          "table": [
           {
            "cells": {
             "fill": {
              "color": "#EBF0F8"
             },
             "line": {
              "color": "white"
             }
            },
            "header": {
             "fill": {
              "color": "#C8D4E3"
             },
             "line": {
              "color": "white"
             }
            },
            "type": "table"
           }
          ]
         },
         "layout": {
          "annotationdefaults": {
           "arrowcolor": "#2a3f5f",
           "arrowhead": 0,
           "arrowwidth": 1
          },
          "coloraxis": {
           "colorbar": {
            "outlinewidth": 0,
            "ticks": ""
           }
          },
          "colorscale": {
           "diverging": [
            [
             0,
             "#8e0152"
            ],
            [
             0.1,
             "#c51b7d"
            ],
            [
             0.2,
             "#de77ae"
            ],
            [
             0.3,
             "#f1b6da"
            ],
            [
             0.4,
             "#fde0ef"
            ],
            [
             0.5,
             "#f7f7f7"
            ],
            [
             0.6,
             "#e6f5d0"
            ],
            [
             0.7,
             "#b8e186"
            ],
            [
             0.8,
             "#7fbc41"
            ],
            [
             0.9,
             "#4d9221"
            ],
            [
             1,
             "#276419"
            ]
           ],
           "sequential": [
            [
             0,
             "#0d0887"
            ],
            [
             0.1111111111111111,
             "#46039f"
            ],
            [
             0.2222222222222222,
             "#7201a8"
            ],
            [
             0.3333333333333333,
             "#9c179e"
            ],
            [
             0.4444444444444444,
             "#bd3786"
            ],
            [
             0.5555555555555556,
             "#d8576b"
            ],
            [
             0.6666666666666666,
             "#ed7953"
            ],
            [
             0.7777777777777778,
             "#fb9f3a"
            ],
            [
             0.8888888888888888,
             "#fdca26"
            ],
            [
             1,
             "#f0f921"
            ]
           ],
           "sequentialminus": [
            [
             0,
             "#0d0887"
            ],
            [
             0.1111111111111111,
             "#46039f"
            ],
            [
             0.2222222222222222,
             "#7201a8"
            ],
            [
             0.3333333333333333,
             "#9c179e"
            ],
            [
             0.4444444444444444,
             "#bd3786"
            ],
            [
             0.5555555555555556,
             "#d8576b"
            ],
            [
             0.6666666666666666,
             "#ed7953"
            ],
            [
             0.7777777777777778,
             "#fb9f3a"
            ],
            [
             0.8888888888888888,
             "#fdca26"
            ],
            [
             1,
             "#f0f921"
            ]
           ]
          },
          "colorway": [
           "#636efa",
           "#EF553B",
           "#00cc96",
           "#ab63fa",
           "#FFA15A",
           "#19d3f3",
           "#FF6692",
           "#B6E880",
           "#FF97FF",
           "#FECB52"
          ],
          "font": {
           "color": "#2a3f5f"
          },
          "geo": {
           "bgcolor": "white",
           "lakecolor": "white",
           "landcolor": "#E5ECF6",
           "showlakes": true,
           "showland": true,
           "subunitcolor": "white"
          },
          "hoverlabel": {
           "align": "left"
          },
          "hovermode": "closest",
          "mapbox": {
           "style": "light"
          },
          "paper_bgcolor": "white",
          "plot_bgcolor": "#E5ECF6",
          "polar": {
           "angularaxis": {
            "gridcolor": "white",
            "linecolor": "white",
            "ticks": ""
           },
           "bgcolor": "#E5ECF6",
           "radialaxis": {
            "gridcolor": "white",
            "linecolor": "white",
            "ticks": ""
           }
          },
          "scene": {
           "xaxis": {
            "backgroundcolor": "#E5ECF6",
            "gridcolor": "white",
            "gridwidth": 2,
            "linecolor": "white",
            "showbackground": true,
            "ticks": "",
            "zerolinecolor": "white"
           },
           "yaxis": {
            "backgroundcolor": "#E5ECF6",
            "gridcolor": "white",
            "gridwidth": 2,
            "linecolor": "white",
            "showbackground": true,
            "ticks": "",
            "zerolinecolor": "white"
           },
           "zaxis": {
            "backgroundcolor": "#E5ECF6",
            "gridcolor": "white",
            "gridwidth": 2,
            "linecolor": "white",
            "showbackground": true,
            "ticks": "",
            "zerolinecolor": "white"
           }
          },
          "shapedefaults": {
           "line": {
            "color": "#2a3f5f"
           }
          },
          "ternary": {
           "aaxis": {
            "gridcolor": "white",
            "linecolor": "white",
            "ticks": ""
           },
           "baxis": {
            "gridcolor": "white",
            "linecolor": "white",
            "ticks": ""
           },
           "bgcolor": "#E5ECF6",
           "caxis": {
            "gridcolor": "white",
            "linecolor": "white",
            "ticks": ""
           }
          },
          "title": {
           "x": 0.05
          },
          "xaxis": {
           "automargin": true,
           "gridcolor": "white",
           "linecolor": "white",
           "ticks": "",
           "title": {
            "standoff": 15
           },
           "zerolinecolor": "white",
           "zerolinewidth": 2
          },
          "yaxis": {
           "automargin": true,
           "gridcolor": "white",
           "linecolor": "white",
           "ticks": "",
           "title": {
            "standoff": 15
           },
           "zerolinecolor": "white",
           "zerolinewidth": 2
          }
         }
        }
       }
      },
      "text/html": [
       "<div>\n",
       "        \n",
       "        \n",
       "            <div id=\"c9420f2a-3025-4017-b4ce-3416677f139f\" class=\"plotly-graph-div\" style=\"height:525px; width:100%;\"></div>\n",
       "            <script type=\"text/javascript\">\n",
       "                require([\"plotly\"], function(Plotly) {\n",
       "                    window.PLOTLYENV=window.PLOTLYENV || {};\n",
       "                    \n",
       "                if (document.getElementById(\"c9420f2a-3025-4017-b4ce-3416677f139f\")) {\n",
       "                    Plotly.newPlot(\n",
       "                        'c9420f2a-3025-4017-b4ce-3416677f139f',\n",
       "                        [{\"name\": \"Top 20 \", \"type\": \"bar\", \"x\": [\"aid_related\", \"weather_related\", \"direct_report\", \"request\", \"other_aid\", \"food\", \"earthquake\", \"storm\", \"shelter\", \"floods\", \"medical_help\", \"infrastructure_related\", \"water\", \"other_weather\", \"buildings\", \"medical_products\", \"transport\", \"death\", \"other_infrastructure\"], \"y\": [0.4137785777199096, 0.2782139164400873, 0.1933519702830008, 0.17029831884501972, 0.13142879025772602, 0.11120897637192204, 0.09378470493623865, 0.09313368820127906, 0.08804043962777161, 0.0819132232987401, 0.07946233676712748, 0.06513996859801631, 0.06372304982192778, 0.0525791751235017, 0.05074101022479225, 0.0501282885918891, 0.045724351855397694, 0.04549458124305901, 0.043924482058744684]}],\n",
       "                        {\"template\": {\"data\": {\"bar\": [{\"error_x\": {\"color\": \"#2a3f5f\"}, \"error_y\": {\"color\": \"#2a3f5f\"}, \"marker\": {\"line\": {\"color\": \"#E5ECF6\", \"width\": 0.5}}, \"type\": \"bar\"}], \"barpolar\": [{\"marker\": {\"line\": {\"color\": \"#E5ECF6\", \"width\": 0.5}}, \"type\": \"barpolar\"}], \"carpet\": [{\"aaxis\": {\"endlinecolor\": \"#2a3f5f\", \"gridcolor\": \"white\", \"linecolor\": \"white\", \"minorgridcolor\": \"white\", \"startlinecolor\": \"#2a3f5f\"}, \"baxis\": {\"endlinecolor\": \"#2a3f5f\", \"gridcolor\": \"white\", \"linecolor\": \"white\", \"minorgridcolor\": \"white\", \"startlinecolor\": \"#2a3f5f\"}, \"type\": \"carpet\"}], \"choropleth\": [{\"colorbar\": {\"outlinewidth\": 0, \"ticks\": \"\"}, \"type\": \"choropleth\"}], \"contour\": [{\"colorbar\": {\"outlinewidth\": 0, \"ticks\": \"\"}, \"colorscale\": [[0.0, \"#0d0887\"], [0.1111111111111111, \"#46039f\"], [0.2222222222222222, \"#7201a8\"], [0.3333333333333333, \"#9c179e\"], [0.4444444444444444, \"#bd3786\"], [0.5555555555555556, \"#d8576b\"], [0.6666666666666666, \"#ed7953\"], [0.7777777777777778, \"#fb9f3a\"], [0.8888888888888888, \"#fdca26\"], [1.0, \"#f0f921\"]], \"type\": \"contour\"}], \"contourcarpet\": [{\"colorbar\": {\"outlinewidth\": 0, \"ticks\": \"\"}, \"type\": \"contourcarpet\"}], \"heatmap\": [{\"colorbar\": {\"outlinewidth\": 0, \"ticks\": \"\"}, \"colorscale\": [[0.0, \"#0d0887\"], [0.1111111111111111, \"#46039f\"], [0.2222222222222222, \"#7201a8\"], [0.3333333333333333, \"#9c179e\"], [0.4444444444444444, \"#bd3786\"], [0.5555555555555556, \"#d8576b\"], [0.6666666666666666, \"#ed7953\"], [0.7777777777777778, \"#fb9f3a\"], [0.8888888888888888, \"#fdca26\"], [1.0, \"#f0f921\"]], \"type\": \"heatmap\"}], \"heatmapgl\": [{\"colorbar\": {\"outlinewidth\": 0, \"ticks\": \"\"}, \"colorscale\": [[0.0, \"#0d0887\"], [0.1111111111111111, \"#46039f\"], [0.2222222222222222, \"#7201a8\"], [0.3333333333333333, \"#9c179e\"], [0.4444444444444444, \"#bd3786\"], [0.5555555555555556, \"#d8576b\"], [0.6666666666666666, \"#ed7953\"], [0.7777777777777778, \"#fb9f3a\"], [0.8888888888888888, \"#fdca26\"], [1.0, \"#f0f921\"]], \"type\": \"heatmapgl\"}], \"histogram\": [{\"marker\": {\"colorbar\": {\"outlinewidth\": 0, \"ticks\": \"\"}}, \"type\": \"histogram\"}], \"histogram2d\": [{\"colorbar\": {\"outlinewidth\": 0, \"ticks\": \"\"}, \"colorscale\": [[0.0, \"#0d0887\"], [0.1111111111111111, \"#46039f\"], [0.2222222222222222, \"#7201a8\"], [0.3333333333333333, \"#9c179e\"], [0.4444444444444444, \"#bd3786\"], [0.5555555555555556, \"#d8576b\"], [0.6666666666666666, \"#ed7953\"], [0.7777777777777778, \"#fb9f3a\"], [0.8888888888888888, \"#fdca26\"], [1.0, \"#f0f921\"]], \"type\": \"histogram2d\"}], \"histogram2dcontour\": [{\"colorbar\": {\"outlinewidth\": 0, \"ticks\": \"\"}, \"colorscale\": [[0.0, \"#0d0887\"], [0.1111111111111111, \"#46039f\"], [0.2222222222222222, \"#7201a8\"], [0.3333333333333333, \"#9c179e\"], [0.4444444444444444, \"#bd3786\"], [0.5555555555555556, \"#d8576b\"], [0.6666666666666666, \"#ed7953\"], [0.7777777777777778, \"#fb9f3a\"], [0.8888888888888888, \"#fdca26\"], [1.0, \"#f0f921\"]], \"type\": \"histogram2dcontour\"}], \"mesh3d\": [{\"colorbar\": {\"outlinewidth\": 0, \"ticks\": \"\"}, \"type\": \"mesh3d\"}], \"parcoords\": [{\"line\": {\"colorbar\": {\"outlinewidth\": 0, \"ticks\": \"\"}}, \"type\": \"parcoords\"}], \"pie\": [{\"automargin\": true, \"type\": \"pie\"}], \"scatter\": [{\"marker\": {\"colorbar\": {\"outlinewidth\": 0, \"ticks\": \"\"}}, \"type\": \"scatter\"}], \"scatter3d\": [{\"line\": {\"colorbar\": {\"outlinewidth\": 0, \"ticks\": \"\"}}, \"marker\": {\"colorbar\": {\"outlinewidth\": 0, \"ticks\": \"\"}}, \"type\": \"scatter3d\"}], \"scattercarpet\": [{\"marker\": {\"colorbar\": {\"outlinewidth\": 0, \"ticks\": \"\"}}, \"type\": \"scattercarpet\"}], \"scattergeo\": [{\"marker\": {\"colorbar\": {\"outlinewidth\": 0, \"ticks\": \"\"}}, \"type\": \"scattergeo\"}], \"scattergl\": [{\"marker\": {\"colorbar\": {\"outlinewidth\": 0, \"ticks\": \"\"}}, \"type\": \"scattergl\"}], \"scattermapbox\": [{\"marker\": {\"colorbar\": {\"outlinewidth\": 0, \"ticks\": \"\"}}, \"type\": \"scattermapbox\"}], \"scatterpolar\": [{\"marker\": {\"colorbar\": {\"outlinewidth\": 0, \"ticks\": \"\"}}, \"type\": \"scatterpolar\"}], \"scatterpolargl\": [{\"marker\": {\"colorbar\": {\"outlinewidth\": 0, \"ticks\": \"\"}}, \"type\": \"scatterpolargl\"}], \"scatterternary\": [{\"marker\": {\"colorbar\": {\"outlinewidth\": 0, \"ticks\": \"\"}}, \"type\": \"scatterternary\"}], \"surface\": [{\"colorbar\": {\"outlinewidth\": 0, \"ticks\": \"\"}, \"colorscale\": [[0.0, \"#0d0887\"], [0.1111111111111111, \"#46039f\"], [0.2222222222222222, \"#7201a8\"], [0.3333333333333333, \"#9c179e\"], [0.4444444444444444, \"#bd3786\"], [0.5555555555555556, \"#d8576b\"], [0.6666666666666666, \"#ed7953\"], [0.7777777777777778, \"#fb9f3a\"], [0.8888888888888888, \"#fdca26\"], [1.0, \"#f0f921\"]], \"type\": \"surface\"}], \"table\": [{\"cells\": {\"fill\": {\"color\": \"#EBF0F8\"}, \"line\": {\"color\": \"white\"}}, \"header\": {\"fill\": {\"color\": \"#C8D4E3\"}, \"line\": {\"color\": \"white\"}}, \"type\": \"table\"}]}, \"layout\": {\"annotationdefaults\": {\"arrowcolor\": \"#2a3f5f\", \"arrowhead\": 0, \"arrowwidth\": 1}, \"coloraxis\": {\"colorbar\": {\"outlinewidth\": 0, \"ticks\": \"\"}}, \"colorscale\": {\"diverging\": [[0, \"#8e0152\"], [0.1, \"#c51b7d\"], [0.2, \"#de77ae\"], [0.3, \"#f1b6da\"], [0.4, \"#fde0ef\"], [0.5, \"#f7f7f7\"], [0.6, \"#e6f5d0\"], [0.7, \"#b8e186\"], [0.8, \"#7fbc41\"], [0.9, \"#4d9221\"], [1, \"#276419\"]], \"sequential\": [[0.0, \"#0d0887\"], [0.1111111111111111, \"#46039f\"], [0.2222222222222222, \"#7201a8\"], [0.3333333333333333, \"#9c179e\"], [0.4444444444444444, \"#bd3786\"], [0.5555555555555556, \"#d8576b\"], [0.6666666666666666, \"#ed7953\"], [0.7777777777777778, \"#fb9f3a\"], [0.8888888888888888, \"#fdca26\"], [1.0, \"#f0f921\"]], \"sequentialminus\": [[0.0, \"#0d0887\"], [0.1111111111111111, \"#46039f\"], [0.2222222222222222, \"#7201a8\"], [0.3333333333333333, \"#9c179e\"], [0.4444444444444444, \"#bd3786\"], [0.5555555555555556, \"#d8576b\"], [0.6666666666666666, \"#ed7953\"], [0.7777777777777778, \"#fb9f3a\"], [0.8888888888888888, \"#fdca26\"], [1.0, \"#f0f921\"]]}, \"colorway\": [\"#636efa\", \"#EF553B\", \"#00cc96\", \"#ab63fa\", \"#FFA15A\", \"#19d3f3\", \"#FF6692\", \"#B6E880\", \"#FF97FF\", \"#FECB52\"], \"font\": {\"color\": \"#2a3f5f\"}, \"geo\": {\"bgcolor\": \"white\", \"lakecolor\": \"white\", \"landcolor\": \"#E5ECF6\", \"showlakes\": true, \"showland\": true, \"subunitcolor\": \"white\"}, \"hoverlabel\": {\"align\": \"left\"}, \"hovermode\": \"closest\", \"mapbox\": {\"style\": \"light\"}, \"paper_bgcolor\": \"white\", \"plot_bgcolor\": \"#E5ECF6\", \"polar\": {\"angularaxis\": {\"gridcolor\": \"white\", \"linecolor\": \"white\", \"ticks\": \"\"}, \"bgcolor\": \"#E5ECF6\", \"radialaxis\": {\"gridcolor\": \"white\", \"linecolor\": \"white\", \"ticks\": \"\"}}, \"scene\": {\"xaxis\": {\"backgroundcolor\": \"#E5ECF6\", \"gridcolor\": \"white\", \"gridwidth\": 2, \"linecolor\": \"white\", \"showbackground\": true, \"ticks\": \"\", \"zerolinecolor\": \"white\"}, \"yaxis\": {\"backgroundcolor\": \"#E5ECF6\", \"gridcolor\": \"white\", \"gridwidth\": 2, \"linecolor\": \"white\", \"showbackground\": true, \"ticks\": \"\", \"zerolinecolor\": \"white\"}, \"zaxis\": {\"backgroundcolor\": \"#E5ECF6\", \"gridcolor\": \"white\", \"gridwidth\": 2, \"linecolor\": \"white\", \"showbackground\": true, \"ticks\": \"\", \"zerolinecolor\": \"white\"}}, \"shapedefaults\": {\"line\": {\"color\": \"#2a3f5f\"}}, \"ternary\": {\"aaxis\": {\"gridcolor\": \"white\", \"linecolor\": \"white\", \"ticks\": \"\"}, \"baxis\": {\"gridcolor\": \"white\", \"linecolor\": \"white\", \"ticks\": \"\"}, \"bgcolor\": \"#E5ECF6\", \"caxis\": {\"gridcolor\": \"white\", \"linecolor\": \"white\", \"ticks\": \"\"}}, \"title\": {\"x\": 0.05}, \"xaxis\": {\"automargin\": true, \"gridcolor\": \"white\", \"linecolor\": \"white\", \"ticks\": \"\", \"title\": {\"standoff\": 15}, \"zerolinecolor\": \"white\", \"zerolinewidth\": 2}, \"yaxis\": {\"automargin\": true, \"gridcolor\": \"white\", \"linecolor\": \"white\", \"ticks\": \"\", \"title\": {\"standoff\": 15}, \"zerolinecolor\": \"white\", \"zerolinewidth\": 2}}}},\n",
       "                        {\"responsive\": true}\n",
       "                    ).then(function(){\n",
       "                            \n",
       "var gd = document.getElementById('c9420f2a-3025-4017-b4ce-3416677f139f');\n",
       "var x = new MutationObserver(function (mutations, observer) {{\n",
       "        var display = window.getComputedStyle(gd).display;\n",
       "        if (!display || display === 'none') {{\n",
       "            console.log([gd, 'removed!']);\n",
       "            Plotly.purge(gd);\n",
       "            observer.disconnect();\n",
       "        }}\n",
       "}});\n",
       "\n",
       "// Listen for the removal of the full notebook cells\n",
       "var notebookContainer = gd.closest('#notebook-container');\n",
       "if (notebookContainer) {{\n",
       "    x.observe(notebookContainer, {childList: true});\n",
       "}}\n",
       "\n",
       "// Listen for the clearing of the current output cell\n",
       "var outputEl = gd.closest('.output');\n",
       "if (outputEl) {{\n",
       "    x.observe(outputEl, {childList: true});\n",
       "}}\n",
       "\n",
       "                        })\n",
       "                };\n",
       "                });\n",
       "            </script>\n",
       "        </div>"
      ]
     },
     "metadata": {},
     "output_type": "display_data"
    }
   ],
   "source": [
    "top_cat_count = df.iloc[:,4:].mean().sort_values(ascending=False)[1:20]\n",
    "top_cat_names = list(top_cat_count.index)\n",
    "fig = go.Figure([go.Bar(name = 'Top 20 ',x=top_cat_names, y=top_cat_count)])\n",
    "fig.show()"
   ]
  },
  {
   "cell_type": "code",
   "execution_count": null,
   "metadata": {},
   "outputs": [],
   "source": [
    "top_cat_count = df.iloc[:,4:].mean().sort_values(ascending=True)[1:30]\n",
    "top_cat_names = list(top_cat_count.index)\n",
    "aid_counts = df.groupby('aid_related').count()['message']\n",
    "aid_names = list(aid_counts.index)\n",
    "cat_related_names = ['aid_related', 'weather_related', 'infrastructure_related']\n",
    "    "
   ]
  },
  {
   "cell_type": "markdown",
   "metadata": {},
   "source": [
    "### 7. Test your model\n",
    "Show the accuracy, precision, and recall of the tuned model.  \n",
    "\n",
    "Since this project focuses on code quality, process, and  pipelines, there is no minimum performance metric needed to pass. However, make sure to fine tune your models for accuracy, precision and recall to make your project stand out - especially for your portfolio!"
   ]
  },
  {
   "cell_type": "code",
   "execution_count": 13,
   "metadata": {},
   "outputs": [
    {
     "name": "stdout",
     "output_type": "stream",
     "text": [
      "related\n",
      "\t\t\t Precision: 0.7950\t Recall: 0.8069\t F1_score: 0.7728\t Accuracy: 0.8069\t\n",
      "request\n",
      "\t\t\t Precision: 0.8906\t Recall: 0.8896\t F1_score: 0.8714\t Accuracy: 0.8896\t\n",
      "offer\n",
      "\t\t\t Precision: 0.9930\t Recall: 0.9965\t F1_score: 0.9947\t Accuracy: 0.9965\t\n",
      "aid_related\n",
      "\t\t\t Precision: 0.7698\t Recall: 0.7666\t F1_score: 0.7593\t Accuracy: 0.7666\t\n",
      "medical_help\n",
      "\t\t\t Precision: 0.8892\t Recall: 0.9190\t F1_score: 0.8844\t Accuracy: 0.9190\t\n",
      "medical_products\n",
      "\t\t\t Precision: 0.9436\t Recall: 0.9521\t F1_score: 0.9322\t Accuracy: 0.9521\t\n",
      "search_and_rescue\n",
      "\t\t\t Precision: 0.9594\t Recall: 0.9711\t F1_score: 0.9584\t Accuracy: 0.9711\t\n",
      "security\n",
      "\t\t\t Precision: 0.9660\t Recall: 0.9828\t F1_score: 0.9743\t Accuracy: 0.9828\t\n",
      "military\n",
      "\t\t\t Precision: 0.9631\t Recall: 0.9674\t F1_score: 0.9530\t Accuracy: 0.9674\t\n",
      "child_alone\n",
      "\t\t\t Precision: 1.0000\t Recall: 1.0000\t F1_score: 1.0000\t Accuracy: 1.0000\t\n",
      "water\n",
      "\t\t\t Precision: 0.9482\t Recall: 0.9524\t F1_score: 0.9388\t Accuracy: 0.9524\t\n",
      "food\n",
      "\t\t\t Precision: 0.9266\t Recall: 0.9300\t F1_score: 0.9195\t Accuracy: 0.9300\t\n",
      "shelter\n",
      "\t\t\t Precision: 0.9217\t Recall: 0.9269\t F1_score: 0.9080\t Accuracy: 0.9269\t\n",
      "clothing\n",
      "\t\t\t Precision: 0.9757\t Recall: 0.9856\t F1_score: 0.9791\t Accuracy: 0.9856\t\n",
      "money\n",
      "\t\t\t Precision: 0.9650\t Recall: 0.9761\t F1_score: 0.9649\t Accuracy: 0.9761\t\n",
      "missing_people\n",
      "\t\t\t Precision: 0.9744\t Recall: 0.9870\t F1_score: 0.9807\t Accuracy: 0.9870\t\n",
      "refugees\n",
      "\t\t\t Precision: 0.9508\t Recall: 0.9692\t F1_score: 0.9554\t Accuracy: 0.9692\t\n",
      "death\n",
      "\t\t\t Precision: 0.9528\t Recall: 0.9585\t F1_score: 0.9429\t Accuracy: 0.9585\t\n",
      "other_aid\n",
      "\t\t\t Precision: 0.8461\t Recall: 0.8736\t F1_score: 0.8180\t Accuracy: 0.8736\t\n",
      "infrastructure_related\n",
      "\t\t\t Precision: 0.8697\t Recall: 0.9325\t F1_score: 0.9000\t Accuracy: 0.9325\t\n",
      "transport\n",
      "\t\t\t Precision: 0.9502\t Recall: 0.9574\t F1_score: 0.9397\t Accuracy: 0.9574\t\n",
      "buildings\n",
      "\t\t\t Precision: 0.9440\t Recall: 0.9528\t F1_score: 0.9337\t Accuracy: 0.9528\t\n",
      "electricity\n",
      "\t\t\t Precision: 0.9802\t Recall: 0.9827\t F1_score: 0.9750\t Accuracy: 0.9827\t\n",
      "tools\n",
      "\t\t\t Precision: 0.9890\t Recall: 0.9945\t F1_score: 0.9917\t Accuracy: 0.9945\t\n",
      "hospitals\n",
      "\t\t\t Precision: 0.9808\t Recall: 0.9904\t F1_score: 0.9855\t Accuracy: 0.9904\t\n",
      "shops\n",
      "\t\t\t Precision: 0.9924\t Recall: 0.9962\t F1_score: 0.9943\t Accuracy: 0.9962\t\n",
      "aid_centers\n",
      "\t\t\t Precision: 0.9762\t Recall: 0.9881\t F1_score: 0.9821\t Accuracy: 0.9881\t\n",
      "other_infrastructure\n",
      "\t\t\t Precision: 0.9081\t Recall: 0.9525\t F1_score: 0.9298\t Accuracy: 0.9525\t\n",
      "weather_related\n",
      "\t\t\t Precision: 0.8553\t Recall: 0.8545\t F1_score: 0.8446\t Accuracy: 0.8545\t\n",
      "floods\n",
      "\t\t\t Precision: 0.9401\t Recall: 0.9413\t F1_score: 0.9294\t Accuracy: 0.9413\t\n",
      "storm\n",
      "\t\t\t Precision: 0.9344\t Recall: 0.9406\t F1_score: 0.9331\t Accuracy: 0.9406\t\n",
      "fire\n",
      "\t\t\t Precision: 0.9879\t Recall: 0.9877\t F1_score: 0.9818\t Accuracy: 0.9877\t\n",
      "earthquake\n",
      "\t\t\t Precision: 0.9596\t Recall: 0.9614\t F1_score: 0.9594\t Accuracy: 0.9614\t\n",
      "cold\n",
      "\t\t\t Precision: 0.9785\t Recall: 0.9802\t F1_score: 0.9717\t Accuracy: 0.9802\t\n",
      "other_weather\n",
      "\t\t\t Precision: 0.9256\t Recall: 0.9456\t F1_score: 0.9202\t Accuracy: 0.9456\t\n",
      "direct_report\n",
      "\t\t\t Precision: 0.8602\t Recall: 0.8628\t F1_score: 0.8395\t Accuracy: 0.8628\t\n"
     ]
    },
    {
     "name": "stderr",
     "output_type": "stream",
     "text": [
      "/Users/leec/opt/anaconda3/lib/python3.7/site-packages/sklearn/metrics/_classification.py:1221: UndefinedMetricWarning: Precision is ill-defined and being set to 0.0 in labels with no predicted samples. Use `zero_division` parameter to control this behavior.\n",
      "  _warn_prf(average, modifier, msg_start, len(result))\n"
     ]
    }
   ],
   "source": [
    "y_pred = cv.predict(X_test)\n",
    "multioutput_classification_report(y_test, y_pred)"
   ]
  },
  {
   "cell_type": "markdown",
   "metadata": {},
   "source": [
    "### 8. Try improving your model further. Here are a few ideas:\n",
    "* try other machine learning algorithms\n",
    "* add other features besides the TF-IDF"
   ]
  },
  {
   "cell_type": "code",
   "execution_count": 2,
   "metadata": {},
   "outputs": [
    {
     "ename": "NameError",
     "evalue": "name 'Pipeline' is not defined",
     "output_type": "error",
     "traceback": [
      "\u001b[0;31m---------------------------------------------------------------------------\u001b[0m",
      "\u001b[0;31mNameError\u001b[0m                                 Traceback (most recent call last)",
      "\u001b[0;32m<ipython-input-2-740163de7dd6>\u001b[0m in \u001b[0;36m<module>\u001b[0;34m\u001b[0m\n\u001b[1;32m      1\u001b[0m \u001b[0;32mfrom\u001b[0m \u001b[0msklearn\u001b[0m\u001b[0;34m.\u001b[0m\u001b[0msvm\u001b[0m \u001b[0;32mimport\u001b[0m \u001b[0mSVC\u001b[0m\u001b[0;34m\u001b[0m\u001b[0;34m\u001b[0m\u001b[0m\n\u001b[1;32m      2\u001b[0m \u001b[0;31m#Improve the pipeline\u001b[0m\u001b[0;34m\u001b[0m\u001b[0;34m\u001b[0m\u001b[0;34m\u001b[0m\u001b[0m\n\u001b[0;32m----> 3\u001b[0;31m pipeline_svc = Pipeline([\n\u001b[0m\u001b[1;32m      4\u001b[0m     \u001b[0;34m(\u001b[0m\u001b[0;34m'vect'\u001b[0m\u001b[0;34m,\u001b[0m \u001b[0mCountVectorizer\u001b[0m\u001b[0;34m(\u001b[0m\u001b[0;34m)\u001b[0m\u001b[0;34m)\u001b[0m\u001b[0;34m,\u001b[0m\u001b[0;34m\u001b[0m\u001b[0;34m\u001b[0m\u001b[0m\n\u001b[1;32m      5\u001b[0m     \u001b[0;34m(\u001b[0m\u001b[0;34m'tfidf'\u001b[0m\u001b[0;34m,\u001b[0m \u001b[0mTfidfTransformer\u001b[0m\u001b[0;34m(\u001b[0m\u001b[0;34m)\u001b[0m\u001b[0;34m)\u001b[0m\u001b[0;34m,\u001b[0m\u001b[0;34m\u001b[0m\u001b[0;34m\u001b[0m\u001b[0m\n",
      "\u001b[0;31mNameError\u001b[0m: name 'Pipeline' is not defined"
     ]
    }
   ],
   "source": [
    "from sklearn.svm import SVC\n",
    "#Improve the pipeline\n",
    "pipeline_svc = Pipeline([\n",
    "    ('vect', CountVectorizer()),\n",
    "    ('tfidf', TfidfTransformer()),\n",
    "    ('clf', MultiOutputClassifier(SVC()))\n",
    "])\n"
   ]
  },
  {
   "cell_type": "code",
   "execution_count": 15,
   "metadata": {},
   "outputs": [],
   "source": [
    "parameters_svc = {\n",
    "    'clf__estimator__C': [0.01, 0.1, 1.0],\n",
    "    'clf__estimator__kernel': ['rbf', 'poly'],\n",
    "    'clf__estimator__gamma': [0.01, 0.1, 1.0],\n",
    "\n",
    "    }\n",
    "\n",
    "cv_svc = GridSearchCV(pipeline_svc, param_grid=parameters_svc)"
   ]
  },
  {
   "cell_type": "code",
   "execution_count": 1,
   "metadata": {},
   "outputs": [
    {
     "ename": "NameError",
     "evalue": "name 'pipeline_svc' is not defined",
     "output_type": "error",
     "traceback": [
      "\u001b[0;31m---------------------------------------------------------------------------\u001b[0m",
      "\u001b[0;31mNameError\u001b[0m                                 Traceback (most recent call last)",
      "\u001b[0;32m<ipython-input-1-2818bba6ac46>\u001b[0m in \u001b[0;36m<module>\u001b[0;34m\u001b[0m\n\u001b[0;32m----> 1\u001b[0;31m \u001b[0mpipeline_svc\u001b[0m\u001b[0;34m.\u001b[0m\u001b[0mget_params\u001b[0m\u001b[0;34m(\u001b[0m\u001b[0;34m)\u001b[0m\u001b[0;34m.\u001b[0m\u001b[0mkeys\u001b[0m\u001b[0;34m(\u001b[0m\u001b[0;34m)\u001b[0m\u001b[0;34m\u001b[0m\u001b[0;34m\u001b[0m\u001b[0m\n\u001b[0m",
      "\u001b[0;31mNameError\u001b[0m: name 'pipeline_svc' is not defined"
     ]
    }
   ],
   "source": [
    "pipeline_svc.get_params().keys()"
   ]
  },
  {
   "cell_type": "code",
   "execution_count": null,
   "metadata": {},
   "outputs": [
    {
     "name": "stderr",
     "output_type": "stream",
     "text": [
      "/Users/leec/opt/anaconda3/lib/python3.7/site-packages/sklearn/model_selection/_validation.py:552: FitFailedWarning: Estimator fit failed. The score on this train-test partition for these parameters will be set to nan. Details: \n",
      "Traceback (most recent call last):\n",
      "  File \"/Users/leec/opt/anaconda3/lib/python3.7/site-packages/sklearn/model_selection/_validation.py\", line 531, in _fit_and_score\n",
      "    estimator.fit(X_train, y_train, **fit_params)\n",
      "  File \"/Users/leec/opt/anaconda3/lib/python3.7/site-packages/sklearn/pipeline.py\", line 334, in fit\n",
      "    self._final_estimator.fit(Xt, y, **fit_params_last_step)\n",
      "  File \"/Users/leec/opt/anaconda3/lib/python3.7/site-packages/sklearn/multioutput.py\", line 350, in fit\n",
      "    super().fit(X, Y, sample_weight, **fit_params)\n",
      "  File \"/Users/leec/opt/anaconda3/lib/python3.7/site-packages/sklearn/multioutput.py\", line 175, in fit\n",
      "    for i in range(y.shape[1]))\n",
      "  File \"/Users/leec/opt/anaconda3/lib/python3.7/site-packages/joblib/parallel.py\", line 924, in __call__\n",
      "    while self.dispatch_one_batch(iterator):\n",
      "  File \"/Users/leec/opt/anaconda3/lib/python3.7/site-packages/joblib/parallel.py\", line 759, in dispatch_one_batch\n",
      "    self._dispatch(tasks)\n",
      "  File \"/Users/leec/opt/anaconda3/lib/python3.7/site-packages/joblib/parallel.py\", line 716, in _dispatch\n",
      "    job = self._backend.apply_async(batch, callback=cb)\n",
      "  File \"/Users/leec/opt/anaconda3/lib/python3.7/site-packages/joblib/_parallel_backends.py\", line 182, in apply_async\n",
      "    result = ImmediateResult(func)\n",
      "  File \"/Users/leec/opt/anaconda3/lib/python3.7/site-packages/joblib/_parallel_backends.py\", line 549, in __init__\n",
      "    self.results = batch()\n",
      "  File \"/Users/leec/opt/anaconda3/lib/python3.7/site-packages/joblib/parallel.py\", line 225, in __call__\n",
      "    for func, args, kwargs in self.items]\n",
      "  File \"/Users/leec/opt/anaconda3/lib/python3.7/site-packages/joblib/parallel.py\", line 225, in <listcomp>\n",
      "    for func, args, kwargs in self.items]\n",
      "  File \"/Users/leec/opt/anaconda3/lib/python3.7/site-packages/sklearn/multioutput.py\", line 40, in _fit_estimator\n",
      "    estimator.fit(X, y, **fit_params)\n",
      "  File \"/Users/leec/opt/anaconda3/lib/python3.7/site-packages/sklearn/svm/_base.py\", line 164, in fit\n",
      "    y = self._validate_targets(y)\n",
      "  File \"/Users/leec/opt/anaconda3/lib/python3.7/site-packages/sklearn/svm/_base.py\", line 551, in _validate_targets\n",
      "    \" class\" % len(cls))\n",
      "ValueError: The number of classes has to be greater than one; got 1 class\n",
      "\n",
      "  FitFailedWarning)\n",
      "/Users/leec/opt/anaconda3/lib/python3.7/site-packages/sklearn/model_selection/_validation.py:552: FitFailedWarning: Estimator fit failed. The score on this train-test partition for these parameters will be set to nan. Details: \n",
      "Traceback (most recent call last):\n",
      "  File \"/Users/leec/opt/anaconda3/lib/python3.7/site-packages/sklearn/model_selection/_validation.py\", line 531, in _fit_and_score\n",
      "    estimator.fit(X_train, y_train, **fit_params)\n",
      "  File \"/Users/leec/opt/anaconda3/lib/python3.7/site-packages/sklearn/pipeline.py\", line 334, in fit\n",
      "    self._final_estimator.fit(Xt, y, **fit_params_last_step)\n",
      "  File \"/Users/leec/opt/anaconda3/lib/python3.7/site-packages/sklearn/multioutput.py\", line 350, in fit\n",
      "    super().fit(X, Y, sample_weight, **fit_params)\n",
      "  File \"/Users/leec/opt/anaconda3/lib/python3.7/site-packages/sklearn/multioutput.py\", line 175, in fit\n",
      "    for i in range(y.shape[1]))\n",
      "  File \"/Users/leec/opt/anaconda3/lib/python3.7/site-packages/joblib/parallel.py\", line 924, in __call__\n",
      "    while self.dispatch_one_batch(iterator):\n",
      "  File \"/Users/leec/opt/anaconda3/lib/python3.7/site-packages/joblib/parallel.py\", line 759, in dispatch_one_batch\n",
      "    self._dispatch(tasks)\n",
      "  File \"/Users/leec/opt/anaconda3/lib/python3.7/site-packages/joblib/parallel.py\", line 716, in _dispatch\n",
      "    job = self._backend.apply_async(batch, callback=cb)\n",
      "  File \"/Users/leec/opt/anaconda3/lib/python3.7/site-packages/joblib/_parallel_backends.py\", line 182, in apply_async\n",
      "    result = ImmediateResult(func)\n",
      "  File \"/Users/leec/opt/anaconda3/lib/python3.7/site-packages/joblib/_parallel_backends.py\", line 549, in __init__\n",
      "    self.results = batch()\n",
      "  File \"/Users/leec/opt/anaconda3/lib/python3.7/site-packages/joblib/parallel.py\", line 225, in __call__\n",
      "    for func, args, kwargs in self.items]\n",
      "  File \"/Users/leec/opt/anaconda3/lib/python3.7/site-packages/joblib/parallel.py\", line 225, in <listcomp>\n",
      "    for func, args, kwargs in self.items]\n",
      "  File \"/Users/leec/opt/anaconda3/lib/python3.7/site-packages/sklearn/multioutput.py\", line 40, in _fit_estimator\n",
      "    estimator.fit(X, y, **fit_params)\n",
      "  File \"/Users/leec/opt/anaconda3/lib/python3.7/site-packages/sklearn/svm/_base.py\", line 164, in fit\n",
      "    y = self._validate_targets(y)\n",
      "  File \"/Users/leec/opt/anaconda3/lib/python3.7/site-packages/sklearn/svm/_base.py\", line 551, in _validate_targets\n",
      "    \" class\" % len(cls))\n",
      "ValueError: The number of classes has to be greater than one; got 1 class\n",
      "\n",
      "  FitFailedWarning)\n",
      "/Users/leec/opt/anaconda3/lib/python3.7/site-packages/sklearn/model_selection/_validation.py:552: FitFailedWarning: Estimator fit failed. The score on this train-test partition for these parameters will be set to nan. Details: \n",
      "Traceback (most recent call last):\n",
      "  File \"/Users/leec/opt/anaconda3/lib/python3.7/site-packages/sklearn/model_selection/_validation.py\", line 531, in _fit_and_score\n",
      "    estimator.fit(X_train, y_train, **fit_params)\n",
      "  File \"/Users/leec/opt/anaconda3/lib/python3.7/site-packages/sklearn/pipeline.py\", line 334, in fit\n",
      "    self._final_estimator.fit(Xt, y, **fit_params_last_step)\n",
      "  File \"/Users/leec/opt/anaconda3/lib/python3.7/site-packages/sklearn/multioutput.py\", line 350, in fit\n",
      "    super().fit(X, Y, sample_weight, **fit_params)\n",
      "  File \"/Users/leec/opt/anaconda3/lib/python3.7/site-packages/sklearn/multioutput.py\", line 175, in fit\n",
      "    for i in range(y.shape[1]))\n",
      "  File \"/Users/leec/opt/anaconda3/lib/python3.7/site-packages/joblib/parallel.py\", line 924, in __call__\n",
      "    while self.dispatch_one_batch(iterator):\n",
      "  File \"/Users/leec/opt/anaconda3/lib/python3.7/site-packages/joblib/parallel.py\", line 759, in dispatch_one_batch\n",
      "    self._dispatch(tasks)\n",
      "  File \"/Users/leec/opt/anaconda3/lib/python3.7/site-packages/joblib/parallel.py\", line 716, in _dispatch\n",
      "    job = self._backend.apply_async(batch, callback=cb)\n",
      "  File \"/Users/leec/opt/anaconda3/lib/python3.7/site-packages/joblib/_parallel_backends.py\", line 182, in apply_async\n",
      "    result = ImmediateResult(func)\n",
      "  File \"/Users/leec/opt/anaconda3/lib/python3.7/site-packages/joblib/_parallel_backends.py\", line 549, in __init__\n",
      "    self.results = batch()\n",
      "  File \"/Users/leec/opt/anaconda3/lib/python3.7/site-packages/joblib/parallel.py\", line 225, in __call__\n",
      "    for func, args, kwargs in self.items]\n",
      "  File \"/Users/leec/opt/anaconda3/lib/python3.7/site-packages/joblib/parallel.py\", line 225, in <listcomp>\n",
      "    for func, args, kwargs in self.items]\n",
      "  File \"/Users/leec/opt/anaconda3/lib/python3.7/site-packages/sklearn/multioutput.py\", line 40, in _fit_estimator\n",
      "    estimator.fit(X, y, **fit_params)\n",
      "  File \"/Users/leec/opt/anaconda3/lib/python3.7/site-packages/sklearn/svm/_base.py\", line 164, in fit\n",
      "    y = self._validate_targets(y)\n",
      "  File \"/Users/leec/opt/anaconda3/lib/python3.7/site-packages/sklearn/svm/_base.py\", line 551, in _validate_targets\n",
      "    \" class\" % len(cls))\n",
      "ValueError: The number of classes has to be greater than one; got 1 class\n",
      "\n",
      "  FitFailedWarning)\n",
      "/Users/leec/opt/anaconda3/lib/python3.7/site-packages/sklearn/model_selection/_validation.py:552: FitFailedWarning: Estimator fit failed. The score on this train-test partition for these parameters will be set to nan. Details: \n",
      "Traceback (most recent call last):\n",
      "  File \"/Users/leec/opt/anaconda3/lib/python3.7/site-packages/sklearn/model_selection/_validation.py\", line 531, in _fit_and_score\n",
      "    estimator.fit(X_train, y_train, **fit_params)\n",
      "  File \"/Users/leec/opt/anaconda3/lib/python3.7/site-packages/sklearn/pipeline.py\", line 334, in fit\n",
      "    self._final_estimator.fit(Xt, y, **fit_params_last_step)\n",
      "  File \"/Users/leec/opt/anaconda3/lib/python3.7/site-packages/sklearn/multioutput.py\", line 350, in fit\n",
      "    super().fit(X, Y, sample_weight, **fit_params)\n",
      "  File \"/Users/leec/opt/anaconda3/lib/python3.7/site-packages/sklearn/multioutput.py\", line 175, in fit\n",
      "    for i in range(y.shape[1]))\n",
      "  File \"/Users/leec/opt/anaconda3/lib/python3.7/site-packages/joblib/parallel.py\", line 924, in __call__\n",
      "    while self.dispatch_one_batch(iterator):\n",
      "  File \"/Users/leec/opt/anaconda3/lib/python3.7/site-packages/joblib/parallel.py\", line 759, in dispatch_one_batch\n",
      "    self._dispatch(tasks)\n",
      "  File \"/Users/leec/opt/anaconda3/lib/python3.7/site-packages/joblib/parallel.py\", line 716, in _dispatch\n",
      "    job = self._backend.apply_async(batch, callback=cb)\n",
      "  File \"/Users/leec/opt/anaconda3/lib/python3.7/site-packages/joblib/_parallel_backends.py\", line 182, in apply_async\n",
      "    result = ImmediateResult(func)\n",
      "  File \"/Users/leec/opt/anaconda3/lib/python3.7/site-packages/joblib/_parallel_backends.py\", line 549, in __init__\n",
      "    self.results = batch()\n",
      "  File \"/Users/leec/opt/anaconda3/lib/python3.7/site-packages/joblib/parallel.py\", line 225, in __call__\n",
      "    for func, args, kwargs in self.items]\n",
      "  File \"/Users/leec/opt/anaconda3/lib/python3.7/site-packages/joblib/parallel.py\", line 225, in <listcomp>\n",
      "    for func, args, kwargs in self.items]\n",
      "  File \"/Users/leec/opt/anaconda3/lib/python3.7/site-packages/sklearn/multioutput.py\", line 40, in _fit_estimator\n",
      "    estimator.fit(X, y, **fit_params)\n",
      "  File \"/Users/leec/opt/anaconda3/lib/python3.7/site-packages/sklearn/svm/_base.py\", line 164, in fit\n",
      "    y = self._validate_targets(y)\n",
      "  File \"/Users/leec/opt/anaconda3/lib/python3.7/site-packages/sklearn/svm/_base.py\", line 551, in _validate_targets\n",
      "    \" class\" % len(cls))\n",
      "ValueError: The number of classes has to be greater than one; got 1 class\n",
      "\n",
      "  FitFailedWarning)\n"
     ]
    },
    {
     "name": "stderr",
     "output_type": "stream",
     "text": [
      "/Users/leec/opt/anaconda3/lib/python3.7/site-packages/sklearn/model_selection/_validation.py:552: FitFailedWarning: Estimator fit failed. The score on this train-test partition for these parameters will be set to nan. Details: \n",
      "Traceback (most recent call last):\n",
      "  File \"/Users/leec/opt/anaconda3/lib/python3.7/site-packages/sklearn/model_selection/_validation.py\", line 531, in _fit_and_score\n",
      "    estimator.fit(X_train, y_train, **fit_params)\n",
      "  File \"/Users/leec/opt/anaconda3/lib/python3.7/site-packages/sklearn/pipeline.py\", line 334, in fit\n",
      "    self._final_estimator.fit(Xt, y, **fit_params_last_step)\n",
      "  File \"/Users/leec/opt/anaconda3/lib/python3.7/site-packages/sklearn/multioutput.py\", line 350, in fit\n",
      "    super().fit(X, Y, sample_weight, **fit_params)\n",
      "  File \"/Users/leec/opt/anaconda3/lib/python3.7/site-packages/sklearn/multioutput.py\", line 175, in fit\n",
      "    for i in range(y.shape[1]))\n",
      "  File \"/Users/leec/opt/anaconda3/lib/python3.7/site-packages/joblib/parallel.py\", line 924, in __call__\n",
      "    while self.dispatch_one_batch(iterator):\n",
      "  File \"/Users/leec/opt/anaconda3/lib/python3.7/site-packages/joblib/parallel.py\", line 759, in dispatch_one_batch\n",
      "    self._dispatch(tasks)\n",
      "  File \"/Users/leec/opt/anaconda3/lib/python3.7/site-packages/joblib/parallel.py\", line 716, in _dispatch\n",
      "    job = self._backend.apply_async(batch, callback=cb)\n",
      "  File \"/Users/leec/opt/anaconda3/lib/python3.7/site-packages/joblib/_parallel_backends.py\", line 182, in apply_async\n",
      "    result = ImmediateResult(func)\n",
      "  File \"/Users/leec/opt/anaconda3/lib/python3.7/site-packages/joblib/_parallel_backends.py\", line 549, in __init__\n",
      "    self.results = batch()\n",
      "  File \"/Users/leec/opt/anaconda3/lib/python3.7/site-packages/joblib/parallel.py\", line 225, in __call__\n",
      "    for func, args, kwargs in self.items]\n",
      "  File \"/Users/leec/opt/anaconda3/lib/python3.7/site-packages/joblib/parallel.py\", line 225, in <listcomp>\n",
      "    for func, args, kwargs in self.items]\n",
      "  File \"/Users/leec/opt/anaconda3/lib/python3.7/site-packages/sklearn/multioutput.py\", line 40, in _fit_estimator\n",
      "    estimator.fit(X, y, **fit_params)\n",
      "  File \"/Users/leec/opt/anaconda3/lib/python3.7/site-packages/sklearn/svm/_base.py\", line 164, in fit\n",
      "    y = self._validate_targets(y)\n",
      "  File \"/Users/leec/opt/anaconda3/lib/python3.7/site-packages/sklearn/svm/_base.py\", line 551, in _validate_targets\n",
      "    \" class\" % len(cls))\n",
      "ValueError: The number of classes has to be greater than one; got 1 class\n",
      "\n",
      "  FitFailedWarning)\n",
      "/Users/leec/opt/anaconda3/lib/python3.7/site-packages/sklearn/model_selection/_validation.py:552: FitFailedWarning: Estimator fit failed. The score on this train-test partition for these parameters will be set to nan. Details: \n",
      "Traceback (most recent call last):\n",
      "  File \"/Users/leec/opt/anaconda3/lib/python3.7/site-packages/sklearn/model_selection/_validation.py\", line 531, in _fit_and_score\n",
      "    estimator.fit(X_train, y_train, **fit_params)\n",
      "  File \"/Users/leec/opt/anaconda3/lib/python3.7/site-packages/sklearn/pipeline.py\", line 334, in fit\n",
      "    self._final_estimator.fit(Xt, y, **fit_params_last_step)\n",
      "  File \"/Users/leec/opt/anaconda3/lib/python3.7/site-packages/sklearn/multioutput.py\", line 350, in fit\n",
      "    super().fit(X, Y, sample_weight, **fit_params)\n",
      "  File \"/Users/leec/opt/anaconda3/lib/python3.7/site-packages/sklearn/multioutput.py\", line 175, in fit\n",
      "    for i in range(y.shape[1]))\n",
      "  File \"/Users/leec/opt/anaconda3/lib/python3.7/site-packages/joblib/parallel.py\", line 924, in __call__\n",
      "    while self.dispatch_one_batch(iterator):\n",
      "  File \"/Users/leec/opt/anaconda3/lib/python3.7/site-packages/joblib/parallel.py\", line 759, in dispatch_one_batch\n",
      "    self._dispatch(tasks)\n",
      "  File \"/Users/leec/opt/anaconda3/lib/python3.7/site-packages/joblib/parallel.py\", line 716, in _dispatch\n",
      "    job = self._backend.apply_async(batch, callback=cb)\n",
      "  File \"/Users/leec/opt/anaconda3/lib/python3.7/site-packages/joblib/_parallel_backends.py\", line 182, in apply_async\n",
      "    result = ImmediateResult(func)\n",
      "  File \"/Users/leec/opt/anaconda3/lib/python3.7/site-packages/joblib/_parallel_backends.py\", line 549, in __init__\n",
      "    self.results = batch()\n",
      "  File \"/Users/leec/opt/anaconda3/lib/python3.7/site-packages/joblib/parallel.py\", line 225, in __call__\n",
      "    for func, args, kwargs in self.items]\n",
      "  File \"/Users/leec/opt/anaconda3/lib/python3.7/site-packages/joblib/parallel.py\", line 225, in <listcomp>\n",
      "    for func, args, kwargs in self.items]\n",
      "  File \"/Users/leec/opt/anaconda3/lib/python3.7/site-packages/sklearn/multioutput.py\", line 40, in _fit_estimator\n",
      "    estimator.fit(X, y, **fit_params)\n",
      "  File \"/Users/leec/opt/anaconda3/lib/python3.7/site-packages/sklearn/svm/_base.py\", line 164, in fit\n",
      "    y = self._validate_targets(y)\n",
      "  File \"/Users/leec/opt/anaconda3/lib/python3.7/site-packages/sklearn/svm/_base.py\", line 551, in _validate_targets\n",
      "    \" class\" % len(cls))\n",
      "ValueError: The number of classes has to be greater than one; got 1 class\n",
      "\n",
      "  FitFailedWarning)\n",
      "/Users/leec/opt/anaconda3/lib/python3.7/site-packages/sklearn/model_selection/_validation.py:552: FitFailedWarning: Estimator fit failed. The score on this train-test partition for these parameters will be set to nan. Details: \n",
      "Traceback (most recent call last):\n",
      "  File \"/Users/leec/opt/anaconda3/lib/python3.7/site-packages/sklearn/model_selection/_validation.py\", line 531, in _fit_and_score\n",
      "    estimator.fit(X_train, y_train, **fit_params)\n",
      "  File \"/Users/leec/opt/anaconda3/lib/python3.7/site-packages/sklearn/pipeline.py\", line 334, in fit\n",
      "    self._final_estimator.fit(Xt, y, **fit_params_last_step)\n",
      "  File \"/Users/leec/opt/anaconda3/lib/python3.7/site-packages/sklearn/multioutput.py\", line 350, in fit\n",
      "    super().fit(X, Y, sample_weight, **fit_params)\n",
      "  File \"/Users/leec/opt/anaconda3/lib/python3.7/site-packages/sklearn/multioutput.py\", line 175, in fit\n",
      "    for i in range(y.shape[1]))\n",
      "  File \"/Users/leec/opt/anaconda3/lib/python3.7/site-packages/joblib/parallel.py\", line 924, in __call__\n",
      "    while self.dispatch_one_batch(iterator):\n",
      "  File \"/Users/leec/opt/anaconda3/lib/python3.7/site-packages/joblib/parallel.py\", line 759, in dispatch_one_batch\n",
      "    self._dispatch(tasks)\n",
      "  File \"/Users/leec/opt/anaconda3/lib/python3.7/site-packages/joblib/parallel.py\", line 716, in _dispatch\n",
      "    job = self._backend.apply_async(batch, callback=cb)\n",
      "  File \"/Users/leec/opt/anaconda3/lib/python3.7/site-packages/joblib/_parallel_backends.py\", line 182, in apply_async\n",
      "    result = ImmediateResult(func)\n",
      "  File \"/Users/leec/opt/anaconda3/lib/python3.7/site-packages/joblib/_parallel_backends.py\", line 549, in __init__\n",
      "    self.results = batch()\n",
      "  File \"/Users/leec/opt/anaconda3/lib/python3.7/site-packages/joblib/parallel.py\", line 225, in __call__\n",
      "    for func, args, kwargs in self.items]\n",
      "  File \"/Users/leec/opt/anaconda3/lib/python3.7/site-packages/joblib/parallel.py\", line 225, in <listcomp>\n",
      "    for func, args, kwargs in self.items]\n",
      "  File \"/Users/leec/opt/anaconda3/lib/python3.7/site-packages/sklearn/multioutput.py\", line 40, in _fit_estimator\n",
      "    estimator.fit(X, y, **fit_params)\n",
      "  File \"/Users/leec/opt/anaconda3/lib/python3.7/site-packages/sklearn/svm/_base.py\", line 164, in fit\n",
      "    y = self._validate_targets(y)\n",
      "  File \"/Users/leec/opt/anaconda3/lib/python3.7/site-packages/sklearn/svm/_base.py\", line 551, in _validate_targets\n",
      "    \" class\" % len(cls))\n",
      "ValueError: The number of classes has to be greater than one; got 1 class\n",
      "\n",
      "  FitFailedWarning)\n",
      "/Users/leec/opt/anaconda3/lib/python3.7/site-packages/sklearn/model_selection/_validation.py:552: FitFailedWarning: Estimator fit failed. The score on this train-test partition for these parameters will be set to nan. Details: \n",
      "Traceback (most recent call last):\n",
      "  File \"/Users/leec/opt/anaconda3/lib/python3.7/site-packages/sklearn/model_selection/_validation.py\", line 531, in _fit_and_score\n",
      "    estimator.fit(X_train, y_train, **fit_params)\n",
      "  File \"/Users/leec/opt/anaconda3/lib/python3.7/site-packages/sklearn/pipeline.py\", line 334, in fit\n",
      "    self._final_estimator.fit(Xt, y, **fit_params_last_step)\n",
      "  File \"/Users/leec/opt/anaconda3/lib/python3.7/site-packages/sklearn/multioutput.py\", line 350, in fit\n",
      "    super().fit(X, Y, sample_weight, **fit_params)\n",
      "  File \"/Users/leec/opt/anaconda3/lib/python3.7/site-packages/sklearn/multioutput.py\", line 175, in fit\n",
      "    for i in range(y.shape[1]))\n",
      "  File \"/Users/leec/opt/anaconda3/lib/python3.7/site-packages/joblib/parallel.py\", line 924, in __call__\n",
      "    while self.dispatch_one_batch(iterator):\n",
      "  File \"/Users/leec/opt/anaconda3/lib/python3.7/site-packages/joblib/parallel.py\", line 759, in dispatch_one_batch\n",
      "    self._dispatch(tasks)\n",
      "  File \"/Users/leec/opt/anaconda3/lib/python3.7/site-packages/joblib/parallel.py\", line 716, in _dispatch\n",
      "    job = self._backend.apply_async(batch, callback=cb)\n",
      "  File \"/Users/leec/opt/anaconda3/lib/python3.7/site-packages/joblib/_parallel_backends.py\", line 182, in apply_async\n",
      "    result = ImmediateResult(func)\n",
      "  File \"/Users/leec/opt/anaconda3/lib/python3.7/site-packages/joblib/_parallel_backends.py\", line 549, in __init__\n",
      "    self.results = batch()\n",
      "  File \"/Users/leec/opt/anaconda3/lib/python3.7/site-packages/joblib/parallel.py\", line 225, in __call__\n",
      "    for func, args, kwargs in self.items]\n",
      "  File \"/Users/leec/opt/anaconda3/lib/python3.7/site-packages/joblib/parallel.py\", line 225, in <listcomp>\n",
      "    for func, args, kwargs in self.items]\n",
      "  File \"/Users/leec/opt/anaconda3/lib/python3.7/site-packages/sklearn/multioutput.py\", line 40, in _fit_estimator\n",
      "    estimator.fit(X, y, **fit_params)\n",
      "  File \"/Users/leec/opt/anaconda3/lib/python3.7/site-packages/sklearn/svm/_base.py\", line 164, in fit\n",
      "    y = self._validate_targets(y)\n",
      "  File \"/Users/leec/opt/anaconda3/lib/python3.7/site-packages/sklearn/svm/_base.py\", line 551, in _validate_targets\n",
      "    \" class\" % len(cls))\n",
      "ValueError: The number of classes has to be greater than one; got 1 class\n",
      "\n",
      "  FitFailedWarning)\n"
     ]
    },
    {
     "name": "stderr",
     "output_type": "stream",
     "text": [
      "/Users/leec/opt/anaconda3/lib/python3.7/site-packages/sklearn/model_selection/_validation.py:552: FitFailedWarning: Estimator fit failed. The score on this train-test partition for these parameters will be set to nan. Details: \n",
      "Traceback (most recent call last):\n",
      "  File \"/Users/leec/opt/anaconda3/lib/python3.7/site-packages/sklearn/model_selection/_validation.py\", line 531, in _fit_and_score\n",
      "    estimator.fit(X_train, y_train, **fit_params)\n",
      "  File \"/Users/leec/opt/anaconda3/lib/python3.7/site-packages/sklearn/pipeline.py\", line 334, in fit\n",
      "    self._final_estimator.fit(Xt, y, **fit_params_last_step)\n",
      "  File \"/Users/leec/opt/anaconda3/lib/python3.7/site-packages/sklearn/multioutput.py\", line 350, in fit\n",
      "    super().fit(X, Y, sample_weight, **fit_params)\n",
      "  File \"/Users/leec/opt/anaconda3/lib/python3.7/site-packages/sklearn/multioutput.py\", line 175, in fit\n",
      "    for i in range(y.shape[1]))\n",
      "  File \"/Users/leec/opt/anaconda3/lib/python3.7/site-packages/joblib/parallel.py\", line 924, in __call__\n",
      "    while self.dispatch_one_batch(iterator):\n",
      "  File \"/Users/leec/opt/anaconda3/lib/python3.7/site-packages/joblib/parallel.py\", line 759, in dispatch_one_batch\n",
      "    self._dispatch(tasks)\n",
      "  File \"/Users/leec/opt/anaconda3/lib/python3.7/site-packages/joblib/parallel.py\", line 716, in _dispatch\n",
      "    job = self._backend.apply_async(batch, callback=cb)\n",
      "  File \"/Users/leec/opt/anaconda3/lib/python3.7/site-packages/joblib/_parallel_backends.py\", line 182, in apply_async\n",
      "    result = ImmediateResult(func)\n",
      "  File \"/Users/leec/opt/anaconda3/lib/python3.7/site-packages/joblib/_parallel_backends.py\", line 549, in __init__\n",
      "    self.results = batch()\n",
      "  File \"/Users/leec/opt/anaconda3/lib/python3.7/site-packages/joblib/parallel.py\", line 225, in __call__\n",
      "    for func, args, kwargs in self.items]\n",
      "  File \"/Users/leec/opt/anaconda3/lib/python3.7/site-packages/joblib/parallel.py\", line 225, in <listcomp>\n",
      "    for func, args, kwargs in self.items]\n",
      "  File \"/Users/leec/opt/anaconda3/lib/python3.7/site-packages/sklearn/multioutput.py\", line 40, in _fit_estimator\n",
      "    estimator.fit(X, y, **fit_params)\n",
      "  File \"/Users/leec/opt/anaconda3/lib/python3.7/site-packages/sklearn/svm/_base.py\", line 164, in fit\n",
      "    y = self._validate_targets(y)\n",
      "  File \"/Users/leec/opt/anaconda3/lib/python3.7/site-packages/sklearn/svm/_base.py\", line 551, in _validate_targets\n",
      "    \" class\" % len(cls))\n",
      "ValueError: The number of classes has to be greater than one; got 1 class\n",
      "\n",
      "  FitFailedWarning)\n",
      "/Users/leec/opt/anaconda3/lib/python3.7/site-packages/sklearn/model_selection/_validation.py:552: FitFailedWarning: Estimator fit failed. The score on this train-test partition for these parameters will be set to nan. Details: \n",
      "Traceback (most recent call last):\n",
      "  File \"/Users/leec/opt/anaconda3/lib/python3.7/site-packages/sklearn/model_selection/_validation.py\", line 531, in _fit_and_score\n",
      "    estimator.fit(X_train, y_train, **fit_params)\n",
      "  File \"/Users/leec/opt/anaconda3/lib/python3.7/site-packages/sklearn/pipeline.py\", line 334, in fit\n",
      "    self._final_estimator.fit(Xt, y, **fit_params_last_step)\n",
      "  File \"/Users/leec/opt/anaconda3/lib/python3.7/site-packages/sklearn/multioutput.py\", line 350, in fit\n",
      "    super().fit(X, Y, sample_weight, **fit_params)\n",
      "  File \"/Users/leec/opt/anaconda3/lib/python3.7/site-packages/sklearn/multioutput.py\", line 175, in fit\n",
      "    for i in range(y.shape[1]))\n",
      "  File \"/Users/leec/opt/anaconda3/lib/python3.7/site-packages/joblib/parallel.py\", line 924, in __call__\n",
      "    while self.dispatch_one_batch(iterator):\n",
      "  File \"/Users/leec/opt/anaconda3/lib/python3.7/site-packages/joblib/parallel.py\", line 759, in dispatch_one_batch\n",
      "    self._dispatch(tasks)\n",
      "  File \"/Users/leec/opt/anaconda3/lib/python3.7/site-packages/joblib/parallel.py\", line 716, in _dispatch\n",
      "    job = self._backend.apply_async(batch, callback=cb)\n",
      "  File \"/Users/leec/opt/anaconda3/lib/python3.7/site-packages/joblib/_parallel_backends.py\", line 182, in apply_async\n",
      "    result = ImmediateResult(func)\n",
      "  File \"/Users/leec/opt/anaconda3/lib/python3.7/site-packages/joblib/_parallel_backends.py\", line 549, in __init__\n",
      "    self.results = batch()\n",
      "  File \"/Users/leec/opt/anaconda3/lib/python3.7/site-packages/joblib/parallel.py\", line 225, in __call__\n",
      "    for func, args, kwargs in self.items]\n",
      "  File \"/Users/leec/opt/anaconda3/lib/python3.7/site-packages/joblib/parallel.py\", line 225, in <listcomp>\n",
      "    for func, args, kwargs in self.items]\n",
      "  File \"/Users/leec/opt/anaconda3/lib/python3.7/site-packages/sklearn/multioutput.py\", line 40, in _fit_estimator\n",
      "    estimator.fit(X, y, **fit_params)\n",
      "  File \"/Users/leec/opt/anaconda3/lib/python3.7/site-packages/sklearn/svm/_base.py\", line 164, in fit\n",
      "    y = self._validate_targets(y)\n",
      "  File \"/Users/leec/opt/anaconda3/lib/python3.7/site-packages/sklearn/svm/_base.py\", line 551, in _validate_targets\n",
      "    \" class\" % len(cls))\n",
      "ValueError: The number of classes has to be greater than one; got 1 class\n",
      "\n",
      "  FitFailedWarning)\n",
      "/Users/leec/opt/anaconda3/lib/python3.7/site-packages/sklearn/model_selection/_validation.py:552: FitFailedWarning: Estimator fit failed. The score on this train-test partition for these parameters will be set to nan. Details: \n",
      "Traceback (most recent call last):\n",
      "  File \"/Users/leec/opt/anaconda3/lib/python3.7/site-packages/sklearn/model_selection/_validation.py\", line 531, in _fit_and_score\n",
      "    estimator.fit(X_train, y_train, **fit_params)\n",
      "  File \"/Users/leec/opt/anaconda3/lib/python3.7/site-packages/sklearn/pipeline.py\", line 334, in fit\n",
      "    self._final_estimator.fit(Xt, y, **fit_params_last_step)\n",
      "  File \"/Users/leec/opt/anaconda3/lib/python3.7/site-packages/sklearn/multioutput.py\", line 350, in fit\n",
      "    super().fit(X, Y, sample_weight, **fit_params)\n",
      "  File \"/Users/leec/opt/anaconda3/lib/python3.7/site-packages/sklearn/multioutput.py\", line 175, in fit\n",
      "    for i in range(y.shape[1]))\n",
      "  File \"/Users/leec/opt/anaconda3/lib/python3.7/site-packages/joblib/parallel.py\", line 924, in __call__\n",
      "    while self.dispatch_one_batch(iterator):\n",
      "  File \"/Users/leec/opt/anaconda3/lib/python3.7/site-packages/joblib/parallel.py\", line 759, in dispatch_one_batch\n",
      "    self._dispatch(tasks)\n",
      "  File \"/Users/leec/opt/anaconda3/lib/python3.7/site-packages/joblib/parallel.py\", line 716, in _dispatch\n",
      "    job = self._backend.apply_async(batch, callback=cb)\n",
      "  File \"/Users/leec/opt/anaconda3/lib/python3.7/site-packages/joblib/_parallel_backends.py\", line 182, in apply_async\n",
      "    result = ImmediateResult(func)\n",
      "  File \"/Users/leec/opt/anaconda3/lib/python3.7/site-packages/joblib/_parallel_backends.py\", line 549, in __init__\n",
      "    self.results = batch()\n",
      "  File \"/Users/leec/opt/anaconda3/lib/python3.7/site-packages/joblib/parallel.py\", line 225, in __call__\n",
      "    for func, args, kwargs in self.items]\n",
      "  File \"/Users/leec/opt/anaconda3/lib/python3.7/site-packages/joblib/parallel.py\", line 225, in <listcomp>\n",
      "    for func, args, kwargs in self.items]\n",
      "  File \"/Users/leec/opt/anaconda3/lib/python3.7/site-packages/sklearn/multioutput.py\", line 40, in _fit_estimator\n",
      "    estimator.fit(X, y, **fit_params)\n",
      "  File \"/Users/leec/opt/anaconda3/lib/python3.7/site-packages/sklearn/svm/_base.py\", line 164, in fit\n",
      "    y = self._validate_targets(y)\n",
      "  File \"/Users/leec/opt/anaconda3/lib/python3.7/site-packages/sklearn/svm/_base.py\", line 551, in _validate_targets\n",
      "    \" class\" % len(cls))\n",
      "ValueError: The number of classes has to be greater than one; got 1 class\n",
      "\n",
      "  FitFailedWarning)\n",
      "/Users/leec/opt/anaconda3/lib/python3.7/site-packages/sklearn/model_selection/_validation.py:552: FitFailedWarning: Estimator fit failed. The score on this train-test partition for these parameters will be set to nan. Details: \n",
      "Traceback (most recent call last):\n",
      "  File \"/Users/leec/opt/anaconda3/lib/python3.7/site-packages/sklearn/model_selection/_validation.py\", line 531, in _fit_and_score\n",
      "    estimator.fit(X_train, y_train, **fit_params)\n",
      "  File \"/Users/leec/opt/anaconda3/lib/python3.7/site-packages/sklearn/pipeline.py\", line 334, in fit\n",
      "    self._final_estimator.fit(Xt, y, **fit_params_last_step)\n",
      "  File \"/Users/leec/opt/anaconda3/lib/python3.7/site-packages/sklearn/multioutput.py\", line 350, in fit\n",
      "    super().fit(X, Y, sample_weight, **fit_params)\n",
      "  File \"/Users/leec/opt/anaconda3/lib/python3.7/site-packages/sklearn/multioutput.py\", line 175, in fit\n",
      "    for i in range(y.shape[1]))\n",
      "  File \"/Users/leec/opt/anaconda3/lib/python3.7/site-packages/joblib/parallel.py\", line 924, in __call__\n",
      "    while self.dispatch_one_batch(iterator):\n",
      "  File \"/Users/leec/opt/anaconda3/lib/python3.7/site-packages/joblib/parallel.py\", line 759, in dispatch_one_batch\n",
      "    self._dispatch(tasks)\n",
      "  File \"/Users/leec/opt/anaconda3/lib/python3.7/site-packages/joblib/parallel.py\", line 716, in _dispatch\n",
      "    job = self._backend.apply_async(batch, callback=cb)\n",
      "  File \"/Users/leec/opt/anaconda3/lib/python3.7/site-packages/joblib/_parallel_backends.py\", line 182, in apply_async\n",
      "    result = ImmediateResult(func)\n",
      "  File \"/Users/leec/opt/anaconda3/lib/python3.7/site-packages/joblib/_parallel_backends.py\", line 549, in __init__\n",
      "    self.results = batch()\n",
      "  File \"/Users/leec/opt/anaconda3/lib/python3.7/site-packages/joblib/parallel.py\", line 225, in __call__\n",
      "    for func, args, kwargs in self.items]\n",
      "  File \"/Users/leec/opt/anaconda3/lib/python3.7/site-packages/joblib/parallel.py\", line 225, in <listcomp>\n",
      "    for func, args, kwargs in self.items]\n",
      "  File \"/Users/leec/opt/anaconda3/lib/python3.7/site-packages/sklearn/multioutput.py\", line 40, in _fit_estimator\n",
      "    estimator.fit(X, y, **fit_params)\n",
      "  File \"/Users/leec/opt/anaconda3/lib/python3.7/site-packages/sklearn/svm/_base.py\", line 164, in fit\n",
      "    y = self._validate_targets(y)\n",
      "  File \"/Users/leec/opt/anaconda3/lib/python3.7/site-packages/sklearn/svm/_base.py\", line 551, in _validate_targets\n",
      "    \" class\" % len(cls))\n",
      "ValueError: The number of classes has to be greater than one; got 1 class\n",
      "\n",
      "  FitFailedWarning)\n"
     ]
    },
    {
     "name": "stderr",
     "output_type": "stream",
     "text": [
      "/Users/leec/opt/anaconda3/lib/python3.7/site-packages/sklearn/model_selection/_validation.py:552: FitFailedWarning: Estimator fit failed. The score on this train-test partition for these parameters will be set to nan. Details: \n",
      "Traceback (most recent call last):\n",
      "  File \"/Users/leec/opt/anaconda3/lib/python3.7/site-packages/sklearn/model_selection/_validation.py\", line 531, in _fit_and_score\n",
      "    estimator.fit(X_train, y_train, **fit_params)\n",
      "  File \"/Users/leec/opt/anaconda3/lib/python3.7/site-packages/sklearn/pipeline.py\", line 334, in fit\n",
      "    self._final_estimator.fit(Xt, y, **fit_params_last_step)\n",
      "  File \"/Users/leec/opt/anaconda3/lib/python3.7/site-packages/sklearn/multioutput.py\", line 350, in fit\n",
      "    super().fit(X, Y, sample_weight, **fit_params)\n",
      "  File \"/Users/leec/opt/anaconda3/lib/python3.7/site-packages/sklearn/multioutput.py\", line 175, in fit\n",
      "    for i in range(y.shape[1]))\n",
      "  File \"/Users/leec/opt/anaconda3/lib/python3.7/site-packages/joblib/parallel.py\", line 924, in __call__\n",
      "    while self.dispatch_one_batch(iterator):\n",
      "  File \"/Users/leec/opt/anaconda3/lib/python3.7/site-packages/joblib/parallel.py\", line 759, in dispatch_one_batch\n",
      "    self._dispatch(tasks)\n",
      "  File \"/Users/leec/opt/anaconda3/lib/python3.7/site-packages/joblib/parallel.py\", line 716, in _dispatch\n",
      "    job = self._backend.apply_async(batch, callback=cb)\n",
      "  File \"/Users/leec/opt/anaconda3/lib/python3.7/site-packages/joblib/_parallel_backends.py\", line 182, in apply_async\n",
      "    result = ImmediateResult(func)\n",
      "  File \"/Users/leec/opt/anaconda3/lib/python3.7/site-packages/joblib/_parallel_backends.py\", line 549, in __init__\n",
      "    self.results = batch()\n",
      "  File \"/Users/leec/opt/anaconda3/lib/python3.7/site-packages/joblib/parallel.py\", line 225, in __call__\n",
      "    for func, args, kwargs in self.items]\n",
      "  File \"/Users/leec/opt/anaconda3/lib/python3.7/site-packages/joblib/parallel.py\", line 225, in <listcomp>\n",
      "    for func, args, kwargs in self.items]\n",
      "  File \"/Users/leec/opt/anaconda3/lib/python3.7/site-packages/sklearn/multioutput.py\", line 40, in _fit_estimator\n",
      "    estimator.fit(X, y, **fit_params)\n",
      "  File \"/Users/leec/opt/anaconda3/lib/python3.7/site-packages/sklearn/svm/_base.py\", line 164, in fit\n",
      "    y = self._validate_targets(y)\n",
      "  File \"/Users/leec/opt/anaconda3/lib/python3.7/site-packages/sklearn/svm/_base.py\", line 551, in _validate_targets\n",
      "    \" class\" % len(cls))\n",
      "ValueError: The number of classes has to be greater than one; got 1 class\n",
      "\n",
      "  FitFailedWarning)\n",
      "/Users/leec/opt/anaconda3/lib/python3.7/site-packages/sklearn/model_selection/_validation.py:552: FitFailedWarning: Estimator fit failed. The score on this train-test partition for these parameters will be set to nan. Details: \n",
      "Traceback (most recent call last):\n",
      "  File \"/Users/leec/opt/anaconda3/lib/python3.7/site-packages/sklearn/model_selection/_validation.py\", line 531, in _fit_and_score\n",
      "    estimator.fit(X_train, y_train, **fit_params)\n",
      "  File \"/Users/leec/opt/anaconda3/lib/python3.7/site-packages/sklearn/pipeline.py\", line 334, in fit\n",
      "    self._final_estimator.fit(Xt, y, **fit_params_last_step)\n",
      "  File \"/Users/leec/opt/anaconda3/lib/python3.7/site-packages/sklearn/multioutput.py\", line 350, in fit\n",
      "    super().fit(X, Y, sample_weight, **fit_params)\n",
      "  File \"/Users/leec/opt/anaconda3/lib/python3.7/site-packages/sklearn/multioutput.py\", line 175, in fit\n",
      "    for i in range(y.shape[1]))\n",
      "  File \"/Users/leec/opt/anaconda3/lib/python3.7/site-packages/joblib/parallel.py\", line 924, in __call__\n",
      "    while self.dispatch_one_batch(iterator):\n",
      "  File \"/Users/leec/opt/anaconda3/lib/python3.7/site-packages/joblib/parallel.py\", line 759, in dispatch_one_batch\n",
      "    self._dispatch(tasks)\n",
      "  File \"/Users/leec/opt/anaconda3/lib/python3.7/site-packages/joblib/parallel.py\", line 716, in _dispatch\n",
      "    job = self._backend.apply_async(batch, callback=cb)\n",
      "  File \"/Users/leec/opt/anaconda3/lib/python3.7/site-packages/joblib/_parallel_backends.py\", line 182, in apply_async\n",
      "    result = ImmediateResult(func)\n",
      "  File \"/Users/leec/opt/anaconda3/lib/python3.7/site-packages/joblib/_parallel_backends.py\", line 549, in __init__\n",
      "    self.results = batch()\n",
      "  File \"/Users/leec/opt/anaconda3/lib/python3.7/site-packages/joblib/parallel.py\", line 225, in __call__\n",
      "    for func, args, kwargs in self.items]\n",
      "  File \"/Users/leec/opt/anaconda3/lib/python3.7/site-packages/joblib/parallel.py\", line 225, in <listcomp>\n",
      "    for func, args, kwargs in self.items]\n",
      "  File \"/Users/leec/opt/anaconda3/lib/python3.7/site-packages/sklearn/multioutput.py\", line 40, in _fit_estimator\n",
      "    estimator.fit(X, y, **fit_params)\n",
      "  File \"/Users/leec/opt/anaconda3/lib/python3.7/site-packages/sklearn/svm/_base.py\", line 164, in fit\n",
      "    y = self._validate_targets(y)\n",
      "  File \"/Users/leec/opt/anaconda3/lib/python3.7/site-packages/sklearn/svm/_base.py\", line 551, in _validate_targets\n",
      "    \" class\" % len(cls))\n",
      "ValueError: The number of classes has to be greater than one; got 1 class\n",
      "\n",
      "  FitFailedWarning)\n",
      "/Users/leec/opt/anaconda3/lib/python3.7/site-packages/sklearn/model_selection/_validation.py:552: FitFailedWarning: Estimator fit failed. The score on this train-test partition for these parameters will be set to nan. Details: \n",
      "Traceback (most recent call last):\n",
      "  File \"/Users/leec/opt/anaconda3/lib/python3.7/site-packages/sklearn/model_selection/_validation.py\", line 531, in _fit_and_score\n",
      "    estimator.fit(X_train, y_train, **fit_params)\n",
      "  File \"/Users/leec/opt/anaconda3/lib/python3.7/site-packages/sklearn/pipeline.py\", line 334, in fit\n",
      "    self._final_estimator.fit(Xt, y, **fit_params_last_step)\n",
      "  File \"/Users/leec/opt/anaconda3/lib/python3.7/site-packages/sklearn/multioutput.py\", line 350, in fit\n",
      "    super().fit(X, Y, sample_weight, **fit_params)\n",
      "  File \"/Users/leec/opt/anaconda3/lib/python3.7/site-packages/sklearn/multioutput.py\", line 175, in fit\n",
      "    for i in range(y.shape[1]))\n",
      "  File \"/Users/leec/opt/anaconda3/lib/python3.7/site-packages/joblib/parallel.py\", line 924, in __call__\n",
      "    while self.dispatch_one_batch(iterator):\n",
      "  File \"/Users/leec/opt/anaconda3/lib/python3.7/site-packages/joblib/parallel.py\", line 759, in dispatch_one_batch\n",
      "    self._dispatch(tasks)\n",
      "  File \"/Users/leec/opt/anaconda3/lib/python3.7/site-packages/joblib/parallel.py\", line 716, in _dispatch\n",
      "    job = self._backend.apply_async(batch, callback=cb)\n",
      "  File \"/Users/leec/opt/anaconda3/lib/python3.7/site-packages/joblib/_parallel_backends.py\", line 182, in apply_async\n",
      "    result = ImmediateResult(func)\n",
      "  File \"/Users/leec/opt/anaconda3/lib/python3.7/site-packages/joblib/_parallel_backends.py\", line 549, in __init__\n",
      "    self.results = batch()\n",
      "  File \"/Users/leec/opt/anaconda3/lib/python3.7/site-packages/joblib/parallel.py\", line 225, in __call__\n",
      "    for func, args, kwargs in self.items]\n",
      "  File \"/Users/leec/opt/anaconda3/lib/python3.7/site-packages/joblib/parallel.py\", line 225, in <listcomp>\n",
      "    for func, args, kwargs in self.items]\n",
      "  File \"/Users/leec/opt/anaconda3/lib/python3.7/site-packages/sklearn/multioutput.py\", line 40, in _fit_estimator\n",
      "    estimator.fit(X, y, **fit_params)\n",
      "  File \"/Users/leec/opt/anaconda3/lib/python3.7/site-packages/sklearn/svm/_base.py\", line 164, in fit\n",
      "    y = self._validate_targets(y)\n",
      "  File \"/Users/leec/opt/anaconda3/lib/python3.7/site-packages/sklearn/svm/_base.py\", line 551, in _validate_targets\n",
      "    \" class\" % len(cls))\n",
      "ValueError: The number of classes has to be greater than one; got 1 class\n",
      "\n",
      "  FitFailedWarning)\n",
      "/Users/leec/opt/anaconda3/lib/python3.7/site-packages/sklearn/model_selection/_validation.py:552: FitFailedWarning: Estimator fit failed. The score on this train-test partition for these parameters will be set to nan. Details: \n",
      "Traceback (most recent call last):\n",
      "  File \"/Users/leec/opt/anaconda3/lib/python3.7/site-packages/sklearn/model_selection/_validation.py\", line 531, in _fit_and_score\n",
      "    estimator.fit(X_train, y_train, **fit_params)\n",
      "  File \"/Users/leec/opt/anaconda3/lib/python3.7/site-packages/sklearn/pipeline.py\", line 334, in fit\n",
      "    self._final_estimator.fit(Xt, y, **fit_params_last_step)\n",
      "  File \"/Users/leec/opt/anaconda3/lib/python3.7/site-packages/sklearn/multioutput.py\", line 350, in fit\n",
      "    super().fit(X, Y, sample_weight, **fit_params)\n",
      "  File \"/Users/leec/opt/anaconda3/lib/python3.7/site-packages/sklearn/multioutput.py\", line 175, in fit\n",
      "    for i in range(y.shape[1]))\n",
      "  File \"/Users/leec/opt/anaconda3/lib/python3.7/site-packages/joblib/parallel.py\", line 924, in __call__\n",
      "    while self.dispatch_one_batch(iterator):\n",
      "  File \"/Users/leec/opt/anaconda3/lib/python3.7/site-packages/joblib/parallel.py\", line 759, in dispatch_one_batch\n",
      "    self._dispatch(tasks)\n",
      "  File \"/Users/leec/opt/anaconda3/lib/python3.7/site-packages/joblib/parallel.py\", line 716, in _dispatch\n",
      "    job = self._backend.apply_async(batch, callback=cb)\n",
      "  File \"/Users/leec/opt/anaconda3/lib/python3.7/site-packages/joblib/_parallel_backends.py\", line 182, in apply_async\n",
      "    result = ImmediateResult(func)\n",
      "  File \"/Users/leec/opt/anaconda3/lib/python3.7/site-packages/joblib/_parallel_backends.py\", line 549, in __init__\n",
      "    self.results = batch()\n",
      "  File \"/Users/leec/opt/anaconda3/lib/python3.7/site-packages/joblib/parallel.py\", line 225, in __call__\n",
      "    for func, args, kwargs in self.items]\n",
      "  File \"/Users/leec/opt/anaconda3/lib/python3.7/site-packages/joblib/parallel.py\", line 225, in <listcomp>\n",
      "    for func, args, kwargs in self.items]\n",
      "  File \"/Users/leec/opt/anaconda3/lib/python3.7/site-packages/sklearn/multioutput.py\", line 40, in _fit_estimator\n",
      "    estimator.fit(X, y, **fit_params)\n",
      "  File \"/Users/leec/opt/anaconda3/lib/python3.7/site-packages/sklearn/svm/_base.py\", line 164, in fit\n",
      "    y = self._validate_targets(y)\n",
      "  File \"/Users/leec/opt/anaconda3/lib/python3.7/site-packages/sklearn/svm/_base.py\", line 551, in _validate_targets\n",
      "    \" class\" % len(cls))\n",
      "ValueError: The number of classes has to be greater than one; got 1 class\n",
      "\n",
      "  FitFailedWarning)\n"
     ]
    },
    {
     "name": "stderr",
     "output_type": "stream",
     "text": [
      "/Users/leec/opt/anaconda3/lib/python3.7/site-packages/sklearn/model_selection/_validation.py:552: FitFailedWarning: Estimator fit failed. The score on this train-test partition for these parameters will be set to nan. Details: \n",
      "Traceback (most recent call last):\n",
      "  File \"/Users/leec/opt/anaconda3/lib/python3.7/site-packages/sklearn/model_selection/_validation.py\", line 531, in _fit_and_score\n",
      "    estimator.fit(X_train, y_train, **fit_params)\n",
      "  File \"/Users/leec/opt/anaconda3/lib/python3.7/site-packages/sklearn/pipeline.py\", line 334, in fit\n",
      "    self._final_estimator.fit(Xt, y, **fit_params_last_step)\n",
      "  File \"/Users/leec/opt/anaconda3/lib/python3.7/site-packages/sklearn/multioutput.py\", line 350, in fit\n",
      "    super().fit(X, Y, sample_weight, **fit_params)\n",
      "  File \"/Users/leec/opt/anaconda3/lib/python3.7/site-packages/sklearn/multioutput.py\", line 175, in fit\n",
      "    for i in range(y.shape[1]))\n",
      "  File \"/Users/leec/opt/anaconda3/lib/python3.7/site-packages/joblib/parallel.py\", line 924, in __call__\n",
      "    while self.dispatch_one_batch(iterator):\n",
      "  File \"/Users/leec/opt/anaconda3/lib/python3.7/site-packages/joblib/parallel.py\", line 759, in dispatch_one_batch\n",
      "    self._dispatch(tasks)\n",
      "  File \"/Users/leec/opt/anaconda3/lib/python3.7/site-packages/joblib/parallel.py\", line 716, in _dispatch\n",
      "    job = self._backend.apply_async(batch, callback=cb)\n",
      "  File \"/Users/leec/opt/anaconda3/lib/python3.7/site-packages/joblib/_parallel_backends.py\", line 182, in apply_async\n",
      "    result = ImmediateResult(func)\n",
      "  File \"/Users/leec/opt/anaconda3/lib/python3.7/site-packages/joblib/_parallel_backends.py\", line 549, in __init__\n",
      "    self.results = batch()\n",
      "  File \"/Users/leec/opt/anaconda3/lib/python3.7/site-packages/joblib/parallel.py\", line 225, in __call__\n",
      "    for func, args, kwargs in self.items]\n",
      "  File \"/Users/leec/opt/anaconda3/lib/python3.7/site-packages/joblib/parallel.py\", line 225, in <listcomp>\n",
      "    for func, args, kwargs in self.items]\n",
      "  File \"/Users/leec/opt/anaconda3/lib/python3.7/site-packages/sklearn/multioutput.py\", line 40, in _fit_estimator\n",
      "    estimator.fit(X, y, **fit_params)\n",
      "  File \"/Users/leec/opt/anaconda3/lib/python3.7/site-packages/sklearn/svm/_base.py\", line 164, in fit\n",
      "    y = self._validate_targets(y)\n",
      "  File \"/Users/leec/opt/anaconda3/lib/python3.7/site-packages/sklearn/svm/_base.py\", line 551, in _validate_targets\n",
      "    \" class\" % len(cls))\n",
      "ValueError: The number of classes has to be greater than one; got 1 class\n",
      "\n",
      "  FitFailedWarning)\n",
      "/Users/leec/opt/anaconda3/lib/python3.7/site-packages/sklearn/model_selection/_validation.py:552: FitFailedWarning: Estimator fit failed. The score on this train-test partition for these parameters will be set to nan. Details: \n",
      "Traceback (most recent call last):\n",
      "  File \"/Users/leec/opt/anaconda3/lib/python3.7/site-packages/sklearn/model_selection/_validation.py\", line 531, in _fit_and_score\n",
      "    estimator.fit(X_train, y_train, **fit_params)\n",
      "  File \"/Users/leec/opt/anaconda3/lib/python3.7/site-packages/sklearn/pipeline.py\", line 334, in fit\n",
      "    self._final_estimator.fit(Xt, y, **fit_params_last_step)\n",
      "  File \"/Users/leec/opt/anaconda3/lib/python3.7/site-packages/sklearn/multioutput.py\", line 350, in fit\n",
      "    super().fit(X, Y, sample_weight, **fit_params)\n",
      "  File \"/Users/leec/opt/anaconda3/lib/python3.7/site-packages/sklearn/multioutput.py\", line 175, in fit\n",
      "    for i in range(y.shape[1]))\n",
      "  File \"/Users/leec/opt/anaconda3/lib/python3.7/site-packages/joblib/parallel.py\", line 924, in __call__\n",
      "    while self.dispatch_one_batch(iterator):\n",
      "  File \"/Users/leec/opt/anaconda3/lib/python3.7/site-packages/joblib/parallel.py\", line 759, in dispatch_one_batch\n",
      "    self._dispatch(tasks)\n",
      "  File \"/Users/leec/opt/anaconda3/lib/python3.7/site-packages/joblib/parallel.py\", line 716, in _dispatch\n",
      "    job = self._backend.apply_async(batch, callback=cb)\n",
      "  File \"/Users/leec/opt/anaconda3/lib/python3.7/site-packages/joblib/_parallel_backends.py\", line 182, in apply_async\n",
      "    result = ImmediateResult(func)\n",
      "  File \"/Users/leec/opt/anaconda3/lib/python3.7/site-packages/joblib/_parallel_backends.py\", line 549, in __init__\n",
      "    self.results = batch()\n",
      "  File \"/Users/leec/opt/anaconda3/lib/python3.7/site-packages/joblib/parallel.py\", line 225, in __call__\n",
      "    for func, args, kwargs in self.items]\n",
      "  File \"/Users/leec/opt/anaconda3/lib/python3.7/site-packages/joblib/parallel.py\", line 225, in <listcomp>\n",
      "    for func, args, kwargs in self.items]\n",
      "  File \"/Users/leec/opt/anaconda3/lib/python3.7/site-packages/sklearn/multioutput.py\", line 40, in _fit_estimator\n",
      "    estimator.fit(X, y, **fit_params)\n",
      "  File \"/Users/leec/opt/anaconda3/lib/python3.7/site-packages/sklearn/svm/_base.py\", line 164, in fit\n",
      "    y = self._validate_targets(y)\n",
      "  File \"/Users/leec/opt/anaconda3/lib/python3.7/site-packages/sklearn/svm/_base.py\", line 551, in _validate_targets\n",
      "    \" class\" % len(cls))\n",
      "ValueError: The number of classes has to be greater than one; got 1 class\n",
      "\n",
      "  FitFailedWarning)\n",
      "/Users/leec/opt/anaconda3/lib/python3.7/site-packages/sklearn/model_selection/_validation.py:552: FitFailedWarning: Estimator fit failed. The score on this train-test partition for these parameters will be set to nan. Details: \n",
      "Traceback (most recent call last):\n",
      "  File \"/Users/leec/opt/anaconda3/lib/python3.7/site-packages/sklearn/model_selection/_validation.py\", line 531, in _fit_and_score\n",
      "    estimator.fit(X_train, y_train, **fit_params)\n",
      "  File \"/Users/leec/opt/anaconda3/lib/python3.7/site-packages/sklearn/pipeline.py\", line 334, in fit\n",
      "    self._final_estimator.fit(Xt, y, **fit_params_last_step)\n",
      "  File \"/Users/leec/opt/anaconda3/lib/python3.7/site-packages/sklearn/multioutput.py\", line 350, in fit\n",
      "    super().fit(X, Y, sample_weight, **fit_params)\n",
      "  File \"/Users/leec/opt/anaconda3/lib/python3.7/site-packages/sklearn/multioutput.py\", line 175, in fit\n",
      "    for i in range(y.shape[1]))\n",
      "  File \"/Users/leec/opt/anaconda3/lib/python3.7/site-packages/joblib/parallel.py\", line 924, in __call__\n",
      "    while self.dispatch_one_batch(iterator):\n",
      "  File \"/Users/leec/opt/anaconda3/lib/python3.7/site-packages/joblib/parallel.py\", line 759, in dispatch_one_batch\n",
      "    self._dispatch(tasks)\n",
      "  File \"/Users/leec/opt/anaconda3/lib/python3.7/site-packages/joblib/parallel.py\", line 716, in _dispatch\n",
      "    job = self._backend.apply_async(batch, callback=cb)\n",
      "  File \"/Users/leec/opt/anaconda3/lib/python3.7/site-packages/joblib/_parallel_backends.py\", line 182, in apply_async\n",
      "    result = ImmediateResult(func)\n",
      "  File \"/Users/leec/opt/anaconda3/lib/python3.7/site-packages/joblib/_parallel_backends.py\", line 549, in __init__\n",
      "    self.results = batch()\n",
      "  File \"/Users/leec/opt/anaconda3/lib/python3.7/site-packages/joblib/parallel.py\", line 225, in __call__\n",
      "    for func, args, kwargs in self.items]\n",
      "  File \"/Users/leec/opt/anaconda3/lib/python3.7/site-packages/joblib/parallel.py\", line 225, in <listcomp>\n",
      "    for func, args, kwargs in self.items]\n",
      "  File \"/Users/leec/opt/anaconda3/lib/python3.7/site-packages/sklearn/multioutput.py\", line 40, in _fit_estimator\n",
      "    estimator.fit(X, y, **fit_params)\n",
      "  File \"/Users/leec/opt/anaconda3/lib/python3.7/site-packages/sklearn/svm/_base.py\", line 164, in fit\n",
      "    y = self._validate_targets(y)\n",
      "  File \"/Users/leec/opt/anaconda3/lib/python3.7/site-packages/sklearn/svm/_base.py\", line 551, in _validate_targets\n",
      "    \" class\" % len(cls))\n",
      "ValueError: The number of classes has to be greater than one; got 1 class\n",
      "\n",
      "  FitFailedWarning)\n",
      "/Users/leec/opt/anaconda3/lib/python3.7/site-packages/sklearn/model_selection/_validation.py:552: FitFailedWarning: Estimator fit failed. The score on this train-test partition for these parameters will be set to nan. Details: \n",
      "Traceback (most recent call last):\n",
      "  File \"/Users/leec/opt/anaconda3/lib/python3.7/site-packages/sklearn/model_selection/_validation.py\", line 531, in _fit_and_score\n",
      "    estimator.fit(X_train, y_train, **fit_params)\n",
      "  File \"/Users/leec/opt/anaconda3/lib/python3.7/site-packages/sklearn/pipeline.py\", line 334, in fit\n",
      "    self._final_estimator.fit(Xt, y, **fit_params_last_step)\n",
      "  File \"/Users/leec/opt/anaconda3/lib/python3.7/site-packages/sklearn/multioutput.py\", line 350, in fit\n",
      "    super().fit(X, Y, sample_weight, **fit_params)\n",
      "  File \"/Users/leec/opt/anaconda3/lib/python3.7/site-packages/sklearn/multioutput.py\", line 175, in fit\n",
      "    for i in range(y.shape[1]))\n",
      "  File \"/Users/leec/opt/anaconda3/lib/python3.7/site-packages/joblib/parallel.py\", line 924, in __call__\n",
      "    while self.dispatch_one_batch(iterator):\n",
      "  File \"/Users/leec/opt/anaconda3/lib/python3.7/site-packages/joblib/parallel.py\", line 759, in dispatch_one_batch\n",
      "    self._dispatch(tasks)\n",
      "  File \"/Users/leec/opt/anaconda3/lib/python3.7/site-packages/joblib/parallel.py\", line 716, in _dispatch\n",
      "    job = self._backend.apply_async(batch, callback=cb)\n",
      "  File \"/Users/leec/opt/anaconda3/lib/python3.7/site-packages/joblib/_parallel_backends.py\", line 182, in apply_async\n",
      "    result = ImmediateResult(func)\n",
      "  File \"/Users/leec/opt/anaconda3/lib/python3.7/site-packages/joblib/_parallel_backends.py\", line 549, in __init__\n",
      "    self.results = batch()\n",
      "  File \"/Users/leec/opt/anaconda3/lib/python3.7/site-packages/joblib/parallel.py\", line 225, in __call__\n",
      "    for func, args, kwargs in self.items]\n",
      "  File \"/Users/leec/opt/anaconda3/lib/python3.7/site-packages/joblib/parallel.py\", line 225, in <listcomp>\n",
      "    for func, args, kwargs in self.items]\n",
      "  File \"/Users/leec/opt/anaconda3/lib/python3.7/site-packages/sklearn/multioutput.py\", line 40, in _fit_estimator\n",
      "    estimator.fit(X, y, **fit_params)\n",
      "  File \"/Users/leec/opt/anaconda3/lib/python3.7/site-packages/sklearn/svm/_base.py\", line 164, in fit\n",
      "    y = self._validate_targets(y)\n",
      "  File \"/Users/leec/opt/anaconda3/lib/python3.7/site-packages/sklearn/svm/_base.py\", line 551, in _validate_targets\n",
      "    \" class\" % len(cls))\n",
      "ValueError: The number of classes has to be greater than one; got 1 class\n",
      "\n",
      "  FitFailedWarning)\n"
     ]
    },
    {
     "name": "stderr",
     "output_type": "stream",
     "text": [
      "/Users/leec/opt/anaconda3/lib/python3.7/site-packages/sklearn/model_selection/_validation.py:552: FitFailedWarning: Estimator fit failed. The score on this train-test partition for these parameters will be set to nan. Details: \n",
      "Traceback (most recent call last):\n",
      "  File \"/Users/leec/opt/anaconda3/lib/python3.7/site-packages/sklearn/model_selection/_validation.py\", line 531, in _fit_and_score\n",
      "    estimator.fit(X_train, y_train, **fit_params)\n",
      "  File \"/Users/leec/opt/anaconda3/lib/python3.7/site-packages/sklearn/pipeline.py\", line 334, in fit\n",
      "    self._final_estimator.fit(Xt, y, **fit_params_last_step)\n",
      "  File \"/Users/leec/opt/anaconda3/lib/python3.7/site-packages/sklearn/multioutput.py\", line 350, in fit\n",
      "    super().fit(X, Y, sample_weight, **fit_params)\n",
      "  File \"/Users/leec/opt/anaconda3/lib/python3.7/site-packages/sklearn/multioutput.py\", line 175, in fit\n",
      "    for i in range(y.shape[1]))\n",
      "  File \"/Users/leec/opt/anaconda3/lib/python3.7/site-packages/joblib/parallel.py\", line 924, in __call__\n",
      "    while self.dispatch_one_batch(iterator):\n",
      "  File \"/Users/leec/opt/anaconda3/lib/python3.7/site-packages/joblib/parallel.py\", line 759, in dispatch_one_batch\n",
      "    self._dispatch(tasks)\n",
      "  File \"/Users/leec/opt/anaconda3/lib/python3.7/site-packages/joblib/parallel.py\", line 716, in _dispatch\n",
      "    job = self._backend.apply_async(batch, callback=cb)\n",
      "  File \"/Users/leec/opt/anaconda3/lib/python3.7/site-packages/joblib/_parallel_backends.py\", line 182, in apply_async\n",
      "    result = ImmediateResult(func)\n",
      "  File \"/Users/leec/opt/anaconda3/lib/python3.7/site-packages/joblib/_parallel_backends.py\", line 549, in __init__\n",
      "    self.results = batch()\n",
      "  File \"/Users/leec/opt/anaconda3/lib/python3.7/site-packages/joblib/parallel.py\", line 225, in __call__\n",
      "    for func, args, kwargs in self.items]\n",
      "  File \"/Users/leec/opt/anaconda3/lib/python3.7/site-packages/joblib/parallel.py\", line 225, in <listcomp>\n",
      "    for func, args, kwargs in self.items]\n",
      "  File \"/Users/leec/opt/anaconda3/lib/python3.7/site-packages/sklearn/multioutput.py\", line 40, in _fit_estimator\n",
      "    estimator.fit(X, y, **fit_params)\n",
      "  File \"/Users/leec/opt/anaconda3/lib/python3.7/site-packages/sklearn/svm/_base.py\", line 164, in fit\n",
      "    y = self._validate_targets(y)\n",
      "  File \"/Users/leec/opt/anaconda3/lib/python3.7/site-packages/sklearn/svm/_base.py\", line 551, in _validate_targets\n",
      "    \" class\" % len(cls))\n",
      "ValueError: The number of classes has to be greater than one; got 1 class\n",
      "\n",
      "  FitFailedWarning)\n",
      "/Users/leec/opt/anaconda3/lib/python3.7/site-packages/sklearn/model_selection/_validation.py:552: FitFailedWarning: Estimator fit failed. The score on this train-test partition for these parameters will be set to nan. Details: \n",
      "Traceback (most recent call last):\n",
      "  File \"/Users/leec/opt/anaconda3/lib/python3.7/site-packages/sklearn/model_selection/_validation.py\", line 531, in _fit_and_score\n",
      "    estimator.fit(X_train, y_train, **fit_params)\n",
      "  File \"/Users/leec/opt/anaconda3/lib/python3.7/site-packages/sklearn/pipeline.py\", line 334, in fit\n",
      "    self._final_estimator.fit(Xt, y, **fit_params_last_step)\n",
      "  File \"/Users/leec/opt/anaconda3/lib/python3.7/site-packages/sklearn/multioutput.py\", line 350, in fit\n",
      "    super().fit(X, Y, sample_weight, **fit_params)\n",
      "  File \"/Users/leec/opt/anaconda3/lib/python3.7/site-packages/sklearn/multioutput.py\", line 175, in fit\n",
      "    for i in range(y.shape[1]))\n",
      "  File \"/Users/leec/opt/anaconda3/lib/python3.7/site-packages/joblib/parallel.py\", line 924, in __call__\n",
      "    while self.dispatch_one_batch(iterator):\n",
      "  File \"/Users/leec/opt/anaconda3/lib/python3.7/site-packages/joblib/parallel.py\", line 759, in dispatch_one_batch\n",
      "    self._dispatch(tasks)\n",
      "  File \"/Users/leec/opt/anaconda3/lib/python3.7/site-packages/joblib/parallel.py\", line 716, in _dispatch\n",
      "    job = self._backend.apply_async(batch, callback=cb)\n",
      "  File \"/Users/leec/opt/anaconda3/lib/python3.7/site-packages/joblib/_parallel_backends.py\", line 182, in apply_async\n",
      "    result = ImmediateResult(func)\n",
      "  File \"/Users/leec/opt/anaconda3/lib/python3.7/site-packages/joblib/_parallel_backends.py\", line 549, in __init__\n",
      "    self.results = batch()\n",
      "  File \"/Users/leec/opt/anaconda3/lib/python3.7/site-packages/joblib/parallel.py\", line 225, in __call__\n",
      "    for func, args, kwargs in self.items]\n",
      "  File \"/Users/leec/opt/anaconda3/lib/python3.7/site-packages/joblib/parallel.py\", line 225, in <listcomp>\n",
      "    for func, args, kwargs in self.items]\n",
      "  File \"/Users/leec/opt/anaconda3/lib/python3.7/site-packages/sklearn/multioutput.py\", line 40, in _fit_estimator\n",
      "    estimator.fit(X, y, **fit_params)\n",
      "  File \"/Users/leec/opt/anaconda3/lib/python3.7/site-packages/sklearn/svm/_base.py\", line 164, in fit\n",
      "    y = self._validate_targets(y)\n",
      "  File \"/Users/leec/opt/anaconda3/lib/python3.7/site-packages/sklearn/svm/_base.py\", line 551, in _validate_targets\n",
      "    \" class\" % len(cls))\n",
      "ValueError: The number of classes has to be greater than one; got 1 class\n",
      "\n",
      "  FitFailedWarning)\n",
      "/Users/leec/opt/anaconda3/lib/python3.7/site-packages/sklearn/model_selection/_validation.py:552: FitFailedWarning: Estimator fit failed. The score on this train-test partition for these parameters will be set to nan. Details: \n",
      "Traceback (most recent call last):\n",
      "  File \"/Users/leec/opt/anaconda3/lib/python3.7/site-packages/sklearn/model_selection/_validation.py\", line 531, in _fit_and_score\n",
      "    estimator.fit(X_train, y_train, **fit_params)\n",
      "  File \"/Users/leec/opt/anaconda3/lib/python3.7/site-packages/sklearn/pipeline.py\", line 334, in fit\n",
      "    self._final_estimator.fit(Xt, y, **fit_params_last_step)\n",
      "  File \"/Users/leec/opt/anaconda3/lib/python3.7/site-packages/sklearn/multioutput.py\", line 350, in fit\n",
      "    super().fit(X, Y, sample_weight, **fit_params)\n",
      "  File \"/Users/leec/opt/anaconda3/lib/python3.7/site-packages/sklearn/multioutput.py\", line 175, in fit\n",
      "    for i in range(y.shape[1]))\n",
      "  File \"/Users/leec/opt/anaconda3/lib/python3.7/site-packages/joblib/parallel.py\", line 924, in __call__\n",
      "    while self.dispatch_one_batch(iterator):\n",
      "  File \"/Users/leec/opt/anaconda3/lib/python3.7/site-packages/joblib/parallel.py\", line 759, in dispatch_one_batch\n",
      "    self._dispatch(tasks)\n",
      "  File \"/Users/leec/opt/anaconda3/lib/python3.7/site-packages/joblib/parallel.py\", line 716, in _dispatch\n",
      "    job = self._backend.apply_async(batch, callback=cb)\n",
      "  File \"/Users/leec/opt/anaconda3/lib/python3.7/site-packages/joblib/_parallel_backends.py\", line 182, in apply_async\n",
      "    result = ImmediateResult(func)\n",
      "  File \"/Users/leec/opt/anaconda3/lib/python3.7/site-packages/joblib/_parallel_backends.py\", line 549, in __init__\n",
      "    self.results = batch()\n",
      "  File \"/Users/leec/opt/anaconda3/lib/python3.7/site-packages/joblib/parallel.py\", line 225, in __call__\n",
      "    for func, args, kwargs in self.items]\n",
      "  File \"/Users/leec/opt/anaconda3/lib/python3.7/site-packages/joblib/parallel.py\", line 225, in <listcomp>\n",
      "    for func, args, kwargs in self.items]\n",
      "  File \"/Users/leec/opt/anaconda3/lib/python3.7/site-packages/sklearn/multioutput.py\", line 40, in _fit_estimator\n",
      "    estimator.fit(X, y, **fit_params)\n",
      "  File \"/Users/leec/opt/anaconda3/lib/python3.7/site-packages/sklearn/svm/_base.py\", line 164, in fit\n",
      "    y = self._validate_targets(y)\n",
      "  File \"/Users/leec/opt/anaconda3/lib/python3.7/site-packages/sklearn/svm/_base.py\", line 551, in _validate_targets\n",
      "    \" class\" % len(cls))\n",
      "ValueError: The number of classes has to be greater than one; got 1 class\n",
      "\n",
      "  FitFailedWarning)\n",
      "/Users/leec/opt/anaconda3/lib/python3.7/site-packages/sklearn/model_selection/_validation.py:552: FitFailedWarning: Estimator fit failed. The score on this train-test partition for these parameters will be set to nan. Details: \n",
      "Traceback (most recent call last):\n",
      "  File \"/Users/leec/opt/anaconda3/lib/python3.7/site-packages/sklearn/model_selection/_validation.py\", line 531, in _fit_and_score\n",
      "    estimator.fit(X_train, y_train, **fit_params)\n",
      "  File \"/Users/leec/opt/anaconda3/lib/python3.7/site-packages/sklearn/pipeline.py\", line 334, in fit\n",
      "    self._final_estimator.fit(Xt, y, **fit_params_last_step)\n",
      "  File \"/Users/leec/opt/anaconda3/lib/python3.7/site-packages/sklearn/multioutput.py\", line 350, in fit\n",
      "    super().fit(X, Y, sample_weight, **fit_params)\n",
      "  File \"/Users/leec/opt/anaconda3/lib/python3.7/site-packages/sklearn/multioutput.py\", line 175, in fit\n",
      "    for i in range(y.shape[1]))\n",
      "  File \"/Users/leec/opt/anaconda3/lib/python3.7/site-packages/joblib/parallel.py\", line 924, in __call__\n",
      "    while self.dispatch_one_batch(iterator):\n",
      "  File \"/Users/leec/opt/anaconda3/lib/python3.7/site-packages/joblib/parallel.py\", line 759, in dispatch_one_batch\n",
      "    self._dispatch(tasks)\n",
      "  File \"/Users/leec/opt/anaconda3/lib/python3.7/site-packages/joblib/parallel.py\", line 716, in _dispatch\n",
      "    job = self._backend.apply_async(batch, callback=cb)\n",
      "  File \"/Users/leec/opt/anaconda3/lib/python3.7/site-packages/joblib/_parallel_backends.py\", line 182, in apply_async\n",
      "    result = ImmediateResult(func)\n",
      "  File \"/Users/leec/opt/anaconda3/lib/python3.7/site-packages/joblib/_parallel_backends.py\", line 549, in __init__\n",
      "    self.results = batch()\n",
      "  File \"/Users/leec/opt/anaconda3/lib/python3.7/site-packages/joblib/parallel.py\", line 225, in __call__\n",
      "    for func, args, kwargs in self.items]\n",
      "  File \"/Users/leec/opt/anaconda3/lib/python3.7/site-packages/joblib/parallel.py\", line 225, in <listcomp>\n",
      "    for func, args, kwargs in self.items]\n",
      "  File \"/Users/leec/opt/anaconda3/lib/python3.7/site-packages/sklearn/multioutput.py\", line 40, in _fit_estimator\n",
      "    estimator.fit(X, y, **fit_params)\n",
      "  File \"/Users/leec/opt/anaconda3/lib/python3.7/site-packages/sklearn/svm/_base.py\", line 164, in fit\n",
      "    y = self._validate_targets(y)\n",
      "  File \"/Users/leec/opt/anaconda3/lib/python3.7/site-packages/sklearn/svm/_base.py\", line 551, in _validate_targets\n",
      "    \" class\" % len(cls))\n",
      "ValueError: The number of classes has to be greater than one; got 1 class\n",
      "\n",
      "  FitFailedWarning)\n"
     ]
    },
    {
     "name": "stderr",
     "output_type": "stream",
     "text": [
      "/Users/leec/opt/anaconda3/lib/python3.7/site-packages/sklearn/model_selection/_validation.py:552: FitFailedWarning: Estimator fit failed. The score on this train-test partition for these parameters will be set to nan. Details: \n",
      "Traceback (most recent call last):\n",
      "  File \"/Users/leec/opt/anaconda3/lib/python3.7/site-packages/sklearn/model_selection/_validation.py\", line 531, in _fit_and_score\n",
      "    estimator.fit(X_train, y_train, **fit_params)\n",
      "  File \"/Users/leec/opt/anaconda3/lib/python3.7/site-packages/sklearn/pipeline.py\", line 334, in fit\n",
      "    self._final_estimator.fit(Xt, y, **fit_params_last_step)\n",
      "  File \"/Users/leec/opt/anaconda3/lib/python3.7/site-packages/sklearn/multioutput.py\", line 350, in fit\n",
      "    super().fit(X, Y, sample_weight, **fit_params)\n",
      "  File \"/Users/leec/opt/anaconda3/lib/python3.7/site-packages/sklearn/multioutput.py\", line 175, in fit\n",
      "    for i in range(y.shape[1]))\n",
      "  File \"/Users/leec/opt/anaconda3/lib/python3.7/site-packages/joblib/parallel.py\", line 924, in __call__\n",
      "    while self.dispatch_one_batch(iterator):\n",
      "  File \"/Users/leec/opt/anaconda3/lib/python3.7/site-packages/joblib/parallel.py\", line 759, in dispatch_one_batch\n",
      "    self._dispatch(tasks)\n",
      "  File \"/Users/leec/opt/anaconda3/lib/python3.7/site-packages/joblib/parallel.py\", line 716, in _dispatch\n",
      "    job = self._backend.apply_async(batch, callback=cb)\n",
      "  File \"/Users/leec/opt/anaconda3/lib/python3.7/site-packages/joblib/_parallel_backends.py\", line 182, in apply_async\n",
      "    result = ImmediateResult(func)\n",
      "  File \"/Users/leec/opt/anaconda3/lib/python3.7/site-packages/joblib/_parallel_backends.py\", line 549, in __init__\n",
      "    self.results = batch()\n",
      "  File \"/Users/leec/opt/anaconda3/lib/python3.7/site-packages/joblib/parallel.py\", line 225, in __call__\n",
      "    for func, args, kwargs in self.items]\n",
      "  File \"/Users/leec/opt/anaconda3/lib/python3.7/site-packages/joblib/parallel.py\", line 225, in <listcomp>\n",
      "    for func, args, kwargs in self.items]\n",
      "  File \"/Users/leec/opt/anaconda3/lib/python3.7/site-packages/sklearn/multioutput.py\", line 40, in _fit_estimator\n",
      "    estimator.fit(X, y, **fit_params)\n",
      "  File \"/Users/leec/opt/anaconda3/lib/python3.7/site-packages/sklearn/svm/_base.py\", line 164, in fit\n",
      "    y = self._validate_targets(y)\n",
      "  File \"/Users/leec/opt/anaconda3/lib/python3.7/site-packages/sklearn/svm/_base.py\", line 551, in _validate_targets\n",
      "    \" class\" % len(cls))\n",
      "ValueError: The number of classes has to be greater than one; got 1 class\n",
      "\n",
      "  FitFailedWarning)\n",
      "/Users/leec/opt/anaconda3/lib/python3.7/site-packages/sklearn/model_selection/_validation.py:552: FitFailedWarning: Estimator fit failed. The score on this train-test partition for these parameters will be set to nan. Details: \n",
      "Traceback (most recent call last):\n",
      "  File \"/Users/leec/opt/anaconda3/lib/python3.7/site-packages/sklearn/model_selection/_validation.py\", line 531, in _fit_and_score\n",
      "    estimator.fit(X_train, y_train, **fit_params)\n",
      "  File \"/Users/leec/opt/anaconda3/lib/python3.7/site-packages/sklearn/pipeline.py\", line 334, in fit\n",
      "    self._final_estimator.fit(Xt, y, **fit_params_last_step)\n",
      "  File \"/Users/leec/opt/anaconda3/lib/python3.7/site-packages/sklearn/multioutput.py\", line 350, in fit\n",
      "    super().fit(X, Y, sample_weight, **fit_params)\n",
      "  File \"/Users/leec/opt/anaconda3/lib/python3.7/site-packages/sklearn/multioutput.py\", line 175, in fit\n",
      "    for i in range(y.shape[1]))\n",
      "  File \"/Users/leec/opt/anaconda3/lib/python3.7/site-packages/joblib/parallel.py\", line 924, in __call__\n",
      "    while self.dispatch_one_batch(iterator):\n",
      "  File \"/Users/leec/opt/anaconda3/lib/python3.7/site-packages/joblib/parallel.py\", line 759, in dispatch_one_batch\n",
      "    self._dispatch(tasks)\n",
      "  File \"/Users/leec/opt/anaconda3/lib/python3.7/site-packages/joblib/parallel.py\", line 716, in _dispatch\n",
      "    job = self._backend.apply_async(batch, callback=cb)\n",
      "  File \"/Users/leec/opt/anaconda3/lib/python3.7/site-packages/joblib/_parallel_backends.py\", line 182, in apply_async\n",
      "    result = ImmediateResult(func)\n",
      "  File \"/Users/leec/opt/anaconda3/lib/python3.7/site-packages/joblib/_parallel_backends.py\", line 549, in __init__\n",
      "    self.results = batch()\n",
      "  File \"/Users/leec/opt/anaconda3/lib/python3.7/site-packages/joblib/parallel.py\", line 225, in __call__\n",
      "    for func, args, kwargs in self.items]\n",
      "  File \"/Users/leec/opt/anaconda3/lib/python3.7/site-packages/joblib/parallel.py\", line 225, in <listcomp>\n",
      "    for func, args, kwargs in self.items]\n",
      "  File \"/Users/leec/opt/anaconda3/lib/python3.7/site-packages/sklearn/multioutput.py\", line 40, in _fit_estimator\n",
      "    estimator.fit(X, y, **fit_params)\n",
      "  File \"/Users/leec/opt/anaconda3/lib/python3.7/site-packages/sklearn/svm/_base.py\", line 164, in fit\n",
      "    y = self._validate_targets(y)\n",
      "  File \"/Users/leec/opt/anaconda3/lib/python3.7/site-packages/sklearn/svm/_base.py\", line 551, in _validate_targets\n",
      "    \" class\" % len(cls))\n",
      "ValueError: The number of classes has to be greater than one; got 1 class\n",
      "\n",
      "  FitFailedWarning)\n",
      "/Users/leec/opt/anaconda3/lib/python3.7/site-packages/sklearn/model_selection/_validation.py:552: FitFailedWarning: Estimator fit failed. The score on this train-test partition for these parameters will be set to nan. Details: \n",
      "Traceback (most recent call last):\n",
      "  File \"/Users/leec/opt/anaconda3/lib/python3.7/site-packages/sklearn/model_selection/_validation.py\", line 531, in _fit_and_score\n",
      "    estimator.fit(X_train, y_train, **fit_params)\n",
      "  File \"/Users/leec/opt/anaconda3/lib/python3.7/site-packages/sklearn/pipeline.py\", line 334, in fit\n",
      "    self._final_estimator.fit(Xt, y, **fit_params_last_step)\n",
      "  File \"/Users/leec/opt/anaconda3/lib/python3.7/site-packages/sklearn/multioutput.py\", line 350, in fit\n",
      "    super().fit(X, Y, sample_weight, **fit_params)\n",
      "  File \"/Users/leec/opt/anaconda3/lib/python3.7/site-packages/sklearn/multioutput.py\", line 175, in fit\n",
      "    for i in range(y.shape[1]))\n",
      "  File \"/Users/leec/opt/anaconda3/lib/python3.7/site-packages/joblib/parallel.py\", line 924, in __call__\n",
      "    while self.dispatch_one_batch(iterator):\n",
      "  File \"/Users/leec/opt/anaconda3/lib/python3.7/site-packages/joblib/parallel.py\", line 759, in dispatch_one_batch\n",
      "    self._dispatch(tasks)\n",
      "  File \"/Users/leec/opt/anaconda3/lib/python3.7/site-packages/joblib/parallel.py\", line 716, in _dispatch\n",
      "    job = self._backend.apply_async(batch, callback=cb)\n",
      "  File \"/Users/leec/opt/anaconda3/lib/python3.7/site-packages/joblib/_parallel_backends.py\", line 182, in apply_async\n",
      "    result = ImmediateResult(func)\n",
      "  File \"/Users/leec/opt/anaconda3/lib/python3.7/site-packages/joblib/_parallel_backends.py\", line 549, in __init__\n",
      "    self.results = batch()\n",
      "  File \"/Users/leec/opt/anaconda3/lib/python3.7/site-packages/joblib/parallel.py\", line 225, in __call__\n",
      "    for func, args, kwargs in self.items]\n",
      "  File \"/Users/leec/opt/anaconda3/lib/python3.7/site-packages/joblib/parallel.py\", line 225, in <listcomp>\n",
      "    for func, args, kwargs in self.items]\n",
      "  File \"/Users/leec/opt/anaconda3/lib/python3.7/site-packages/sklearn/multioutput.py\", line 40, in _fit_estimator\n",
      "    estimator.fit(X, y, **fit_params)\n",
      "  File \"/Users/leec/opt/anaconda3/lib/python3.7/site-packages/sklearn/svm/_base.py\", line 164, in fit\n",
      "    y = self._validate_targets(y)\n",
      "  File \"/Users/leec/opt/anaconda3/lib/python3.7/site-packages/sklearn/svm/_base.py\", line 551, in _validate_targets\n",
      "    \" class\" % len(cls))\n",
      "ValueError: The number of classes has to be greater than one; got 1 class\n",
      "\n",
      "  FitFailedWarning)\n",
      "/Users/leec/opt/anaconda3/lib/python3.7/site-packages/sklearn/model_selection/_validation.py:552: FitFailedWarning: Estimator fit failed. The score on this train-test partition for these parameters will be set to nan. Details: \n",
      "Traceback (most recent call last):\n",
      "  File \"/Users/leec/opt/anaconda3/lib/python3.7/site-packages/sklearn/model_selection/_validation.py\", line 531, in _fit_and_score\n",
      "    estimator.fit(X_train, y_train, **fit_params)\n",
      "  File \"/Users/leec/opt/anaconda3/lib/python3.7/site-packages/sklearn/pipeline.py\", line 334, in fit\n",
      "    self._final_estimator.fit(Xt, y, **fit_params_last_step)\n",
      "  File \"/Users/leec/opt/anaconda3/lib/python3.7/site-packages/sklearn/multioutput.py\", line 350, in fit\n",
      "    super().fit(X, Y, sample_weight, **fit_params)\n",
      "  File \"/Users/leec/opt/anaconda3/lib/python3.7/site-packages/sklearn/multioutput.py\", line 175, in fit\n",
      "    for i in range(y.shape[1]))\n",
      "  File \"/Users/leec/opt/anaconda3/lib/python3.7/site-packages/joblib/parallel.py\", line 924, in __call__\n",
      "    while self.dispatch_one_batch(iterator):\n",
      "  File \"/Users/leec/opt/anaconda3/lib/python3.7/site-packages/joblib/parallel.py\", line 759, in dispatch_one_batch\n",
      "    self._dispatch(tasks)\n",
      "  File \"/Users/leec/opt/anaconda3/lib/python3.7/site-packages/joblib/parallel.py\", line 716, in _dispatch\n",
      "    job = self._backend.apply_async(batch, callback=cb)\n",
      "  File \"/Users/leec/opt/anaconda3/lib/python3.7/site-packages/joblib/_parallel_backends.py\", line 182, in apply_async\n",
      "    result = ImmediateResult(func)\n",
      "  File \"/Users/leec/opt/anaconda3/lib/python3.7/site-packages/joblib/_parallel_backends.py\", line 549, in __init__\n",
      "    self.results = batch()\n",
      "  File \"/Users/leec/opt/anaconda3/lib/python3.7/site-packages/joblib/parallel.py\", line 225, in __call__\n",
      "    for func, args, kwargs in self.items]\n",
      "  File \"/Users/leec/opt/anaconda3/lib/python3.7/site-packages/joblib/parallel.py\", line 225, in <listcomp>\n",
      "    for func, args, kwargs in self.items]\n",
      "  File \"/Users/leec/opt/anaconda3/lib/python3.7/site-packages/sklearn/multioutput.py\", line 40, in _fit_estimator\n",
      "    estimator.fit(X, y, **fit_params)\n",
      "  File \"/Users/leec/opt/anaconda3/lib/python3.7/site-packages/sklearn/svm/_base.py\", line 164, in fit\n",
      "    y = self._validate_targets(y)\n",
      "  File \"/Users/leec/opt/anaconda3/lib/python3.7/site-packages/sklearn/svm/_base.py\", line 551, in _validate_targets\n",
      "    \" class\" % len(cls))\n",
      "ValueError: The number of classes has to be greater than one; got 1 class\n",
      "\n",
      "  FitFailedWarning)\n"
     ]
    },
    {
     "name": "stderr",
     "output_type": "stream",
     "text": [
      "/Users/leec/opt/anaconda3/lib/python3.7/site-packages/sklearn/model_selection/_validation.py:552: FitFailedWarning: Estimator fit failed. The score on this train-test partition for these parameters will be set to nan. Details: \n",
      "Traceback (most recent call last):\n",
      "  File \"/Users/leec/opt/anaconda3/lib/python3.7/site-packages/sklearn/model_selection/_validation.py\", line 531, in _fit_and_score\n",
      "    estimator.fit(X_train, y_train, **fit_params)\n",
      "  File \"/Users/leec/opt/anaconda3/lib/python3.7/site-packages/sklearn/pipeline.py\", line 334, in fit\n",
      "    self._final_estimator.fit(Xt, y, **fit_params_last_step)\n",
      "  File \"/Users/leec/opt/anaconda3/lib/python3.7/site-packages/sklearn/multioutput.py\", line 350, in fit\n",
      "    super().fit(X, Y, sample_weight, **fit_params)\n",
      "  File \"/Users/leec/opt/anaconda3/lib/python3.7/site-packages/sklearn/multioutput.py\", line 175, in fit\n",
      "    for i in range(y.shape[1]))\n",
      "  File \"/Users/leec/opt/anaconda3/lib/python3.7/site-packages/joblib/parallel.py\", line 924, in __call__\n",
      "    while self.dispatch_one_batch(iterator):\n",
      "  File \"/Users/leec/opt/anaconda3/lib/python3.7/site-packages/joblib/parallel.py\", line 759, in dispatch_one_batch\n",
      "    self._dispatch(tasks)\n",
      "  File \"/Users/leec/opt/anaconda3/lib/python3.7/site-packages/joblib/parallel.py\", line 716, in _dispatch\n",
      "    job = self._backend.apply_async(batch, callback=cb)\n",
      "  File \"/Users/leec/opt/anaconda3/lib/python3.7/site-packages/joblib/_parallel_backends.py\", line 182, in apply_async\n",
      "    result = ImmediateResult(func)\n",
      "  File \"/Users/leec/opt/anaconda3/lib/python3.7/site-packages/joblib/_parallel_backends.py\", line 549, in __init__\n",
      "    self.results = batch()\n",
      "  File \"/Users/leec/opt/anaconda3/lib/python3.7/site-packages/joblib/parallel.py\", line 225, in __call__\n",
      "    for func, args, kwargs in self.items]\n",
      "  File \"/Users/leec/opt/anaconda3/lib/python3.7/site-packages/joblib/parallel.py\", line 225, in <listcomp>\n",
      "    for func, args, kwargs in self.items]\n",
      "  File \"/Users/leec/opt/anaconda3/lib/python3.7/site-packages/sklearn/multioutput.py\", line 40, in _fit_estimator\n",
      "    estimator.fit(X, y, **fit_params)\n",
      "  File \"/Users/leec/opt/anaconda3/lib/python3.7/site-packages/sklearn/svm/_base.py\", line 164, in fit\n",
      "    y = self._validate_targets(y)\n",
      "  File \"/Users/leec/opt/anaconda3/lib/python3.7/site-packages/sklearn/svm/_base.py\", line 551, in _validate_targets\n",
      "    \" class\" % len(cls))\n",
      "ValueError: The number of classes has to be greater than one; got 1 class\n",
      "\n",
      "  FitFailedWarning)\n",
      "/Users/leec/opt/anaconda3/lib/python3.7/site-packages/sklearn/model_selection/_validation.py:552: FitFailedWarning: Estimator fit failed. The score on this train-test partition for these parameters will be set to nan. Details: \n",
      "Traceback (most recent call last):\n",
      "  File \"/Users/leec/opt/anaconda3/lib/python3.7/site-packages/sklearn/model_selection/_validation.py\", line 531, in _fit_and_score\n",
      "    estimator.fit(X_train, y_train, **fit_params)\n",
      "  File \"/Users/leec/opt/anaconda3/lib/python3.7/site-packages/sklearn/pipeline.py\", line 334, in fit\n",
      "    self._final_estimator.fit(Xt, y, **fit_params_last_step)\n",
      "  File \"/Users/leec/opt/anaconda3/lib/python3.7/site-packages/sklearn/multioutput.py\", line 350, in fit\n",
      "    super().fit(X, Y, sample_weight, **fit_params)\n",
      "  File \"/Users/leec/opt/anaconda3/lib/python3.7/site-packages/sklearn/multioutput.py\", line 175, in fit\n",
      "    for i in range(y.shape[1]))\n",
      "  File \"/Users/leec/opt/anaconda3/lib/python3.7/site-packages/joblib/parallel.py\", line 924, in __call__\n",
      "    while self.dispatch_one_batch(iterator):\n",
      "  File \"/Users/leec/opt/anaconda3/lib/python3.7/site-packages/joblib/parallel.py\", line 759, in dispatch_one_batch\n",
      "    self._dispatch(tasks)\n",
      "  File \"/Users/leec/opt/anaconda3/lib/python3.7/site-packages/joblib/parallel.py\", line 716, in _dispatch\n",
      "    job = self._backend.apply_async(batch, callback=cb)\n",
      "  File \"/Users/leec/opt/anaconda3/lib/python3.7/site-packages/joblib/_parallel_backends.py\", line 182, in apply_async\n",
      "    result = ImmediateResult(func)\n",
      "  File \"/Users/leec/opt/anaconda3/lib/python3.7/site-packages/joblib/_parallel_backends.py\", line 549, in __init__\n",
      "    self.results = batch()\n",
      "  File \"/Users/leec/opt/anaconda3/lib/python3.7/site-packages/joblib/parallel.py\", line 225, in __call__\n",
      "    for func, args, kwargs in self.items]\n",
      "  File \"/Users/leec/opt/anaconda3/lib/python3.7/site-packages/joblib/parallel.py\", line 225, in <listcomp>\n",
      "    for func, args, kwargs in self.items]\n",
      "  File \"/Users/leec/opt/anaconda3/lib/python3.7/site-packages/sklearn/multioutput.py\", line 40, in _fit_estimator\n",
      "    estimator.fit(X, y, **fit_params)\n",
      "  File \"/Users/leec/opt/anaconda3/lib/python3.7/site-packages/sklearn/svm/_base.py\", line 164, in fit\n",
      "    y = self._validate_targets(y)\n",
      "  File \"/Users/leec/opt/anaconda3/lib/python3.7/site-packages/sklearn/svm/_base.py\", line 551, in _validate_targets\n",
      "    \" class\" % len(cls))\n",
      "ValueError: The number of classes has to be greater than one; got 1 class\n",
      "\n",
      "  FitFailedWarning)\n",
      "/Users/leec/opt/anaconda3/lib/python3.7/site-packages/sklearn/model_selection/_validation.py:552: FitFailedWarning: Estimator fit failed. The score on this train-test partition for these parameters will be set to nan. Details: \n",
      "Traceback (most recent call last):\n",
      "  File \"/Users/leec/opt/anaconda3/lib/python3.7/site-packages/sklearn/model_selection/_validation.py\", line 531, in _fit_and_score\n",
      "    estimator.fit(X_train, y_train, **fit_params)\n",
      "  File \"/Users/leec/opt/anaconda3/lib/python3.7/site-packages/sklearn/pipeline.py\", line 334, in fit\n",
      "    self._final_estimator.fit(Xt, y, **fit_params_last_step)\n",
      "  File \"/Users/leec/opt/anaconda3/lib/python3.7/site-packages/sklearn/multioutput.py\", line 350, in fit\n",
      "    super().fit(X, Y, sample_weight, **fit_params)\n",
      "  File \"/Users/leec/opt/anaconda3/lib/python3.7/site-packages/sklearn/multioutput.py\", line 175, in fit\n",
      "    for i in range(y.shape[1]))\n",
      "  File \"/Users/leec/opt/anaconda3/lib/python3.7/site-packages/joblib/parallel.py\", line 924, in __call__\n",
      "    while self.dispatch_one_batch(iterator):\n",
      "  File \"/Users/leec/opt/anaconda3/lib/python3.7/site-packages/joblib/parallel.py\", line 759, in dispatch_one_batch\n",
      "    self._dispatch(tasks)\n",
      "  File \"/Users/leec/opt/anaconda3/lib/python3.7/site-packages/joblib/parallel.py\", line 716, in _dispatch\n",
      "    job = self._backend.apply_async(batch, callback=cb)\n",
      "  File \"/Users/leec/opt/anaconda3/lib/python3.7/site-packages/joblib/_parallel_backends.py\", line 182, in apply_async\n",
      "    result = ImmediateResult(func)\n",
      "  File \"/Users/leec/opt/anaconda3/lib/python3.7/site-packages/joblib/_parallel_backends.py\", line 549, in __init__\n",
      "    self.results = batch()\n",
      "  File \"/Users/leec/opt/anaconda3/lib/python3.7/site-packages/joblib/parallel.py\", line 225, in __call__\n",
      "    for func, args, kwargs in self.items]\n",
      "  File \"/Users/leec/opt/anaconda3/lib/python3.7/site-packages/joblib/parallel.py\", line 225, in <listcomp>\n",
      "    for func, args, kwargs in self.items]\n",
      "  File \"/Users/leec/opt/anaconda3/lib/python3.7/site-packages/sklearn/multioutput.py\", line 40, in _fit_estimator\n",
      "    estimator.fit(X, y, **fit_params)\n",
      "  File \"/Users/leec/opt/anaconda3/lib/python3.7/site-packages/sklearn/svm/_base.py\", line 164, in fit\n",
      "    y = self._validate_targets(y)\n",
      "  File \"/Users/leec/opt/anaconda3/lib/python3.7/site-packages/sklearn/svm/_base.py\", line 551, in _validate_targets\n",
      "    \" class\" % len(cls))\n",
      "ValueError: The number of classes has to be greater than one; got 1 class\n",
      "\n",
      "  FitFailedWarning)\n",
      "/Users/leec/opt/anaconda3/lib/python3.7/site-packages/sklearn/model_selection/_validation.py:552: FitFailedWarning: Estimator fit failed. The score on this train-test partition for these parameters will be set to nan. Details: \n",
      "Traceback (most recent call last):\n",
      "  File \"/Users/leec/opt/anaconda3/lib/python3.7/site-packages/sklearn/model_selection/_validation.py\", line 531, in _fit_and_score\n",
      "    estimator.fit(X_train, y_train, **fit_params)\n",
      "  File \"/Users/leec/opt/anaconda3/lib/python3.7/site-packages/sklearn/pipeline.py\", line 334, in fit\n",
      "    self._final_estimator.fit(Xt, y, **fit_params_last_step)\n",
      "  File \"/Users/leec/opt/anaconda3/lib/python3.7/site-packages/sklearn/multioutput.py\", line 350, in fit\n",
      "    super().fit(X, Y, sample_weight, **fit_params)\n",
      "  File \"/Users/leec/opt/anaconda3/lib/python3.7/site-packages/sklearn/multioutput.py\", line 175, in fit\n",
      "    for i in range(y.shape[1]))\n",
      "  File \"/Users/leec/opt/anaconda3/lib/python3.7/site-packages/joblib/parallel.py\", line 924, in __call__\n",
      "    while self.dispatch_one_batch(iterator):\n",
      "  File \"/Users/leec/opt/anaconda3/lib/python3.7/site-packages/joblib/parallel.py\", line 759, in dispatch_one_batch\n",
      "    self._dispatch(tasks)\n",
      "  File \"/Users/leec/opt/anaconda3/lib/python3.7/site-packages/joblib/parallel.py\", line 716, in _dispatch\n",
      "    job = self._backend.apply_async(batch, callback=cb)\n",
      "  File \"/Users/leec/opt/anaconda3/lib/python3.7/site-packages/joblib/_parallel_backends.py\", line 182, in apply_async\n",
      "    result = ImmediateResult(func)\n",
      "  File \"/Users/leec/opt/anaconda3/lib/python3.7/site-packages/joblib/_parallel_backends.py\", line 549, in __init__\n",
      "    self.results = batch()\n",
      "  File \"/Users/leec/opt/anaconda3/lib/python3.7/site-packages/joblib/parallel.py\", line 225, in __call__\n",
      "    for func, args, kwargs in self.items]\n",
      "  File \"/Users/leec/opt/anaconda3/lib/python3.7/site-packages/joblib/parallel.py\", line 225, in <listcomp>\n",
      "    for func, args, kwargs in self.items]\n",
      "  File \"/Users/leec/opt/anaconda3/lib/python3.7/site-packages/sklearn/multioutput.py\", line 40, in _fit_estimator\n",
      "    estimator.fit(X, y, **fit_params)\n",
      "  File \"/Users/leec/opt/anaconda3/lib/python3.7/site-packages/sklearn/svm/_base.py\", line 164, in fit\n",
      "    y = self._validate_targets(y)\n",
      "  File \"/Users/leec/opt/anaconda3/lib/python3.7/site-packages/sklearn/svm/_base.py\", line 551, in _validate_targets\n",
      "    \" class\" % len(cls))\n",
      "ValueError: The number of classes has to be greater than one; got 1 class\n",
      "\n",
      "  FitFailedWarning)\n"
     ]
    },
    {
     "name": "stderr",
     "output_type": "stream",
     "text": [
      "/Users/leec/opt/anaconda3/lib/python3.7/site-packages/sklearn/model_selection/_validation.py:552: FitFailedWarning: Estimator fit failed. The score on this train-test partition for these parameters will be set to nan. Details: \n",
      "Traceback (most recent call last):\n",
      "  File \"/Users/leec/opt/anaconda3/lib/python3.7/site-packages/sklearn/model_selection/_validation.py\", line 531, in _fit_and_score\n",
      "    estimator.fit(X_train, y_train, **fit_params)\n",
      "  File \"/Users/leec/opt/anaconda3/lib/python3.7/site-packages/sklearn/pipeline.py\", line 334, in fit\n",
      "    self._final_estimator.fit(Xt, y, **fit_params_last_step)\n",
      "  File \"/Users/leec/opt/anaconda3/lib/python3.7/site-packages/sklearn/multioutput.py\", line 350, in fit\n",
      "    super().fit(X, Y, sample_weight, **fit_params)\n",
      "  File \"/Users/leec/opt/anaconda3/lib/python3.7/site-packages/sklearn/multioutput.py\", line 175, in fit\n",
      "    for i in range(y.shape[1]))\n",
      "  File \"/Users/leec/opt/anaconda3/lib/python3.7/site-packages/joblib/parallel.py\", line 924, in __call__\n",
      "    while self.dispatch_one_batch(iterator):\n",
      "  File \"/Users/leec/opt/anaconda3/lib/python3.7/site-packages/joblib/parallel.py\", line 759, in dispatch_one_batch\n",
      "    self._dispatch(tasks)\n",
      "  File \"/Users/leec/opt/anaconda3/lib/python3.7/site-packages/joblib/parallel.py\", line 716, in _dispatch\n",
      "    job = self._backend.apply_async(batch, callback=cb)\n",
      "  File \"/Users/leec/opt/anaconda3/lib/python3.7/site-packages/joblib/_parallel_backends.py\", line 182, in apply_async\n",
      "    result = ImmediateResult(func)\n",
      "  File \"/Users/leec/opt/anaconda3/lib/python3.7/site-packages/joblib/_parallel_backends.py\", line 549, in __init__\n",
      "    self.results = batch()\n",
      "  File \"/Users/leec/opt/anaconda3/lib/python3.7/site-packages/joblib/parallel.py\", line 225, in __call__\n",
      "    for func, args, kwargs in self.items]\n",
      "  File \"/Users/leec/opt/anaconda3/lib/python3.7/site-packages/joblib/parallel.py\", line 225, in <listcomp>\n",
      "    for func, args, kwargs in self.items]\n",
      "  File \"/Users/leec/opt/anaconda3/lib/python3.7/site-packages/sklearn/multioutput.py\", line 40, in _fit_estimator\n",
      "    estimator.fit(X, y, **fit_params)\n",
      "  File \"/Users/leec/opt/anaconda3/lib/python3.7/site-packages/sklearn/svm/_base.py\", line 164, in fit\n",
      "    y = self._validate_targets(y)\n",
      "  File \"/Users/leec/opt/anaconda3/lib/python3.7/site-packages/sklearn/svm/_base.py\", line 551, in _validate_targets\n",
      "    \" class\" % len(cls))\n",
      "ValueError: The number of classes has to be greater than one; got 1 class\n",
      "\n",
      "  FitFailedWarning)\n",
      "/Users/leec/opt/anaconda3/lib/python3.7/site-packages/sklearn/model_selection/_validation.py:552: FitFailedWarning: Estimator fit failed. The score on this train-test partition for these parameters will be set to nan. Details: \n",
      "Traceback (most recent call last):\n",
      "  File \"/Users/leec/opt/anaconda3/lib/python3.7/site-packages/sklearn/model_selection/_validation.py\", line 531, in _fit_and_score\n",
      "    estimator.fit(X_train, y_train, **fit_params)\n",
      "  File \"/Users/leec/opt/anaconda3/lib/python3.7/site-packages/sklearn/pipeline.py\", line 334, in fit\n",
      "    self._final_estimator.fit(Xt, y, **fit_params_last_step)\n",
      "  File \"/Users/leec/opt/anaconda3/lib/python3.7/site-packages/sklearn/multioutput.py\", line 350, in fit\n",
      "    super().fit(X, Y, sample_weight, **fit_params)\n",
      "  File \"/Users/leec/opt/anaconda3/lib/python3.7/site-packages/sklearn/multioutput.py\", line 175, in fit\n",
      "    for i in range(y.shape[1]))\n",
      "  File \"/Users/leec/opt/anaconda3/lib/python3.7/site-packages/joblib/parallel.py\", line 924, in __call__\n",
      "    while self.dispatch_one_batch(iterator):\n",
      "  File \"/Users/leec/opt/anaconda3/lib/python3.7/site-packages/joblib/parallel.py\", line 759, in dispatch_one_batch\n",
      "    self._dispatch(tasks)\n",
      "  File \"/Users/leec/opt/anaconda3/lib/python3.7/site-packages/joblib/parallel.py\", line 716, in _dispatch\n",
      "    job = self._backend.apply_async(batch, callback=cb)\n",
      "  File \"/Users/leec/opt/anaconda3/lib/python3.7/site-packages/joblib/_parallel_backends.py\", line 182, in apply_async\n",
      "    result = ImmediateResult(func)\n",
      "  File \"/Users/leec/opt/anaconda3/lib/python3.7/site-packages/joblib/_parallel_backends.py\", line 549, in __init__\n",
      "    self.results = batch()\n",
      "  File \"/Users/leec/opt/anaconda3/lib/python3.7/site-packages/joblib/parallel.py\", line 225, in __call__\n",
      "    for func, args, kwargs in self.items]\n",
      "  File \"/Users/leec/opt/anaconda3/lib/python3.7/site-packages/joblib/parallel.py\", line 225, in <listcomp>\n",
      "    for func, args, kwargs in self.items]\n",
      "  File \"/Users/leec/opt/anaconda3/lib/python3.7/site-packages/sklearn/multioutput.py\", line 40, in _fit_estimator\n",
      "    estimator.fit(X, y, **fit_params)\n",
      "  File \"/Users/leec/opt/anaconda3/lib/python3.7/site-packages/sklearn/svm/_base.py\", line 164, in fit\n",
      "    y = self._validate_targets(y)\n",
      "  File \"/Users/leec/opt/anaconda3/lib/python3.7/site-packages/sklearn/svm/_base.py\", line 551, in _validate_targets\n",
      "    \" class\" % len(cls))\n",
      "ValueError: The number of classes has to be greater than one; got 1 class\n",
      "\n",
      "  FitFailedWarning)\n",
      "/Users/leec/opt/anaconda3/lib/python3.7/site-packages/sklearn/model_selection/_validation.py:552: FitFailedWarning: Estimator fit failed. The score on this train-test partition for these parameters will be set to nan. Details: \n",
      "Traceback (most recent call last):\n",
      "  File \"/Users/leec/opt/anaconda3/lib/python3.7/site-packages/sklearn/model_selection/_validation.py\", line 531, in _fit_and_score\n",
      "    estimator.fit(X_train, y_train, **fit_params)\n",
      "  File \"/Users/leec/opt/anaconda3/lib/python3.7/site-packages/sklearn/pipeline.py\", line 334, in fit\n",
      "    self._final_estimator.fit(Xt, y, **fit_params_last_step)\n",
      "  File \"/Users/leec/opt/anaconda3/lib/python3.7/site-packages/sklearn/multioutput.py\", line 350, in fit\n",
      "    super().fit(X, Y, sample_weight, **fit_params)\n",
      "  File \"/Users/leec/opt/anaconda3/lib/python3.7/site-packages/sklearn/multioutput.py\", line 175, in fit\n",
      "    for i in range(y.shape[1]))\n",
      "  File \"/Users/leec/opt/anaconda3/lib/python3.7/site-packages/joblib/parallel.py\", line 924, in __call__\n",
      "    while self.dispatch_one_batch(iterator):\n",
      "  File \"/Users/leec/opt/anaconda3/lib/python3.7/site-packages/joblib/parallel.py\", line 759, in dispatch_one_batch\n",
      "    self._dispatch(tasks)\n",
      "  File \"/Users/leec/opt/anaconda3/lib/python3.7/site-packages/joblib/parallel.py\", line 716, in _dispatch\n",
      "    job = self._backend.apply_async(batch, callback=cb)\n",
      "  File \"/Users/leec/opt/anaconda3/lib/python3.7/site-packages/joblib/_parallel_backends.py\", line 182, in apply_async\n",
      "    result = ImmediateResult(func)\n",
      "  File \"/Users/leec/opt/anaconda3/lib/python3.7/site-packages/joblib/_parallel_backends.py\", line 549, in __init__\n",
      "    self.results = batch()\n",
      "  File \"/Users/leec/opt/anaconda3/lib/python3.7/site-packages/joblib/parallel.py\", line 225, in __call__\n",
      "    for func, args, kwargs in self.items]\n",
      "  File \"/Users/leec/opt/anaconda3/lib/python3.7/site-packages/joblib/parallel.py\", line 225, in <listcomp>\n",
      "    for func, args, kwargs in self.items]\n",
      "  File \"/Users/leec/opt/anaconda3/lib/python3.7/site-packages/sklearn/multioutput.py\", line 40, in _fit_estimator\n",
      "    estimator.fit(X, y, **fit_params)\n",
      "  File \"/Users/leec/opt/anaconda3/lib/python3.7/site-packages/sklearn/svm/_base.py\", line 164, in fit\n",
      "    y = self._validate_targets(y)\n",
      "  File \"/Users/leec/opt/anaconda3/lib/python3.7/site-packages/sklearn/svm/_base.py\", line 551, in _validate_targets\n",
      "    \" class\" % len(cls))\n",
      "ValueError: The number of classes has to be greater than one; got 1 class\n",
      "\n",
      "  FitFailedWarning)\n",
      "/Users/leec/opt/anaconda3/lib/python3.7/site-packages/sklearn/model_selection/_validation.py:552: FitFailedWarning: Estimator fit failed. The score on this train-test partition for these parameters will be set to nan. Details: \n",
      "Traceback (most recent call last):\n",
      "  File \"/Users/leec/opt/anaconda3/lib/python3.7/site-packages/sklearn/model_selection/_validation.py\", line 531, in _fit_and_score\n",
      "    estimator.fit(X_train, y_train, **fit_params)\n",
      "  File \"/Users/leec/opt/anaconda3/lib/python3.7/site-packages/sklearn/pipeline.py\", line 334, in fit\n",
      "    self._final_estimator.fit(Xt, y, **fit_params_last_step)\n",
      "  File \"/Users/leec/opt/anaconda3/lib/python3.7/site-packages/sklearn/multioutput.py\", line 350, in fit\n",
      "    super().fit(X, Y, sample_weight, **fit_params)\n",
      "  File \"/Users/leec/opt/anaconda3/lib/python3.7/site-packages/sklearn/multioutput.py\", line 175, in fit\n",
      "    for i in range(y.shape[1]))\n",
      "  File \"/Users/leec/opt/anaconda3/lib/python3.7/site-packages/joblib/parallel.py\", line 924, in __call__\n",
      "    while self.dispatch_one_batch(iterator):\n",
      "  File \"/Users/leec/opt/anaconda3/lib/python3.7/site-packages/joblib/parallel.py\", line 759, in dispatch_one_batch\n",
      "    self._dispatch(tasks)\n",
      "  File \"/Users/leec/opt/anaconda3/lib/python3.7/site-packages/joblib/parallel.py\", line 716, in _dispatch\n",
      "    job = self._backend.apply_async(batch, callback=cb)\n",
      "  File \"/Users/leec/opt/anaconda3/lib/python3.7/site-packages/joblib/_parallel_backends.py\", line 182, in apply_async\n",
      "    result = ImmediateResult(func)\n",
      "  File \"/Users/leec/opt/anaconda3/lib/python3.7/site-packages/joblib/_parallel_backends.py\", line 549, in __init__\n",
      "    self.results = batch()\n",
      "  File \"/Users/leec/opt/anaconda3/lib/python3.7/site-packages/joblib/parallel.py\", line 225, in __call__\n",
      "    for func, args, kwargs in self.items]\n",
      "  File \"/Users/leec/opt/anaconda3/lib/python3.7/site-packages/joblib/parallel.py\", line 225, in <listcomp>\n",
      "    for func, args, kwargs in self.items]\n",
      "  File \"/Users/leec/opt/anaconda3/lib/python3.7/site-packages/sklearn/multioutput.py\", line 40, in _fit_estimator\n",
      "    estimator.fit(X, y, **fit_params)\n",
      "  File \"/Users/leec/opt/anaconda3/lib/python3.7/site-packages/sklearn/svm/_base.py\", line 164, in fit\n",
      "    y = self._validate_targets(y)\n",
      "  File \"/Users/leec/opt/anaconda3/lib/python3.7/site-packages/sklearn/svm/_base.py\", line 551, in _validate_targets\n",
      "    \" class\" % len(cls))\n",
      "ValueError: The number of classes has to be greater than one; got 1 class\n",
      "\n",
      "  FitFailedWarning)\n"
     ]
    },
    {
     "name": "stderr",
     "output_type": "stream",
     "text": [
      "/Users/leec/opt/anaconda3/lib/python3.7/site-packages/sklearn/model_selection/_validation.py:552: FitFailedWarning: Estimator fit failed. The score on this train-test partition for these parameters will be set to nan. Details: \n",
      "Traceback (most recent call last):\n",
      "  File \"/Users/leec/opt/anaconda3/lib/python3.7/site-packages/sklearn/model_selection/_validation.py\", line 531, in _fit_and_score\n",
      "    estimator.fit(X_train, y_train, **fit_params)\n",
      "  File \"/Users/leec/opt/anaconda3/lib/python3.7/site-packages/sklearn/pipeline.py\", line 334, in fit\n",
      "    self._final_estimator.fit(Xt, y, **fit_params_last_step)\n",
      "  File \"/Users/leec/opt/anaconda3/lib/python3.7/site-packages/sklearn/multioutput.py\", line 350, in fit\n",
      "    super().fit(X, Y, sample_weight, **fit_params)\n",
      "  File \"/Users/leec/opt/anaconda3/lib/python3.7/site-packages/sklearn/multioutput.py\", line 175, in fit\n",
      "    for i in range(y.shape[1]))\n",
      "  File \"/Users/leec/opt/anaconda3/lib/python3.7/site-packages/joblib/parallel.py\", line 924, in __call__\n",
      "    while self.dispatch_one_batch(iterator):\n",
      "  File \"/Users/leec/opt/anaconda3/lib/python3.7/site-packages/joblib/parallel.py\", line 759, in dispatch_one_batch\n",
      "    self._dispatch(tasks)\n",
      "  File \"/Users/leec/opt/anaconda3/lib/python3.7/site-packages/joblib/parallel.py\", line 716, in _dispatch\n",
      "    job = self._backend.apply_async(batch, callback=cb)\n",
      "  File \"/Users/leec/opt/anaconda3/lib/python3.7/site-packages/joblib/_parallel_backends.py\", line 182, in apply_async\n",
      "    result = ImmediateResult(func)\n",
      "  File \"/Users/leec/opt/anaconda3/lib/python3.7/site-packages/joblib/_parallel_backends.py\", line 549, in __init__\n",
      "    self.results = batch()\n",
      "  File \"/Users/leec/opt/anaconda3/lib/python3.7/site-packages/joblib/parallel.py\", line 225, in __call__\n",
      "    for func, args, kwargs in self.items]\n",
      "  File \"/Users/leec/opt/anaconda3/lib/python3.7/site-packages/joblib/parallel.py\", line 225, in <listcomp>\n",
      "    for func, args, kwargs in self.items]\n",
      "  File \"/Users/leec/opt/anaconda3/lib/python3.7/site-packages/sklearn/multioutput.py\", line 40, in _fit_estimator\n",
      "    estimator.fit(X, y, **fit_params)\n",
      "  File \"/Users/leec/opt/anaconda3/lib/python3.7/site-packages/sklearn/svm/_base.py\", line 164, in fit\n",
      "    y = self._validate_targets(y)\n",
      "  File \"/Users/leec/opt/anaconda3/lib/python3.7/site-packages/sklearn/svm/_base.py\", line 551, in _validate_targets\n",
      "    \" class\" % len(cls))\n",
      "ValueError: The number of classes has to be greater than one; got 1 class\n",
      "\n",
      "  FitFailedWarning)\n",
      "/Users/leec/opt/anaconda3/lib/python3.7/site-packages/sklearn/model_selection/_validation.py:552: FitFailedWarning: Estimator fit failed. The score on this train-test partition for these parameters will be set to nan. Details: \n",
      "Traceback (most recent call last):\n",
      "  File \"/Users/leec/opt/anaconda3/lib/python3.7/site-packages/sklearn/model_selection/_validation.py\", line 531, in _fit_and_score\n",
      "    estimator.fit(X_train, y_train, **fit_params)\n",
      "  File \"/Users/leec/opt/anaconda3/lib/python3.7/site-packages/sklearn/pipeline.py\", line 334, in fit\n",
      "    self._final_estimator.fit(Xt, y, **fit_params_last_step)\n",
      "  File \"/Users/leec/opt/anaconda3/lib/python3.7/site-packages/sklearn/multioutput.py\", line 350, in fit\n",
      "    super().fit(X, Y, sample_weight, **fit_params)\n",
      "  File \"/Users/leec/opt/anaconda3/lib/python3.7/site-packages/sklearn/multioutput.py\", line 175, in fit\n",
      "    for i in range(y.shape[1]))\n",
      "  File \"/Users/leec/opt/anaconda3/lib/python3.7/site-packages/joblib/parallel.py\", line 924, in __call__\n",
      "    while self.dispatch_one_batch(iterator):\n",
      "  File \"/Users/leec/opt/anaconda3/lib/python3.7/site-packages/joblib/parallel.py\", line 759, in dispatch_one_batch\n",
      "    self._dispatch(tasks)\n",
      "  File \"/Users/leec/opt/anaconda3/lib/python3.7/site-packages/joblib/parallel.py\", line 716, in _dispatch\n",
      "    job = self._backend.apply_async(batch, callback=cb)\n",
      "  File \"/Users/leec/opt/anaconda3/lib/python3.7/site-packages/joblib/_parallel_backends.py\", line 182, in apply_async\n",
      "    result = ImmediateResult(func)\n",
      "  File \"/Users/leec/opt/anaconda3/lib/python3.7/site-packages/joblib/_parallel_backends.py\", line 549, in __init__\n",
      "    self.results = batch()\n",
      "  File \"/Users/leec/opt/anaconda3/lib/python3.7/site-packages/joblib/parallel.py\", line 225, in __call__\n",
      "    for func, args, kwargs in self.items]\n",
      "  File \"/Users/leec/opt/anaconda3/lib/python3.7/site-packages/joblib/parallel.py\", line 225, in <listcomp>\n",
      "    for func, args, kwargs in self.items]\n",
      "  File \"/Users/leec/opt/anaconda3/lib/python3.7/site-packages/sklearn/multioutput.py\", line 40, in _fit_estimator\n",
      "    estimator.fit(X, y, **fit_params)\n",
      "  File \"/Users/leec/opt/anaconda3/lib/python3.7/site-packages/sklearn/svm/_base.py\", line 164, in fit\n",
      "    y = self._validate_targets(y)\n",
      "  File \"/Users/leec/opt/anaconda3/lib/python3.7/site-packages/sklearn/svm/_base.py\", line 551, in _validate_targets\n",
      "    \" class\" % len(cls))\n",
      "ValueError: The number of classes has to be greater than one; got 1 class\n",
      "\n",
      "  FitFailedWarning)\n",
      "/Users/leec/opt/anaconda3/lib/python3.7/site-packages/sklearn/model_selection/_validation.py:552: FitFailedWarning: Estimator fit failed. The score on this train-test partition for these parameters will be set to nan. Details: \n",
      "Traceback (most recent call last):\n",
      "  File \"/Users/leec/opt/anaconda3/lib/python3.7/site-packages/sklearn/model_selection/_validation.py\", line 531, in _fit_and_score\n",
      "    estimator.fit(X_train, y_train, **fit_params)\n",
      "  File \"/Users/leec/opt/anaconda3/lib/python3.7/site-packages/sklearn/pipeline.py\", line 334, in fit\n",
      "    self._final_estimator.fit(Xt, y, **fit_params_last_step)\n",
      "  File \"/Users/leec/opt/anaconda3/lib/python3.7/site-packages/sklearn/multioutput.py\", line 350, in fit\n",
      "    super().fit(X, Y, sample_weight, **fit_params)\n",
      "  File \"/Users/leec/opt/anaconda3/lib/python3.7/site-packages/sklearn/multioutput.py\", line 175, in fit\n",
      "    for i in range(y.shape[1]))\n",
      "  File \"/Users/leec/opt/anaconda3/lib/python3.7/site-packages/joblib/parallel.py\", line 924, in __call__\n",
      "    while self.dispatch_one_batch(iterator):\n",
      "  File \"/Users/leec/opt/anaconda3/lib/python3.7/site-packages/joblib/parallel.py\", line 759, in dispatch_one_batch\n",
      "    self._dispatch(tasks)\n",
      "  File \"/Users/leec/opt/anaconda3/lib/python3.7/site-packages/joblib/parallel.py\", line 716, in _dispatch\n",
      "    job = self._backend.apply_async(batch, callback=cb)\n",
      "  File \"/Users/leec/opt/anaconda3/lib/python3.7/site-packages/joblib/_parallel_backends.py\", line 182, in apply_async\n",
      "    result = ImmediateResult(func)\n",
      "  File \"/Users/leec/opt/anaconda3/lib/python3.7/site-packages/joblib/_parallel_backends.py\", line 549, in __init__\n",
      "    self.results = batch()\n",
      "  File \"/Users/leec/opt/anaconda3/lib/python3.7/site-packages/joblib/parallel.py\", line 225, in __call__\n",
      "    for func, args, kwargs in self.items]\n",
      "  File \"/Users/leec/opt/anaconda3/lib/python3.7/site-packages/joblib/parallel.py\", line 225, in <listcomp>\n",
      "    for func, args, kwargs in self.items]\n",
      "  File \"/Users/leec/opt/anaconda3/lib/python3.7/site-packages/sklearn/multioutput.py\", line 40, in _fit_estimator\n",
      "    estimator.fit(X, y, **fit_params)\n",
      "  File \"/Users/leec/opt/anaconda3/lib/python3.7/site-packages/sklearn/svm/_base.py\", line 164, in fit\n",
      "    y = self._validate_targets(y)\n",
      "  File \"/Users/leec/opt/anaconda3/lib/python3.7/site-packages/sklearn/svm/_base.py\", line 551, in _validate_targets\n",
      "    \" class\" % len(cls))\n",
      "ValueError: The number of classes has to be greater than one; got 1 class\n",
      "\n",
      "  FitFailedWarning)\n",
      "/Users/leec/opt/anaconda3/lib/python3.7/site-packages/sklearn/model_selection/_validation.py:552: FitFailedWarning: Estimator fit failed. The score on this train-test partition for these parameters will be set to nan. Details: \n",
      "Traceback (most recent call last):\n",
      "  File \"/Users/leec/opt/anaconda3/lib/python3.7/site-packages/sklearn/model_selection/_validation.py\", line 531, in _fit_and_score\n",
      "    estimator.fit(X_train, y_train, **fit_params)\n",
      "  File \"/Users/leec/opt/anaconda3/lib/python3.7/site-packages/sklearn/pipeline.py\", line 334, in fit\n",
      "    self._final_estimator.fit(Xt, y, **fit_params_last_step)\n",
      "  File \"/Users/leec/opt/anaconda3/lib/python3.7/site-packages/sklearn/multioutput.py\", line 350, in fit\n",
      "    super().fit(X, Y, sample_weight, **fit_params)\n",
      "  File \"/Users/leec/opt/anaconda3/lib/python3.7/site-packages/sklearn/multioutput.py\", line 175, in fit\n",
      "    for i in range(y.shape[1]))\n",
      "  File \"/Users/leec/opt/anaconda3/lib/python3.7/site-packages/joblib/parallel.py\", line 924, in __call__\n",
      "    while self.dispatch_one_batch(iterator):\n",
      "  File \"/Users/leec/opt/anaconda3/lib/python3.7/site-packages/joblib/parallel.py\", line 759, in dispatch_one_batch\n",
      "    self._dispatch(tasks)\n",
      "  File \"/Users/leec/opt/anaconda3/lib/python3.7/site-packages/joblib/parallel.py\", line 716, in _dispatch\n",
      "    job = self._backend.apply_async(batch, callback=cb)\n",
      "  File \"/Users/leec/opt/anaconda3/lib/python3.7/site-packages/joblib/_parallel_backends.py\", line 182, in apply_async\n",
      "    result = ImmediateResult(func)\n",
      "  File \"/Users/leec/opt/anaconda3/lib/python3.7/site-packages/joblib/_parallel_backends.py\", line 549, in __init__\n",
      "    self.results = batch()\n",
      "  File \"/Users/leec/opt/anaconda3/lib/python3.7/site-packages/joblib/parallel.py\", line 225, in __call__\n",
      "    for func, args, kwargs in self.items]\n",
      "  File \"/Users/leec/opt/anaconda3/lib/python3.7/site-packages/joblib/parallel.py\", line 225, in <listcomp>\n",
      "    for func, args, kwargs in self.items]\n",
      "  File \"/Users/leec/opt/anaconda3/lib/python3.7/site-packages/sklearn/multioutput.py\", line 40, in _fit_estimator\n",
      "    estimator.fit(X, y, **fit_params)\n",
      "  File \"/Users/leec/opt/anaconda3/lib/python3.7/site-packages/sklearn/svm/_base.py\", line 164, in fit\n",
      "    y = self._validate_targets(y)\n",
      "  File \"/Users/leec/opt/anaconda3/lib/python3.7/site-packages/sklearn/svm/_base.py\", line 551, in _validate_targets\n",
      "    \" class\" % len(cls))\n",
      "ValueError: The number of classes has to be greater than one; got 1 class\n",
      "\n",
      "  FitFailedWarning)\n"
     ]
    },
    {
     "name": "stderr",
     "output_type": "stream",
     "text": [
      "/Users/leec/opt/anaconda3/lib/python3.7/site-packages/sklearn/model_selection/_validation.py:552: FitFailedWarning: Estimator fit failed. The score on this train-test partition for these parameters will be set to nan. Details: \n",
      "Traceback (most recent call last):\n",
      "  File \"/Users/leec/opt/anaconda3/lib/python3.7/site-packages/sklearn/model_selection/_validation.py\", line 531, in _fit_and_score\n",
      "    estimator.fit(X_train, y_train, **fit_params)\n",
      "  File \"/Users/leec/opt/anaconda3/lib/python3.7/site-packages/sklearn/pipeline.py\", line 334, in fit\n",
      "    self._final_estimator.fit(Xt, y, **fit_params_last_step)\n",
      "  File \"/Users/leec/opt/anaconda3/lib/python3.7/site-packages/sklearn/multioutput.py\", line 350, in fit\n",
      "    super().fit(X, Y, sample_weight, **fit_params)\n",
      "  File \"/Users/leec/opt/anaconda3/lib/python3.7/site-packages/sklearn/multioutput.py\", line 175, in fit\n",
      "    for i in range(y.shape[1]))\n",
      "  File \"/Users/leec/opt/anaconda3/lib/python3.7/site-packages/joblib/parallel.py\", line 924, in __call__\n",
      "    while self.dispatch_one_batch(iterator):\n",
      "  File \"/Users/leec/opt/anaconda3/lib/python3.7/site-packages/joblib/parallel.py\", line 759, in dispatch_one_batch\n",
      "    self._dispatch(tasks)\n",
      "  File \"/Users/leec/opt/anaconda3/lib/python3.7/site-packages/joblib/parallel.py\", line 716, in _dispatch\n",
      "    job = self._backend.apply_async(batch, callback=cb)\n",
      "  File \"/Users/leec/opt/anaconda3/lib/python3.7/site-packages/joblib/_parallel_backends.py\", line 182, in apply_async\n",
      "    result = ImmediateResult(func)\n",
      "  File \"/Users/leec/opt/anaconda3/lib/python3.7/site-packages/joblib/_parallel_backends.py\", line 549, in __init__\n",
      "    self.results = batch()\n",
      "  File \"/Users/leec/opt/anaconda3/lib/python3.7/site-packages/joblib/parallel.py\", line 225, in __call__\n",
      "    for func, args, kwargs in self.items]\n",
      "  File \"/Users/leec/opt/anaconda3/lib/python3.7/site-packages/joblib/parallel.py\", line 225, in <listcomp>\n",
      "    for func, args, kwargs in self.items]\n",
      "  File \"/Users/leec/opt/anaconda3/lib/python3.7/site-packages/sklearn/multioutput.py\", line 40, in _fit_estimator\n",
      "    estimator.fit(X, y, **fit_params)\n",
      "  File \"/Users/leec/opt/anaconda3/lib/python3.7/site-packages/sklearn/svm/_base.py\", line 164, in fit\n",
      "    y = self._validate_targets(y)\n",
      "  File \"/Users/leec/opt/anaconda3/lib/python3.7/site-packages/sklearn/svm/_base.py\", line 551, in _validate_targets\n",
      "    \" class\" % len(cls))\n",
      "ValueError: The number of classes has to be greater than one; got 1 class\n",
      "\n",
      "  FitFailedWarning)\n",
      "/Users/leec/opt/anaconda3/lib/python3.7/site-packages/sklearn/model_selection/_validation.py:552: FitFailedWarning: Estimator fit failed. The score on this train-test partition for these parameters will be set to nan. Details: \n",
      "Traceback (most recent call last):\n",
      "  File \"/Users/leec/opt/anaconda3/lib/python3.7/site-packages/sklearn/model_selection/_validation.py\", line 531, in _fit_and_score\n",
      "    estimator.fit(X_train, y_train, **fit_params)\n",
      "  File \"/Users/leec/opt/anaconda3/lib/python3.7/site-packages/sklearn/pipeline.py\", line 334, in fit\n",
      "    self._final_estimator.fit(Xt, y, **fit_params_last_step)\n",
      "  File \"/Users/leec/opt/anaconda3/lib/python3.7/site-packages/sklearn/multioutput.py\", line 350, in fit\n",
      "    super().fit(X, Y, sample_weight, **fit_params)\n",
      "  File \"/Users/leec/opt/anaconda3/lib/python3.7/site-packages/sklearn/multioutput.py\", line 175, in fit\n",
      "    for i in range(y.shape[1]))\n",
      "  File \"/Users/leec/opt/anaconda3/lib/python3.7/site-packages/joblib/parallel.py\", line 924, in __call__\n",
      "    while self.dispatch_one_batch(iterator):\n",
      "  File \"/Users/leec/opt/anaconda3/lib/python3.7/site-packages/joblib/parallel.py\", line 759, in dispatch_one_batch\n",
      "    self._dispatch(tasks)\n",
      "  File \"/Users/leec/opt/anaconda3/lib/python3.7/site-packages/joblib/parallel.py\", line 716, in _dispatch\n",
      "    job = self._backend.apply_async(batch, callback=cb)\n",
      "  File \"/Users/leec/opt/anaconda3/lib/python3.7/site-packages/joblib/_parallel_backends.py\", line 182, in apply_async\n",
      "    result = ImmediateResult(func)\n",
      "  File \"/Users/leec/opt/anaconda3/lib/python3.7/site-packages/joblib/_parallel_backends.py\", line 549, in __init__\n",
      "    self.results = batch()\n",
      "  File \"/Users/leec/opt/anaconda3/lib/python3.7/site-packages/joblib/parallel.py\", line 225, in __call__\n",
      "    for func, args, kwargs in self.items]\n",
      "  File \"/Users/leec/opt/anaconda3/lib/python3.7/site-packages/joblib/parallel.py\", line 225, in <listcomp>\n",
      "    for func, args, kwargs in self.items]\n",
      "  File \"/Users/leec/opt/anaconda3/lib/python3.7/site-packages/sklearn/multioutput.py\", line 40, in _fit_estimator\n",
      "    estimator.fit(X, y, **fit_params)\n",
      "  File \"/Users/leec/opt/anaconda3/lib/python3.7/site-packages/sklearn/svm/_base.py\", line 164, in fit\n",
      "    y = self._validate_targets(y)\n",
      "  File \"/Users/leec/opt/anaconda3/lib/python3.7/site-packages/sklearn/svm/_base.py\", line 551, in _validate_targets\n",
      "    \" class\" % len(cls))\n",
      "ValueError: The number of classes has to be greater than one; got 1 class\n",
      "\n",
      "  FitFailedWarning)\n",
      "/Users/leec/opt/anaconda3/lib/python3.7/site-packages/sklearn/model_selection/_validation.py:552: FitFailedWarning: Estimator fit failed. The score on this train-test partition for these parameters will be set to nan. Details: \n",
      "Traceback (most recent call last):\n",
      "  File \"/Users/leec/opt/anaconda3/lib/python3.7/site-packages/sklearn/model_selection/_validation.py\", line 531, in _fit_and_score\n",
      "    estimator.fit(X_train, y_train, **fit_params)\n",
      "  File \"/Users/leec/opt/anaconda3/lib/python3.7/site-packages/sklearn/pipeline.py\", line 334, in fit\n",
      "    self._final_estimator.fit(Xt, y, **fit_params_last_step)\n",
      "  File \"/Users/leec/opt/anaconda3/lib/python3.7/site-packages/sklearn/multioutput.py\", line 350, in fit\n",
      "    super().fit(X, Y, sample_weight, **fit_params)\n",
      "  File \"/Users/leec/opt/anaconda3/lib/python3.7/site-packages/sklearn/multioutput.py\", line 175, in fit\n",
      "    for i in range(y.shape[1]))\n",
      "  File \"/Users/leec/opt/anaconda3/lib/python3.7/site-packages/joblib/parallel.py\", line 924, in __call__\n",
      "    while self.dispatch_one_batch(iterator):\n",
      "  File \"/Users/leec/opt/anaconda3/lib/python3.7/site-packages/joblib/parallel.py\", line 759, in dispatch_one_batch\n",
      "    self._dispatch(tasks)\n",
      "  File \"/Users/leec/opt/anaconda3/lib/python3.7/site-packages/joblib/parallel.py\", line 716, in _dispatch\n",
      "    job = self._backend.apply_async(batch, callback=cb)\n",
      "  File \"/Users/leec/opt/anaconda3/lib/python3.7/site-packages/joblib/_parallel_backends.py\", line 182, in apply_async\n",
      "    result = ImmediateResult(func)\n",
      "  File \"/Users/leec/opt/anaconda3/lib/python3.7/site-packages/joblib/_parallel_backends.py\", line 549, in __init__\n",
      "    self.results = batch()\n",
      "  File \"/Users/leec/opt/anaconda3/lib/python3.7/site-packages/joblib/parallel.py\", line 225, in __call__\n",
      "    for func, args, kwargs in self.items]\n",
      "  File \"/Users/leec/opt/anaconda3/lib/python3.7/site-packages/joblib/parallel.py\", line 225, in <listcomp>\n",
      "    for func, args, kwargs in self.items]\n",
      "  File \"/Users/leec/opt/anaconda3/lib/python3.7/site-packages/sklearn/multioutput.py\", line 40, in _fit_estimator\n",
      "    estimator.fit(X, y, **fit_params)\n",
      "  File \"/Users/leec/opt/anaconda3/lib/python3.7/site-packages/sklearn/svm/_base.py\", line 164, in fit\n",
      "    y = self._validate_targets(y)\n",
      "  File \"/Users/leec/opt/anaconda3/lib/python3.7/site-packages/sklearn/svm/_base.py\", line 551, in _validate_targets\n",
      "    \" class\" % len(cls))\n",
      "ValueError: The number of classes has to be greater than one; got 1 class\n",
      "\n",
      "  FitFailedWarning)\n",
      "/Users/leec/opt/anaconda3/lib/python3.7/site-packages/sklearn/model_selection/_validation.py:552: FitFailedWarning: Estimator fit failed. The score on this train-test partition for these parameters will be set to nan. Details: \n",
      "Traceback (most recent call last):\n",
      "  File \"/Users/leec/opt/anaconda3/lib/python3.7/site-packages/sklearn/model_selection/_validation.py\", line 531, in _fit_and_score\n",
      "    estimator.fit(X_train, y_train, **fit_params)\n",
      "  File \"/Users/leec/opt/anaconda3/lib/python3.7/site-packages/sklearn/pipeline.py\", line 334, in fit\n",
      "    self._final_estimator.fit(Xt, y, **fit_params_last_step)\n",
      "  File \"/Users/leec/opt/anaconda3/lib/python3.7/site-packages/sklearn/multioutput.py\", line 350, in fit\n",
      "    super().fit(X, Y, sample_weight, **fit_params)\n",
      "  File \"/Users/leec/opt/anaconda3/lib/python3.7/site-packages/sklearn/multioutput.py\", line 175, in fit\n",
      "    for i in range(y.shape[1]))\n",
      "  File \"/Users/leec/opt/anaconda3/lib/python3.7/site-packages/joblib/parallel.py\", line 924, in __call__\n",
      "    while self.dispatch_one_batch(iterator):\n",
      "  File \"/Users/leec/opt/anaconda3/lib/python3.7/site-packages/joblib/parallel.py\", line 759, in dispatch_one_batch\n",
      "    self._dispatch(tasks)\n",
      "  File \"/Users/leec/opt/anaconda3/lib/python3.7/site-packages/joblib/parallel.py\", line 716, in _dispatch\n",
      "    job = self._backend.apply_async(batch, callback=cb)\n",
      "  File \"/Users/leec/opt/anaconda3/lib/python3.7/site-packages/joblib/_parallel_backends.py\", line 182, in apply_async\n",
      "    result = ImmediateResult(func)\n",
      "  File \"/Users/leec/opt/anaconda3/lib/python3.7/site-packages/joblib/_parallel_backends.py\", line 549, in __init__\n",
      "    self.results = batch()\n",
      "  File \"/Users/leec/opt/anaconda3/lib/python3.7/site-packages/joblib/parallel.py\", line 225, in __call__\n",
      "    for func, args, kwargs in self.items]\n",
      "  File \"/Users/leec/opt/anaconda3/lib/python3.7/site-packages/joblib/parallel.py\", line 225, in <listcomp>\n",
      "    for func, args, kwargs in self.items]\n",
      "  File \"/Users/leec/opt/anaconda3/lib/python3.7/site-packages/sklearn/multioutput.py\", line 40, in _fit_estimator\n",
      "    estimator.fit(X, y, **fit_params)\n",
      "  File \"/Users/leec/opt/anaconda3/lib/python3.7/site-packages/sklearn/svm/_base.py\", line 164, in fit\n",
      "    y = self._validate_targets(y)\n",
      "  File \"/Users/leec/opt/anaconda3/lib/python3.7/site-packages/sklearn/svm/_base.py\", line 551, in _validate_targets\n",
      "    \" class\" % len(cls))\n",
      "ValueError: The number of classes has to be greater than one; got 1 class\n",
      "\n",
      "  FitFailedWarning)\n"
     ]
    },
    {
     "name": "stderr",
     "output_type": "stream",
     "text": [
      "/Users/leec/opt/anaconda3/lib/python3.7/site-packages/sklearn/model_selection/_validation.py:552: FitFailedWarning: Estimator fit failed. The score on this train-test partition for these parameters will be set to nan. Details: \n",
      "Traceback (most recent call last):\n",
      "  File \"/Users/leec/opt/anaconda3/lib/python3.7/site-packages/sklearn/model_selection/_validation.py\", line 531, in _fit_and_score\n",
      "    estimator.fit(X_train, y_train, **fit_params)\n",
      "  File \"/Users/leec/opt/anaconda3/lib/python3.7/site-packages/sklearn/pipeline.py\", line 334, in fit\n",
      "    self._final_estimator.fit(Xt, y, **fit_params_last_step)\n",
      "  File \"/Users/leec/opt/anaconda3/lib/python3.7/site-packages/sklearn/multioutput.py\", line 350, in fit\n",
      "    super().fit(X, Y, sample_weight, **fit_params)\n",
      "  File \"/Users/leec/opt/anaconda3/lib/python3.7/site-packages/sklearn/multioutput.py\", line 175, in fit\n",
      "    for i in range(y.shape[1]))\n",
      "  File \"/Users/leec/opt/anaconda3/lib/python3.7/site-packages/joblib/parallel.py\", line 924, in __call__\n",
      "    while self.dispatch_one_batch(iterator):\n",
      "  File \"/Users/leec/opt/anaconda3/lib/python3.7/site-packages/joblib/parallel.py\", line 759, in dispatch_one_batch\n",
      "    self._dispatch(tasks)\n",
      "  File \"/Users/leec/opt/anaconda3/lib/python3.7/site-packages/joblib/parallel.py\", line 716, in _dispatch\n",
      "    job = self._backend.apply_async(batch, callback=cb)\n",
      "  File \"/Users/leec/opt/anaconda3/lib/python3.7/site-packages/joblib/_parallel_backends.py\", line 182, in apply_async\n",
      "    result = ImmediateResult(func)\n",
      "  File \"/Users/leec/opt/anaconda3/lib/python3.7/site-packages/joblib/_parallel_backends.py\", line 549, in __init__\n",
      "    self.results = batch()\n",
      "  File \"/Users/leec/opt/anaconda3/lib/python3.7/site-packages/joblib/parallel.py\", line 225, in __call__\n",
      "    for func, args, kwargs in self.items]\n",
      "  File \"/Users/leec/opt/anaconda3/lib/python3.7/site-packages/joblib/parallel.py\", line 225, in <listcomp>\n",
      "    for func, args, kwargs in self.items]\n",
      "  File \"/Users/leec/opt/anaconda3/lib/python3.7/site-packages/sklearn/multioutput.py\", line 40, in _fit_estimator\n",
      "    estimator.fit(X, y, **fit_params)\n",
      "  File \"/Users/leec/opt/anaconda3/lib/python3.7/site-packages/sklearn/svm/_base.py\", line 164, in fit\n",
      "    y = self._validate_targets(y)\n",
      "  File \"/Users/leec/opt/anaconda3/lib/python3.7/site-packages/sklearn/svm/_base.py\", line 551, in _validate_targets\n",
      "    \" class\" % len(cls))\n",
      "ValueError: The number of classes has to be greater than one; got 1 class\n",
      "\n",
      "  FitFailedWarning)\n",
      "/Users/leec/opt/anaconda3/lib/python3.7/site-packages/sklearn/model_selection/_validation.py:552: FitFailedWarning: Estimator fit failed. The score on this train-test partition for these parameters will be set to nan. Details: \n",
      "Traceback (most recent call last):\n",
      "  File \"/Users/leec/opt/anaconda3/lib/python3.7/site-packages/sklearn/model_selection/_validation.py\", line 531, in _fit_and_score\n",
      "    estimator.fit(X_train, y_train, **fit_params)\n",
      "  File \"/Users/leec/opt/anaconda3/lib/python3.7/site-packages/sklearn/pipeline.py\", line 334, in fit\n",
      "    self._final_estimator.fit(Xt, y, **fit_params_last_step)\n",
      "  File \"/Users/leec/opt/anaconda3/lib/python3.7/site-packages/sklearn/multioutput.py\", line 350, in fit\n",
      "    super().fit(X, Y, sample_weight, **fit_params)\n",
      "  File \"/Users/leec/opt/anaconda3/lib/python3.7/site-packages/sklearn/multioutput.py\", line 175, in fit\n",
      "    for i in range(y.shape[1]))\n",
      "  File \"/Users/leec/opt/anaconda3/lib/python3.7/site-packages/joblib/parallel.py\", line 924, in __call__\n",
      "    while self.dispatch_one_batch(iterator):\n",
      "  File \"/Users/leec/opt/anaconda3/lib/python3.7/site-packages/joblib/parallel.py\", line 759, in dispatch_one_batch\n",
      "    self._dispatch(tasks)\n",
      "  File \"/Users/leec/opt/anaconda3/lib/python3.7/site-packages/joblib/parallel.py\", line 716, in _dispatch\n",
      "    job = self._backend.apply_async(batch, callback=cb)\n",
      "  File \"/Users/leec/opt/anaconda3/lib/python3.7/site-packages/joblib/_parallel_backends.py\", line 182, in apply_async\n",
      "    result = ImmediateResult(func)\n",
      "  File \"/Users/leec/opt/anaconda3/lib/python3.7/site-packages/joblib/_parallel_backends.py\", line 549, in __init__\n",
      "    self.results = batch()\n",
      "  File \"/Users/leec/opt/anaconda3/lib/python3.7/site-packages/joblib/parallel.py\", line 225, in __call__\n",
      "    for func, args, kwargs in self.items]\n",
      "  File \"/Users/leec/opt/anaconda3/lib/python3.7/site-packages/joblib/parallel.py\", line 225, in <listcomp>\n",
      "    for func, args, kwargs in self.items]\n",
      "  File \"/Users/leec/opt/anaconda3/lib/python3.7/site-packages/sklearn/multioutput.py\", line 40, in _fit_estimator\n",
      "    estimator.fit(X, y, **fit_params)\n",
      "  File \"/Users/leec/opt/anaconda3/lib/python3.7/site-packages/sklearn/svm/_base.py\", line 164, in fit\n",
      "    y = self._validate_targets(y)\n",
      "  File \"/Users/leec/opt/anaconda3/lib/python3.7/site-packages/sklearn/svm/_base.py\", line 551, in _validate_targets\n",
      "    \" class\" % len(cls))\n",
      "ValueError: The number of classes has to be greater than one; got 1 class\n",
      "\n",
      "  FitFailedWarning)\n",
      "/Users/leec/opt/anaconda3/lib/python3.7/site-packages/sklearn/model_selection/_validation.py:552: FitFailedWarning: Estimator fit failed. The score on this train-test partition for these parameters will be set to nan. Details: \n",
      "Traceback (most recent call last):\n",
      "  File \"/Users/leec/opt/anaconda3/lib/python3.7/site-packages/sklearn/model_selection/_validation.py\", line 531, in _fit_and_score\n",
      "    estimator.fit(X_train, y_train, **fit_params)\n",
      "  File \"/Users/leec/opt/anaconda3/lib/python3.7/site-packages/sklearn/pipeline.py\", line 334, in fit\n",
      "    self._final_estimator.fit(Xt, y, **fit_params_last_step)\n",
      "  File \"/Users/leec/opt/anaconda3/lib/python3.7/site-packages/sklearn/multioutput.py\", line 350, in fit\n",
      "    super().fit(X, Y, sample_weight, **fit_params)\n",
      "  File \"/Users/leec/opt/anaconda3/lib/python3.7/site-packages/sklearn/multioutput.py\", line 175, in fit\n",
      "    for i in range(y.shape[1]))\n",
      "  File \"/Users/leec/opt/anaconda3/lib/python3.7/site-packages/joblib/parallel.py\", line 924, in __call__\n",
      "    while self.dispatch_one_batch(iterator):\n",
      "  File \"/Users/leec/opt/anaconda3/lib/python3.7/site-packages/joblib/parallel.py\", line 759, in dispatch_one_batch\n",
      "    self._dispatch(tasks)\n",
      "  File \"/Users/leec/opt/anaconda3/lib/python3.7/site-packages/joblib/parallel.py\", line 716, in _dispatch\n",
      "    job = self._backend.apply_async(batch, callback=cb)\n",
      "  File \"/Users/leec/opt/anaconda3/lib/python3.7/site-packages/joblib/_parallel_backends.py\", line 182, in apply_async\n",
      "    result = ImmediateResult(func)\n",
      "  File \"/Users/leec/opt/anaconda3/lib/python3.7/site-packages/joblib/_parallel_backends.py\", line 549, in __init__\n",
      "    self.results = batch()\n",
      "  File \"/Users/leec/opt/anaconda3/lib/python3.7/site-packages/joblib/parallel.py\", line 225, in __call__\n",
      "    for func, args, kwargs in self.items]\n",
      "  File \"/Users/leec/opt/anaconda3/lib/python3.7/site-packages/joblib/parallel.py\", line 225, in <listcomp>\n",
      "    for func, args, kwargs in self.items]\n",
      "  File \"/Users/leec/opt/anaconda3/lib/python3.7/site-packages/sklearn/multioutput.py\", line 40, in _fit_estimator\n",
      "    estimator.fit(X, y, **fit_params)\n",
      "  File \"/Users/leec/opt/anaconda3/lib/python3.7/site-packages/sklearn/svm/_base.py\", line 164, in fit\n",
      "    y = self._validate_targets(y)\n",
      "  File \"/Users/leec/opt/anaconda3/lib/python3.7/site-packages/sklearn/svm/_base.py\", line 551, in _validate_targets\n",
      "    \" class\" % len(cls))\n",
      "ValueError: The number of classes has to be greater than one; got 1 class\n",
      "\n",
      "  FitFailedWarning)\n",
      "/Users/leec/opt/anaconda3/lib/python3.7/site-packages/sklearn/model_selection/_validation.py:552: FitFailedWarning: Estimator fit failed. The score on this train-test partition for these parameters will be set to nan. Details: \n",
      "Traceback (most recent call last):\n",
      "  File \"/Users/leec/opt/anaconda3/lib/python3.7/site-packages/sklearn/model_selection/_validation.py\", line 531, in _fit_and_score\n",
      "    estimator.fit(X_train, y_train, **fit_params)\n",
      "  File \"/Users/leec/opt/anaconda3/lib/python3.7/site-packages/sklearn/pipeline.py\", line 334, in fit\n",
      "    self._final_estimator.fit(Xt, y, **fit_params_last_step)\n",
      "  File \"/Users/leec/opt/anaconda3/lib/python3.7/site-packages/sklearn/multioutput.py\", line 350, in fit\n",
      "    super().fit(X, Y, sample_weight, **fit_params)\n",
      "  File \"/Users/leec/opt/anaconda3/lib/python3.7/site-packages/sklearn/multioutput.py\", line 175, in fit\n",
      "    for i in range(y.shape[1]))\n",
      "  File \"/Users/leec/opt/anaconda3/lib/python3.7/site-packages/joblib/parallel.py\", line 924, in __call__\n",
      "    while self.dispatch_one_batch(iterator):\n",
      "  File \"/Users/leec/opt/anaconda3/lib/python3.7/site-packages/joblib/parallel.py\", line 759, in dispatch_one_batch\n",
      "    self._dispatch(tasks)\n",
      "  File \"/Users/leec/opt/anaconda3/lib/python3.7/site-packages/joblib/parallel.py\", line 716, in _dispatch\n",
      "    job = self._backend.apply_async(batch, callback=cb)\n",
      "  File \"/Users/leec/opt/anaconda3/lib/python3.7/site-packages/joblib/_parallel_backends.py\", line 182, in apply_async\n",
      "    result = ImmediateResult(func)\n",
      "  File \"/Users/leec/opt/anaconda3/lib/python3.7/site-packages/joblib/_parallel_backends.py\", line 549, in __init__\n",
      "    self.results = batch()\n",
      "  File \"/Users/leec/opt/anaconda3/lib/python3.7/site-packages/joblib/parallel.py\", line 225, in __call__\n",
      "    for func, args, kwargs in self.items]\n",
      "  File \"/Users/leec/opt/anaconda3/lib/python3.7/site-packages/joblib/parallel.py\", line 225, in <listcomp>\n",
      "    for func, args, kwargs in self.items]\n",
      "  File \"/Users/leec/opt/anaconda3/lib/python3.7/site-packages/sklearn/multioutput.py\", line 40, in _fit_estimator\n",
      "    estimator.fit(X, y, **fit_params)\n",
      "  File \"/Users/leec/opt/anaconda3/lib/python3.7/site-packages/sklearn/svm/_base.py\", line 164, in fit\n",
      "    y = self._validate_targets(y)\n",
      "  File \"/Users/leec/opt/anaconda3/lib/python3.7/site-packages/sklearn/svm/_base.py\", line 551, in _validate_targets\n",
      "    \" class\" % len(cls))\n",
      "ValueError: The number of classes has to be greater than one; got 1 class\n",
      "\n",
      "  FitFailedWarning)\n"
     ]
    },
    {
     "name": "stderr",
     "output_type": "stream",
     "text": [
      "/Users/leec/opt/anaconda3/lib/python3.7/site-packages/sklearn/model_selection/_validation.py:552: FitFailedWarning: Estimator fit failed. The score on this train-test partition for these parameters will be set to nan. Details: \n",
      "Traceback (most recent call last):\n",
      "  File \"/Users/leec/opt/anaconda3/lib/python3.7/site-packages/sklearn/model_selection/_validation.py\", line 531, in _fit_and_score\n",
      "    estimator.fit(X_train, y_train, **fit_params)\n",
      "  File \"/Users/leec/opt/anaconda3/lib/python3.7/site-packages/sklearn/pipeline.py\", line 334, in fit\n",
      "    self._final_estimator.fit(Xt, y, **fit_params_last_step)\n",
      "  File \"/Users/leec/opt/anaconda3/lib/python3.7/site-packages/sklearn/multioutput.py\", line 350, in fit\n",
      "    super().fit(X, Y, sample_weight, **fit_params)\n",
      "  File \"/Users/leec/opt/anaconda3/lib/python3.7/site-packages/sklearn/multioutput.py\", line 175, in fit\n",
      "    for i in range(y.shape[1]))\n",
      "  File \"/Users/leec/opt/anaconda3/lib/python3.7/site-packages/joblib/parallel.py\", line 924, in __call__\n",
      "    while self.dispatch_one_batch(iterator):\n",
      "  File \"/Users/leec/opt/anaconda3/lib/python3.7/site-packages/joblib/parallel.py\", line 759, in dispatch_one_batch\n",
      "    self._dispatch(tasks)\n",
      "  File \"/Users/leec/opt/anaconda3/lib/python3.7/site-packages/joblib/parallel.py\", line 716, in _dispatch\n",
      "    job = self._backend.apply_async(batch, callback=cb)\n",
      "  File \"/Users/leec/opt/anaconda3/lib/python3.7/site-packages/joblib/_parallel_backends.py\", line 182, in apply_async\n",
      "    result = ImmediateResult(func)\n",
      "  File \"/Users/leec/opt/anaconda3/lib/python3.7/site-packages/joblib/_parallel_backends.py\", line 549, in __init__\n",
      "    self.results = batch()\n",
      "  File \"/Users/leec/opt/anaconda3/lib/python3.7/site-packages/joblib/parallel.py\", line 225, in __call__\n",
      "    for func, args, kwargs in self.items]\n",
      "  File \"/Users/leec/opt/anaconda3/lib/python3.7/site-packages/joblib/parallel.py\", line 225, in <listcomp>\n",
      "    for func, args, kwargs in self.items]\n",
      "  File \"/Users/leec/opt/anaconda3/lib/python3.7/site-packages/sklearn/multioutput.py\", line 40, in _fit_estimator\n",
      "    estimator.fit(X, y, **fit_params)\n",
      "  File \"/Users/leec/opt/anaconda3/lib/python3.7/site-packages/sklearn/svm/_base.py\", line 164, in fit\n",
      "    y = self._validate_targets(y)\n",
      "  File \"/Users/leec/opt/anaconda3/lib/python3.7/site-packages/sklearn/svm/_base.py\", line 551, in _validate_targets\n",
      "    \" class\" % len(cls))\n",
      "ValueError: The number of classes has to be greater than one; got 1 class\n",
      "\n",
      "  FitFailedWarning)\n",
      "/Users/leec/opt/anaconda3/lib/python3.7/site-packages/sklearn/model_selection/_validation.py:552: FitFailedWarning: Estimator fit failed. The score on this train-test partition for these parameters will be set to nan. Details: \n",
      "Traceback (most recent call last):\n",
      "  File \"/Users/leec/opt/anaconda3/lib/python3.7/site-packages/sklearn/model_selection/_validation.py\", line 531, in _fit_and_score\n",
      "    estimator.fit(X_train, y_train, **fit_params)\n",
      "  File \"/Users/leec/opt/anaconda3/lib/python3.7/site-packages/sklearn/pipeline.py\", line 334, in fit\n",
      "    self._final_estimator.fit(Xt, y, **fit_params_last_step)\n",
      "  File \"/Users/leec/opt/anaconda3/lib/python3.7/site-packages/sklearn/multioutput.py\", line 350, in fit\n",
      "    super().fit(X, Y, sample_weight, **fit_params)\n",
      "  File \"/Users/leec/opt/anaconda3/lib/python3.7/site-packages/sklearn/multioutput.py\", line 175, in fit\n",
      "    for i in range(y.shape[1]))\n",
      "  File \"/Users/leec/opt/anaconda3/lib/python3.7/site-packages/joblib/parallel.py\", line 924, in __call__\n",
      "    while self.dispatch_one_batch(iterator):\n",
      "  File \"/Users/leec/opt/anaconda3/lib/python3.7/site-packages/joblib/parallel.py\", line 759, in dispatch_one_batch\n",
      "    self._dispatch(tasks)\n",
      "  File \"/Users/leec/opt/anaconda3/lib/python3.7/site-packages/joblib/parallel.py\", line 716, in _dispatch\n",
      "    job = self._backend.apply_async(batch, callback=cb)\n",
      "  File \"/Users/leec/opt/anaconda3/lib/python3.7/site-packages/joblib/_parallel_backends.py\", line 182, in apply_async\n",
      "    result = ImmediateResult(func)\n",
      "  File \"/Users/leec/opt/anaconda3/lib/python3.7/site-packages/joblib/_parallel_backends.py\", line 549, in __init__\n",
      "    self.results = batch()\n",
      "  File \"/Users/leec/opt/anaconda3/lib/python3.7/site-packages/joblib/parallel.py\", line 225, in __call__\n",
      "    for func, args, kwargs in self.items]\n",
      "  File \"/Users/leec/opt/anaconda3/lib/python3.7/site-packages/joblib/parallel.py\", line 225, in <listcomp>\n",
      "    for func, args, kwargs in self.items]\n",
      "  File \"/Users/leec/opt/anaconda3/lib/python3.7/site-packages/sklearn/multioutput.py\", line 40, in _fit_estimator\n",
      "    estimator.fit(X, y, **fit_params)\n",
      "  File \"/Users/leec/opt/anaconda3/lib/python3.7/site-packages/sklearn/svm/_base.py\", line 164, in fit\n",
      "    y = self._validate_targets(y)\n",
      "  File \"/Users/leec/opt/anaconda3/lib/python3.7/site-packages/sklearn/svm/_base.py\", line 551, in _validate_targets\n",
      "    \" class\" % len(cls))\n",
      "ValueError: The number of classes has to be greater than one; got 1 class\n",
      "\n",
      "  FitFailedWarning)\n",
      "/Users/leec/opt/anaconda3/lib/python3.7/site-packages/sklearn/model_selection/_validation.py:552: FitFailedWarning: Estimator fit failed. The score on this train-test partition for these parameters will be set to nan. Details: \n",
      "Traceback (most recent call last):\n",
      "  File \"/Users/leec/opt/anaconda3/lib/python3.7/site-packages/sklearn/model_selection/_validation.py\", line 531, in _fit_and_score\n",
      "    estimator.fit(X_train, y_train, **fit_params)\n",
      "  File \"/Users/leec/opt/anaconda3/lib/python3.7/site-packages/sklearn/pipeline.py\", line 334, in fit\n",
      "    self._final_estimator.fit(Xt, y, **fit_params_last_step)\n",
      "  File \"/Users/leec/opt/anaconda3/lib/python3.7/site-packages/sklearn/multioutput.py\", line 350, in fit\n",
      "    super().fit(X, Y, sample_weight, **fit_params)\n",
      "  File \"/Users/leec/opt/anaconda3/lib/python3.7/site-packages/sklearn/multioutput.py\", line 175, in fit\n",
      "    for i in range(y.shape[1]))\n",
      "  File \"/Users/leec/opt/anaconda3/lib/python3.7/site-packages/joblib/parallel.py\", line 924, in __call__\n",
      "    while self.dispatch_one_batch(iterator):\n",
      "  File \"/Users/leec/opt/anaconda3/lib/python3.7/site-packages/joblib/parallel.py\", line 759, in dispatch_one_batch\n",
      "    self._dispatch(tasks)\n",
      "  File \"/Users/leec/opt/anaconda3/lib/python3.7/site-packages/joblib/parallel.py\", line 716, in _dispatch\n",
      "    job = self._backend.apply_async(batch, callback=cb)\n",
      "  File \"/Users/leec/opt/anaconda3/lib/python3.7/site-packages/joblib/_parallel_backends.py\", line 182, in apply_async\n",
      "    result = ImmediateResult(func)\n",
      "  File \"/Users/leec/opt/anaconda3/lib/python3.7/site-packages/joblib/_parallel_backends.py\", line 549, in __init__\n",
      "    self.results = batch()\n",
      "  File \"/Users/leec/opt/anaconda3/lib/python3.7/site-packages/joblib/parallel.py\", line 225, in __call__\n",
      "    for func, args, kwargs in self.items]\n",
      "  File \"/Users/leec/opt/anaconda3/lib/python3.7/site-packages/joblib/parallel.py\", line 225, in <listcomp>\n",
      "    for func, args, kwargs in self.items]\n",
      "  File \"/Users/leec/opt/anaconda3/lib/python3.7/site-packages/sklearn/multioutput.py\", line 40, in _fit_estimator\n",
      "    estimator.fit(X, y, **fit_params)\n",
      "  File \"/Users/leec/opt/anaconda3/lib/python3.7/site-packages/sklearn/svm/_base.py\", line 164, in fit\n",
      "    y = self._validate_targets(y)\n",
      "  File \"/Users/leec/opt/anaconda3/lib/python3.7/site-packages/sklearn/svm/_base.py\", line 551, in _validate_targets\n",
      "    \" class\" % len(cls))\n",
      "ValueError: The number of classes has to be greater than one; got 1 class\n",
      "\n",
      "  FitFailedWarning)\n",
      "/Users/leec/opt/anaconda3/lib/python3.7/site-packages/sklearn/model_selection/_validation.py:552: FitFailedWarning: Estimator fit failed. The score on this train-test partition for these parameters will be set to nan. Details: \n",
      "Traceback (most recent call last):\n",
      "  File \"/Users/leec/opt/anaconda3/lib/python3.7/site-packages/sklearn/model_selection/_validation.py\", line 531, in _fit_and_score\n",
      "    estimator.fit(X_train, y_train, **fit_params)\n",
      "  File \"/Users/leec/opt/anaconda3/lib/python3.7/site-packages/sklearn/pipeline.py\", line 334, in fit\n",
      "    self._final_estimator.fit(Xt, y, **fit_params_last_step)\n",
      "  File \"/Users/leec/opt/anaconda3/lib/python3.7/site-packages/sklearn/multioutput.py\", line 350, in fit\n",
      "    super().fit(X, Y, sample_weight, **fit_params)\n",
      "  File \"/Users/leec/opt/anaconda3/lib/python3.7/site-packages/sklearn/multioutput.py\", line 175, in fit\n",
      "    for i in range(y.shape[1]))\n",
      "  File \"/Users/leec/opt/anaconda3/lib/python3.7/site-packages/joblib/parallel.py\", line 924, in __call__\n",
      "    while self.dispatch_one_batch(iterator):\n",
      "  File \"/Users/leec/opt/anaconda3/lib/python3.7/site-packages/joblib/parallel.py\", line 759, in dispatch_one_batch\n",
      "    self._dispatch(tasks)\n",
      "  File \"/Users/leec/opt/anaconda3/lib/python3.7/site-packages/joblib/parallel.py\", line 716, in _dispatch\n",
      "    job = self._backend.apply_async(batch, callback=cb)\n",
      "  File \"/Users/leec/opt/anaconda3/lib/python3.7/site-packages/joblib/_parallel_backends.py\", line 182, in apply_async\n",
      "    result = ImmediateResult(func)\n",
      "  File \"/Users/leec/opt/anaconda3/lib/python3.7/site-packages/joblib/_parallel_backends.py\", line 549, in __init__\n",
      "    self.results = batch()\n",
      "  File \"/Users/leec/opt/anaconda3/lib/python3.7/site-packages/joblib/parallel.py\", line 225, in __call__\n",
      "    for func, args, kwargs in self.items]\n",
      "  File \"/Users/leec/opt/anaconda3/lib/python3.7/site-packages/joblib/parallel.py\", line 225, in <listcomp>\n",
      "    for func, args, kwargs in self.items]\n",
      "  File \"/Users/leec/opt/anaconda3/lib/python3.7/site-packages/sklearn/multioutput.py\", line 40, in _fit_estimator\n",
      "    estimator.fit(X, y, **fit_params)\n",
      "  File \"/Users/leec/opt/anaconda3/lib/python3.7/site-packages/sklearn/svm/_base.py\", line 164, in fit\n",
      "    y = self._validate_targets(y)\n",
      "  File \"/Users/leec/opt/anaconda3/lib/python3.7/site-packages/sklearn/svm/_base.py\", line 551, in _validate_targets\n",
      "    \" class\" % len(cls))\n",
      "ValueError: The number of classes has to be greater than one; got 1 class\n",
      "\n",
      "  FitFailedWarning)\n"
     ]
    },
    {
     "name": "stderr",
     "output_type": "stream",
     "text": [
      "/Users/leec/opt/anaconda3/lib/python3.7/site-packages/sklearn/model_selection/_validation.py:552: FitFailedWarning: Estimator fit failed. The score on this train-test partition for these parameters will be set to nan. Details: \n",
      "Traceback (most recent call last):\n",
      "  File \"/Users/leec/opt/anaconda3/lib/python3.7/site-packages/sklearn/model_selection/_validation.py\", line 531, in _fit_and_score\n",
      "    estimator.fit(X_train, y_train, **fit_params)\n",
      "  File \"/Users/leec/opt/anaconda3/lib/python3.7/site-packages/sklearn/pipeline.py\", line 334, in fit\n",
      "    self._final_estimator.fit(Xt, y, **fit_params_last_step)\n",
      "  File \"/Users/leec/opt/anaconda3/lib/python3.7/site-packages/sklearn/multioutput.py\", line 350, in fit\n",
      "    super().fit(X, Y, sample_weight, **fit_params)\n",
      "  File \"/Users/leec/opt/anaconda3/lib/python3.7/site-packages/sklearn/multioutput.py\", line 175, in fit\n",
      "    for i in range(y.shape[1]))\n",
      "  File \"/Users/leec/opt/anaconda3/lib/python3.7/site-packages/joblib/parallel.py\", line 924, in __call__\n",
      "    while self.dispatch_one_batch(iterator):\n",
      "  File \"/Users/leec/opt/anaconda3/lib/python3.7/site-packages/joblib/parallel.py\", line 759, in dispatch_one_batch\n",
      "    self._dispatch(tasks)\n",
      "  File \"/Users/leec/opt/anaconda3/lib/python3.7/site-packages/joblib/parallel.py\", line 716, in _dispatch\n",
      "    job = self._backend.apply_async(batch, callback=cb)\n",
      "  File \"/Users/leec/opt/anaconda3/lib/python3.7/site-packages/joblib/_parallel_backends.py\", line 182, in apply_async\n",
      "    result = ImmediateResult(func)\n",
      "  File \"/Users/leec/opt/anaconda3/lib/python3.7/site-packages/joblib/_parallel_backends.py\", line 549, in __init__\n",
      "    self.results = batch()\n",
      "  File \"/Users/leec/opt/anaconda3/lib/python3.7/site-packages/joblib/parallel.py\", line 225, in __call__\n",
      "    for func, args, kwargs in self.items]\n",
      "  File \"/Users/leec/opt/anaconda3/lib/python3.7/site-packages/joblib/parallel.py\", line 225, in <listcomp>\n",
      "    for func, args, kwargs in self.items]\n",
      "  File \"/Users/leec/opt/anaconda3/lib/python3.7/site-packages/sklearn/multioutput.py\", line 40, in _fit_estimator\n",
      "    estimator.fit(X, y, **fit_params)\n",
      "  File \"/Users/leec/opt/anaconda3/lib/python3.7/site-packages/sklearn/svm/_base.py\", line 164, in fit\n",
      "    y = self._validate_targets(y)\n",
      "  File \"/Users/leec/opt/anaconda3/lib/python3.7/site-packages/sklearn/svm/_base.py\", line 551, in _validate_targets\n",
      "    \" class\" % len(cls))\n",
      "ValueError: The number of classes has to be greater than one; got 1 class\n",
      "\n",
      "  FitFailedWarning)\n",
      "/Users/leec/opt/anaconda3/lib/python3.7/site-packages/sklearn/model_selection/_validation.py:552: FitFailedWarning: Estimator fit failed. The score on this train-test partition for these parameters will be set to nan. Details: \n",
      "Traceback (most recent call last):\n",
      "  File \"/Users/leec/opt/anaconda3/lib/python3.7/site-packages/sklearn/model_selection/_validation.py\", line 531, in _fit_and_score\n",
      "    estimator.fit(X_train, y_train, **fit_params)\n",
      "  File \"/Users/leec/opt/anaconda3/lib/python3.7/site-packages/sklearn/pipeline.py\", line 334, in fit\n",
      "    self._final_estimator.fit(Xt, y, **fit_params_last_step)\n",
      "  File \"/Users/leec/opt/anaconda3/lib/python3.7/site-packages/sklearn/multioutput.py\", line 350, in fit\n",
      "    super().fit(X, Y, sample_weight, **fit_params)\n",
      "  File \"/Users/leec/opt/anaconda3/lib/python3.7/site-packages/sklearn/multioutput.py\", line 175, in fit\n",
      "    for i in range(y.shape[1]))\n",
      "  File \"/Users/leec/opt/anaconda3/lib/python3.7/site-packages/joblib/parallel.py\", line 924, in __call__\n",
      "    while self.dispatch_one_batch(iterator):\n",
      "  File \"/Users/leec/opt/anaconda3/lib/python3.7/site-packages/joblib/parallel.py\", line 759, in dispatch_one_batch\n",
      "    self._dispatch(tasks)\n",
      "  File \"/Users/leec/opt/anaconda3/lib/python3.7/site-packages/joblib/parallel.py\", line 716, in _dispatch\n",
      "    job = self._backend.apply_async(batch, callback=cb)\n",
      "  File \"/Users/leec/opt/anaconda3/lib/python3.7/site-packages/joblib/_parallel_backends.py\", line 182, in apply_async\n",
      "    result = ImmediateResult(func)\n",
      "  File \"/Users/leec/opt/anaconda3/lib/python3.7/site-packages/joblib/_parallel_backends.py\", line 549, in __init__\n",
      "    self.results = batch()\n",
      "  File \"/Users/leec/opt/anaconda3/lib/python3.7/site-packages/joblib/parallel.py\", line 225, in __call__\n",
      "    for func, args, kwargs in self.items]\n",
      "  File \"/Users/leec/opt/anaconda3/lib/python3.7/site-packages/joblib/parallel.py\", line 225, in <listcomp>\n",
      "    for func, args, kwargs in self.items]\n",
      "  File \"/Users/leec/opt/anaconda3/lib/python3.7/site-packages/sklearn/multioutput.py\", line 40, in _fit_estimator\n",
      "    estimator.fit(X, y, **fit_params)\n",
      "  File \"/Users/leec/opt/anaconda3/lib/python3.7/site-packages/sklearn/svm/_base.py\", line 164, in fit\n",
      "    y = self._validate_targets(y)\n",
      "  File \"/Users/leec/opt/anaconda3/lib/python3.7/site-packages/sklearn/svm/_base.py\", line 551, in _validate_targets\n",
      "    \" class\" % len(cls))\n",
      "ValueError: The number of classes has to be greater than one; got 1 class\n",
      "\n",
      "  FitFailedWarning)\n",
      "/Users/leec/opt/anaconda3/lib/python3.7/site-packages/sklearn/model_selection/_validation.py:552: FitFailedWarning: Estimator fit failed. The score on this train-test partition for these parameters will be set to nan. Details: \n",
      "Traceback (most recent call last):\n",
      "  File \"/Users/leec/opt/anaconda3/lib/python3.7/site-packages/sklearn/model_selection/_validation.py\", line 531, in _fit_and_score\n",
      "    estimator.fit(X_train, y_train, **fit_params)\n",
      "  File \"/Users/leec/opt/anaconda3/lib/python3.7/site-packages/sklearn/pipeline.py\", line 334, in fit\n",
      "    self._final_estimator.fit(Xt, y, **fit_params_last_step)\n",
      "  File \"/Users/leec/opt/anaconda3/lib/python3.7/site-packages/sklearn/multioutput.py\", line 350, in fit\n",
      "    super().fit(X, Y, sample_weight, **fit_params)\n",
      "  File \"/Users/leec/opt/anaconda3/lib/python3.7/site-packages/sklearn/multioutput.py\", line 175, in fit\n",
      "    for i in range(y.shape[1]))\n",
      "  File \"/Users/leec/opt/anaconda3/lib/python3.7/site-packages/joblib/parallel.py\", line 924, in __call__\n",
      "    while self.dispatch_one_batch(iterator):\n",
      "  File \"/Users/leec/opt/anaconda3/lib/python3.7/site-packages/joblib/parallel.py\", line 759, in dispatch_one_batch\n",
      "    self._dispatch(tasks)\n",
      "  File \"/Users/leec/opt/anaconda3/lib/python3.7/site-packages/joblib/parallel.py\", line 716, in _dispatch\n",
      "    job = self._backend.apply_async(batch, callback=cb)\n",
      "  File \"/Users/leec/opt/anaconda3/lib/python3.7/site-packages/joblib/_parallel_backends.py\", line 182, in apply_async\n",
      "    result = ImmediateResult(func)\n",
      "  File \"/Users/leec/opt/anaconda3/lib/python3.7/site-packages/joblib/_parallel_backends.py\", line 549, in __init__\n",
      "    self.results = batch()\n",
      "  File \"/Users/leec/opt/anaconda3/lib/python3.7/site-packages/joblib/parallel.py\", line 225, in __call__\n",
      "    for func, args, kwargs in self.items]\n",
      "  File \"/Users/leec/opt/anaconda3/lib/python3.7/site-packages/joblib/parallel.py\", line 225, in <listcomp>\n",
      "    for func, args, kwargs in self.items]\n",
      "  File \"/Users/leec/opt/anaconda3/lib/python3.7/site-packages/sklearn/multioutput.py\", line 40, in _fit_estimator\n",
      "    estimator.fit(X, y, **fit_params)\n",
      "  File \"/Users/leec/opt/anaconda3/lib/python3.7/site-packages/sklearn/svm/_base.py\", line 164, in fit\n",
      "    y = self._validate_targets(y)\n",
      "  File \"/Users/leec/opt/anaconda3/lib/python3.7/site-packages/sklearn/svm/_base.py\", line 551, in _validate_targets\n",
      "    \" class\" % len(cls))\n",
      "ValueError: The number of classes has to be greater than one; got 1 class\n",
      "\n",
      "  FitFailedWarning)\n",
      "/Users/leec/opt/anaconda3/lib/python3.7/site-packages/sklearn/model_selection/_validation.py:552: FitFailedWarning: Estimator fit failed. The score on this train-test partition for these parameters will be set to nan. Details: \n",
      "Traceback (most recent call last):\n",
      "  File \"/Users/leec/opt/anaconda3/lib/python3.7/site-packages/sklearn/model_selection/_validation.py\", line 531, in _fit_and_score\n",
      "    estimator.fit(X_train, y_train, **fit_params)\n",
      "  File \"/Users/leec/opt/anaconda3/lib/python3.7/site-packages/sklearn/pipeline.py\", line 334, in fit\n",
      "    self._final_estimator.fit(Xt, y, **fit_params_last_step)\n",
      "  File \"/Users/leec/opt/anaconda3/lib/python3.7/site-packages/sklearn/multioutput.py\", line 350, in fit\n",
      "    super().fit(X, Y, sample_weight, **fit_params)\n",
      "  File \"/Users/leec/opt/anaconda3/lib/python3.7/site-packages/sklearn/multioutput.py\", line 175, in fit\n",
      "    for i in range(y.shape[1]))\n",
      "  File \"/Users/leec/opt/anaconda3/lib/python3.7/site-packages/joblib/parallel.py\", line 924, in __call__\n",
      "    while self.dispatch_one_batch(iterator):\n",
      "  File \"/Users/leec/opt/anaconda3/lib/python3.7/site-packages/joblib/parallel.py\", line 759, in dispatch_one_batch\n",
      "    self._dispatch(tasks)\n",
      "  File \"/Users/leec/opt/anaconda3/lib/python3.7/site-packages/joblib/parallel.py\", line 716, in _dispatch\n",
      "    job = self._backend.apply_async(batch, callback=cb)\n",
      "  File \"/Users/leec/opt/anaconda3/lib/python3.7/site-packages/joblib/_parallel_backends.py\", line 182, in apply_async\n",
      "    result = ImmediateResult(func)\n",
      "  File \"/Users/leec/opt/anaconda3/lib/python3.7/site-packages/joblib/_parallel_backends.py\", line 549, in __init__\n",
      "    self.results = batch()\n",
      "  File \"/Users/leec/opt/anaconda3/lib/python3.7/site-packages/joblib/parallel.py\", line 225, in __call__\n",
      "    for func, args, kwargs in self.items]\n",
      "  File \"/Users/leec/opt/anaconda3/lib/python3.7/site-packages/joblib/parallel.py\", line 225, in <listcomp>\n",
      "    for func, args, kwargs in self.items]\n",
      "  File \"/Users/leec/opt/anaconda3/lib/python3.7/site-packages/sklearn/multioutput.py\", line 40, in _fit_estimator\n",
      "    estimator.fit(X, y, **fit_params)\n",
      "  File \"/Users/leec/opt/anaconda3/lib/python3.7/site-packages/sklearn/svm/_base.py\", line 164, in fit\n",
      "    y = self._validate_targets(y)\n",
      "  File \"/Users/leec/opt/anaconda3/lib/python3.7/site-packages/sklearn/svm/_base.py\", line 551, in _validate_targets\n",
      "    \" class\" % len(cls))\n",
      "ValueError: The number of classes has to be greater than one; got 1 class\n",
      "\n",
      "  FitFailedWarning)\n"
     ]
    },
    {
     "name": "stderr",
     "output_type": "stream",
     "text": [
      "/Users/leec/opt/anaconda3/lib/python3.7/site-packages/sklearn/model_selection/_validation.py:552: FitFailedWarning: Estimator fit failed. The score on this train-test partition for these parameters will be set to nan. Details: \n",
      "Traceback (most recent call last):\n",
      "  File \"/Users/leec/opt/anaconda3/lib/python3.7/site-packages/sklearn/model_selection/_validation.py\", line 531, in _fit_and_score\n",
      "    estimator.fit(X_train, y_train, **fit_params)\n",
      "  File \"/Users/leec/opt/anaconda3/lib/python3.7/site-packages/sklearn/pipeline.py\", line 334, in fit\n",
      "    self._final_estimator.fit(Xt, y, **fit_params_last_step)\n",
      "  File \"/Users/leec/opt/anaconda3/lib/python3.7/site-packages/sklearn/multioutput.py\", line 350, in fit\n",
      "    super().fit(X, Y, sample_weight, **fit_params)\n",
      "  File \"/Users/leec/opt/anaconda3/lib/python3.7/site-packages/sklearn/multioutput.py\", line 175, in fit\n",
      "    for i in range(y.shape[1]))\n",
      "  File \"/Users/leec/opt/anaconda3/lib/python3.7/site-packages/joblib/parallel.py\", line 924, in __call__\n",
      "    while self.dispatch_one_batch(iterator):\n",
      "  File \"/Users/leec/opt/anaconda3/lib/python3.7/site-packages/joblib/parallel.py\", line 759, in dispatch_one_batch\n",
      "    self._dispatch(tasks)\n",
      "  File \"/Users/leec/opt/anaconda3/lib/python3.7/site-packages/joblib/parallel.py\", line 716, in _dispatch\n",
      "    job = self._backend.apply_async(batch, callback=cb)\n",
      "  File \"/Users/leec/opt/anaconda3/lib/python3.7/site-packages/joblib/_parallel_backends.py\", line 182, in apply_async\n",
      "    result = ImmediateResult(func)\n",
      "  File \"/Users/leec/opt/anaconda3/lib/python3.7/site-packages/joblib/_parallel_backends.py\", line 549, in __init__\n",
      "    self.results = batch()\n",
      "  File \"/Users/leec/opt/anaconda3/lib/python3.7/site-packages/joblib/parallel.py\", line 225, in __call__\n",
      "    for func, args, kwargs in self.items]\n",
      "  File \"/Users/leec/opt/anaconda3/lib/python3.7/site-packages/joblib/parallel.py\", line 225, in <listcomp>\n",
      "    for func, args, kwargs in self.items]\n",
      "  File \"/Users/leec/opt/anaconda3/lib/python3.7/site-packages/sklearn/multioutput.py\", line 40, in _fit_estimator\n",
      "    estimator.fit(X, y, **fit_params)\n",
      "  File \"/Users/leec/opt/anaconda3/lib/python3.7/site-packages/sklearn/svm/_base.py\", line 164, in fit\n",
      "    y = self._validate_targets(y)\n",
      "  File \"/Users/leec/opt/anaconda3/lib/python3.7/site-packages/sklearn/svm/_base.py\", line 551, in _validate_targets\n",
      "    \" class\" % len(cls))\n",
      "ValueError: The number of classes has to be greater than one; got 1 class\n",
      "\n",
      "  FitFailedWarning)\n",
      "/Users/leec/opt/anaconda3/lib/python3.7/site-packages/sklearn/model_selection/_validation.py:552: FitFailedWarning: Estimator fit failed. The score on this train-test partition for these parameters will be set to nan. Details: \n",
      "Traceback (most recent call last):\n",
      "  File \"/Users/leec/opt/anaconda3/lib/python3.7/site-packages/sklearn/model_selection/_validation.py\", line 531, in _fit_and_score\n",
      "    estimator.fit(X_train, y_train, **fit_params)\n",
      "  File \"/Users/leec/opt/anaconda3/lib/python3.7/site-packages/sklearn/pipeline.py\", line 334, in fit\n",
      "    self._final_estimator.fit(Xt, y, **fit_params_last_step)\n",
      "  File \"/Users/leec/opt/anaconda3/lib/python3.7/site-packages/sklearn/multioutput.py\", line 350, in fit\n",
      "    super().fit(X, Y, sample_weight, **fit_params)\n",
      "  File \"/Users/leec/opt/anaconda3/lib/python3.7/site-packages/sklearn/multioutput.py\", line 175, in fit\n",
      "    for i in range(y.shape[1]))\n",
      "  File \"/Users/leec/opt/anaconda3/lib/python3.7/site-packages/joblib/parallel.py\", line 924, in __call__\n",
      "    while self.dispatch_one_batch(iterator):\n",
      "  File \"/Users/leec/opt/anaconda3/lib/python3.7/site-packages/joblib/parallel.py\", line 759, in dispatch_one_batch\n",
      "    self._dispatch(tasks)\n",
      "  File \"/Users/leec/opt/anaconda3/lib/python3.7/site-packages/joblib/parallel.py\", line 716, in _dispatch\n",
      "    job = self._backend.apply_async(batch, callback=cb)\n",
      "  File \"/Users/leec/opt/anaconda3/lib/python3.7/site-packages/joblib/_parallel_backends.py\", line 182, in apply_async\n",
      "    result = ImmediateResult(func)\n",
      "  File \"/Users/leec/opt/anaconda3/lib/python3.7/site-packages/joblib/_parallel_backends.py\", line 549, in __init__\n",
      "    self.results = batch()\n",
      "  File \"/Users/leec/opt/anaconda3/lib/python3.7/site-packages/joblib/parallel.py\", line 225, in __call__\n",
      "    for func, args, kwargs in self.items]\n",
      "  File \"/Users/leec/opt/anaconda3/lib/python3.7/site-packages/joblib/parallel.py\", line 225, in <listcomp>\n",
      "    for func, args, kwargs in self.items]\n",
      "  File \"/Users/leec/opt/anaconda3/lib/python3.7/site-packages/sklearn/multioutput.py\", line 40, in _fit_estimator\n",
      "    estimator.fit(X, y, **fit_params)\n",
      "  File \"/Users/leec/opt/anaconda3/lib/python3.7/site-packages/sklearn/svm/_base.py\", line 164, in fit\n",
      "    y = self._validate_targets(y)\n",
      "  File \"/Users/leec/opt/anaconda3/lib/python3.7/site-packages/sklearn/svm/_base.py\", line 551, in _validate_targets\n",
      "    \" class\" % len(cls))\n",
      "ValueError: The number of classes has to be greater than one; got 1 class\n",
      "\n",
      "  FitFailedWarning)\n",
      "/Users/leec/opt/anaconda3/lib/python3.7/site-packages/sklearn/model_selection/_validation.py:552: FitFailedWarning: Estimator fit failed. The score on this train-test partition for these parameters will be set to nan. Details: \n",
      "Traceback (most recent call last):\n",
      "  File \"/Users/leec/opt/anaconda3/lib/python3.7/site-packages/sklearn/model_selection/_validation.py\", line 531, in _fit_and_score\n",
      "    estimator.fit(X_train, y_train, **fit_params)\n",
      "  File \"/Users/leec/opt/anaconda3/lib/python3.7/site-packages/sklearn/pipeline.py\", line 334, in fit\n",
      "    self._final_estimator.fit(Xt, y, **fit_params_last_step)\n",
      "  File \"/Users/leec/opt/anaconda3/lib/python3.7/site-packages/sklearn/multioutput.py\", line 350, in fit\n",
      "    super().fit(X, Y, sample_weight, **fit_params)\n",
      "  File \"/Users/leec/opt/anaconda3/lib/python3.7/site-packages/sklearn/multioutput.py\", line 175, in fit\n",
      "    for i in range(y.shape[1]))\n",
      "  File \"/Users/leec/opt/anaconda3/lib/python3.7/site-packages/joblib/parallel.py\", line 924, in __call__\n",
      "    while self.dispatch_one_batch(iterator):\n",
      "  File \"/Users/leec/opt/anaconda3/lib/python3.7/site-packages/joblib/parallel.py\", line 759, in dispatch_one_batch\n",
      "    self._dispatch(tasks)\n",
      "  File \"/Users/leec/opt/anaconda3/lib/python3.7/site-packages/joblib/parallel.py\", line 716, in _dispatch\n",
      "    job = self._backend.apply_async(batch, callback=cb)\n",
      "  File \"/Users/leec/opt/anaconda3/lib/python3.7/site-packages/joblib/_parallel_backends.py\", line 182, in apply_async\n",
      "    result = ImmediateResult(func)\n",
      "  File \"/Users/leec/opt/anaconda3/lib/python3.7/site-packages/joblib/_parallel_backends.py\", line 549, in __init__\n",
      "    self.results = batch()\n",
      "  File \"/Users/leec/opt/anaconda3/lib/python3.7/site-packages/joblib/parallel.py\", line 225, in __call__\n",
      "    for func, args, kwargs in self.items]\n",
      "  File \"/Users/leec/opt/anaconda3/lib/python3.7/site-packages/joblib/parallel.py\", line 225, in <listcomp>\n",
      "    for func, args, kwargs in self.items]\n",
      "  File \"/Users/leec/opt/anaconda3/lib/python3.7/site-packages/sklearn/multioutput.py\", line 40, in _fit_estimator\n",
      "    estimator.fit(X, y, **fit_params)\n",
      "  File \"/Users/leec/opt/anaconda3/lib/python3.7/site-packages/sklearn/svm/_base.py\", line 164, in fit\n",
      "    y = self._validate_targets(y)\n",
      "  File \"/Users/leec/opt/anaconda3/lib/python3.7/site-packages/sklearn/svm/_base.py\", line 551, in _validate_targets\n",
      "    \" class\" % len(cls))\n",
      "ValueError: The number of classes has to be greater than one; got 1 class\n",
      "\n",
      "  FitFailedWarning)\n",
      "/Users/leec/opt/anaconda3/lib/python3.7/site-packages/sklearn/model_selection/_validation.py:552: FitFailedWarning: Estimator fit failed. The score on this train-test partition for these parameters will be set to nan. Details: \n",
      "Traceback (most recent call last):\n",
      "  File \"/Users/leec/opt/anaconda3/lib/python3.7/site-packages/sklearn/model_selection/_validation.py\", line 531, in _fit_and_score\n",
      "    estimator.fit(X_train, y_train, **fit_params)\n",
      "  File \"/Users/leec/opt/anaconda3/lib/python3.7/site-packages/sklearn/pipeline.py\", line 334, in fit\n",
      "    self._final_estimator.fit(Xt, y, **fit_params_last_step)\n",
      "  File \"/Users/leec/opt/anaconda3/lib/python3.7/site-packages/sklearn/multioutput.py\", line 350, in fit\n",
      "    super().fit(X, Y, sample_weight, **fit_params)\n",
      "  File \"/Users/leec/opt/anaconda3/lib/python3.7/site-packages/sklearn/multioutput.py\", line 175, in fit\n",
      "    for i in range(y.shape[1]))\n",
      "  File \"/Users/leec/opt/anaconda3/lib/python3.7/site-packages/joblib/parallel.py\", line 924, in __call__\n",
      "    while self.dispatch_one_batch(iterator):\n",
      "  File \"/Users/leec/opt/anaconda3/lib/python3.7/site-packages/joblib/parallel.py\", line 759, in dispatch_one_batch\n",
      "    self._dispatch(tasks)\n",
      "  File \"/Users/leec/opt/anaconda3/lib/python3.7/site-packages/joblib/parallel.py\", line 716, in _dispatch\n",
      "    job = self._backend.apply_async(batch, callback=cb)\n",
      "  File \"/Users/leec/opt/anaconda3/lib/python3.7/site-packages/joblib/_parallel_backends.py\", line 182, in apply_async\n",
      "    result = ImmediateResult(func)\n",
      "  File \"/Users/leec/opt/anaconda3/lib/python3.7/site-packages/joblib/_parallel_backends.py\", line 549, in __init__\n",
      "    self.results = batch()\n",
      "  File \"/Users/leec/opt/anaconda3/lib/python3.7/site-packages/joblib/parallel.py\", line 225, in __call__\n",
      "    for func, args, kwargs in self.items]\n",
      "  File \"/Users/leec/opt/anaconda3/lib/python3.7/site-packages/joblib/parallel.py\", line 225, in <listcomp>\n",
      "    for func, args, kwargs in self.items]\n",
      "  File \"/Users/leec/opt/anaconda3/lib/python3.7/site-packages/sklearn/multioutput.py\", line 40, in _fit_estimator\n",
      "    estimator.fit(X, y, **fit_params)\n",
      "  File \"/Users/leec/opt/anaconda3/lib/python3.7/site-packages/sklearn/svm/_base.py\", line 164, in fit\n",
      "    y = self._validate_targets(y)\n",
      "  File \"/Users/leec/opt/anaconda3/lib/python3.7/site-packages/sklearn/svm/_base.py\", line 551, in _validate_targets\n",
      "    \" class\" % len(cls))\n",
      "ValueError: The number of classes has to be greater than one; got 1 class\n",
      "\n",
      "  FitFailedWarning)\n"
     ]
    },
    {
     "name": "stderr",
     "output_type": "stream",
     "text": [
      "/Users/leec/opt/anaconda3/lib/python3.7/site-packages/sklearn/model_selection/_validation.py:552: FitFailedWarning: Estimator fit failed. The score on this train-test partition for these parameters will be set to nan. Details: \n",
      "Traceback (most recent call last):\n",
      "  File \"/Users/leec/opt/anaconda3/lib/python3.7/site-packages/sklearn/model_selection/_validation.py\", line 531, in _fit_and_score\n",
      "    estimator.fit(X_train, y_train, **fit_params)\n",
      "  File \"/Users/leec/opt/anaconda3/lib/python3.7/site-packages/sklearn/pipeline.py\", line 334, in fit\n",
      "    self._final_estimator.fit(Xt, y, **fit_params_last_step)\n",
      "  File \"/Users/leec/opt/anaconda3/lib/python3.7/site-packages/sklearn/multioutput.py\", line 350, in fit\n",
      "    super().fit(X, Y, sample_weight, **fit_params)\n",
      "  File \"/Users/leec/opt/anaconda3/lib/python3.7/site-packages/sklearn/multioutput.py\", line 175, in fit\n",
      "    for i in range(y.shape[1]))\n",
      "  File \"/Users/leec/opt/anaconda3/lib/python3.7/site-packages/joblib/parallel.py\", line 924, in __call__\n",
      "    while self.dispatch_one_batch(iterator):\n",
      "  File \"/Users/leec/opt/anaconda3/lib/python3.7/site-packages/joblib/parallel.py\", line 759, in dispatch_one_batch\n",
      "    self._dispatch(tasks)\n",
      "  File \"/Users/leec/opt/anaconda3/lib/python3.7/site-packages/joblib/parallel.py\", line 716, in _dispatch\n",
      "    job = self._backend.apply_async(batch, callback=cb)\n",
      "  File \"/Users/leec/opt/anaconda3/lib/python3.7/site-packages/joblib/_parallel_backends.py\", line 182, in apply_async\n",
      "    result = ImmediateResult(func)\n",
      "  File \"/Users/leec/opt/anaconda3/lib/python3.7/site-packages/joblib/_parallel_backends.py\", line 549, in __init__\n",
      "    self.results = batch()\n",
      "  File \"/Users/leec/opt/anaconda3/lib/python3.7/site-packages/joblib/parallel.py\", line 225, in __call__\n",
      "    for func, args, kwargs in self.items]\n",
      "  File \"/Users/leec/opt/anaconda3/lib/python3.7/site-packages/joblib/parallel.py\", line 225, in <listcomp>\n",
      "    for func, args, kwargs in self.items]\n",
      "  File \"/Users/leec/opt/anaconda3/lib/python3.7/site-packages/sklearn/multioutput.py\", line 40, in _fit_estimator\n",
      "    estimator.fit(X, y, **fit_params)\n",
      "  File \"/Users/leec/opt/anaconda3/lib/python3.7/site-packages/sklearn/svm/_base.py\", line 164, in fit\n",
      "    y = self._validate_targets(y)\n",
      "  File \"/Users/leec/opt/anaconda3/lib/python3.7/site-packages/sklearn/svm/_base.py\", line 551, in _validate_targets\n",
      "    \" class\" % len(cls))\n",
      "ValueError: The number of classes has to be greater than one; got 1 class\n",
      "\n",
      "  FitFailedWarning)\n",
      "/Users/leec/opt/anaconda3/lib/python3.7/site-packages/sklearn/model_selection/_validation.py:552: FitFailedWarning: Estimator fit failed. The score on this train-test partition for these parameters will be set to nan. Details: \n",
      "Traceback (most recent call last):\n",
      "  File \"/Users/leec/opt/anaconda3/lib/python3.7/site-packages/sklearn/model_selection/_validation.py\", line 531, in _fit_and_score\n",
      "    estimator.fit(X_train, y_train, **fit_params)\n",
      "  File \"/Users/leec/opt/anaconda3/lib/python3.7/site-packages/sklearn/pipeline.py\", line 334, in fit\n",
      "    self._final_estimator.fit(Xt, y, **fit_params_last_step)\n",
      "  File \"/Users/leec/opt/anaconda3/lib/python3.7/site-packages/sklearn/multioutput.py\", line 350, in fit\n",
      "    super().fit(X, Y, sample_weight, **fit_params)\n",
      "  File \"/Users/leec/opt/anaconda3/lib/python3.7/site-packages/sklearn/multioutput.py\", line 175, in fit\n",
      "    for i in range(y.shape[1]))\n",
      "  File \"/Users/leec/opt/anaconda3/lib/python3.7/site-packages/joblib/parallel.py\", line 924, in __call__\n",
      "    while self.dispatch_one_batch(iterator):\n",
      "  File \"/Users/leec/opt/anaconda3/lib/python3.7/site-packages/joblib/parallel.py\", line 759, in dispatch_one_batch\n",
      "    self._dispatch(tasks)\n",
      "  File \"/Users/leec/opt/anaconda3/lib/python3.7/site-packages/joblib/parallel.py\", line 716, in _dispatch\n",
      "    job = self._backend.apply_async(batch, callback=cb)\n",
      "  File \"/Users/leec/opt/anaconda3/lib/python3.7/site-packages/joblib/_parallel_backends.py\", line 182, in apply_async\n",
      "    result = ImmediateResult(func)\n",
      "  File \"/Users/leec/opt/anaconda3/lib/python3.7/site-packages/joblib/_parallel_backends.py\", line 549, in __init__\n",
      "    self.results = batch()\n",
      "  File \"/Users/leec/opt/anaconda3/lib/python3.7/site-packages/joblib/parallel.py\", line 225, in __call__\n",
      "    for func, args, kwargs in self.items]\n",
      "  File \"/Users/leec/opt/anaconda3/lib/python3.7/site-packages/joblib/parallel.py\", line 225, in <listcomp>\n",
      "    for func, args, kwargs in self.items]\n",
      "  File \"/Users/leec/opt/anaconda3/lib/python3.7/site-packages/sklearn/multioutput.py\", line 40, in _fit_estimator\n",
      "    estimator.fit(X, y, **fit_params)\n",
      "  File \"/Users/leec/opt/anaconda3/lib/python3.7/site-packages/sklearn/svm/_base.py\", line 164, in fit\n",
      "    y = self._validate_targets(y)\n",
      "  File \"/Users/leec/opt/anaconda3/lib/python3.7/site-packages/sklearn/svm/_base.py\", line 551, in _validate_targets\n",
      "    \" class\" % len(cls))\n",
      "ValueError: The number of classes has to be greater than one; got 1 class\n",
      "\n",
      "  FitFailedWarning)\n",
      "/Users/leec/opt/anaconda3/lib/python3.7/site-packages/sklearn/model_selection/_validation.py:552: FitFailedWarning: Estimator fit failed. The score on this train-test partition for these parameters will be set to nan. Details: \n",
      "Traceback (most recent call last):\n",
      "  File \"/Users/leec/opt/anaconda3/lib/python3.7/site-packages/sklearn/model_selection/_validation.py\", line 531, in _fit_and_score\n",
      "    estimator.fit(X_train, y_train, **fit_params)\n",
      "  File \"/Users/leec/opt/anaconda3/lib/python3.7/site-packages/sklearn/pipeline.py\", line 334, in fit\n",
      "    self._final_estimator.fit(Xt, y, **fit_params_last_step)\n",
      "  File \"/Users/leec/opt/anaconda3/lib/python3.7/site-packages/sklearn/multioutput.py\", line 350, in fit\n",
      "    super().fit(X, Y, sample_weight, **fit_params)\n",
      "  File \"/Users/leec/opt/anaconda3/lib/python3.7/site-packages/sklearn/multioutput.py\", line 175, in fit\n",
      "    for i in range(y.shape[1]))\n",
      "  File \"/Users/leec/opt/anaconda3/lib/python3.7/site-packages/joblib/parallel.py\", line 924, in __call__\n",
      "    while self.dispatch_one_batch(iterator):\n",
      "  File \"/Users/leec/opt/anaconda3/lib/python3.7/site-packages/joblib/parallel.py\", line 759, in dispatch_one_batch\n",
      "    self._dispatch(tasks)\n",
      "  File \"/Users/leec/opt/anaconda3/lib/python3.7/site-packages/joblib/parallel.py\", line 716, in _dispatch\n",
      "    job = self._backend.apply_async(batch, callback=cb)\n",
      "  File \"/Users/leec/opt/anaconda3/lib/python3.7/site-packages/joblib/_parallel_backends.py\", line 182, in apply_async\n",
      "    result = ImmediateResult(func)\n",
      "  File \"/Users/leec/opt/anaconda3/lib/python3.7/site-packages/joblib/_parallel_backends.py\", line 549, in __init__\n",
      "    self.results = batch()\n",
      "  File \"/Users/leec/opt/anaconda3/lib/python3.7/site-packages/joblib/parallel.py\", line 225, in __call__\n",
      "    for func, args, kwargs in self.items]\n",
      "  File \"/Users/leec/opt/anaconda3/lib/python3.7/site-packages/joblib/parallel.py\", line 225, in <listcomp>\n",
      "    for func, args, kwargs in self.items]\n",
      "  File \"/Users/leec/opt/anaconda3/lib/python3.7/site-packages/sklearn/multioutput.py\", line 40, in _fit_estimator\n",
      "    estimator.fit(X, y, **fit_params)\n",
      "  File \"/Users/leec/opt/anaconda3/lib/python3.7/site-packages/sklearn/svm/_base.py\", line 164, in fit\n",
      "    y = self._validate_targets(y)\n",
      "  File \"/Users/leec/opt/anaconda3/lib/python3.7/site-packages/sklearn/svm/_base.py\", line 551, in _validate_targets\n",
      "    \" class\" % len(cls))\n",
      "ValueError: The number of classes has to be greater than one; got 1 class\n",
      "\n",
      "  FitFailedWarning)\n",
      "/Users/leec/opt/anaconda3/lib/python3.7/site-packages/sklearn/model_selection/_validation.py:552: FitFailedWarning: Estimator fit failed. The score on this train-test partition for these parameters will be set to nan. Details: \n",
      "Traceback (most recent call last):\n",
      "  File \"/Users/leec/opt/anaconda3/lib/python3.7/site-packages/sklearn/model_selection/_validation.py\", line 531, in _fit_and_score\n",
      "    estimator.fit(X_train, y_train, **fit_params)\n",
      "  File \"/Users/leec/opt/anaconda3/lib/python3.7/site-packages/sklearn/pipeline.py\", line 334, in fit\n",
      "    self._final_estimator.fit(Xt, y, **fit_params_last_step)\n",
      "  File \"/Users/leec/opt/anaconda3/lib/python3.7/site-packages/sklearn/multioutput.py\", line 350, in fit\n",
      "    super().fit(X, Y, sample_weight, **fit_params)\n",
      "  File \"/Users/leec/opt/anaconda3/lib/python3.7/site-packages/sklearn/multioutput.py\", line 175, in fit\n",
      "    for i in range(y.shape[1]))\n",
      "  File \"/Users/leec/opt/anaconda3/lib/python3.7/site-packages/joblib/parallel.py\", line 924, in __call__\n",
      "    while self.dispatch_one_batch(iterator):\n",
      "  File \"/Users/leec/opt/anaconda3/lib/python3.7/site-packages/joblib/parallel.py\", line 759, in dispatch_one_batch\n",
      "    self._dispatch(tasks)\n",
      "  File \"/Users/leec/opt/anaconda3/lib/python3.7/site-packages/joblib/parallel.py\", line 716, in _dispatch\n",
      "    job = self._backend.apply_async(batch, callback=cb)\n",
      "  File \"/Users/leec/opt/anaconda3/lib/python3.7/site-packages/joblib/_parallel_backends.py\", line 182, in apply_async\n",
      "    result = ImmediateResult(func)\n",
      "  File \"/Users/leec/opt/anaconda3/lib/python3.7/site-packages/joblib/_parallel_backends.py\", line 549, in __init__\n",
      "    self.results = batch()\n",
      "  File \"/Users/leec/opt/anaconda3/lib/python3.7/site-packages/joblib/parallel.py\", line 225, in __call__\n",
      "    for func, args, kwargs in self.items]\n",
      "  File \"/Users/leec/opt/anaconda3/lib/python3.7/site-packages/joblib/parallel.py\", line 225, in <listcomp>\n",
      "    for func, args, kwargs in self.items]\n",
      "  File \"/Users/leec/opt/anaconda3/lib/python3.7/site-packages/sklearn/multioutput.py\", line 40, in _fit_estimator\n",
      "    estimator.fit(X, y, **fit_params)\n",
      "  File \"/Users/leec/opt/anaconda3/lib/python3.7/site-packages/sklearn/svm/_base.py\", line 164, in fit\n",
      "    y = self._validate_targets(y)\n",
      "  File \"/Users/leec/opt/anaconda3/lib/python3.7/site-packages/sklearn/svm/_base.py\", line 551, in _validate_targets\n",
      "    \" class\" % len(cls))\n",
      "ValueError: The number of classes has to be greater than one; got 1 class\n",
      "\n",
      "  FitFailedWarning)\n"
     ]
    },
    {
     "name": "stderr",
     "output_type": "stream",
     "text": [
      "/Users/leec/opt/anaconda3/lib/python3.7/site-packages/sklearn/model_selection/_validation.py:552: FitFailedWarning: Estimator fit failed. The score on this train-test partition for these parameters will be set to nan. Details: \n",
      "Traceback (most recent call last):\n",
      "  File \"/Users/leec/opt/anaconda3/lib/python3.7/site-packages/sklearn/model_selection/_validation.py\", line 531, in _fit_and_score\n",
      "    estimator.fit(X_train, y_train, **fit_params)\n",
      "  File \"/Users/leec/opt/anaconda3/lib/python3.7/site-packages/sklearn/pipeline.py\", line 334, in fit\n",
      "    self._final_estimator.fit(Xt, y, **fit_params_last_step)\n",
      "  File \"/Users/leec/opt/anaconda3/lib/python3.7/site-packages/sklearn/multioutput.py\", line 350, in fit\n",
      "    super().fit(X, Y, sample_weight, **fit_params)\n",
      "  File \"/Users/leec/opt/anaconda3/lib/python3.7/site-packages/sklearn/multioutput.py\", line 175, in fit\n",
      "    for i in range(y.shape[1]))\n",
      "  File \"/Users/leec/opt/anaconda3/lib/python3.7/site-packages/joblib/parallel.py\", line 924, in __call__\n",
      "    while self.dispatch_one_batch(iterator):\n",
      "  File \"/Users/leec/opt/anaconda3/lib/python3.7/site-packages/joblib/parallel.py\", line 759, in dispatch_one_batch\n",
      "    self._dispatch(tasks)\n",
      "  File \"/Users/leec/opt/anaconda3/lib/python3.7/site-packages/joblib/parallel.py\", line 716, in _dispatch\n",
      "    job = self._backend.apply_async(batch, callback=cb)\n",
      "  File \"/Users/leec/opt/anaconda3/lib/python3.7/site-packages/joblib/_parallel_backends.py\", line 182, in apply_async\n",
      "    result = ImmediateResult(func)\n",
      "  File \"/Users/leec/opt/anaconda3/lib/python3.7/site-packages/joblib/_parallel_backends.py\", line 549, in __init__\n",
      "    self.results = batch()\n",
      "  File \"/Users/leec/opt/anaconda3/lib/python3.7/site-packages/joblib/parallel.py\", line 225, in __call__\n",
      "    for func, args, kwargs in self.items]\n",
      "  File \"/Users/leec/opt/anaconda3/lib/python3.7/site-packages/joblib/parallel.py\", line 225, in <listcomp>\n",
      "    for func, args, kwargs in self.items]\n",
      "  File \"/Users/leec/opt/anaconda3/lib/python3.7/site-packages/sklearn/multioutput.py\", line 40, in _fit_estimator\n",
      "    estimator.fit(X, y, **fit_params)\n",
      "  File \"/Users/leec/opt/anaconda3/lib/python3.7/site-packages/sklearn/svm/_base.py\", line 164, in fit\n",
      "    y = self._validate_targets(y)\n",
      "  File \"/Users/leec/opt/anaconda3/lib/python3.7/site-packages/sklearn/svm/_base.py\", line 551, in _validate_targets\n",
      "    \" class\" % len(cls))\n",
      "ValueError: The number of classes has to be greater than one; got 1 class\n",
      "\n",
      "  FitFailedWarning)\n",
      "/Users/leec/opt/anaconda3/lib/python3.7/site-packages/sklearn/model_selection/_validation.py:552: FitFailedWarning: Estimator fit failed. The score on this train-test partition for these parameters will be set to nan. Details: \n",
      "Traceback (most recent call last):\n",
      "  File \"/Users/leec/opt/anaconda3/lib/python3.7/site-packages/sklearn/model_selection/_validation.py\", line 531, in _fit_and_score\n",
      "    estimator.fit(X_train, y_train, **fit_params)\n",
      "  File \"/Users/leec/opt/anaconda3/lib/python3.7/site-packages/sklearn/pipeline.py\", line 334, in fit\n",
      "    self._final_estimator.fit(Xt, y, **fit_params_last_step)\n",
      "  File \"/Users/leec/opt/anaconda3/lib/python3.7/site-packages/sklearn/multioutput.py\", line 350, in fit\n",
      "    super().fit(X, Y, sample_weight, **fit_params)\n",
      "  File \"/Users/leec/opt/anaconda3/lib/python3.7/site-packages/sklearn/multioutput.py\", line 175, in fit\n",
      "    for i in range(y.shape[1]))\n",
      "  File \"/Users/leec/opt/anaconda3/lib/python3.7/site-packages/joblib/parallel.py\", line 924, in __call__\n",
      "    while self.dispatch_one_batch(iterator):\n",
      "  File \"/Users/leec/opt/anaconda3/lib/python3.7/site-packages/joblib/parallel.py\", line 759, in dispatch_one_batch\n",
      "    self._dispatch(tasks)\n",
      "  File \"/Users/leec/opt/anaconda3/lib/python3.7/site-packages/joblib/parallel.py\", line 716, in _dispatch\n",
      "    job = self._backend.apply_async(batch, callback=cb)\n",
      "  File \"/Users/leec/opt/anaconda3/lib/python3.7/site-packages/joblib/_parallel_backends.py\", line 182, in apply_async\n",
      "    result = ImmediateResult(func)\n",
      "  File \"/Users/leec/opt/anaconda3/lib/python3.7/site-packages/joblib/_parallel_backends.py\", line 549, in __init__\n",
      "    self.results = batch()\n",
      "  File \"/Users/leec/opt/anaconda3/lib/python3.7/site-packages/joblib/parallel.py\", line 225, in __call__\n",
      "    for func, args, kwargs in self.items]\n",
      "  File \"/Users/leec/opt/anaconda3/lib/python3.7/site-packages/joblib/parallel.py\", line 225, in <listcomp>\n",
      "    for func, args, kwargs in self.items]\n",
      "  File \"/Users/leec/opt/anaconda3/lib/python3.7/site-packages/sklearn/multioutput.py\", line 40, in _fit_estimator\n",
      "    estimator.fit(X, y, **fit_params)\n",
      "  File \"/Users/leec/opt/anaconda3/lib/python3.7/site-packages/sklearn/svm/_base.py\", line 164, in fit\n",
      "    y = self._validate_targets(y)\n",
      "  File \"/Users/leec/opt/anaconda3/lib/python3.7/site-packages/sklearn/svm/_base.py\", line 551, in _validate_targets\n",
      "    \" class\" % len(cls))\n",
      "ValueError: The number of classes has to be greater than one; got 1 class\n",
      "\n",
      "  FitFailedWarning)\n",
      "/Users/leec/opt/anaconda3/lib/python3.7/site-packages/sklearn/model_selection/_validation.py:552: FitFailedWarning: Estimator fit failed. The score on this train-test partition for these parameters will be set to nan. Details: \n",
      "Traceback (most recent call last):\n",
      "  File \"/Users/leec/opt/anaconda3/lib/python3.7/site-packages/sklearn/model_selection/_validation.py\", line 531, in _fit_and_score\n",
      "    estimator.fit(X_train, y_train, **fit_params)\n",
      "  File \"/Users/leec/opt/anaconda3/lib/python3.7/site-packages/sklearn/pipeline.py\", line 334, in fit\n",
      "    self._final_estimator.fit(Xt, y, **fit_params_last_step)\n",
      "  File \"/Users/leec/opt/anaconda3/lib/python3.7/site-packages/sklearn/multioutput.py\", line 350, in fit\n",
      "    super().fit(X, Y, sample_weight, **fit_params)\n",
      "  File \"/Users/leec/opt/anaconda3/lib/python3.7/site-packages/sklearn/multioutput.py\", line 175, in fit\n",
      "    for i in range(y.shape[1]))\n",
      "  File \"/Users/leec/opt/anaconda3/lib/python3.7/site-packages/joblib/parallel.py\", line 924, in __call__\n",
      "    while self.dispatch_one_batch(iterator):\n",
      "  File \"/Users/leec/opt/anaconda3/lib/python3.7/site-packages/joblib/parallel.py\", line 759, in dispatch_one_batch\n",
      "    self._dispatch(tasks)\n",
      "  File \"/Users/leec/opt/anaconda3/lib/python3.7/site-packages/joblib/parallel.py\", line 716, in _dispatch\n",
      "    job = self._backend.apply_async(batch, callback=cb)\n",
      "  File \"/Users/leec/opt/anaconda3/lib/python3.7/site-packages/joblib/_parallel_backends.py\", line 182, in apply_async\n",
      "    result = ImmediateResult(func)\n",
      "  File \"/Users/leec/opt/anaconda3/lib/python3.7/site-packages/joblib/_parallel_backends.py\", line 549, in __init__\n",
      "    self.results = batch()\n",
      "  File \"/Users/leec/opt/anaconda3/lib/python3.7/site-packages/joblib/parallel.py\", line 225, in __call__\n",
      "    for func, args, kwargs in self.items]\n",
      "  File \"/Users/leec/opt/anaconda3/lib/python3.7/site-packages/joblib/parallel.py\", line 225, in <listcomp>\n",
      "    for func, args, kwargs in self.items]\n",
      "  File \"/Users/leec/opt/anaconda3/lib/python3.7/site-packages/sklearn/multioutput.py\", line 40, in _fit_estimator\n",
      "    estimator.fit(X, y, **fit_params)\n",
      "  File \"/Users/leec/opt/anaconda3/lib/python3.7/site-packages/sklearn/svm/_base.py\", line 164, in fit\n",
      "    y = self._validate_targets(y)\n",
      "  File \"/Users/leec/opt/anaconda3/lib/python3.7/site-packages/sklearn/svm/_base.py\", line 551, in _validate_targets\n",
      "    \" class\" % len(cls))\n",
      "ValueError: The number of classes has to be greater than one; got 1 class\n",
      "\n",
      "  FitFailedWarning)\n",
      "/Users/leec/opt/anaconda3/lib/python3.7/site-packages/sklearn/model_selection/_validation.py:552: FitFailedWarning: Estimator fit failed. The score on this train-test partition for these parameters will be set to nan. Details: \n",
      "Traceback (most recent call last):\n",
      "  File \"/Users/leec/opt/anaconda3/lib/python3.7/site-packages/sklearn/model_selection/_validation.py\", line 531, in _fit_and_score\n",
      "    estimator.fit(X_train, y_train, **fit_params)\n",
      "  File \"/Users/leec/opt/anaconda3/lib/python3.7/site-packages/sklearn/pipeline.py\", line 334, in fit\n",
      "    self._final_estimator.fit(Xt, y, **fit_params_last_step)\n",
      "  File \"/Users/leec/opt/anaconda3/lib/python3.7/site-packages/sklearn/multioutput.py\", line 350, in fit\n",
      "    super().fit(X, Y, sample_weight, **fit_params)\n",
      "  File \"/Users/leec/opt/anaconda3/lib/python3.7/site-packages/sklearn/multioutput.py\", line 175, in fit\n",
      "    for i in range(y.shape[1]))\n",
      "  File \"/Users/leec/opt/anaconda3/lib/python3.7/site-packages/joblib/parallel.py\", line 924, in __call__\n",
      "    while self.dispatch_one_batch(iterator):\n",
      "  File \"/Users/leec/opt/anaconda3/lib/python3.7/site-packages/joblib/parallel.py\", line 759, in dispatch_one_batch\n",
      "    self._dispatch(tasks)\n",
      "  File \"/Users/leec/opt/anaconda3/lib/python3.7/site-packages/joblib/parallel.py\", line 716, in _dispatch\n",
      "    job = self._backend.apply_async(batch, callback=cb)\n",
      "  File \"/Users/leec/opt/anaconda3/lib/python3.7/site-packages/joblib/_parallel_backends.py\", line 182, in apply_async\n",
      "    result = ImmediateResult(func)\n",
      "  File \"/Users/leec/opt/anaconda3/lib/python3.7/site-packages/joblib/_parallel_backends.py\", line 549, in __init__\n",
      "    self.results = batch()\n",
      "  File \"/Users/leec/opt/anaconda3/lib/python3.7/site-packages/joblib/parallel.py\", line 225, in __call__\n",
      "    for func, args, kwargs in self.items]\n",
      "  File \"/Users/leec/opt/anaconda3/lib/python3.7/site-packages/joblib/parallel.py\", line 225, in <listcomp>\n",
      "    for func, args, kwargs in self.items]\n",
      "  File \"/Users/leec/opt/anaconda3/lib/python3.7/site-packages/sklearn/multioutput.py\", line 40, in _fit_estimator\n",
      "    estimator.fit(X, y, **fit_params)\n",
      "  File \"/Users/leec/opt/anaconda3/lib/python3.7/site-packages/sklearn/svm/_base.py\", line 164, in fit\n",
      "    y = self._validate_targets(y)\n",
      "  File \"/Users/leec/opt/anaconda3/lib/python3.7/site-packages/sklearn/svm/_base.py\", line 551, in _validate_targets\n",
      "    \" class\" % len(cls))\n",
      "ValueError: The number of classes has to be greater than one; got 1 class\n",
      "\n",
      "  FitFailedWarning)\n"
     ]
    },
    {
     "name": "stderr",
     "output_type": "stream",
     "text": [
      "/Users/leec/opt/anaconda3/lib/python3.7/site-packages/sklearn/model_selection/_validation.py:552: FitFailedWarning: Estimator fit failed. The score on this train-test partition for these parameters will be set to nan. Details: \n",
      "Traceback (most recent call last):\n",
      "  File \"/Users/leec/opt/anaconda3/lib/python3.7/site-packages/sklearn/model_selection/_validation.py\", line 531, in _fit_and_score\n",
      "    estimator.fit(X_train, y_train, **fit_params)\n",
      "  File \"/Users/leec/opt/anaconda3/lib/python3.7/site-packages/sklearn/pipeline.py\", line 334, in fit\n",
      "    self._final_estimator.fit(Xt, y, **fit_params_last_step)\n",
      "  File \"/Users/leec/opt/anaconda3/lib/python3.7/site-packages/sklearn/multioutput.py\", line 350, in fit\n",
      "    super().fit(X, Y, sample_weight, **fit_params)\n",
      "  File \"/Users/leec/opt/anaconda3/lib/python3.7/site-packages/sklearn/multioutput.py\", line 175, in fit\n",
      "    for i in range(y.shape[1]))\n",
      "  File \"/Users/leec/opt/anaconda3/lib/python3.7/site-packages/joblib/parallel.py\", line 924, in __call__\n",
      "    while self.dispatch_one_batch(iterator):\n",
      "  File \"/Users/leec/opt/anaconda3/lib/python3.7/site-packages/joblib/parallel.py\", line 759, in dispatch_one_batch\n",
      "    self._dispatch(tasks)\n",
      "  File \"/Users/leec/opt/anaconda3/lib/python3.7/site-packages/joblib/parallel.py\", line 716, in _dispatch\n",
      "    job = self._backend.apply_async(batch, callback=cb)\n",
      "  File \"/Users/leec/opt/anaconda3/lib/python3.7/site-packages/joblib/_parallel_backends.py\", line 182, in apply_async\n",
      "    result = ImmediateResult(func)\n",
      "  File \"/Users/leec/opt/anaconda3/lib/python3.7/site-packages/joblib/_parallel_backends.py\", line 549, in __init__\n",
      "    self.results = batch()\n",
      "  File \"/Users/leec/opt/anaconda3/lib/python3.7/site-packages/joblib/parallel.py\", line 225, in __call__\n",
      "    for func, args, kwargs in self.items]\n",
      "  File \"/Users/leec/opt/anaconda3/lib/python3.7/site-packages/joblib/parallel.py\", line 225, in <listcomp>\n",
      "    for func, args, kwargs in self.items]\n",
      "  File \"/Users/leec/opt/anaconda3/lib/python3.7/site-packages/sklearn/multioutput.py\", line 40, in _fit_estimator\n",
      "    estimator.fit(X, y, **fit_params)\n",
      "  File \"/Users/leec/opt/anaconda3/lib/python3.7/site-packages/sklearn/svm/_base.py\", line 164, in fit\n",
      "    y = self._validate_targets(y)\n",
      "  File \"/Users/leec/opt/anaconda3/lib/python3.7/site-packages/sklearn/svm/_base.py\", line 551, in _validate_targets\n",
      "    \" class\" % len(cls))\n",
      "ValueError: The number of classes has to be greater than one; got 1 class\n",
      "\n",
      "  FitFailedWarning)\n",
      "/Users/leec/opt/anaconda3/lib/python3.7/site-packages/sklearn/model_selection/_validation.py:552: FitFailedWarning: Estimator fit failed. The score on this train-test partition for these parameters will be set to nan. Details: \n",
      "Traceback (most recent call last):\n",
      "  File \"/Users/leec/opt/anaconda3/lib/python3.7/site-packages/sklearn/model_selection/_validation.py\", line 531, in _fit_and_score\n",
      "    estimator.fit(X_train, y_train, **fit_params)\n",
      "  File \"/Users/leec/opt/anaconda3/lib/python3.7/site-packages/sklearn/pipeline.py\", line 334, in fit\n",
      "    self._final_estimator.fit(Xt, y, **fit_params_last_step)\n",
      "  File \"/Users/leec/opt/anaconda3/lib/python3.7/site-packages/sklearn/multioutput.py\", line 350, in fit\n",
      "    super().fit(X, Y, sample_weight, **fit_params)\n",
      "  File \"/Users/leec/opt/anaconda3/lib/python3.7/site-packages/sklearn/multioutput.py\", line 175, in fit\n",
      "    for i in range(y.shape[1]))\n",
      "  File \"/Users/leec/opt/anaconda3/lib/python3.7/site-packages/joblib/parallel.py\", line 924, in __call__\n",
      "    while self.dispatch_one_batch(iterator):\n",
      "  File \"/Users/leec/opt/anaconda3/lib/python3.7/site-packages/joblib/parallel.py\", line 759, in dispatch_one_batch\n",
      "    self._dispatch(tasks)\n",
      "  File \"/Users/leec/opt/anaconda3/lib/python3.7/site-packages/joblib/parallel.py\", line 716, in _dispatch\n",
      "    job = self._backend.apply_async(batch, callback=cb)\n",
      "  File \"/Users/leec/opt/anaconda3/lib/python3.7/site-packages/joblib/_parallel_backends.py\", line 182, in apply_async\n",
      "    result = ImmediateResult(func)\n",
      "  File \"/Users/leec/opt/anaconda3/lib/python3.7/site-packages/joblib/_parallel_backends.py\", line 549, in __init__\n",
      "    self.results = batch()\n",
      "  File \"/Users/leec/opt/anaconda3/lib/python3.7/site-packages/joblib/parallel.py\", line 225, in __call__\n",
      "    for func, args, kwargs in self.items]\n",
      "  File \"/Users/leec/opt/anaconda3/lib/python3.7/site-packages/joblib/parallel.py\", line 225, in <listcomp>\n",
      "    for func, args, kwargs in self.items]\n",
      "  File \"/Users/leec/opt/anaconda3/lib/python3.7/site-packages/sklearn/multioutput.py\", line 40, in _fit_estimator\n",
      "    estimator.fit(X, y, **fit_params)\n",
      "  File \"/Users/leec/opt/anaconda3/lib/python3.7/site-packages/sklearn/svm/_base.py\", line 164, in fit\n",
      "    y = self._validate_targets(y)\n",
      "  File \"/Users/leec/opt/anaconda3/lib/python3.7/site-packages/sklearn/svm/_base.py\", line 551, in _validate_targets\n",
      "    \" class\" % len(cls))\n",
      "ValueError: The number of classes has to be greater than one; got 1 class\n",
      "\n",
      "  FitFailedWarning)\n",
      "/Users/leec/opt/anaconda3/lib/python3.7/site-packages/sklearn/model_selection/_validation.py:552: FitFailedWarning: Estimator fit failed. The score on this train-test partition for these parameters will be set to nan. Details: \n",
      "Traceback (most recent call last):\n",
      "  File \"/Users/leec/opt/anaconda3/lib/python3.7/site-packages/sklearn/model_selection/_validation.py\", line 531, in _fit_and_score\n",
      "    estimator.fit(X_train, y_train, **fit_params)\n",
      "  File \"/Users/leec/opt/anaconda3/lib/python3.7/site-packages/sklearn/pipeline.py\", line 334, in fit\n",
      "    self._final_estimator.fit(Xt, y, **fit_params_last_step)\n",
      "  File \"/Users/leec/opt/anaconda3/lib/python3.7/site-packages/sklearn/multioutput.py\", line 350, in fit\n",
      "    super().fit(X, Y, sample_weight, **fit_params)\n",
      "  File \"/Users/leec/opt/anaconda3/lib/python3.7/site-packages/sklearn/multioutput.py\", line 175, in fit\n",
      "    for i in range(y.shape[1]))\n",
      "  File \"/Users/leec/opt/anaconda3/lib/python3.7/site-packages/joblib/parallel.py\", line 924, in __call__\n",
      "    while self.dispatch_one_batch(iterator):\n",
      "  File \"/Users/leec/opt/anaconda3/lib/python3.7/site-packages/joblib/parallel.py\", line 759, in dispatch_one_batch\n",
      "    self._dispatch(tasks)\n",
      "  File \"/Users/leec/opt/anaconda3/lib/python3.7/site-packages/joblib/parallel.py\", line 716, in _dispatch\n",
      "    job = self._backend.apply_async(batch, callback=cb)\n",
      "  File \"/Users/leec/opt/anaconda3/lib/python3.7/site-packages/joblib/_parallel_backends.py\", line 182, in apply_async\n",
      "    result = ImmediateResult(func)\n",
      "  File \"/Users/leec/opt/anaconda3/lib/python3.7/site-packages/joblib/_parallel_backends.py\", line 549, in __init__\n",
      "    self.results = batch()\n",
      "  File \"/Users/leec/opt/anaconda3/lib/python3.7/site-packages/joblib/parallel.py\", line 225, in __call__\n",
      "    for func, args, kwargs in self.items]\n",
      "  File \"/Users/leec/opt/anaconda3/lib/python3.7/site-packages/joblib/parallel.py\", line 225, in <listcomp>\n",
      "    for func, args, kwargs in self.items]\n",
      "  File \"/Users/leec/opt/anaconda3/lib/python3.7/site-packages/sklearn/multioutput.py\", line 40, in _fit_estimator\n",
      "    estimator.fit(X, y, **fit_params)\n",
      "  File \"/Users/leec/opt/anaconda3/lib/python3.7/site-packages/sklearn/svm/_base.py\", line 164, in fit\n",
      "    y = self._validate_targets(y)\n",
      "  File \"/Users/leec/opt/anaconda3/lib/python3.7/site-packages/sklearn/svm/_base.py\", line 551, in _validate_targets\n",
      "    \" class\" % len(cls))\n",
      "ValueError: The number of classes has to be greater than one; got 1 class\n",
      "\n",
      "  FitFailedWarning)\n",
      "/Users/leec/opt/anaconda3/lib/python3.7/site-packages/sklearn/model_selection/_validation.py:552: FitFailedWarning: Estimator fit failed. The score on this train-test partition for these parameters will be set to nan. Details: \n",
      "Traceback (most recent call last):\n",
      "  File \"/Users/leec/opt/anaconda3/lib/python3.7/site-packages/sklearn/model_selection/_validation.py\", line 531, in _fit_and_score\n",
      "    estimator.fit(X_train, y_train, **fit_params)\n",
      "  File \"/Users/leec/opt/anaconda3/lib/python3.7/site-packages/sklearn/pipeline.py\", line 334, in fit\n",
      "    self._final_estimator.fit(Xt, y, **fit_params_last_step)\n",
      "  File \"/Users/leec/opt/anaconda3/lib/python3.7/site-packages/sklearn/multioutput.py\", line 350, in fit\n",
      "    super().fit(X, Y, sample_weight, **fit_params)\n",
      "  File \"/Users/leec/opt/anaconda3/lib/python3.7/site-packages/sklearn/multioutput.py\", line 175, in fit\n",
      "    for i in range(y.shape[1]))\n",
      "  File \"/Users/leec/opt/anaconda3/lib/python3.7/site-packages/joblib/parallel.py\", line 924, in __call__\n",
      "    while self.dispatch_one_batch(iterator):\n",
      "  File \"/Users/leec/opt/anaconda3/lib/python3.7/site-packages/joblib/parallel.py\", line 759, in dispatch_one_batch\n",
      "    self._dispatch(tasks)\n",
      "  File \"/Users/leec/opt/anaconda3/lib/python3.7/site-packages/joblib/parallel.py\", line 716, in _dispatch\n",
      "    job = self._backend.apply_async(batch, callback=cb)\n",
      "  File \"/Users/leec/opt/anaconda3/lib/python3.7/site-packages/joblib/_parallel_backends.py\", line 182, in apply_async\n",
      "    result = ImmediateResult(func)\n",
      "  File \"/Users/leec/opt/anaconda3/lib/python3.7/site-packages/joblib/_parallel_backends.py\", line 549, in __init__\n",
      "    self.results = batch()\n",
      "  File \"/Users/leec/opt/anaconda3/lib/python3.7/site-packages/joblib/parallel.py\", line 225, in __call__\n",
      "    for func, args, kwargs in self.items]\n",
      "  File \"/Users/leec/opt/anaconda3/lib/python3.7/site-packages/joblib/parallel.py\", line 225, in <listcomp>\n",
      "    for func, args, kwargs in self.items]\n",
      "  File \"/Users/leec/opt/anaconda3/lib/python3.7/site-packages/sklearn/multioutput.py\", line 40, in _fit_estimator\n",
      "    estimator.fit(X, y, **fit_params)\n",
      "  File \"/Users/leec/opt/anaconda3/lib/python3.7/site-packages/sklearn/svm/_base.py\", line 164, in fit\n",
      "    y = self._validate_targets(y)\n",
      "  File \"/Users/leec/opt/anaconda3/lib/python3.7/site-packages/sklearn/svm/_base.py\", line 551, in _validate_targets\n",
      "    \" class\" % len(cls))\n",
      "ValueError: The number of classes has to be greater than one; got 1 class\n",
      "\n",
      "  FitFailedWarning)\n"
     ]
    },
    {
     "name": "stderr",
     "output_type": "stream",
     "text": [
      "/Users/leec/opt/anaconda3/lib/python3.7/site-packages/sklearn/model_selection/_validation.py:552: FitFailedWarning: Estimator fit failed. The score on this train-test partition for these parameters will be set to nan. Details: \n",
      "Traceback (most recent call last):\n",
      "  File \"/Users/leec/opt/anaconda3/lib/python3.7/site-packages/sklearn/model_selection/_validation.py\", line 531, in _fit_and_score\n",
      "    estimator.fit(X_train, y_train, **fit_params)\n",
      "  File \"/Users/leec/opt/anaconda3/lib/python3.7/site-packages/sklearn/pipeline.py\", line 334, in fit\n",
      "    self._final_estimator.fit(Xt, y, **fit_params_last_step)\n",
      "  File \"/Users/leec/opt/anaconda3/lib/python3.7/site-packages/sklearn/multioutput.py\", line 350, in fit\n",
      "    super().fit(X, Y, sample_weight, **fit_params)\n",
      "  File \"/Users/leec/opt/anaconda3/lib/python3.7/site-packages/sklearn/multioutput.py\", line 175, in fit\n",
      "    for i in range(y.shape[1]))\n",
      "  File \"/Users/leec/opt/anaconda3/lib/python3.7/site-packages/joblib/parallel.py\", line 924, in __call__\n",
      "    while self.dispatch_one_batch(iterator):\n",
      "  File \"/Users/leec/opt/anaconda3/lib/python3.7/site-packages/joblib/parallel.py\", line 759, in dispatch_one_batch\n",
      "    self._dispatch(tasks)\n",
      "  File \"/Users/leec/opt/anaconda3/lib/python3.7/site-packages/joblib/parallel.py\", line 716, in _dispatch\n",
      "    job = self._backend.apply_async(batch, callback=cb)\n",
      "  File \"/Users/leec/opt/anaconda3/lib/python3.7/site-packages/joblib/_parallel_backends.py\", line 182, in apply_async\n",
      "    result = ImmediateResult(func)\n",
      "  File \"/Users/leec/opt/anaconda3/lib/python3.7/site-packages/joblib/_parallel_backends.py\", line 549, in __init__\n",
      "    self.results = batch()\n",
      "  File \"/Users/leec/opt/anaconda3/lib/python3.7/site-packages/joblib/parallel.py\", line 225, in __call__\n",
      "    for func, args, kwargs in self.items]\n",
      "  File \"/Users/leec/opt/anaconda3/lib/python3.7/site-packages/joblib/parallel.py\", line 225, in <listcomp>\n",
      "    for func, args, kwargs in self.items]\n",
      "  File \"/Users/leec/opt/anaconda3/lib/python3.7/site-packages/sklearn/multioutput.py\", line 40, in _fit_estimator\n",
      "    estimator.fit(X, y, **fit_params)\n",
      "  File \"/Users/leec/opt/anaconda3/lib/python3.7/site-packages/sklearn/svm/_base.py\", line 164, in fit\n",
      "    y = self._validate_targets(y)\n",
      "  File \"/Users/leec/opt/anaconda3/lib/python3.7/site-packages/sklearn/svm/_base.py\", line 551, in _validate_targets\n",
      "    \" class\" % len(cls))\n",
      "ValueError: The number of classes has to be greater than one; got 1 class\n",
      "\n",
      "  FitFailedWarning)\n",
      "/Users/leec/opt/anaconda3/lib/python3.7/site-packages/sklearn/model_selection/_validation.py:552: FitFailedWarning: Estimator fit failed. The score on this train-test partition for these parameters will be set to nan. Details: \n",
      "Traceback (most recent call last):\n",
      "  File \"/Users/leec/opt/anaconda3/lib/python3.7/site-packages/sklearn/model_selection/_validation.py\", line 531, in _fit_and_score\n",
      "    estimator.fit(X_train, y_train, **fit_params)\n",
      "  File \"/Users/leec/opt/anaconda3/lib/python3.7/site-packages/sklearn/pipeline.py\", line 334, in fit\n",
      "    self._final_estimator.fit(Xt, y, **fit_params_last_step)\n",
      "  File \"/Users/leec/opt/anaconda3/lib/python3.7/site-packages/sklearn/multioutput.py\", line 350, in fit\n",
      "    super().fit(X, Y, sample_weight, **fit_params)\n",
      "  File \"/Users/leec/opt/anaconda3/lib/python3.7/site-packages/sklearn/multioutput.py\", line 175, in fit\n",
      "    for i in range(y.shape[1]))\n",
      "  File \"/Users/leec/opt/anaconda3/lib/python3.7/site-packages/joblib/parallel.py\", line 924, in __call__\n",
      "    while self.dispatch_one_batch(iterator):\n",
      "  File \"/Users/leec/opt/anaconda3/lib/python3.7/site-packages/joblib/parallel.py\", line 759, in dispatch_one_batch\n",
      "    self._dispatch(tasks)\n",
      "  File \"/Users/leec/opt/anaconda3/lib/python3.7/site-packages/joblib/parallel.py\", line 716, in _dispatch\n",
      "    job = self._backend.apply_async(batch, callback=cb)\n",
      "  File \"/Users/leec/opt/anaconda3/lib/python3.7/site-packages/joblib/_parallel_backends.py\", line 182, in apply_async\n",
      "    result = ImmediateResult(func)\n",
      "  File \"/Users/leec/opt/anaconda3/lib/python3.7/site-packages/joblib/_parallel_backends.py\", line 549, in __init__\n",
      "    self.results = batch()\n",
      "  File \"/Users/leec/opt/anaconda3/lib/python3.7/site-packages/joblib/parallel.py\", line 225, in __call__\n",
      "    for func, args, kwargs in self.items]\n",
      "  File \"/Users/leec/opt/anaconda3/lib/python3.7/site-packages/joblib/parallel.py\", line 225, in <listcomp>\n",
      "    for func, args, kwargs in self.items]\n",
      "  File \"/Users/leec/opt/anaconda3/lib/python3.7/site-packages/sklearn/multioutput.py\", line 40, in _fit_estimator\n",
      "    estimator.fit(X, y, **fit_params)\n",
      "  File \"/Users/leec/opt/anaconda3/lib/python3.7/site-packages/sklearn/svm/_base.py\", line 164, in fit\n",
      "    y = self._validate_targets(y)\n",
      "  File \"/Users/leec/opt/anaconda3/lib/python3.7/site-packages/sklearn/svm/_base.py\", line 551, in _validate_targets\n",
      "    \" class\" % len(cls))\n",
      "ValueError: The number of classes has to be greater than one; got 1 class\n",
      "\n",
      "  FitFailedWarning)\n",
      "/Users/leec/opt/anaconda3/lib/python3.7/site-packages/sklearn/model_selection/_validation.py:552: FitFailedWarning: Estimator fit failed. The score on this train-test partition for these parameters will be set to nan. Details: \n",
      "Traceback (most recent call last):\n",
      "  File \"/Users/leec/opt/anaconda3/lib/python3.7/site-packages/sklearn/model_selection/_validation.py\", line 531, in _fit_and_score\n",
      "    estimator.fit(X_train, y_train, **fit_params)\n",
      "  File \"/Users/leec/opt/anaconda3/lib/python3.7/site-packages/sklearn/pipeline.py\", line 334, in fit\n",
      "    self._final_estimator.fit(Xt, y, **fit_params_last_step)\n",
      "  File \"/Users/leec/opt/anaconda3/lib/python3.7/site-packages/sklearn/multioutput.py\", line 350, in fit\n",
      "    super().fit(X, Y, sample_weight, **fit_params)\n",
      "  File \"/Users/leec/opt/anaconda3/lib/python3.7/site-packages/sklearn/multioutput.py\", line 175, in fit\n",
      "    for i in range(y.shape[1]))\n",
      "  File \"/Users/leec/opt/anaconda3/lib/python3.7/site-packages/joblib/parallel.py\", line 924, in __call__\n",
      "    while self.dispatch_one_batch(iterator):\n",
      "  File \"/Users/leec/opt/anaconda3/lib/python3.7/site-packages/joblib/parallel.py\", line 759, in dispatch_one_batch\n",
      "    self._dispatch(tasks)\n",
      "  File \"/Users/leec/opt/anaconda3/lib/python3.7/site-packages/joblib/parallel.py\", line 716, in _dispatch\n",
      "    job = self._backend.apply_async(batch, callback=cb)\n",
      "  File \"/Users/leec/opt/anaconda3/lib/python3.7/site-packages/joblib/_parallel_backends.py\", line 182, in apply_async\n",
      "    result = ImmediateResult(func)\n",
      "  File \"/Users/leec/opt/anaconda3/lib/python3.7/site-packages/joblib/_parallel_backends.py\", line 549, in __init__\n",
      "    self.results = batch()\n",
      "  File \"/Users/leec/opt/anaconda3/lib/python3.7/site-packages/joblib/parallel.py\", line 225, in __call__\n",
      "    for func, args, kwargs in self.items]\n",
      "  File \"/Users/leec/opt/anaconda3/lib/python3.7/site-packages/joblib/parallel.py\", line 225, in <listcomp>\n",
      "    for func, args, kwargs in self.items]\n",
      "  File \"/Users/leec/opt/anaconda3/lib/python3.7/site-packages/sklearn/multioutput.py\", line 40, in _fit_estimator\n",
      "    estimator.fit(X, y, **fit_params)\n",
      "  File \"/Users/leec/opt/anaconda3/lib/python3.7/site-packages/sklearn/svm/_base.py\", line 164, in fit\n",
      "    y = self._validate_targets(y)\n",
      "  File \"/Users/leec/opt/anaconda3/lib/python3.7/site-packages/sklearn/svm/_base.py\", line 551, in _validate_targets\n",
      "    \" class\" % len(cls))\n",
      "ValueError: The number of classes has to be greater than one; got 1 class\n",
      "\n",
      "  FitFailedWarning)\n",
      "/Users/leec/opt/anaconda3/lib/python3.7/site-packages/sklearn/model_selection/_validation.py:552: FitFailedWarning: Estimator fit failed. The score on this train-test partition for these parameters will be set to nan. Details: \n",
      "Traceback (most recent call last):\n",
      "  File \"/Users/leec/opt/anaconda3/lib/python3.7/site-packages/sklearn/model_selection/_validation.py\", line 531, in _fit_and_score\n",
      "    estimator.fit(X_train, y_train, **fit_params)\n",
      "  File \"/Users/leec/opt/anaconda3/lib/python3.7/site-packages/sklearn/pipeline.py\", line 334, in fit\n",
      "    self._final_estimator.fit(Xt, y, **fit_params_last_step)\n",
      "  File \"/Users/leec/opt/anaconda3/lib/python3.7/site-packages/sklearn/multioutput.py\", line 350, in fit\n",
      "    super().fit(X, Y, sample_weight, **fit_params)\n",
      "  File \"/Users/leec/opt/anaconda3/lib/python3.7/site-packages/sklearn/multioutput.py\", line 175, in fit\n",
      "    for i in range(y.shape[1]))\n",
      "  File \"/Users/leec/opt/anaconda3/lib/python3.7/site-packages/joblib/parallel.py\", line 924, in __call__\n",
      "    while self.dispatch_one_batch(iterator):\n",
      "  File \"/Users/leec/opt/anaconda3/lib/python3.7/site-packages/joblib/parallel.py\", line 759, in dispatch_one_batch\n",
      "    self._dispatch(tasks)\n",
      "  File \"/Users/leec/opt/anaconda3/lib/python3.7/site-packages/joblib/parallel.py\", line 716, in _dispatch\n",
      "    job = self._backend.apply_async(batch, callback=cb)\n",
      "  File \"/Users/leec/opt/anaconda3/lib/python3.7/site-packages/joblib/_parallel_backends.py\", line 182, in apply_async\n",
      "    result = ImmediateResult(func)\n",
      "  File \"/Users/leec/opt/anaconda3/lib/python3.7/site-packages/joblib/_parallel_backends.py\", line 549, in __init__\n",
      "    self.results = batch()\n",
      "  File \"/Users/leec/opt/anaconda3/lib/python3.7/site-packages/joblib/parallel.py\", line 225, in __call__\n",
      "    for func, args, kwargs in self.items]\n",
      "  File \"/Users/leec/opt/anaconda3/lib/python3.7/site-packages/joblib/parallel.py\", line 225, in <listcomp>\n",
      "    for func, args, kwargs in self.items]\n",
      "  File \"/Users/leec/opt/anaconda3/lib/python3.7/site-packages/sklearn/multioutput.py\", line 40, in _fit_estimator\n",
      "    estimator.fit(X, y, **fit_params)\n",
      "  File \"/Users/leec/opt/anaconda3/lib/python3.7/site-packages/sklearn/svm/_base.py\", line 164, in fit\n",
      "    y = self._validate_targets(y)\n",
      "  File \"/Users/leec/opt/anaconda3/lib/python3.7/site-packages/sklearn/svm/_base.py\", line 551, in _validate_targets\n",
      "    \" class\" % len(cls))\n",
      "ValueError: The number of classes has to be greater than one; got 1 class\n",
      "\n",
      "  FitFailedWarning)\n"
     ]
    },
    {
     "name": "stderr",
     "output_type": "stream",
     "text": [
      "/Users/leec/opt/anaconda3/lib/python3.7/site-packages/sklearn/model_selection/_validation.py:552: FitFailedWarning: Estimator fit failed. The score on this train-test partition for these parameters will be set to nan. Details: \n",
      "Traceback (most recent call last):\n",
      "  File \"/Users/leec/opt/anaconda3/lib/python3.7/site-packages/sklearn/model_selection/_validation.py\", line 531, in _fit_and_score\n",
      "    estimator.fit(X_train, y_train, **fit_params)\n",
      "  File \"/Users/leec/opt/anaconda3/lib/python3.7/site-packages/sklearn/pipeline.py\", line 334, in fit\n",
      "    self._final_estimator.fit(Xt, y, **fit_params_last_step)\n",
      "  File \"/Users/leec/opt/anaconda3/lib/python3.7/site-packages/sklearn/multioutput.py\", line 350, in fit\n",
      "    super().fit(X, Y, sample_weight, **fit_params)\n",
      "  File \"/Users/leec/opt/anaconda3/lib/python3.7/site-packages/sklearn/multioutput.py\", line 175, in fit\n",
      "    for i in range(y.shape[1]))\n",
      "  File \"/Users/leec/opt/anaconda3/lib/python3.7/site-packages/joblib/parallel.py\", line 924, in __call__\n",
      "    while self.dispatch_one_batch(iterator):\n",
      "  File \"/Users/leec/opt/anaconda3/lib/python3.7/site-packages/joblib/parallel.py\", line 759, in dispatch_one_batch\n",
      "    self._dispatch(tasks)\n",
      "  File \"/Users/leec/opt/anaconda3/lib/python3.7/site-packages/joblib/parallel.py\", line 716, in _dispatch\n",
      "    job = self._backend.apply_async(batch, callback=cb)\n",
      "  File \"/Users/leec/opt/anaconda3/lib/python3.7/site-packages/joblib/_parallel_backends.py\", line 182, in apply_async\n",
      "    result = ImmediateResult(func)\n",
      "  File \"/Users/leec/opt/anaconda3/lib/python3.7/site-packages/joblib/_parallel_backends.py\", line 549, in __init__\n",
      "    self.results = batch()\n",
      "  File \"/Users/leec/opt/anaconda3/lib/python3.7/site-packages/joblib/parallel.py\", line 225, in __call__\n",
      "    for func, args, kwargs in self.items]\n",
      "  File \"/Users/leec/opt/anaconda3/lib/python3.7/site-packages/joblib/parallel.py\", line 225, in <listcomp>\n",
      "    for func, args, kwargs in self.items]\n",
      "  File \"/Users/leec/opt/anaconda3/lib/python3.7/site-packages/sklearn/multioutput.py\", line 40, in _fit_estimator\n",
      "    estimator.fit(X, y, **fit_params)\n",
      "  File \"/Users/leec/opt/anaconda3/lib/python3.7/site-packages/sklearn/svm/_base.py\", line 164, in fit\n",
      "    y = self._validate_targets(y)\n",
      "  File \"/Users/leec/opt/anaconda3/lib/python3.7/site-packages/sklearn/svm/_base.py\", line 551, in _validate_targets\n",
      "    \" class\" % len(cls))\n",
      "ValueError: The number of classes has to be greater than one; got 1 class\n",
      "\n",
      "  FitFailedWarning)\n",
      "/Users/leec/opt/anaconda3/lib/python3.7/site-packages/sklearn/model_selection/_validation.py:552: FitFailedWarning: Estimator fit failed. The score on this train-test partition for these parameters will be set to nan. Details: \n",
      "Traceback (most recent call last):\n",
      "  File \"/Users/leec/opt/anaconda3/lib/python3.7/site-packages/sklearn/model_selection/_validation.py\", line 531, in _fit_and_score\n",
      "    estimator.fit(X_train, y_train, **fit_params)\n",
      "  File \"/Users/leec/opt/anaconda3/lib/python3.7/site-packages/sklearn/pipeline.py\", line 334, in fit\n",
      "    self._final_estimator.fit(Xt, y, **fit_params_last_step)\n",
      "  File \"/Users/leec/opt/anaconda3/lib/python3.7/site-packages/sklearn/multioutput.py\", line 350, in fit\n",
      "    super().fit(X, Y, sample_weight, **fit_params)\n",
      "  File \"/Users/leec/opt/anaconda3/lib/python3.7/site-packages/sklearn/multioutput.py\", line 175, in fit\n",
      "    for i in range(y.shape[1]))\n",
      "  File \"/Users/leec/opt/anaconda3/lib/python3.7/site-packages/joblib/parallel.py\", line 924, in __call__\n",
      "    while self.dispatch_one_batch(iterator):\n",
      "  File \"/Users/leec/opt/anaconda3/lib/python3.7/site-packages/joblib/parallel.py\", line 759, in dispatch_one_batch\n",
      "    self._dispatch(tasks)\n",
      "  File \"/Users/leec/opt/anaconda3/lib/python3.7/site-packages/joblib/parallel.py\", line 716, in _dispatch\n",
      "    job = self._backend.apply_async(batch, callback=cb)\n",
      "  File \"/Users/leec/opt/anaconda3/lib/python3.7/site-packages/joblib/_parallel_backends.py\", line 182, in apply_async\n",
      "    result = ImmediateResult(func)\n",
      "  File \"/Users/leec/opt/anaconda3/lib/python3.7/site-packages/joblib/_parallel_backends.py\", line 549, in __init__\n",
      "    self.results = batch()\n",
      "  File \"/Users/leec/opt/anaconda3/lib/python3.7/site-packages/joblib/parallel.py\", line 225, in __call__\n",
      "    for func, args, kwargs in self.items]\n",
      "  File \"/Users/leec/opt/anaconda3/lib/python3.7/site-packages/joblib/parallel.py\", line 225, in <listcomp>\n",
      "    for func, args, kwargs in self.items]\n",
      "  File \"/Users/leec/opt/anaconda3/lib/python3.7/site-packages/sklearn/multioutput.py\", line 40, in _fit_estimator\n",
      "    estimator.fit(X, y, **fit_params)\n",
      "  File \"/Users/leec/opt/anaconda3/lib/python3.7/site-packages/sklearn/svm/_base.py\", line 164, in fit\n",
      "    y = self._validate_targets(y)\n",
      "  File \"/Users/leec/opt/anaconda3/lib/python3.7/site-packages/sklearn/svm/_base.py\", line 551, in _validate_targets\n",
      "    \" class\" % len(cls))\n",
      "ValueError: The number of classes has to be greater than one; got 1 class\n",
      "\n",
      "  FitFailedWarning)\n",
      "/Users/leec/opt/anaconda3/lib/python3.7/site-packages/sklearn/model_selection/_validation.py:552: FitFailedWarning: Estimator fit failed. The score on this train-test partition for these parameters will be set to nan. Details: \n",
      "Traceback (most recent call last):\n",
      "  File \"/Users/leec/opt/anaconda3/lib/python3.7/site-packages/sklearn/model_selection/_validation.py\", line 531, in _fit_and_score\n",
      "    estimator.fit(X_train, y_train, **fit_params)\n",
      "  File \"/Users/leec/opt/anaconda3/lib/python3.7/site-packages/sklearn/pipeline.py\", line 334, in fit\n",
      "    self._final_estimator.fit(Xt, y, **fit_params_last_step)\n",
      "  File \"/Users/leec/opt/anaconda3/lib/python3.7/site-packages/sklearn/multioutput.py\", line 350, in fit\n",
      "    super().fit(X, Y, sample_weight, **fit_params)\n",
      "  File \"/Users/leec/opt/anaconda3/lib/python3.7/site-packages/sklearn/multioutput.py\", line 175, in fit\n",
      "    for i in range(y.shape[1]))\n",
      "  File \"/Users/leec/opt/anaconda3/lib/python3.7/site-packages/joblib/parallel.py\", line 924, in __call__\n",
      "    while self.dispatch_one_batch(iterator):\n",
      "  File \"/Users/leec/opt/anaconda3/lib/python3.7/site-packages/joblib/parallel.py\", line 759, in dispatch_one_batch\n",
      "    self._dispatch(tasks)\n",
      "  File \"/Users/leec/opt/anaconda3/lib/python3.7/site-packages/joblib/parallel.py\", line 716, in _dispatch\n",
      "    job = self._backend.apply_async(batch, callback=cb)\n",
      "  File \"/Users/leec/opt/anaconda3/lib/python3.7/site-packages/joblib/_parallel_backends.py\", line 182, in apply_async\n",
      "    result = ImmediateResult(func)\n",
      "  File \"/Users/leec/opt/anaconda3/lib/python3.7/site-packages/joblib/_parallel_backends.py\", line 549, in __init__\n",
      "    self.results = batch()\n",
      "  File \"/Users/leec/opt/anaconda3/lib/python3.7/site-packages/joblib/parallel.py\", line 225, in __call__\n",
      "    for func, args, kwargs in self.items]\n",
      "  File \"/Users/leec/opt/anaconda3/lib/python3.7/site-packages/joblib/parallel.py\", line 225, in <listcomp>\n",
      "    for func, args, kwargs in self.items]\n",
      "  File \"/Users/leec/opt/anaconda3/lib/python3.7/site-packages/sklearn/multioutput.py\", line 40, in _fit_estimator\n",
      "    estimator.fit(X, y, **fit_params)\n",
      "  File \"/Users/leec/opt/anaconda3/lib/python3.7/site-packages/sklearn/svm/_base.py\", line 164, in fit\n",
      "    y = self._validate_targets(y)\n",
      "  File \"/Users/leec/opt/anaconda3/lib/python3.7/site-packages/sklearn/svm/_base.py\", line 551, in _validate_targets\n",
      "    \" class\" % len(cls))\n",
      "ValueError: The number of classes has to be greater than one; got 1 class\n",
      "\n",
      "  FitFailedWarning)\n",
      "/Users/leec/opt/anaconda3/lib/python3.7/site-packages/sklearn/model_selection/_validation.py:552: FitFailedWarning: Estimator fit failed. The score on this train-test partition for these parameters will be set to nan. Details: \n",
      "Traceback (most recent call last):\n",
      "  File \"/Users/leec/opt/anaconda3/lib/python3.7/site-packages/sklearn/model_selection/_validation.py\", line 531, in _fit_and_score\n",
      "    estimator.fit(X_train, y_train, **fit_params)\n",
      "  File \"/Users/leec/opt/anaconda3/lib/python3.7/site-packages/sklearn/pipeline.py\", line 334, in fit\n",
      "    self._final_estimator.fit(Xt, y, **fit_params_last_step)\n",
      "  File \"/Users/leec/opt/anaconda3/lib/python3.7/site-packages/sklearn/multioutput.py\", line 350, in fit\n",
      "    super().fit(X, Y, sample_weight, **fit_params)\n",
      "  File \"/Users/leec/opt/anaconda3/lib/python3.7/site-packages/sklearn/multioutput.py\", line 175, in fit\n",
      "    for i in range(y.shape[1]))\n",
      "  File \"/Users/leec/opt/anaconda3/lib/python3.7/site-packages/joblib/parallel.py\", line 924, in __call__\n",
      "    while self.dispatch_one_batch(iterator):\n",
      "  File \"/Users/leec/opt/anaconda3/lib/python3.7/site-packages/joblib/parallel.py\", line 759, in dispatch_one_batch\n",
      "    self._dispatch(tasks)\n",
      "  File \"/Users/leec/opt/anaconda3/lib/python3.7/site-packages/joblib/parallel.py\", line 716, in _dispatch\n",
      "    job = self._backend.apply_async(batch, callback=cb)\n",
      "  File \"/Users/leec/opt/anaconda3/lib/python3.7/site-packages/joblib/_parallel_backends.py\", line 182, in apply_async\n",
      "    result = ImmediateResult(func)\n",
      "  File \"/Users/leec/opt/anaconda3/lib/python3.7/site-packages/joblib/_parallel_backends.py\", line 549, in __init__\n",
      "    self.results = batch()\n",
      "  File \"/Users/leec/opt/anaconda3/lib/python3.7/site-packages/joblib/parallel.py\", line 225, in __call__\n",
      "    for func, args, kwargs in self.items]\n",
      "  File \"/Users/leec/opt/anaconda3/lib/python3.7/site-packages/joblib/parallel.py\", line 225, in <listcomp>\n",
      "    for func, args, kwargs in self.items]\n",
      "  File \"/Users/leec/opt/anaconda3/lib/python3.7/site-packages/sklearn/multioutput.py\", line 40, in _fit_estimator\n",
      "    estimator.fit(X, y, **fit_params)\n",
      "  File \"/Users/leec/opt/anaconda3/lib/python3.7/site-packages/sklearn/svm/_base.py\", line 164, in fit\n",
      "    y = self._validate_targets(y)\n",
      "  File \"/Users/leec/opt/anaconda3/lib/python3.7/site-packages/sklearn/svm/_base.py\", line 551, in _validate_targets\n",
      "    \" class\" % len(cls))\n",
      "ValueError: The number of classes has to be greater than one; got 1 class\n",
      "\n",
      "  FitFailedWarning)\n"
     ]
    },
    {
     "name": "stderr",
     "output_type": "stream",
     "text": [
      "/Users/leec/opt/anaconda3/lib/python3.7/site-packages/sklearn/model_selection/_validation.py:552: FitFailedWarning: Estimator fit failed. The score on this train-test partition for these parameters will be set to nan. Details: \n",
      "Traceback (most recent call last):\n",
      "  File \"/Users/leec/opt/anaconda3/lib/python3.7/site-packages/sklearn/model_selection/_validation.py\", line 531, in _fit_and_score\n",
      "    estimator.fit(X_train, y_train, **fit_params)\n",
      "  File \"/Users/leec/opt/anaconda3/lib/python3.7/site-packages/sklearn/pipeline.py\", line 334, in fit\n",
      "    self._final_estimator.fit(Xt, y, **fit_params_last_step)\n",
      "  File \"/Users/leec/opt/anaconda3/lib/python3.7/site-packages/sklearn/multioutput.py\", line 350, in fit\n",
      "    super().fit(X, Y, sample_weight, **fit_params)\n",
      "  File \"/Users/leec/opt/anaconda3/lib/python3.7/site-packages/sklearn/multioutput.py\", line 175, in fit\n",
      "    for i in range(y.shape[1]))\n",
      "  File \"/Users/leec/opt/anaconda3/lib/python3.7/site-packages/joblib/parallel.py\", line 924, in __call__\n",
      "    while self.dispatch_one_batch(iterator):\n",
      "  File \"/Users/leec/opt/anaconda3/lib/python3.7/site-packages/joblib/parallel.py\", line 759, in dispatch_one_batch\n",
      "    self._dispatch(tasks)\n",
      "  File \"/Users/leec/opt/anaconda3/lib/python3.7/site-packages/joblib/parallel.py\", line 716, in _dispatch\n",
      "    job = self._backend.apply_async(batch, callback=cb)\n",
      "  File \"/Users/leec/opt/anaconda3/lib/python3.7/site-packages/joblib/_parallel_backends.py\", line 182, in apply_async\n",
      "    result = ImmediateResult(func)\n",
      "  File \"/Users/leec/opt/anaconda3/lib/python3.7/site-packages/joblib/_parallel_backends.py\", line 549, in __init__\n",
      "    self.results = batch()\n",
      "  File \"/Users/leec/opt/anaconda3/lib/python3.7/site-packages/joblib/parallel.py\", line 225, in __call__\n",
      "    for func, args, kwargs in self.items]\n",
      "  File \"/Users/leec/opt/anaconda3/lib/python3.7/site-packages/joblib/parallel.py\", line 225, in <listcomp>\n",
      "    for func, args, kwargs in self.items]\n",
      "  File \"/Users/leec/opt/anaconda3/lib/python3.7/site-packages/sklearn/multioutput.py\", line 40, in _fit_estimator\n",
      "    estimator.fit(X, y, **fit_params)\n",
      "  File \"/Users/leec/opt/anaconda3/lib/python3.7/site-packages/sklearn/svm/_base.py\", line 164, in fit\n",
      "    y = self._validate_targets(y)\n",
      "  File \"/Users/leec/opt/anaconda3/lib/python3.7/site-packages/sklearn/svm/_base.py\", line 551, in _validate_targets\n",
      "    \" class\" % len(cls))\n",
      "ValueError: The number of classes has to be greater than one; got 1 class\n",
      "\n",
      "  FitFailedWarning)\n",
      "/Users/leec/opt/anaconda3/lib/python3.7/site-packages/sklearn/model_selection/_validation.py:552: FitFailedWarning: Estimator fit failed. The score on this train-test partition for these parameters will be set to nan. Details: \n",
      "Traceback (most recent call last):\n",
      "  File \"/Users/leec/opt/anaconda3/lib/python3.7/site-packages/sklearn/model_selection/_validation.py\", line 531, in _fit_and_score\n",
      "    estimator.fit(X_train, y_train, **fit_params)\n",
      "  File \"/Users/leec/opt/anaconda3/lib/python3.7/site-packages/sklearn/pipeline.py\", line 334, in fit\n",
      "    self._final_estimator.fit(Xt, y, **fit_params_last_step)\n",
      "  File \"/Users/leec/opt/anaconda3/lib/python3.7/site-packages/sklearn/multioutput.py\", line 350, in fit\n",
      "    super().fit(X, Y, sample_weight, **fit_params)\n",
      "  File \"/Users/leec/opt/anaconda3/lib/python3.7/site-packages/sklearn/multioutput.py\", line 175, in fit\n",
      "    for i in range(y.shape[1]))\n",
      "  File \"/Users/leec/opt/anaconda3/lib/python3.7/site-packages/joblib/parallel.py\", line 924, in __call__\n",
      "    while self.dispatch_one_batch(iterator):\n",
      "  File \"/Users/leec/opt/anaconda3/lib/python3.7/site-packages/joblib/parallel.py\", line 759, in dispatch_one_batch\n",
      "    self._dispatch(tasks)\n",
      "  File \"/Users/leec/opt/anaconda3/lib/python3.7/site-packages/joblib/parallel.py\", line 716, in _dispatch\n",
      "    job = self._backend.apply_async(batch, callback=cb)\n",
      "  File \"/Users/leec/opt/anaconda3/lib/python3.7/site-packages/joblib/_parallel_backends.py\", line 182, in apply_async\n",
      "    result = ImmediateResult(func)\n",
      "  File \"/Users/leec/opt/anaconda3/lib/python3.7/site-packages/joblib/_parallel_backends.py\", line 549, in __init__\n",
      "    self.results = batch()\n",
      "  File \"/Users/leec/opt/anaconda3/lib/python3.7/site-packages/joblib/parallel.py\", line 225, in __call__\n",
      "    for func, args, kwargs in self.items]\n",
      "  File \"/Users/leec/opt/anaconda3/lib/python3.7/site-packages/joblib/parallel.py\", line 225, in <listcomp>\n",
      "    for func, args, kwargs in self.items]\n",
      "  File \"/Users/leec/opt/anaconda3/lib/python3.7/site-packages/sklearn/multioutput.py\", line 40, in _fit_estimator\n",
      "    estimator.fit(X, y, **fit_params)\n",
      "  File \"/Users/leec/opt/anaconda3/lib/python3.7/site-packages/sklearn/svm/_base.py\", line 164, in fit\n",
      "    y = self._validate_targets(y)\n",
      "  File \"/Users/leec/opt/anaconda3/lib/python3.7/site-packages/sklearn/svm/_base.py\", line 551, in _validate_targets\n",
      "    \" class\" % len(cls))\n",
      "ValueError: The number of classes has to be greater than one; got 1 class\n",
      "\n",
      "  FitFailedWarning)\n",
      "/Users/leec/opt/anaconda3/lib/python3.7/site-packages/sklearn/model_selection/_validation.py:552: FitFailedWarning: Estimator fit failed. The score on this train-test partition for these parameters will be set to nan. Details: \n",
      "Traceback (most recent call last):\n",
      "  File \"/Users/leec/opt/anaconda3/lib/python3.7/site-packages/sklearn/model_selection/_validation.py\", line 531, in _fit_and_score\n",
      "    estimator.fit(X_train, y_train, **fit_params)\n",
      "  File \"/Users/leec/opt/anaconda3/lib/python3.7/site-packages/sklearn/pipeline.py\", line 334, in fit\n",
      "    self._final_estimator.fit(Xt, y, **fit_params_last_step)\n",
      "  File \"/Users/leec/opt/anaconda3/lib/python3.7/site-packages/sklearn/multioutput.py\", line 350, in fit\n",
      "    super().fit(X, Y, sample_weight, **fit_params)\n",
      "  File \"/Users/leec/opt/anaconda3/lib/python3.7/site-packages/sklearn/multioutput.py\", line 175, in fit\n",
      "    for i in range(y.shape[1]))\n",
      "  File \"/Users/leec/opt/anaconda3/lib/python3.7/site-packages/joblib/parallel.py\", line 924, in __call__\n",
      "    while self.dispatch_one_batch(iterator):\n",
      "  File \"/Users/leec/opt/anaconda3/lib/python3.7/site-packages/joblib/parallel.py\", line 759, in dispatch_one_batch\n",
      "    self._dispatch(tasks)\n",
      "  File \"/Users/leec/opt/anaconda3/lib/python3.7/site-packages/joblib/parallel.py\", line 716, in _dispatch\n",
      "    job = self._backend.apply_async(batch, callback=cb)\n",
      "  File \"/Users/leec/opt/anaconda3/lib/python3.7/site-packages/joblib/_parallel_backends.py\", line 182, in apply_async\n",
      "    result = ImmediateResult(func)\n",
      "  File \"/Users/leec/opt/anaconda3/lib/python3.7/site-packages/joblib/_parallel_backends.py\", line 549, in __init__\n",
      "    self.results = batch()\n",
      "  File \"/Users/leec/opt/anaconda3/lib/python3.7/site-packages/joblib/parallel.py\", line 225, in __call__\n",
      "    for func, args, kwargs in self.items]\n",
      "  File \"/Users/leec/opt/anaconda3/lib/python3.7/site-packages/joblib/parallel.py\", line 225, in <listcomp>\n",
      "    for func, args, kwargs in self.items]\n",
      "  File \"/Users/leec/opt/anaconda3/lib/python3.7/site-packages/sklearn/multioutput.py\", line 40, in _fit_estimator\n",
      "    estimator.fit(X, y, **fit_params)\n",
      "  File \"/Users/leec/opt/anaconda3/lib/python3.7/site-packages/sklearn/svm/_base.py\", line 164, in fit\n",
      "    y = self._validate_targets(y)\n",
      "  File \"/Users/leec/opt/anaconda3/lib/python3.7/site-packages/sklearn/svm/_base.py\", line 551, in _validate_targets\n",
      "    \" class\" % len(cls))\n",
      "ValueError: The number of classes has to be greater than one; got 1 class\n",
      "\n",
      "  FitFailedWarning)\n",
      "/Users/leec/opt/anaconda3/lib/python3.7/site-packages/sklearn/model_selection/_validation.py:552: FitFailedWarning: Estimator fit failed. The score on this train-test partition for these parameters will be set to nan. Details: \n",
      "Traceback (most recent call last):\n",
      "  File \"/Users/leec/opt/anaconda3/lib/python3.7/site-packages/sklearn/model_selection/_validation.py\", line 531, in _fit_and_score\n",
      "    estimator.fit(X_train, y_train, **fit_params)\n",
      "  File \"/Users/leec/opt/anaconda3/lib/python3.7/site-packages/sklearn/pipeline.py\", line 334, in fit\n",
      "    self._final_estimator.fit(Xt, y, **fit_params_last_step)\n",
      "  File \"/Users/leec/opt/anaconda3/lib/python3.7/site-packages/sklearn/multioutput.py\", line 350, in fit\n",
      "    super().fit(X, Y, sample_weight, **fit_params)\n",
      "  File \"/Users/leec/opt/anaconda3/lib/python3.7/site-packages/sklearn/multioutput.py\", line 175, in fit\n",
      "    for i in range(y.shape[1]))\n",
      "  File \"/Users/leec/opt/anaconda3/lib/python3.7/site-packages/joblib/parallel.py\", line 924, in __call__\n",
      "    while self.dispatch_one_batch(iterator):\n",
      "  File \"/Users/leec/opt/anaconda3/lib/python3.7/site-packages/joblib/parallel.py\", line 759, in dispatch_one_batch\n",
      "    self._dispatch(tasks)\n",
      "  File \"/Users/leec/opt/anaconda3/lib/python3.7/site-packages/joblib/parallel.py\", line 716, in _dispatch\n",
      "    job = self._backend.apply_async(batch, callback=cb)\n",
      "  File \"/Users/leec/opt/anaconda3/lib/python3.7/site-packages/joblib/_parallel_backends.py\", line 182, in apply_async\n",
      "    result = ImmediateResult(func)\n",
      "  File \"/Users/leec/opt/anaconda3/lib/python3.7/site-packages/joblib/_parallel_backends.py\", line 549, in __init__\n",
      "    self.results = batch()\n",
      "  File \"/Users/leec/opt/anaconda3/lib/python3.7/site-packages/joblib/parallel.py\", line 225, in __call__\n",
      "    for func, args, kwargs in self.items]\n",
      "  File \"/Users/leec/opt/anaconda3/lib/python3.7/site-packages/joblib/parallel.py\", line 225, in <listcomp>\n",
      "    for func, args, kwargs in self.items]\n",
      "  File \"/Users/leec/opt/anaconda3/lib/python3.7/site-packages/sklearn/multioutput.py\", line 40, in _fit_estimator\n",
      "    estimator.fit(X, y, **fit_params)\n",
      "  File \"/Users/leec/opt/anaconda3/lib/python3.7/site-packages/sklearn/svm/_base.py\", line 164, in fit\n",
      "    y = self._validate_targets(y)\n",
      "  File \"/Users/leec/opt/anaconda3/lib/python3.7/site-packages/sklearn/svm/_base.py\", line 551, in _validate_targets\n",
      "    \" class\" % len(cls))\n",
      "ValueError: The number of classes has to be greater than one; got 1 class\n",
      "\n",
      "  FitFailedWarning)\n"
     ]
    }
   ],
   "source": [
    "# train classifier\n",
    "cv_svc.fit(X_train, y_train)\n",
    "\n",
    "# predict on test data\n",
    "y_pred_svc = cv_svc.predict(X_test)\n",
    "\n",
    "# reports\n",
    "multioutput_classification_report(y_test, y_pred_svc)"
   ]
  },
  {
   "cell_type": "markdown",
   "metadata": {},
   "source": [
    "### 9. Export your model as a pickle file"
   ]
  },
  {
   "cell_type": "code",
   "execution_count": null,
   "metadata": {},
   "outputs": [],
   "source": [
    "with open('classifier.pkl', 'wb') as file:\n",
    "    pickle.dump(cv, file)"
   ]
  },
  {
   "cell_type": "markdown",
   "metadata": {},
   "source": [
    "### 10. Use this notebook to complete `train.py`\n",
    "Use the template file attached in the Resources folder to write a script that runs the steps above to create a database and export a model based on a new dataset specified by the user."
   ]
  },
  {
   "cell_type": "code",
   "execution_count": null,
   "metadata": {},
   "outputs": [],
   "source": []
  }
 ],
 "metadata": {
  "hide_input": false,
  "kernelspec": {
   "display_name": "Python 3",
   "language": "python",
   "name": "python3"
  },
  "language_info": {
   "codemirror_mode": {
    "name": "ipython",
    "version": 3
   },
   "file_extension": ".py",
   "mimetype": "text/x-python",
   "name": "python",
   "nbconvert_exporter": "python",
   "pygments_lexer": "ipython3",
   "version": "3.7.4"
  },
  "latex_envs": {
   "LaTeX_envs_menu_present": true,
   "autoclose": false,
   "autocomplete": true,
   "bibliofile": "biblio.bib",
   "cite_by": "apalike",
   "current_citInitial": 1,
   "eqLabelWithNumbers": true,
   "eqNumInitial": 1,
   "hotkeys": {
    "equation": "Ctrl-E",
    "itemize": "Ctrl-I"
   },
   "labels_anchors": false,
   "latex_user_defs": false,
   "report_style_numbering": false,
   "user_envs_cfg": false
  },
  "toc": {
   "base_numbering": 1,
   "nav_menu": {},
   "number_sections": true,
   "sideBar": true,
   "skip_h1_title": false,
   "title_cell": "Table of Contents",
   "title_sidebar": "Contents",
   "toc_cell": false,
   "toc_position": {},
   "toc_section_display": true,
   "toc_window_display": false
  },
  "varInspector": {
   "cols": {
    "lenName": 16,
    "lenType": 16,
    "lenVar": 40
   },
   "kernels_config": {
    "python": {
     "delete_cmd_postfix": "",
     "delete_cmd_prefix": "del ",
     "library": "var_list.py",
     "varRefreshCmd": "print(var_dic_list())"
    },
    "r": {
     "delete_cmd_postfix": ") ",
     "delete_cmd_prefix": "rm(",
     "library": "var_list.r",
     "varRefreshCmd": "cat(var_dic_list()) "
    }
   },
   "types_to_exclude": [
    "module",
    "function",
    "builtin_function_or_method",
    "instance",
    "_Feature"
   ],
   "window_display": false
  }
 },
 "nbformat": 4,
 "nbformat_minor": 2
}
